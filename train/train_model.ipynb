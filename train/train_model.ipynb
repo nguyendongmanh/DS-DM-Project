{
  "cells": [
    {
      "cell_type": "markdown",
      "metadata": {
        "id": "LsnEbWe9KQjI"
      },
      "source": [
        "# Xây dựng mô hình học máy và so sánh hiệu quả giữa chúng"
      ]
    },
    {
      "cell_type": "code",
      "execution_count": null,
      "metadata": {
        "colab": {
          "base_uri": "https://localhost:8080/"
        },
        "id": "MQbGD-THJQ8j",
        "outputId": "0a0f5bf7-35a6-4155-80c3-209f4e1e89fe"
      },
      "outputs": [
        {
          "output_type": "stream",
          "name": "stdout",
          "text": [
            "/content/drive/MyDrive/DS-DM-Project\n"
          ]
        }
      ],
      "source": [
        "%cd /content/drive/MyDrive/DS-DM-Project"
      ]
    },
    {
      "cell_type": "code",
      "execution_count": null,
      "metadata": {
        "colab": {
          "base_uri": "https://localhost:8080/"
        },
        "id": "PUAYwCS8RU-q",
        "outputId": "732981a4-937a-4a9b-cc75-146816756a59"
      },
      "outputs": [
        {
          "output_type": "stream",
          "name": "stdout",
          "text": [
            "Collecting pyvi\n",
            "  Downloading pyvi-0.1.1-py2.py3-none-any.whl (8.5 MB)\n",
            "\u001b[2K     \u001b[90m━━━━━━━━━━━━━━━━━━━━━━━━━━━━━━━━━━━━━━━━\u001b[0m \u001b[32m8.5/8.5 MB\u001b[0m \u001b[31m13.5 MB/s\u001b[0m eta \u001b[36m0:00:00\u001b[0m\n",
            "\u001b[?25hRequirement already satisfied: scikit-learn in /usr/local/lib/python3.10/dist-packages (from pyvi) (1.2.2)\n",
            "Collecting sklearn-crfsuite (from pyvi)\n",
            "  Downloading sklearn_crfsuite-0.3.6-py2.py3-none-any.whl (12 kB)\n",
            "Requirement already satisfied: numpy>=1.17.3 in /usr/local/lib/python3.10/dist-packages (from scikit-learn->pyvi) (1.25.2)\n",
            "Requirement already satisfied: scipy>=1.3.2 in /usr/local/lib/python3.10/dist-packages (from scikit-learn->pyvi) (1.11.4)\n",
            "Requirement already satisfied: joblib>=1.1.1 in /usr/local/lib/python3.10/dist-packages (from scikit-learn->pyvi) (1.3.2)\n",
            "Requirement already satisfied: threadpoolctl>=2.0.0 in /usr/local/lib/python3.10/dist-packages (from scikit-learn->pyvi) (3.3.0)\n",
            "Collecting python-crfsuite>=0.8.3 (from sklearn-crfsuite->pyvi)\n",
            "  Downloading python_crfsuite-0.9.10-cp310-cp310-manylinux_2_17_x86_64.manylinux2014_x86_64.whl (1.1 MB)\n",
            "\u001b[2K     \u001b[90m━━━━━━━━━━━━━━━━━━━━━━━━━━━━━━━━━━━━━━━━\u001b[0m \u001b[32m1.1/1.1 MB\u001b[0m \u001b[31m21.8 MB/s\u001b[0m eta \u001b[36m0:00:00\u001b[0m\n",
            "\u001b[?25hRequirement already satisfied: six in /usr/local/lib/python3.10/dist-packages (from sklearn-crfsuite->pyvi) (1.16.0)\n",
            "Requirement already satisfied: tabulate in /usr/local/lib/python3.10/dist-packages (from sklearn-crfsuite->pyvi) (0.9.0)\n",
            "Requirement already satisfied: tqdm>=2.0 in /usr/local/lib/python3.10/dist-packages (from sklearn-crfsuite->pyvi) (4.66.2)\n",
            "Installing collected packages: python-crfsuite, sklearn-crfsuite, pyvi\n",
            "Successfully installed python-crfsuite-0.9.10 pyvi-0.1.1 sklearn-crfsuite-0.3.6\n"
          ]
        }
      ],
      "source": [
        "%pip install pyvi"
      ]
    },
    {
      "cell_type": "markdown",
      "metadata": {
        "id": "cMBWrkycKOpG"
      },
      "source": [
        "## Import thư viện cần dùng"
      ]
    },
    {
      "cell_type": "code",
      "execution_count": null,
      "metadata": {
        "id": "VMqYHMr6KOd6"
      },
      "outputs": [],
      "source": [
        "# System library\n",
        "import os\n",
        "import time\n",
        "import pickle\n",
        "import warnings\n",
        "\n",
        "# Statistics library\n",
        "import numpy as np\n",
        "import pandas as pd\n",
        "import seaborn as sns\n",
        "import plotly.express as px\n",
        "import matplotlib.pyplot as plt\n",
        "\n",
        "# Natural Language Toolkit\n",
        "import nltk\n",
        "import gensim\n",
        "from pyvi import ViUtils, ViTokenizer\n",
        "\n",
        "# Machine Learning\n",
        "from sklearn.svm import SVC\n",
        "from sklearn.linear_model import SGDClassifier\n",
        "from sklearn.decomposition import TruncatedSVD\n",
        "from sklearn.tree import DecisionTreeClassifier\n",
        "from sklearn.neighbors import KNeighborsClassifier\n",
        "from sklearn.naive_bayes import GaussianNB, CategoricalNB\n",
        "from sklearn.ensemble import (RandomForestClassifier, VotingClassifier,\n",
        "                              BaggingClassifier, AdaBoostClassifier,\n",
        "                              GradientBoostingClassifier)\n",
        "\n",
        "from sklearn.metrics import accuracy_score, classification_report\n",
        "\n",
        "# utils methods\n",
        "from sklearn.pipeline import Pipeline\n",
        "from sklearn.base import BaseEstimator, TransformerMixin\n",
        "from sklearn.model_selection import (\n",
        "    train_test_split,\n",
        "    KFold,\n",
        "    cross_validate\n",
        ")\n",
        "\n",
        "# Preprocessing\n",
        "from sklearn.preprocessing import LabelEncoder\n",
        "from sklearn.feature_extraction.text import CountVectorizer, TfidfTransformer\n",
        "from imblearn import (\n",
        "    over_sampling as ios,\n",
        "    under_sampling as ius,\n",
        "    pipeline as ipl\n",
        ")"
      ]
    },
    {
      "cell_type": "code",
      "execution_count": null,
      "metadata": {
        "id": "Nae8RgD5LJDk"
      },
      "outputs": [],
      "source": [
        "SEED = 42\n",
        "RANDOM_STATE=123\n",
        "warnings.filterwarnings('ignore')\n",
        "sns.set(rc = {'figure.figsize':(15, 10)})\n",
        "np.random.seed(SEED)\n",
        "\n",
        "DATA_PATH = 'data/'\n",
        "MODEL_PATH = 'model/'"
      ]
    },
    {
      "cell_type": "markdown",
      "metadata": {
        "id": "sMXa8MPRJwDs"
      },
      "source": [
        "## Phần I: Phân tích, tiền xử lý\n",
        "Trong phần này, chúng ta sẽ tiến hành các bước để phân tích cơ bản về dữ liệu thu được và tiền xử lý chúng trước khi cho vào các mô hình học máy để tiến hành học"
      ]
    },
    {
      "cell_type": "markdown",
      "metadata": {
        "id": "baYOBnKgLZ7J"
      },
      "source": [
        "### Đọc các dữ liệu cần dùng"
      ]
    },
    {
      "cell_type": "code",
      "execution_count": null,
      "metadata": {
        "id": "B8UjB6obJa_7"
      },
      "outputs": [],
      "source": [
        "# read dantri.json file\n",
        "dantri = pd.read_json(os.path.join(DATA_PATH, 'dantri.json'))\n",
        "\n",
        "# read vietnamese stopwords\n",
        "with open(os.path.join(DATA_PATH, 'vietnamese-stopwords.txt'), 'r') as f:\n",
        "  stopwords = [line.rstrip(\"\\n\").strip().replace(' ', '_') for line in f]"
      ]
    },
    {
      "cell_type": "code",
      "execution_count": null,
      "metadata": {
        "colab": {
          "base_uri": "https://localhost:8080/",
          "height": 206
        },
        "id": "7QVUKgRjMe6E",
        "outputId": "a438179d-693f-4e8b-e92e-df62bddc12fb"
      },
      "outputs": [
        {
          "output_type": "execute_result",
          "data": {
            "text/plain": [
              "                                               title category  \\\n",
              "0  Thi hành án dứt điểm những vụ lớn, phức tạp li...   Xã hội   \n",
              "1  Món quà của Thủ tướng dành cho những người \"kh...   Xã hội   \n",
              "2  Thủ tướng thị sát đường sắt Nhổn - ga Hà Nội: ...   Xã hội   \n",
              "3  Đại sứ Saudi Arabia: Mong muốn Việt Nam sớm vư...   Xã hội   \n",
              "4  Tổng Thanh tra Chính phủ nói về giải pháp \"trị...   Xã hội   \n",
              "\n",
              "                                             content  \n",
              "0  Ông Nguyễn Văn Sơn, Phó Tổng cục trưởng Tổng c...  \n",
              "1  Sáng 12/2 (mùng 3 Tết Giáp Thìn), Thủ tướng Ph...  \n",
              "2  Sáng 12/2 (mùng 3 Tết Giáp Thìn), Thủ tướng Ph...  \n",
              "3  Thủ tướng Phạm Minh Chính tiếp Đại sứ Saudi Ar...  \n",
              "4  Tổng Thanh tra Chính phủ Đoàn Hồng Phong vừa c...  "
            ],
            "text/html": [
              "\n",
              "  <div id=\"df-196afa61-e3ef-4001-a744-92c9243cca03\" class=\"colab-df-container\">\n",
              "    <div>\n",
              "<style scoped>\n",
              "    .dataframe tbody tr th:only-of-type {\n",
              "        vertical-align: middle;\n",
              "    }\n",
              "\n",
              "    .dataframe tbody tr th {\n",
              "        vertical-align: top;\n",
              "    }\n",
              "\n",
              "    .dataframe thead th {\n",
              "        text-align: right;\n",
              "    }\n",
              "</style>\n",
              "<table border=\"1\" class=\"dataframe\">\n",
              "  <thead>\n",
              "    <tr style=\"text-align: right;\">\n",
              "      <th></th>\n",
              "      <th>title</th>\n",
              "      <th>category</th>\n",
              "      <th>content</th>\n",
              "    </tr>\n",
              "  </thead>\n",
              "  <tbody>\n",
              "    <tr>\n",
              "      <th>0</th>\n",
              "      <td>Thi hành án dứt điểm những vụ lớn, phức tạp li...</td>\n",
              "      <td>Xã hội</td>\n",
              "      <td>Ông Nguyễn Văn Sơn, Phó Tổng cục trưởng Tổng c...</td>\n",
              "    </tr>\n",
              "    <tr>\n",
              "      <th>1</th>\n",
              "      <td>Món quà của Thủ tướng dành cho những người \"kh...</td>\n",
              "      <td>Xã hội</td>\n",
              "      <td>Sáng 12/2 (mùng 3 Tết Giáp Thìn), Thủ tướng Ph...</td>\n",
              "    </tr>\n",
              "    <tr>\n",
              "      <th>2</th>\n",
              "      <td>Thủ tướng thị sát đường sắt Nhổn - ga Hà Nội: ...</td>\n",
              "      <td>Xã hội</td>\n",
              "      <td>Sáng 12/2 (mùng 3 Tết Giáp Thìn), Thủ tướng Ph...</td>\n",
              "    </tr>\n",
              "    <tr>\n",
              "      <th>3</th>\n",
              "      <td>Đại sứ Saudi Arabia: Mong muốn Việt Nam sớm vư...</td>\n",
              "      <td>Xã hội</td>\n",
              "      <td>Thủ tướng Phạm Minh Chính tiếp Đại sứ Saudi Ar...</td>\n",
              "    </tr>\n",
              "    <tr>\n",
              "      <th>4</th>\n",
              "      <td>Tổng Thanh tra Chính phủ nói về giải pháp \"trị...</td>\n",
              "      <td>Xã hội</td>\n",
              "      <td>Tổng Thanh tra Chính phủ Đoàn Hồng Phong vừa c...</td>\n",
              "    </tr>\n",
              "  </tbody>\n",
              "</table>\n",
              "</div>\n",
              "    <div class=\"colab-df-buttons\">\n",
              "\n",
              "  <div class=\"colab-df-container\">\n",
              "    <button class=\"colab-df-convert\" onclick=\"convertToInteractive('df-196afa61-e3ef-4001-a744-92c9243cca03')\"\n",
              "            title=\"Convert this dataframe to an interactive table.\"\n",
              "            style=\"display:none;\">\n",
              "\n",
              "  <svg xmlns=\"http://www.w3.org/2000/svg\" height=\"24px\" viewBox=\"0 -960 960 960\">\n",
              "    <path d=\"M120-120v-720h720v720H120Zm60-500h600v-160H180v160Zm220 220h160v-160H400v160Zm0 220h160v-160H400v160ZM180-400h160v-160H180v160Zm440 0h160v-160H620v160ZM180-180h160v-160H180v160Zm440 0h160v-160H620v160Z\"/>\n",
              "  </svg>\n",
              "    </button>\n",
              "\n",
              "  <style>\n",
              "    .colab-df-container {\n",
              "      display:flex;\n",
              "      gap: 12px;\n",
              "    }\n",
              "\n",
              "    .colab-df-convert {\n",
              "      background-color: #E8F0FE;\n",
              "      border: none;\n",
              "      border-radius: 50%;\n",
              "      cursor: pointer;\n",
              "      display: none;\n",
              "      fill: #1967D2;\n",
              "      height: 32px;\n",
              "      padding: 0 0 0 0;\n",
              "      width: 32px;\n",
              "    }\n",
              "\n",
              "    .colab-df-convert:hover {\n",
              "      background-color: #E2EBFA;\n",
              "      box-shadow: 0px 1px 2px rgba(60, 64, 67, 0.3), 0px 1px 3px 1px rgba(60, 64, 67, 0.15);\n",
              "      fill: #174EA6;\n",
              "    }\n",
              "\n",
              "    .colab-df-buttons div {\n",
              "      margin-bottom: 4px;\n",
              "    }\n",
              "\n",
              "    [theme=dark] .colab-df-convert {\n",
              "      background-color: #3B4455;\n",
              "      fill: #D2E3FC;\n",
              "    }\n",
              "\n",
              "    [theme=dark] .colab-df-convert:hover {\n",
              "      background-color: #434B5C;\n",
              "      box-shadow: 0px 1px 3px 1px rgba(0, 0, 0, 0.15);\n",
              "      filter: drop-shadow(0px 1px 2px rgba(0, 0, 0, 0.3));\n",
              "      fill: #FFFFFF;\n",
              "    }\n",
              "  </style>\n",
              "\n",
              "    <script>\n",
              "      const buttonEl =\n",
              "        document.querySelector('#df-196afa61-e3ef-4001-a744-92c9243cca03 button.colab-df-convert');\n",
              "      buttonEl.style.display =\n",
              "        google.colab.kernel.accessAllowed ? 'block' : 'none';\n",
              "\n",
              "      async function convertToInteractive(key) {\n",
              "        const element = document.querySelector('#df-196afa61-e3ef-4001-a744-92c9243cca03');\n",
              "        const dataTable =\n",
              "          await google.colab.kernel.invokeFunction('convertToInteractive',\n",
              "                                                    [key], {});\n",
              "        if (!dataTable) return;\n",
              "\n",
              "        const docLinkHtml = 'Like what you see? Visit the ' +\n",
              "          '<a target=\"_blank\" href=https://colab.research.google.com/notebooks/data_table.ipynb>data table notebook</a>'\n",
              "          + ' to learn more about interactive tables.';\n",
              "        element.innerHTML = '';\n",
              "        dataTable['output_type'] = 'display_data';\n",
              "        await google.colab.output.renderOutput(dataTable, element);\n",
              "        const docLink = document.createElement('div');\n",
              "        docLink.innerHTML = docLinkHtml;\n",
              "        element.appendChild(docLink);\n",
              "      }\n",
              "    </script>\n",
              "  </div>\n",
              "\n",
              "\n",
              "<div id=\"df-c939c56d-9dd1-4105-b77f-fe8ae251cb0d\">\n",
              "  <button class=\"colab-df-quickchart\" onclick=\"quickchart('df-c939c56d-9dd1-4105-b77f-fe8ae251cb0d')\"\n",
              "            title=\"Suggest charts\"\n",
              "            style=\"display:none;\">\n",
              "\n",
              "<svg xmlns=\"http://www.w3.org/2000/svg\" height=\"24px\"viewBox=\"0 0 24 24\"\n",
              "     width=\"24px\">\n",
              "    <g>\n",
              "        <path d=\"M19 3H5c-1.1 0-2 .9-2 2v14c0 1.1.9 2 2 2h14c1.1 0 2-.9 2-2V5c0-1.1-.9-2-2-2zM9 17H7v-7h2v7zm4 0h-2V7h2v10zm4 0h-2v-4h2v4z\"/>\n",
              "    </g>\n",
              "</svg>\n",
              "  </button>\n",
              "\n",
              "<style>\n",
              "  .colab-df-quickchart {\n",
              "      --bg-color: #E8F0FE;\n",
              "      --fill-color: #1967D2;\n",
              "      --hover-bg-color: #E2EBFA;\n",
              "      --hover-fill-color: #174EA6;\n",
              "      --disabled-fill-color: #AAA;\n",
              "      --disabled-bg-color: #DDD;\n",
              "  }\n",
              "\n",
              "  [theme=dark] .colab-df-quickchart {\n",
              "      --bg-color: #3B4455;\n",
              "      --fill-color: #D2E3FC;\n",
              "      --hover-bg-color: #434B5C;\n",
              "      --hover-fill-color: #FFFFFF;\n",
              "      --disabled-bg-color: #3B4455;\n",
              "      --disabled-fill-color: #666;\n",
              "  }\n",
              "\n",
              "  .colab-df-quickchart {\n",
              "    background-color: var(--bg-color);\n",
              "    border: none;\n",
              "    border-radius: 50%;\n",
              "    cursor: pointer;\n",
              "    display: none;\n",
              "    fill: var(--fill-color);\n",
              "    height: 32px;\n",
              "    padding: 0;\n",
              "    width: 32px;\n",
              "  }\n",
              "\n",
              "  .colab-df-quickchart:hover {\n",
              "    background-color: var(--hover-bg-color);\n",
              "    box-shadow: 0 1px 2px rgba(60, 64, 67, 0.3), 0 1px 3px 1px rgba(60, 64, 67, 0.15);\n",
              "    fill: var(--button-hover-fill-color);\n",
              "  }\n",
              "\n",
              "  .colab-df-quickchart-complete:disabled,\n",
              "  .colab-df-quickchart-complete:disabled:hover {\n",
              "    background-color: var(--disabled-bg-color);\n",
              "    fill: var(--disabled-fill-color);\n",
              "    box-shadow: none;\n",
              "  }\n",
              "\n",
              "  .colab-df-spinner {\n",
              "    border: 2px solid var(--fill-color);\n",
              "    border-color: transparent;\n",
              "    border-bottom-color: var(--fill-color);\n",
              "    animation:\n",
              "      spin 1s steps(1) infinite;\n",
              "  }\n",
              "\n",
              "  @keyframes spin {\n",
              "    0% {\n",
              "      border-color: transparent;\n",
              "      border-bottom-color: var(--fill-color);\n",
              "      border-left-color: var(--fill-color);\n",
              "    }\n",
              "    20% {\n",
              "      border-color: transparent;\n",
              "      border-left-color: var(--fill-color);\n",
              "      border-top-color: var(--fill-color);\n",
              "    }\n",
              "    30% {\n",
              "      border-color: transparent;\n",
              "      border-left-color: var(--fill-color);\n",
              "      border-top-color: var(--fill-color);\n",
              "      border-right-color: var(--fill-color);\n",
              "    }\n",
              "    40% {\n",
              "      border-color: transparent;\n",
              "      border-right-color: var(--fill-color);\n",
              "      border-top-color: var(--fill-color);\n",
              "    }\n",
              "    60% {\n",
              "      border-color: transparent;\n",
              "      border-right-color: var(--fill-color);\n",
              "    }\n",
              "    80% {\n",
              "      border-color: transparent;\n",
              "      border-right-color: var(--fill-color);\n",
              "      border-bottom-color: var(--fill-color);\n",
              "    }\n",
              "    90% {\n",
              "      border-color: transparent;\n",
              "      border-bottom-color: var(--fill-color);\n",
              "    }\n",
              "  }\n",
              "</style>\n",
              "\n",
              "  <script>\n",
              "    async function quickchart(key) {\n",
              "      const quickchartButtonEl =\n",
              "        document.querySelector('#' + key + ' button');\n",
              "      quickchartButtonEl.disabled = true;  // To prevent multiple clicks.\n",
              "      quickchartButtonEl.classList.add('colab-df-spinner');\n",
              "      try {\n",
              "        const charts = await google.colab.kernel.invokeFunction(\n",
              "            'suggestCharts', [key], {});\n",
              "      } catch (error) {\n",
              "        console.error('Error during call to suggestCharts:', error);\n",
              "      }\n",
              "      quickchartButtonEl.classList.remove('colab-df-spinner');\n",
              "      quickchartButtonEl.classList.add('colab-df-quickchart-complete');\n",
              "    }\n",
              "    (() => {\n",
              "      let quickchartButtonEl =\n",
              "        document.querySelector('#df-c939c56d-9dd1-4105-b77f-fe8ae251cb0d button');\n",
              "      quickchartButtonEl.style.display =\n",
              "        google.colab.kernel.accessAllowed ? 'block' : 'none';\n",
              "    })();\n",
              "  </script>\n",
              "</div>\n",
              "\n",
              "    </div>\n",
              "  </div>\n"
            ],
            "application/vnd.google.colaboratory.intrinsic+json": {
              "type": "dataframe",
              "variable_name": "dantri",
              "summary": "{\n  \"name\": \"dantri\",\n  \"rows\": 13931,\n  \"fields\": [\n    {\n      \"column\": \"title\",\n      \"properties\": {\n        \"dtype\": \"string\",\n        \"num_unique_values\": 13931,\n        \"samples\": [\n          \"Tr\\u01b0\\u1ee3t \\u0111\\u1ea1i h\\u1ecdc kh\\u00f3 h\\u01a1n \\u0111\\u1ed7, r\\u1ed3i sao?\",\n          \"L\\u1ed9 di\\u1ec7n b\\u1ed9 t\\u00f3c gi\\u1ea3 d\\u00e0i nh\\u1ea5t th\\u1ebf gi\\u1edbi\",\n          \"7 m\\u1eb9o \\u0111\\u00e1nh l\\u1eeba con m\\u1eaft khi\\u1ebfn c\\u0103n ph\\u00f2ng tr\\u00f4ng r\\u1ed9ng h\\u01a1n\"\n        ],\n        \"semantic_type\": \"\",\n        \"description\": \"\"\n      }\n    },\n    {\n      \"column\": \"category\",\n      \"properties\": {\n        \"dtype\": \"category\",\n        \"num_unique_values\": 15,\n        \"samples\": [\n          \"S\\u1ee9c kh\\u1ecfe\",\n          \"Gi\\u00e1o d\\u1ee5c\",\n          \"X\\u00e3 h\\u1ed9i\"\n        ],\n        \"semantic_type\": \"\",\n        \"description\": \"\"\n      }\n    },\n    {\n      \"column\": \"content\",\n      \"properties\": {\n        \"dtype\": \"string\",\n        \"num_unique_values\": 13931,\n        \"samples\": [\n          \"T\\u1eeb nhi\\u1ec1u n\\u0103m tr\\u01b0\\u1edbc, khi n\\u00f3i v\\u1ec1 s\\u1ef1 c\\u1ea1nh tranh c\\u1ee7a t\\u1ea5m b\\u1eb1ng c\\u1eed nh\\u00e2n, nh\\u00e0 gi\\u00e1o d\\u1ee5c Gi\\u1ea3n T\\u01b0 Trung chia s\\u1ebb, gi\\u1edd \\u0111\\u00e2y mu\\u1ed1n tr\\u01b0\\u1ee3t \\u0111\\u1ea1i h\\u1ecdc r\\u1ea5t kh\\u00f3, ch\\u1ec9 l\\u00e0 l\\u1ef1a ch\\u1ecdn h\\u1ecdc hay kh\\u00f4ng h\\u1ecdc m\\u00e0 th\\u00f4i. G\\u1ea7n 93% th\\u00ed sinh \\u0111\\u1ed7 \\u0111\\u1ea1i h\\u1ecdc ngay \\u0111\\u1ee3t 1, ch\\u01b0a t\\u00ednh c\\u00e1c \\u0111\\u1ee3t tuy\\u1ec3n b\\u1ed5 sung c\\u1ee7a c\\u00e1c tr\\u01b0\\u1eddng (\\u1ea2nh: Nam Anh). \\u0110i\\u1ec1u n\\u00e0y th\\u1ec3 hi\\u1ec7n r\\u00f5 r\\u1ec7t trong m\\u00f9a tuy\\u1ec3n sinh n\\u0103m nay. Ban \\u0111\\u1ea7u d\\u01b0 lu\\u1eadn x\\u00f4n xao v\\u1edbi con s\\u1ed1 99% th\\u00ed sinh \\u0111\\u0103ng k\\u00fd x\\u00e9t tuy\\u1ec3n \\u0111\\u1ed7 \\u0111\\u1ea1i h\\u1ecdc nh\\u01b0ng th\\u1eadt ra s\\u1ed1 tr\\u00fang tuy\\u1ec3n \\u0111\\u1ee3t 1 m\\u1edbi ch\\u1ec9 g\\u1ea7n 93%. Theo B\\u1ed9 GD&\\u0110T, c\\u00f3 92,7% th\\u00ed sinh \\u0111\\u0103ng x\\u00e9t tuy\\u1ec3n \\u0111\\u1ea1i h\\u1ecdc 2023 tr\\u00fang tuy\\u1ec3n \\u0111\\u1ee3t 1. S\\u1ed1 th\\u00ed sinh tr\\u01b0\\u1ee3t trong \\u0111\\u1ee3t n\\u00e0y ch\\u1ec9 h\\u01a1n 7% nh\\u01b0ng c\\u0169ng kh\\u00f4ng d\\u1ec5... tr\\u01b0\\u1ee3t khi c\\u00e1c tr\\u01b0\\u1eddng \\u0111\\u1ea1i h\\u1ecdc v\\u1eabn \\u0111ang ra s\\u1ee9c t\\u00edch c\\u1ef1c tuy\\u1ec3n b\\u1ed5 sung.\\u00a0 N\\u00f3i m\\u1ed9t c\\u00e1ch d\\u00e2n d\\u00e3, g\\u1ea7n nh\\u01b0 \\u0111\\u00e3 \\u0111\\u0103ng k\\u00fd l\\u00e0 \\u0111\\u1ed7 \\u0111\\u1ea1i h\\u1ecdc, c\\u00f3 mu\\u1ed1n tr\\u01b0\\u1ee3t \\u0111\\u1ea1i h\\u1ecdc c\\u0169ng kh\\u00f3 m\\u00e0 tr\\u01b0\\u1ee3t n\\u1ed5i. Ai ai c\\u0169ng \\u0111\\u1ed7 \\u0111\\u1ea1i h\\u1ecdc hay c\\u00f2n \\u0111\\u01b0\\u1ee3c g\\u1ecdi \\\"ph\\u1ed5 c\\u1eadp\\\" \\u0111\\u1ea1i h\\u1ecdc, nh\\u01b0ng b\\u00ean c\\u1ea1nh c\\u00e2u chuy\\u1ec7n h\\u1ecdc sinh \\u0111\\u1ed7 \\u0111\\u1ea1i h\\u1ecdc d\\u1ec5 h\\u01a1n tr\\u01b0\\u1ee3t l\\u00e0 h\\u00e0ng lo\\u1ea1t b\\u00e0i to\\u00e1n \\u0111ang ch\\u1edd l\\u1eddi gi\\u1ea3i.\\u00a0 H\\u1ecdc sinh \\u1edf TPHCM sau gi\\u1edd h\\u1ecdc th\\u00eam (\\u1ea2nh: H.N). V\\u1edbi th\\u1ef1c t\\u1ebf l\\u00e0 tr\\u01b0\\u1ee3t \\u0111\\u1ea1i h\\u1ecdc c\\u00f2n kh\\u00f3 h\\u01a1n \\u0111\\u1ed7, \\u00e1p l\\u1ef1c thi \\u0111\\u1ea1i h\\u1ecdc - g\\u00e1nh n\\u1eb7ng kinh kh\\u1ee7ng nh\\u1ea5t c\\u1ee7a nhi\\u1ec1u th\\u1ebf h\\u1ec7 tr\\u01b0\\u1edbc \\u0111\\u00e2y \\u0111\\u00e3 \\u0111\\u01b0\\u1ee3c th\\u00e1o kh\\u1ecfi vai h\\u1ecdc sinh hi\\u1ec7n nay. C\\u00e1ch h\\u1ecdc \\u0111\\u1ec3 thi, h\\u1ecdc v\\u00ec thi, \\u00e9p tr\\u1ebb h\\u1ecdc \\u0111\\u1ec3 v\\u00e0o \\u0111\\u1ea1i h\\u1ecdc gi\\u1edd \\u0111\\u00e2y \\u0111\\u00e3 tr\\u1edf n\\u00ean v\\u00f4 ngh\\u0129a.\\u00a0 H\\u1ecdc sinh \\u0111i\\u00ean \\u0111\\u1ea3o h\\u1ecdc ng\\u00e0y h\\u1ecdc \\u0111\\u00eam, v\\u1eadt v\\u1edd v\\u00ec h\\u1ecdc, h\\u1ecdc kh\\u00f4ng c\\u00f3 th\\u1eddi gian \\u0111\\u1ec3 \\u0103n, ngo\\u00e0i h\\u1ecdc ch\\u00ednh kh\\u00f3a tr\\u00ean l\\u1edbp c\\u00f2n h\\u1ecdc th\\u00eam \\u1edf trung t\\u00e2m, h\\u1ecdc th\\u00eam \\u1edf gi\\u00e1o vi\\u00ean... Gu\\u1ed3ng quay h\\u1ecdc t\\u1eadp nh\\u1ed3i nh\\u00e9t, h\\u1ecdc v\\u1eb9t \\u0111\\u1ea7y \\u00e1p l\\u1ef1c \\u0111\\u00f3 v\\u1edbi h\\u1ecdc tr\\u00f2 \\u0111\\u01b0\\u1ee3c nh\\u1eafc \\u0111\\u1ebfn l\\u00e2u nay v\\u00ec \\u00e1p l\\u1ef1c thi c\\u1eed, v\\u00e0o \\u0111\\u1ea1i h\\u1ecdc \\u0111\\u1ebfn l\\u00fac c\\u1ea7n \\\"khai t\\u1eed\\\".\\u00a0 Quanh n\\u0103m ch\\u00fang ta quay cu\\u1ed3ng v\\u1edbi nh\\u1eefng cu\\u1ed9c thi, \\u0111\\u1ed5 m\\u1ecdi ngu\\u1ed3n l\\u1ef1c, nh\\u00e2n l\\u1ef1c, c\\u00f4ng s\\u1ee9c v\\u00e0o thi c\\u1eed m\\u00e0 r\\u1ed3i ai c\\u0169ng \\u0111\\u1ed7 li\\u1ec7u c\\u00f2n c\\u1ea7n thi\\u1ebft? G\\u00e1c chuy\\u1ec7n thi c\\u1eed sang m\\u1ed9t b\\u00ean, d\\u00f9 mu\\u1ed9n nh\\u01b0ng \\u0111\\u1ebfn l\\u00fac gi\\u00e1o d\\u1ee5c t\\u1eeb gia \\u0111\\u00ecnh \\u0111\\u1ebfn nh\\u00e0 tr\\u01b0\\u1eddng c\\u1ea7n quay ng\\u01b0\\u1ee3c l\\u1ea1i \\u0111\\u1ec3 \\u0111i v\\u00e0o th\\u1ef1c ch\\u1ea5t, \\u0111i v\\u00e0o th\\u1ef1c h\\u1ecdc, v\\u00e0o ph\\u00e1t tri\\u1ec3n n\\u0103ng l\\u1ef1c con ng\\u01b0\\u1eddi.\\u00a0 Kh\\u00f4ng c\\u00f2n \\u00e1p l\\u1ef1c thi \\u0111\\u1ea1i h\\u1ecdc, vi\\u1ec7c h\\u1ecdc c\\u1ea7n ch\\u1ea1m \\u0111\\u1ebfn \\u0111\\u1ed9ng l\\u1ef1c h\\u1ecdc t\\u1eadp, kh\\u00e1t khao h\\u1ecdc t\\u1eadp b\\u00ean trong m\\u1ed7i \\u0111\\u1ee9a tr\\u1ebb \\u0111\\u1ec3 ch\\u00fang ph\\u00e1t huy \\u0111\\u01b0\\u1ee3c n\\u0103ng l\\u1ef1c c\\u1ee7a m\\u00ecnh. B\\u00ean c\\u1ea1nh ki\\u1ebfn th\\u1ee9c, con tr\\u1ebb c\\u1ea7n ph\\u00e1t tri\\u1ec3n v\\u1ec1 th\\u1ec3 ch\\u1ea5t, t\\u00e2m sinh l\\u00fd, t\\u00e2m h\\u1ed3n, ph\\u1ea9m ch\\u1ea5t c\\u00e1 nh\\u00e2n, c\\u00e1c giao ti\\u1ebfp \\u1ee9ng x\\u1eed...\\u00a0 Theo T\\u1ea1p ch\\u00ed D\\u00e2n s\\u1ed1 th\\u1ebf gi\\u1edbi, m\\u1ed9t t\\u1ed5 ch\\u1ee9c \\u0111\\u1ed9c l\\u1eadp c\\u1ee7a Hoa k\\u1ef3, ng\\u01b0\\u1eddi Vi\\u1ec7t Nam l\\u00f9n th\\u1ee9 4 th\\u1ebf gi\\u1edbi, ch\\u1ec9 cao h\\u01a1n ng\\u01b0\\u1eddi Indonesia, Philippines v\\u00e0 Bolivia. X\\u1ebfp h\\u1ea1ng n\\u00e0y k\\u00e9o theo nhi\\u1ec1u ho\\u00e0i nghi nh\\u01b0ng kh\\u00f4ng l\\u00e0m thay \\u0111\\u1ed5i th\\u1ef1c t\\u1ebf ng\\u01b0\\u1eddi Vi\\u1ec7t n\\u1eb1m trong top c\\u00e1c qu\\u1ed1c gia c\\u00f3 chi\\u1ec1u cao th\\u1ea5p nh\\u1ea5t th\\u1ebf gi\\u1edbi.\\u00a0 M\\u1ed9t kh\\u1ea3o s\\u00e1t v\\u00e0o n\\u0103m 2020 c\\u1ee7a Microsoft ch\\u1ec9 ra Vi\\u1ec7t Nam n\\u1eb1m trong top 5 qu\\u1ed1c gia c\\u00f3 ch\\u1ec9 s\\u1ed1 m\\u1ee9c \\u0111\\u1ed9 v\\u0103n minh th\\u1ea5p nh\\u1ea5t tr\\u00ean kh\\u00f4ng gian m\\u1ea1ng.\\u00a0 Ai c\\u0169ng \\u0111\\u1ed7 \\u0111\\u1ea1i h\\u1ecdc, vi\\u1ec7c h\\u1ecdc kh\\u1ed5 s\\u1edf v\\u00ec m\\u1ee5c ti\\u00eau thi \\u0111\\u1ea1i h\\u1ecdc \\u0111\\u00e3 kh\\u00f4ng c\\u00f2n \\u00fd ngh\\u0129a (\\u1ea2nh minh h\\u1ecda: H\\u1ea3i Long). T\\u1ed5 ch\\u1ee9c Y t\\u1ebf th\\u1ebf gi\\u1edbi c\\u0169ng t\\u1eebng x\\u1ebfp Vi\\u1ec7t Nam v\\u00e0o danh s\\u00e1ch 5 n\\u01b0\\u1edbc c\\u00f3 t\\u1ef7 l\\u1ec7 ph\\u00e1 thai cao nh\\u1ea5t th\\u1ebf gi\\u1edbi v\\u00e0 d\\u1eabn \\u0111\\u1ea7u ch\\u00e2u \\u00c1. \\u0110\\u00e2y c\\u0169ng ch\\u00ednh nh\\u1eefng b\\u00e0i to\\u00e1n c\\u1ee7a gi\\u00e1o d\\u1ee5c m\\u00e0 c\\u00f3 th\\u1ec3 tr\\u01b0\\u1edbc gi\\u1edd, lao v\\u00e0o m\\u1ee5c ti\\u00eau thi c\\u1eed, ch\\u00fang ta \\u0111\\u00e3 sao nh\\u00e3ng.\\u00a0 M\\u1ed9t v\\u1ea5n \\u0111\\u1ec1 kh\\u00e1c, \\u0111i c\\u00f9ng th\\u1ef1c t\\u1ebf \\\"ai r\\u1ed3i c\\u0169ng \\u0111\\u1ed7 \\u0111\\u1ea1i h\\u1ecdc\\\" l\\u00e0 tr\\u00e1ch nhi\\u1ec7m c\\u1ee7a gi\\u00e1o d\\u1ee5c \\u0111\\u1ea1i h\\u1ecdc trong vi\\u1ec7c \\u0111\\u00e0o t\\u1ea1o con ng\\u01b0\\u1eddi, \\u0111\\u00e0o t\\u1ea1o ngu\\u1ed3n nh\\u00e2n l\\u1ef1c \\u0111\\u00e1p \\u1ee9ng \\u0111\\u01b0\\u1ee3c y\\u00eau c\\u1ea7u c\\u1ee7a th\\u1ef1c t\\u1ebf.\\u00a0 H\\u1ecdc \\u0111\\u1ea1i h\\u1ecdc ra r\\u1ed3i l\\u00e0m g\\u00ec? \\u0110\\u00e0o t\\u1ea1o c\\u1eed nh\\u00e2n ra l\\u00e0m th\\u1ea7y hay l\\u00e0m th\\u1ee3? Hay l\\u1ea1i l\\u00e0 c\\u00e2u chuy\\u1ec7n l\\u00e0m th\\u1ea7y kh\\u00f4ng \\u0111\\u1ebfn n\\u01a1i m\\u00e0 th\\u1ee3 l\\u1ea1i kh\\u00f4ng \\u0111\\u1ebfn ch\\u1ed1n?\\u00a0 Ch\\u1eb3ng \\u1edf \\u0111\\u00e2u xa, th\\u1ecb tr\\u01b0\\u1eddng lao \\u0111\\u1ed9ng l\\u00e2u nay \\u0111\\u00e3 ph\\u1ea3n \\u1ea3nh ngh\\u1ecbch l\\u00fd doanh nghi\\u1ec7p thi\\u1ebfu ngu\\u1ed3n nh\\u00e2n l\\u1ef1c ch\\u1ea5t l\\u01b0\\u1ee3ng tr\\u1ea7m tr\\u1ecdng c\\u00f2n sinh vi\\u00ean ra tr\\u01b0\\u1eddng c\\u1ee9... th\\u1ea5t nghi\\u1ec7p. C\\u00e1c nh\\u00e0 tuy\\u1ec3n d\\u1ee5ng nay kh\\u00f4ng c\\u00f2n l\\u1ea1 v\\u1edbi h\\u00ecnh \\u1ea3nh c\\u1eed nh\\u00e2n ra tr\\u01b0\\u1eddng ng\\u01a1 ng\\u00e1o v\\u1edbi t\\u1ea5m b\\u1eb1ng \\u0111\\u1ea1i h\\u1ecdc trong tay.\\u00a0 C\\u1eed nh\\u00e2n ra tr\\u01b0\\u1eddng th\\u1ea5t nghi\\u1ec7p nhi\\u1ec1u h\\u01a1n trung c\\u1ea5p \\u0111\\u01b0\\u1ee3c th\\u1ec3 hi\\u1ec7n qua s\\u1ed1 li\\u1ec7u c\\u1ee7a T\\u1ed5ng c\\u1ee5c Th\\u1ed1ng k\\u00ea n\\u0103m 2019, h\\u01a1n 3% sinh vi\\u00ean t\\u1ed1t nghi\\u1ec7p cao \\u0111\\u1eb3ng v\\u00e0 2,8% c\\u1eed nh\\u00e2n \\u0111\\u1ea1i h\\u1ecdc th\\u1ea5t nghi\\u1ec7p, trong khi trung c\\u1ea5p ch\\u1ec9 1,1 v\\u00e0 ng\\u01b0\\u1eddi ch\\u01b0a t\\u1eebng \\u0111i h\\u1ecdc 1,5%. C\\u0169ng kh\\u00f4ng hi\\u1ebfm tr\\u01b0\\u1eddng h\\u1ee3p c\\u1eed nh\\u00e2n, th\\u1ea1c s\\u0129 quay ng\\u01b0\\u1ee3c l\\u1ea1i \\u0111i h\\u1ecdc ngh\\u1ec1, trung c\\u1ea5p \\u0111\\u1ec3 t\\u00ecm \\u0111\\u01b0\\u1ee3c vi\\u1ec7c l\\u00e0m ph\\u00f9 h\\u1ee3p.\\u00a0 Th\\u1ecb tr\\u01b0\\u1eddng lao \\u0111\\u1ed9ng c\\u1ea7n ngu\\u1ed3n nh\\u00e2n l\\u1ef1c ch\\u1ea5t l\\u01b0\\u1ee3ng (\\u1ea2nh: H.N). Kh\\u00f4ng c\\u1ea7n ch\\u1edd th\\u00eam v\\u00e0i n\\u0103m n\\u1eefa, c\\u1eed nh\\u00e2n, th\\u1ea1c s\\u0129 ra tr\\u01b0\\u1eddng ch\\u1ea1y xe \\u00f4m c\\u00f4ng ngh\\u1ec7, giao h\\u00e0ng, gi\\u00fap vi\\u1ec7c \\u0111\\u00e3 hi\\u1ec7n h\\u1eefu tr\\u01b0\\u1edbc m\\u1eaft nhi\\u1ec1u n\\u0103m qua. Theo c\\u00f4ng b\\u1ed1 v\\u00e0o cu\\u1ed1i n\\u0103m 2022 c\\u1ee7a Vi\\u1ec7n Khoa h\\u1ecdc lao \\u0111\\u1ed9ng x\\u00e3 h\\u1ed9i (B\\u1ed9 Lao \\u0111\\u1ed9ng - Th\\u01b0\\u01a1ng binh v\\u00e0 X\\u00e3 h\\u1ed9i) c\\u00f3 36,6% ng\\u01b0\\u1eddi giao h\\u00e0ng c\\u00f4ng ngh\\u1ec7 (shipper) \\u1edf Vi\\u1ec7t Nam c\\u00f3 tr\\u00ecnh \\u0111\\u1ed9 cao, con s\\u1ed1 n\\u00e0y \\u1edf\\u00a0nh\\u00f3m l\\u00e1i xe c\\u00f4ng ngh\\u1ec7, gi\\u00fap vi\\u1ec7c gia \\u0111\\u00ecnh l\\u1ea7n l\\u01b0\\u1ee3t l\\u00e0 20,65% v\\u00e0 11,36. Ch\\u00fang ta \\u0111ang \\u0111\\u1ee9ng tr\\u01b0\\u1edbc th\\u1ef1c t\\u1ebf ai r\\u1ed3i c\\u0169ng c\\u00f3 th\\u1ec3 \\u0111\\u1ed7 \\u0111\\u1ea1i h\\u1ecdc. Ng\\u01b0\\u1eddi ng\\u01b0\\u1eddi \\u0111\\u1ec1u h\\u1ecdc \\u0111\\u1ea1i h\\u1ecdc c\\u00f3 g\\u00e2y l\\u00e3ng ph\\u00ed, h\\u1ecdc \\u0111\\u1ea1i h\\u1ecdc \\u0111\\u1ec3 l\\u00e0m g\\u00ec l\\u00e0 nh\\u1eefng c\\u00e2u h\\u1ecfi c\\u1ea7n c\\u00e2u tr\\u1ea3 l\\u1eddi nghi\\u00eam t\\u00fac v\\u00e0 tr\\u00e1ch nhi\\u1ec7m c\\u1ee7a t\\u1ea5t c\\u1ea3 m\\u1ecdi ng\\u01b0\\u1eddi.\\u00a0 \",\n          \"Helen Williams l\\u00e0m th\\u1ee3 t\\u00f3c gi\\u1ea3 \\u0111\\u00e3 g\\u1ea7n m\\u1ed9t th\\u1eadp k\\u1ef7 (\\u1ea2nh: K\\u1ef7 l\\u1ee5c Guiness Th\\u1ebf gi\\u1edbi). Helen Williams \\u0111\\u00e3 d\\u00e0nh 11 ng\\u00e0y v\\u00e0 s\\u1ed1 ti\\u1ec1n t\\u01b0\\u01a1ng \\u0111\\u01b0\\u01a1ng 2.500 USD \\u0111\\u1ec3 t\\u1ea1o ra b\\u1ed9 t\\u00f3c gi\\u1ea3 l\\u1eadp k\\u1ef7 l\\u1ee5c. Ngo\\u00e0i ra, b\\u1ed9 t\\u00f3c gi\\u1ea3 c\\u0169ng c\\u1ea7n 1.000 b\\u00f3 t\\u00f3c, 12 lon keo x\\u1ecbt t\\u00f3c, 35 \\u1ed1ng keo d\\u00e1n t\\u00f3c v\\u00e0 6.250 chi\\u1ebfc k\\u1eb9p t\\u00f3c. \\\"Th\\u00e0nh t\\u00edch n\\u00e0y l\\u00e0 m\\u1ed9t trong nh\\u1eefng \\u0111i\\u1ec1u tuy\\u1ec7t v\\u1eddi nh\\u1ea5t t\\u1eebng \\u0111\\u1ebfn v\\u1edbi t\\u00f4i. T\\u00f4i v\\u1eabn kh\\u00f4ng th\\u1ec3 tin \\u0111\\u01b0\\u1ee3c\\\", c\\u00f4 Williams n\\u00f3i. D\\u00f9 \\u0111\\u00e3 l\\u00e0m ngh\\u1ec1 l\\u00e0m t\\u00f3c gi\\u1ea3 \\u0111\\u01b0\\u1ee3c 8 n\\u0103m, c\\u00f4 Williams cho bi\\u1ebft qu\\u00e1 tr\\u00ecnh l\\u00e0m b\\u1ed9 t\\u00f3c gi\\u1ea3 kh\\u00f4ng ph\\u1ea3i l\\u00e0 c\\u00f4ng vi\\u1ec7c d\\u1ec5 d\\u00e0ng v\\u00ec \\\"c\\u1ea3m gi\\u00e1c ki\\u1ec7t s\\u1ee9c\\\" trong su\\u1ed1t qu\\u00e1 tr\\u00ecnh l\\u00e0m vi\\u1ec7c. \\\"B\\u1ea1n b\\u00e8 v\\u00e0 gia \\u0111\\u00ecnh \\u0111\\u00e3 \\u0111\\u1ed9ng vi\\u00ean t\\u00f4i. T\\u00f4i kh\\u00f4ng mu\\u1ed1n l\\u00e0m h\\u1ecd th\\u1ea5t v\\u1ecdng n\\u00ean t\\u00f4i lu\\u00f4n t\\u1eadp trung. K\\u1ebft qu\\u1ea3 l\\u00e0 b\\u1ed9 t\\u00f3c gi\\u1ea3 l\\u00e0m b\\u1eb1ng tay d\\u00e0i nh\\u1ea5t th\\u1ebf gi\\u1edbi\\\", c\\u00f4 n\\u00f3i. Sau khi ho\\u00e0n th\\u00e0nh t\\u00e1c ph\\u1ea9m, Williams ti\\u1ebfp t\\u1ee5c g\\u1eb7p kh\\u00f3 khi mu\\u1ed1n t\\u00ecm n\\u01a1i \\u0111\\u1ec3 tr\\u1ea3i d\\u00e0i v\\u00e0 \\u0111o ch\\u00ednh x\\u00e1c b\\u1ed9 t\\u00f3c gi\\u1ea3. Cu\\u1ed1i c\\u00f9ng, c\\u00f4 \\u0111\\u00e3 ch\\u1ecdn \\u0111\\u1ecba \\u0111i\\u1ec3m l\\u00e0 \\u0111o\\u1ea1n \\u0111\\u01b0\\u1eddng cao t\\u1ed1c n\\u1ed1i c\\u00e1c th\\u00e0nh ph\\u1ed1 Lagos v\\u00e0 Abeokuta v\\u00e0o ng\\u00e0y 7/7. T\\u1ed5 ch\\u1ee9c K\\u1ef7 l\\u1ee5c Guinness Th\\u1ebf gi\\u1edbi \\u0111\\u00e3 x\\u00e1c nh\\u1eadn k\\u1ef7 l\\u1ee5c n\\u00e0y trong tu\\u1ea7n n\\u00e0y. C\\u00f4 Williams hi\\u1ec7n tr\\u01b0ng b\\u00e0y b\\u1ed9 t\\u00f3c gi\\u1ea3 trong v\\u0103n ph\\u00f2ng l\\u00e0m vi\\u1ec7c c\\u1ee7a m\\u00ecnh \\u0111\\u1ec3 m\\u1ecdi ng\\u01b0\\u1eddi c\\u00f3 th\\u1ec3 \\u0111\\u1ebfn chi\\u00eam ng\\u01b0\\u1ee1ng t\\u00e1c ph\\u1ea9m gi\\u00fap m\\u00ecnh \\u0111\\u1ea1t k\\u1ef7 l\\u1ee5c th\\u1ebf gi\\u1edbi. \",\n          \"Khi trang b\\u1ecb n\\u1ed9i th\\u1ea5t cho kh\\u00f4ng gian nh\\u1ecf, m\\u1ecdi th\\u1ee9 \\u0111\\u1ec1u quan tr\\u1ecdng. V\\u1edbi m\\u1ed9t v\\u00e0i v\\u1eadt d\\u1ee5ng \\u0111\\u01b0\\u1ee3c s\\u1eafp \\u0111\\u1eb7t h\\u1ee3p l\\u00fd v\\u00e0 l\\u1ef1a ch\\u1ecdn thi\\u1ebft k\\u1ebf th\\u00f4ng minh, b\\u1ea1n c\\u00f3 th\\u1ec3 l\\u00e0m cho c\\u0103n ph\\u00f2ng tr\\u00f4ng r\\u1ed9ng h\\u01a1n. Ngo\\u00e0i ra, k\\u1ef9 thu\\u1eadt ph\\u1ed1i m\\u00e0u, s\\u1eafp x\\u1ebfp \\u0111\\u1ed3 \\u0111\\u1ea1c, \\u0111\\u1eb7t g\\u01b0\\u01a1ng v\\u00e0 s\\u1eed d\\u1ee5ng \\u00e1nh s\\u00e1ng c\\u00f3 th\\u1ec3 \\u0111\\u00e1nh l\\u1eeba th\\u1ecb gi\\u00e1c v\\u00e0 l\\u00e0m cho n\\u1ed9i th\\u1ea5t c\\u00f3 v\\u1ebb r\\u1ed9ng r\\u00e3i h\\u01a1n nhi\\u1ec1u so v\\u1edbi th\\u1ef1c t\\u1ebf. C\\u0103n ph\\u00f2ng nh\\u1ecf tr\\u00f4ng r\\u1ed9ng h\\u01a1n v\\u1edbi c\\u00e1c m\\u1eb9o s\\u1eafp x\\u1ebfp v\\u00e0 trang tr\\u00ed (\\u1ea2nh: Shutterstock). Trong th\\u1ebf gi\\u1edbi thi\\u1ebft k\\u1ebf, ai c\\u0169ng bi\\u1ebft r\\u1eb1ng m\\u00e0u s\\u01a1n s\\u00e1ng gi\\u00fap c\\u0103n ph\\u00f2ng tr\\u00f4ng r\\u1ed9ng r\\u00e3i h\\u01a1n v\\u00e0 s\\u00e1ng h\\u01a1n. C\\u00e1c b\\u1ee9c t\\u01b0\\u1eddng s\\u00e1ng m\\u00e0u ph\\u1ea3n chi\\u1ebfu nhi\\u1ec1u \\u00e1nh s\\u00e1ng h\\u01a1n, t\\u1ea1o c\\u1ea3m gi\\u00e1c kh\\u00f4ng gian r\\u1ed9ng v\\u00e0 tho\\u00e1ng, gi\\u00fap t\\u1ed1i \\u0111a h\\u00f3a hi\\u1ec7u \\u1ee9ng c\\u1ee7a \\u00e1nh s\\u00e1ng. Ng\\u01b0\\u1ee3c l\\u1ea1i, c\\u00e1c gam m\\u00e0u t\\u1ed1i c\\u00f3 xu h\\u01b0\\u1edbng h\\u1ea5p th\\u1ee5 \\u00e1nh s\\u00e1ng, l\\u00e0m cho ph\\u00f2ng c\\u00f3 c\\u1ea3m gi\\u00e1c nh\\u1ecf h\\u01a1n. T\\u00f4ng m\\u00e0u s\\u00e1ng gi\\u00fap c\\u0103n ph\\u00f2ng tr\\u00f4ng r\\u1ed9ng r\\u00e3i h\\u01a1n (\\u1ea2nh: Shutterstock). B\\u1ea1n c\\u00f3 th\\u1ec3 l\\u00e0m n\\u1ed5i b\\u1eadt c\\u00e1c b\\u1ee9c t\\u01b0\\u1eddng \\u0111\\u1ec3 khi\\u1ebfn cho c\\u0103n ph\\u00f2ng tr\\u00f4ng l\\u1edbn h\\u01a1n b\\u1eb1ng c\\u00e1ch trang tr\\u00ed, ch\\u1eb3ng h\\u1ea1n nh\\u1eefng b\\u1ee9c tranh v\\u1edbi m\\u00e0u s\\u1eafc ph\\u00f9 h\\u1ee3p. C\\u00e1c t\\u00f4ng m\\u00e0u nh\\u1eb9 nh\\u00e0ng nh\\u01b0 tr\\u1eafng nh\\u1ea1t, xanh lam v\\u00e0 xanh l\\u00e1 c\\u00e2y s\\u1ebd l\\u00e0m c\\u0103n ph\\u00f2ng s\\u00e1ng h\\u01a1n, khi\\u1ebfn b\\u1ea1n c\\u1ea3m th\\u1ea5y r\\u1ed9ng h\\u01a1n v\\u00e0 h\\u1ea5p d\\u1eabn h\\u01a1n. M\\u1ed9t m\\u1eb9o kh\\u00e1c l\\u00e0 s\\u01a1n \\u0111\\u01b0\\u1eddng vi\\u1ec1n t\\u01b0\\u1eddng b\\u1eb1ng m\\u00e0u s\\u00e1ng h\\u01a1n m\\u00e0u t\\u01b0\\u1eddng c\\u1ee7a c\\u0103n ph\\u00f2ng. L\\u00e0m nh\\u01b0 v\\u1eady, c\\u00e1c b\\u1ee9c t\\u01b0\\u1eddng s\\u1ebd c\\u00f3 v\\u1ebb l\\u00f9i xa h\\u01a1n, khi\\u1ebfn kh\\u00f4ng gian c\\u1ee7a b\\u1ea1n c\\u00f3 v\\u1ebb \\u0111\\u01b0\\u1ee3c m\\u1edf r\\u1ed9ng. \\u00c1nh s\\u00e1ng t\\u1ef1 nhi\\u00ean l\\u00e0m cho ph\\u00f2ng tr\\u00f4ng r\\u1ed9ng h\\u01a1n. Do \\u0111\\u00f3 s\\u1ebd th\\u1eadt tuy\\u1ec7t n\\u1ebfu c\\u0103n ph\\u00f2ng c\\u1ee7a b\\u1ea1n c\\u00f3 ngu\\u1ed3n s\\u00e1ng t\\u1ef1 nhi\\u00ean. Tuy nhi\\u00ean, n\\u1ebfu kh\\u00f4ng c\\u00f3, b\\u1ea1n c\\u00f3 th\\u1ec3 t\\u1ea1o hi\\u1ec7u \\u1ee9ng s\\u00e1ng t\\u1ea1o b\\u1eb1ng c\\u00e1ch s\\u1eed d\\u1ee5ng thi\\u1ebft b\\u1ecb chi\\u1ebfu s\\u00e1ng. T\\u1eadn d\\u1ee5ng \\u00e1nh s\\u00e1ng t\\u1ef1 nhi\\u00ean cho c\\u0103n ph\\u00f2ng tr\\u00f4ng s\\u00e1ng v\\u00e0 r\\u1ed9ng h\\u01a1n (\\u1ea2nh: Getty). H\\u00e3y m\\u1edf c\\u1eeda s\\u1ed5 \\u0111\\u1ec3 c\\u0103n ph\\u00f2ng c\\u1ee7a b\\u1ea1n \\u0111\\u00f3n \\u00e1nh s\\u00e1ng t\\u1ef1 nhi\\u00ean v\\u00e0 k\\u1ebft n\\u1ed1i h\\u01a1n v\\u1edbi kh\\u00f4ng gian b\\u00ean ngo\\u00e0i. \\u0110\\u1eebng qu\\u00ean k\\u00e9o r\\u00e8m \\u0111\\u1ec3 c\\u00f3 nhi\\u1ec1u \\u00e1nh s\\u00e1ng h\\u01a1n. N\\u1ebfu t\\u1ea7m nh\\u00ecn kh\\u00f4ng \\u0111\\u1eb9p, b\\u1ea1n c\\u00f3 th\\u1ec3 h\\u00e3y \\u0111\\u1eb7t c\\u00e2y ho\\u1eb7c hoa g\\u1ea7n c\\u1eeda s\\u1ed5 v\\u00e0 s\\u1eed d\\u1ee5ng \\u0111\\u00e8n \\u0111\\u1ec3 l\\u00e0m s\\u00e1ng kh\\u00f4ng gian. H\\u00e3y lu\\u00f4n gi\\u1eef cho c\\u0103n ph\\u00f2ng c\\u1ee7a b\\u1ea1n ng\\u0103n n\\u1eafp v\\u00e0 c\\u00f3 t\\u1ed5 ch\\u1ee9c. Ngo\\u00e0i vi\\u1ec7c kh\\u01a1i d\\u1eady ni\\u1ec1m vui, s\\u1eafp x\\u1ebfp \\u0111\\u1ed3 \\u0111\\u1ea1c g\\u1ecdn g\\u00e0ng ho\\u1eb7c khu\\u1ea5t t\\u1ea7m nh\\u00ecn s\\u1ebd khi\\u1ebfn kh\\u00f4ng gian c\\u0103n ph\\u00f2ng tr\\u00f4ng s\\u1ebd r\\u1ed9ng v\\u00e0 tho\\u00e1ng h\\u01a1n. H\\u1ea1n ch\\u1ebf c\\u00e1c \\u0111\\u1ed3 v\\u1eadt kh\\u00f4ng c\\u1ea7n thi\\u1ebft l\\u00e0 t\\u1ed1i quan tr\\u1ecdng cho nh\\u1eefng kh\\u00f4ng gian nh\\u1ecf (\\u1ea2nh: Getty). B\\u1ea1n c\\u0169ng c\\u00f3 th\\u1ec3 \\u00e1p d\\u1ee5ng ch\\u1ee7 ngh\\u0129a t\\u1ed1i gi\\u1ea3n cho c\\u00e1c b\\u1ee9c t\\u01b0\\u1eddng. \\u0110\\u1eebng che nh\\u1eefng b\\u1ee9c t\\u01b0\\u1eddng b\\u1eb1ng nhi\\u1ec1u h\\u00ecnh \\u1ea3nh; thay v\\u00e0o \\u0111\\u00f3, ch\\u1ec9 s\\u1eed d\\u1ee5ng m\\u1ed9t b\\u1ee9c tranh l\\u1edbn \\u0111\\u1ec3 l\\u00e0m cho c\\u0103n ph\\u00f2ng tr\\u00f4ng r\\u1ed9ng h\\u01a1n. Ngo\\u00e0i ra, h\\u00e3y c\\u1ed1 g\\u1eafng gi\\u1eef cho s\\u00e0n nh\\u00e0 c\\u00e0ng th\\u00f4ng tho\\u00e1ng c\\u00e0ng t\\u1ed1t. B\\u1ea1n n\\u00ean lo\\u1ea1i b\\u1ecf nh\\u1eefng t\\u1ea5m th\\u1ea3m l\\u1edbn \\u0111\\u1ec3 t\\u1ea1o \\u1ea3o gi\\u00e1c c\\u00f3 th\\u00eam kh\\u00f4ng gian s\\u00e0n. D\\u00f9ng m\\u1ed9t \\u0111i\\u1ec3m nh\\u1ea5n \\u0111\\u1ec3 thu h\\u00fat s\\u1ef1 ch\\u00fa \\u00fd c\\u1ee7a m\\u1ecdi ng\\u01b0\\u1eddi c\\u0169ng l\\u00e0 m\\u1ed9t m\\u1eb9o khi\\u1ebfn cho c\\u0103n ph\\u00f2ng tr\\u00f4ng l\\u1edbn h\\u01a1n, v\\u00ed d\\u1ee5, chi\\u1ebfc b\\u00e0n trong ph\\u00f2ng \\u0103n ho\\u1eb7c chi\\u1ebfc gi\\u01b0\\u1eddng trong ph\\u00f2ng ng\\u1ee7. T\\u1eadp trung v\\u00e0o m\\u1ed9t \\u0111i\\u1ec3m trong c\\u0103n ph\\u00f2ng trong khi ph\\u1ea7n c\\u00f2n l\\u1ea1i h\\u1ea1n ch\\u1ebf c\\u00e1c \\u0111\\u1ed3 trang tr\\u00ed (Shutterstock). B\\u1ea1n h\\u00e3y s\\u1eafp x\\u1ebfp \\u0111\\u1ed3 n\\u1ed9i th\\u1ea5t t\\u1eadp trung v\\u00e0o nh\\u1eefng khu v\\u1ef1c \\u0111\\u00f3 v\\u00e0 h\\u1ea1n ch\\u1ebf trang tr\\u00ed \\u1edf ph\\u1ea7n c\\u00f2n l\\u1ea1i c\\u1ee7a c\\u0103n ph\\u00f2ng. \\\"G\\u01b0\\u01a1ng c\\u00f3 l\\u00e0m cho c\\u0103n ph\\u00f2ng tr\\u00f4ng r\\u1ed9ng h\\u01a1n kh\\u00f4ng?\\\" v\\u00e0 c\\u00e2u tr\\u1ea3 l\\u1eddi l\\u00e0 \\\"C\\u00f3\\\". S\\u1eed d\\u1ee5ng g\\u01b0\\u01a1ng l\\u00e0 m\\u1ed9t m\\u1eb9o khi\\u1ebfn cho c\\u0103n ph\\u00f2ng c\\u1ee7a b\\u1ea1n tr\\u00f4ng r\\u1ed9ng v\\u00e0 tho\\u00e1ng h\\u01a1n. Theo \\u0111\\u00f3, b\\u1ea1n c\\u00f3 th\\u1ec3 ch\\u1ecdn m\\u1ed9t ti\\u00eau \\u0111i\\u1ec3m v\\u00e0 \\u0111\\u1eb7t g\\u01b0\\u01a1ng v\\u1ec1 ph\\u00eda \\u0111\\u00f3 \\u0111\\u1ec3 t\\u1ea1o \\u1ea3o gi\\u00e1c v\\u1ec1 chi\\u1ec1u s\\u00e2u. Ngo\\u00e0i ra, g\\u01b0\\u01a1ng c\\u00f2n ph\\u1ea3n chi\\u1ebfu \\u00e1nh s\\u00e1ng t\\u1ef1 nhi\\u00ean v\\u00e0 nh\\u00e2n t\\u1ea1o \\u0111\\u1ec3 l\\u00e0m cho c\\u0103n ph\\u00f2ng lu\\u00f4n\\u00a0s\\u00e1ng. B\\u1ea1n c\\u00f3 th\\u1ec3 \\u0111\\u1eb7t g\\u01b0\\u01a1ng g\\u1ea7n c\\u1eeda s\\u1ed5 \\u0111\\u1ec3 ph\\u1ea3n chi\\u1ebfu \\u00e1nh s\\u00e1ng v\\u00e0 quang c\\u1ea3nh t\\u1ef1 nhi\\u00ean. G\\u01b0\\u01a1ng gi\\u00fap m\\u1edf r\\u1ed9ng kh\\u00f4ng gian c\\u1ee7a c\\u0103n ph\\u00f2ng (\\u1ea2nh: Getty). G\\u01b0\\u01a1ng treo t\\u01b0\\u1eddng v\\u00e0 m\\u1eb7t b\\u00e0n b\\u1eb1ng k\\u00ednh c\\u0169ng s\\u1ebd mang l\\u1ea1i c\\u1ea3m gi\\u00e1c th\\u00f4ng tho\\u00e1ng h\\u01a1n cho c\\u0103n ph\\u00f2ng, ho\\u1eb7c b\\u1ea1n c\\u0169ng c\\u00f3 th\\u1ec3 s\\u1eed d\\u1ee5ng c\\u1eeda t\\u1ee7 c\\u00f3 g\\u01b0\\u01a1ng. L\\u1eafp g\\u01b0\\u01a1ng tr\\u00ean s\\u00e0n nh\\u00e0 c\\u0169ng l\\u00e0 m\\u1ed9t c\\u00e1ch th\\u00f4ng minh \\u0111\\u1ec3 l\\u00e0m cho c\\u0103n ph\\u00f2ng tr\\u00f4ng l\\u1edbn h\\u01a1n. S\\u1eed d\\u1ee5ng \\u0111\\u1ed3 n\\u1ed9i th\\u1ea5t ph\\u00f9 h\\u1ee3p l\\u00e0 m\\u1ed9t \\u0111i\\u1ec1u v\\u00f4 c\\u00f9ng quan tr\\u1ecdng \\u0111\\u1ec3 l\\u00e0m cho c\\u0103n ph\\u00f2ng tr\\u00f4ng l\\u1edbn h\\u01a1n. \\u0110\\u1ea7u ti\\u00ean, h\\u00e3y s\\u1eed d\\u1ee5ng \\u0111\\u1ed3 n\\u1ed9i th\\u1ea5t \\u0111a ch\\u1ee9c n\\u0103ng, ch\\u1eb3ng h\\u1ea1n nh\\u01b0 m\\u1ed9t chi\\u1ebfc r\\u01b0\\u01a1ng c\\u00f3 th\\u1ec3 \\u0111\\u01b0\\u1ee3c s\\u1eed d\\u1ee5ng nh\\u01b0 b\\u00e0n c\\u00e0 ph\\u00ea, gi\\u01b0\\u1eddng sofa ho\\u1eb7c gi\\u01b0\\u1eddng c\\u00f3 ng\\u0103n k\\u00e9o \\u0111\\u1ef1ng \\u0111\\u1ed3 hay m\\u1ed9t chi\\u1ebfc b\\u00e0n \\u0103n c\\u00f3 th\\u1ec3 g\\u1ea5p m\\u1edf r\\u1ed9ng v\\u00e0 c\\u1ea5t \\u0111i khi kh\\u00f4ng s\\u1eed d\\u1ee5ng. S\\u1eed d\\u1ee5ng \\u0111\\u1ed3 n\\u1ed9i th\\u1ea5t th\\u00f4ng minh (\\u1ea2nh: Shutterstock). Thay v\\u00ec s\\u1eed d\\u1ee5ng nh\\u1eefng \\u0111\\u1ed3 n\\u1ed9i th\\u1ea5t cao v\\u00e0 c\\u1ed3ng k\\u1ec1nh chi\\u1ebfm kh\\u00f4ng gian, b\\u1ea1n h\\u00e3y ch\\u1ecdn m\\u1ed9t chi\\u1ebfc gh\\u1ebf sofa v\\u00e0 nh\\u1eefng chi\\u1ebfc gh\\u1ebf c\\u00f3 tay v\\u00e0 ch\\u00e2n \\u0111\\u1ec3 h\\u1edf. \\u0110i\\u1ec1u n\\u00e0y cho ph\\u00e9p \\u00e1nh s\\u00e1ng xuy\\u00ean qua b\\u00ean d\\u01b0\\u1edbi \\u0111\\u1ed3 n\\u1ed9i th\\u1ea5t, l\\u00e0m cho c\\u0103n ph\\u00f2ng c\\u00f3 v\\u1ebb th\\u00f4ng tho\\u00e1ng h\\u01a1n. K\\u00edch th\\u01b0\\u1edbc \\u0111\\u1ed3 n\\u1ed9i th\\u1ea5t ph\\u1ea3i ph\\u00f9 h\\u1ee3p v\\u1edbi di\\u1ec7n t\\u00edch c\\u1ee7a c\\u0103n ph\\u00f2ng. V\\u1edbi nh\\u1eefng m\\u00f3n \\u0111\\u1ed3 n\\u1ed9i th\\u1ea5t l\\u1edbn, b\\u1ea1n n\\u00ean \\u0111\\u1eb7t ch\\u00fang d\\u1ef1a v\\u00e0o t\\u01b0\\u1eddng \\u0111\\u1ec3 t\\u1ed1i \\u0111a h\\u00f3a kh\\u00f4ng gian m\\u1edf v\\u00e0 l\\u00e0m cho c\\u0103n ph\\u00f2ng nh\\u1ecf tr\\u00f4ng l\\u1edbn h\\u01a1n. Ngo\\u00e0i ra, lu\\u00f4n \\u0111\\u1ec3 c\\u00e1c l\\u1ed1i \\u0111i th\\u00f4ng tho\\u00e1ng.\\u00a0 S\\u1eed d\\u1ee5ng \\u0111\\u1ed3 n\\u1ed9i th\\u1ea5t c\\u00f3 k\\u00edch th\\u01b0\\u1edbc ph\\u00f9 h\\u1ee3p v\\u1edbi di\\u1ec7n t\\u00edch c\\u1ee7a c\\u0103n ph\\u00f2ng (\\u1ea2nh: Getty). \\u0110\\u01b0\\u1eddng th\\u1eb3ng d\\u00e0i nh\\u1ea5t trong m\\u1ed9t c\\u0103n ph\\u00f2ng l\\u00e0 \\u0111\\u01b0\\u1eddng ch\\u00e9o. Do v\\u1eady, b\\u1ea1n n\\u00ean s\\u1eafp x\\u1ebfp c\\u00e1c \\u0111\\u1ed3 n\\u1ed9i th\\u1ea5t theo m\\u1ed9t g\\u00f3c nghi\\u00eang \\u0111\\u1ec3 \\u0111\\u00e1nh l\\u1eeba th\\u1ecb gi\\u00e1c ng\\u01b0\\u1eddi nh\\u00ecn. B\\u1ea1n c\\u0169ng c\\u00f3 th\\u1ec3 t\\u1eadn d\\u1ee5ng t\\u1ed1i \\u0111a kh\\u00f4ng gian trong c\\u0103n ph\\u00f2ng b\\u1eb1ng c\\u00e1ch t\\u1ea1o m\\u1ed9t khu l\\u01b0u tr\\u1eef \\u0111\\u1ed3 d\\u01b0\\u1edbi gi\\u01b0\\u1eddng, gh\\u1ebf sofa ho\\u1eb7c s\\u1eed d\\u1ee5ng kh\\u00f4ng gian t\\u1ee7 qu\\u1ea7n \\u00e1o m\\u1ed9t c\\u00e1ch s\\u00e1ng t\\u1ea1o. \"\n        ],\n        \"semantic_type\": \"\",\n        \"description\": \"\"\n      }\n    }\n  ]\n}"
            }
          },
          "metadata": {},
          "execution_count": 7
        }
      ],
      "source": [
        "# print first 5 object\n",
        "dantri.head()"
      ]
    },
    {
      "cell_type": "code",
      "execution_count": null,
      "metadata": {
        "id": "1VbCnMIIlcSV"
      },
      "outputs": [],
      "source": [
        "# remove `Nhân ái` class\n",
        "dantri = dantri[dantri['category'] != 'Nhân ái']"
      ]
    },
    {
      "cell_type": "code",
      "execution_count": null,
      "metadata": {
        "colab": {
          "base_uri": "https://localhost:8080/"
        },
        "id": "qrMNu34qMgTx",
        "outputId": "64e10655-3c4b-47cb-ac4b-0d73e00f490a"
      },
      "outputs": [
        {
          "output_type": "execute_result",
          "data": {
            "text/plain": [
              "['a_lô', 'a_ha', 'ai', 'ai_ai', 'ai_nấy']"
            ]
          },
          "metadata": {},
          "execution_count": 9
        }
      ],
      "source": [
        "# print first 5 words in stopwords\n",
        "stopwords[:5]"
      ]
    },
    {
      "cell_type": "markdown",
      "metadata": {
        "id": "eM0NMADt1_75"
      },
      "source": [
        "### Phân tích dữ liệu"
      ]
    },
    {
      "cell_type": "code",
      "execution_count": null,
      "metadata": {
        "colab": {
          "base_uri": "https://localhost:8080/"
        },
        "id": "9MLMrk32N0uI",
        "outputId": "5526f3f7-b487-4634-8ffe-1e66ec384090"
      },
      "outputs": [
        {
          "output_type": "stream",
          "name": "stdout",
          "text": [
            "Dataset gồm 13331 dữ liệu và 3 thuộc tính\n"
          ]
        }
      ],
      "source": [
        "print(f\"Dataset gồm {dantri.shape[0]} dữ liệu và {dantri.shape[1]} thuộc tính\")"
      ]
    },
    {
      "cell_type": "markdown",
      "metadata": {
        "id": "GiIVlndfG8Qv"
      },
      "source": [
        "#### Remove NaN values"
      ]
    },
    {
      "cell_type": "code",
      "execution_count": null,
      "metadata": {
        "colab": {
          "base_uri": "https://localhost:8080/"
        },
        "id": "j57fr1zxNx7q",
        "outputId": "c706dd68-c484-4575-dc94-e59ff2f00829"
      },
      "outputs": [
        {
          "output_type": "execute_result",
          "data": {
            "text/plain": [
              "title       0\n",
              "category    0\n",
              "content     0\n",
              "dtype: int64"
            ]
          },
          "metadata": {},
          "execution_count": 11
        }
      ],
      "source": [
        "dantri.isna().sum()"
      ]
    },
    {
      "cell_type": "markdown",
      "metadata": {
        "id": "IgFm2PIuOGp_"
      },
      "source": [
        "Dữ liệu trên không có giá trị nào NaN cả nên chúng ta không cần phải loại bỏ chúng"
      ]
    },
    {
      "cell_type": "code",
      "execution_count": null,
      "metadata": {
        "id": "jOmaEfPh0_8F"
      },
      "outputs": [],
      "source": [
        "data = dantri[['content', 'category']]"
      ]
    },
    {
      "cell_type": "markdown",
      "metadata": {
        "id": "NuwzGKDarqs6"
      },
      "source": [
        "Tổng có 15 hạng mục được thu về, tuy nhiên, có những bài báo rất ngắn vì nó chứa video, vì vậy chúng ta có thể chọn ra ngưỡng cho từng hạng mục để tránh việc bị Overfitting"
      ]
    },
    {
      "cell_type": "markdown",
      "metadata": {
        "id": "iaigPetTHCBJ"
      },
      "source": [
        "#### Biểu đồ cột phân bố số lượng bài báo trên từng hạng mục"
      ]
    },
    {
      "cell_type": "code",
      "execution_count": null,
      "metadata": {
        "colab": {
          "base_uri": "https://localhost:8080/",
          "height": 488
        },
        "id": "l2bcX_EJNNsb",
        "outputId": "4fe90738-a604-4fee-f36f-5393ebeeff28"
      },
      "outputs": [
        {
          "output_type": "execute_result",
          "data": {
            "text/plain": [
              "        category  count\n",
              "0       Thể thao   1497\n",
              "1       Giáo dục   1414\n",
              "2       Sức khỏe   1270\n",
              "3   Bất động sản   1229\n",
              "4     Kinh doanh   1102\n",
              "5        Văn hóa   1044\n",
              "6         Xã hội    967\n",
              "7          Xe ++    910\n",
              "8    Sức mạnh số    800\n",
              "9       Thế giới    759\n",
              "10      Việc làm    732\n",
              "11      Giải trí    600\n",
              "12       An sinh    598\n",
              "13     Pháp luật    409"
            ],
            "text/html": [
              "\n",
              "  <div id=\"df-b2e021cb-be14-4a92-b0da-decdb34f04c4\" class=\"colab-df-container\">\n",
              "    <div>\n",
              "<style scoped>\n",
              "    .dataframe tbody tr th:only-of-type {\n",
              "        vertical-align: middle;\n",
              "    }\n",
              "\n",
              "    .dataframe tbody tr th {\n",
              "        vertical-align: top;\n",
              "    }\n",
              "\n",
              "    .dataframe thead th {\n",
              "        text-align: right;\n",
              "    }\n",
              "</style>\n",
              "<table border=\"1\" class=\"dataframe\">\n",
              "  <thead>\n",
              "    <tr style=\"text-align: right;\">\n",
              "      <th></th>\n",
              "      <th>category</th>\n",
              "      <th>count</th>\n",
              "    </tr>\n",
              "  </thead>\n",
              "  <tbody>\n",
              "    <tr>\n",
              "      <th>0</th>\n",
              "      <td>Thể thao</td>\n",
              "      <td>1497</td>\n",
              "    </tr>\n",
              "    <tr>\n",
              "      <th>1</th>\n",
              "      <td>Giáo dục</td>\n",
              "      <td>1414</td>\n",
              "    </tr>\n",
              "    <tr>\n",
              "      <th>2</th>\n",
              "      <td>Sức khỏe</td>\n",
              "      <td>1270</td>\n",
              "    </tr>\n",
              "    <tr>\n",
              "      <th>3</th>\n",
              "      <td>Bất động sản</td>\n",
              "      <td>1229</td>\n",
              "    </tr>\n",
              "    <tr>\n",
              "      <th>4</th>\n",
              "      <td>Kinh doanh</td>\n",
              "      <td>1102</td>\n",
              "    </tr>\n",
              "    <tr>\n",
              "      <th>5</th>\n",
              "      <td>Văn hóa</td>\n",
              "      <td>1044</td>\n",
              "    </tr>\n",
              "    <tr>\n",
              "      <th>6</th>\n",
              "      <td>Xã hội</td>\n",
              "      <td>967</td>\n",
              "    </tr>\n",
              "    <tr>\n",
              "      <th>7</th>\n",
              "      <td>Xe ++</td>\n",
              "      <td>910</td>\n",
              "    </tr>\n",
              "    <tr>\n",
              "      <th>8</th>\n",
              "      <td>Sức mạnh số</td>\n",
              "      <td>800</td>\n",
              "    </tr>\n",
              "    <tr>\n",
              "      <th>9</th>\n",
              "      <td>Thế giới</td>\n",
              "      <td>759</td>\n",
              "    </tr>\n",
              "    <tr>\n",
              "      <th>10</th>\n",
              "      <td>Việc làm</td>\n",
              "      <td>732</td>\n",
              "    </tr>\n",
              "    <tr>\n",
              "      <th>11</th>\n",
              "      <td>Giải trí</td>\n",
              "      <td>600</td>\n",
              "    </tr>\n",
              "    <tr>\n",
              "      <th>12</th>\n",
              "      <td>An sinh</td>\n",
              "      <td>598</td>\n",
              "    </tr>\n",
              "    <tr>\n",
              "      <th>13</th>\n",
              "      <td>Pháp luật</td>\n",
              "      <td>409</td>\n",
              "    </tr>\n",
              "  </tbody>\n",
              "</table>\n",
              "</div>\n",
              "    <div class=\"colab-df-buttons\">\n",
              "\n",
              "  <div class=\"colab-df-container\">\n",
              "    <button class=\"colab-df-convert\" onclick=\"convertToInteractive('df-b2e021cb-be14-4a92-b0da-decdb34f04c4')\"\n",
              "            title=\"Convert this dataframe to an interactive table.\"\n",
              "            style=\"display:none;\">\n",
              "\n",
              "  <svg xmlns=\"http://www.w3.org/2000/svg\" height=\"24px\" viewBox=\"0 -960 960 960\">\n",
              "    <path d=\"M120-120v-720h720v720H120Zm60-500h600v-160H180v160Zm220 220h160v-160H400v160Zm0 220h160v-160H400v160ZM180-400h160v-160H180v160Zm440 0h160v-160H620v160ZM180-180h160v-160H180v160Zm440 0h160v-160H620v160Z\"/>\n",
              "  </svg>\n",
              "    </button>\n",
              "\n",
              "  <style>\n",
              "    .colab-df-container {\n",
              "      display:flex;\n",
              "      gap: 12px;\n",
              "    }\n",
              "\n",
              "    .colab-df-convert {\n",
              "      background-color: #E8F0FE;\n",
              "      border: none;\n",
              "      border-radius: 50%;\n",
              "      cursor: pointer;\n",
              "      display: none;\n",
              "      fill: #1967D2;\n",
              "      height: 32px;\n",
              "      padding: 0 0 0 0;\n",
              "      width: 32px;\n",
              "    }\n",
              "\n",
              "    .colab-df-convert:hover {\n",
              "      background-color: #E2EBFA;\n",
              "      box-shadow: 0px 1px 2px rgba(60, 64, 67, 0.3), 0px 1px 3px 1px rgba(60, 64, 67, 0.15);\n",
              "      fill: #174EA6;\n",
              "    }\n",
              "\n",
              "    .colab-df-buttons div {\n",
              "      margin-bottom: 4px;\n",
              "    }\n",
              "\n",
              "    [theme=dark] .colab-df-convert {\n",
              "      background-color: #3B4455;\n",
              "      fill: #D2E3FC;\n",
              "    }\n",
              "\n",
              "    [theme=dark] .colab-df-convert:hover {\n",
              "      background-color: #434B5C;\n",
              "      box-shadow: 0px 1px 3px 1px rgba(0, 0, 0, 0.15);\n",
              "      filter: drop-shadow(0px 1px 2px rgba(0, 0, 0, 0.3));\n",
              "      fill: #FFFFFF;\n",
              "    }\n",
              "  </style>\n",
              "\n",
              "    <script>\n",
              "      const buttonEl =\n",
              "        document.querySelector('#df-b2e021cb-be14-4a92-b0da-decdb34f04c4 button.colab-df-convert');\n",
              "      buttonEl.style.display =\n",
              "        google.colab.kernel.accessAllowed ? 'block' : 'none';\n",
              "\n",
              "      async function convertToInteractive(key) {\n",
              "        const element = document.querySelector('#df-b2e021cb-be14-4a92-b0da-decdb34f04c4');\n",
              "        const dataTable =\n",
              "          await google.colab.kernel.invokeFunction('convertToInteractive',\n",
              "                                                    [key], {});\n",
              "        if (!dataTable) return;\n",
              "\n",
              "        const docLinkHtml = 'Like what you see? Visit the ' +\n",
              "          '<a target=\"_blank\" href=https://colab.research.google.com/notebooks/data_table.ipynb>data table notebook</a>'\n",
              "          + ' to learn more about interactive tables.';\n",
              "        element.innerHTML = '';\n",
              "        dataTable['output_type'] = 'display_data';\n",
              "        await google.colab.output.renderOutput(dataTable, element);\n",
              "        const docLink = document.createElement('div');\n",
              "        docLink.innerHTML = docLinkHtml;\n",
              "        element.appendChild(docLink);\n",
              "      }\n",
              "    </script>\n",
              "  </div>\n",
              "\n",
              "\n",
              "<div id=\"df-2d37e6d0-04cd-4486-8f22-9d86a5783efd\">\n",
              "  <button class=\"colab-df-quickchart\" onclick=\"quickchart('df-2d37e6d0-04cd-4486-8f22-9d86a5783efd')\"\n",
              "            title=\"Suggest charts\"\n",
              "            style=\"display:none;\">\n",
              "\n",
              "<svg xmlns=\"http://www.w3.org/2000/svg\" height=\"24px\"viewBox=\"0 0 24 24\"\n",
              "     width=\"24px\">\n",
              "    <g>\n",
              "        <path d=\"M19 3H5c-1.1 0-2 .9-2 2v14c0 1.1.9 2 2 2h14c1.1 0 2-.9 2-2V5c0-1.1-.9-2-2-2zM9 17H7v-7h2v7zm4 0h-2V7h2v10zm4 0h-2v-4h2v4z\"/>\n",
              "    </g>\n",
              "</svg>\n",
              "  </button>\n",
              "\n",
              "<style>\n",
              "  .colab-df-quickchart {\n",
              "      --bg-color: #E8F0FE;\n",
              "      --fill-color: #1967D2;\n",
              "      --hover-bg-color: #E2EBFA;\n",
              "      --hover-fill-color: #174EA6;\n",
              "      --disabled-fill-color: #AAA;\n",
              "      --disabled-bg-color: #DDD;\n",
              "  }\n",
              "\n",
              "  [theme=dark] .colab-df-quickchart {\n",
              "      --bg-color: #3B4455;\n",
              "      --fill-color: #D2E3FC;\n",
              "      --hover-bg-color: #434B5C;\n",
              "      --hover-fill-color: #FFFFFF;\n",
              "      --disabled-bg-color: #3B4455;\n",
              "      --disabled-fill-color: #666;\n",
              "  }\n",
              "\n",
              "  .colab-df-quickchart {\n",
              "    background-color: var(--bg-color);\n",
              "    border: none;\n",
              "    border-radius: 50%;\n",
              "    cursor: pointer;\n",
              "    display: none;\n",
              "    fill: var(--fill-color);\n",
              "    height: 32px;\n",
              "    padding: 0;\n",
              "    width: 32px;\n",
              "  }\n",
              "\n",
              "  .colab-df-quickchart:hover {\n",
              "    background-color: var(--hover-bg-color);\n",
              "    box-shadow: 0 1px 2px rgba(60, 64, 67, 0.3), 0 1px 3px 1px rgba(60, 64, 67, 0.15);\n",
              "    fill: var(--button-hover-fill-color);\n",
              "  }\n",
              "\n",
              "  .colab-df-quickchart-complete:disabled,\n",
              "  .colab-df-quickchart-complete:disabled:hover {\n",
              "    background-color: var(--disabled-bg-color);\n",
              "    fill: var(--disabled-fill-color);\n",
              "    box-shadow: none;\n",
              "  }\n",
              "\n",
              "  .colab-df-spinner {\n",
              "    border: 2px solid var(--fill-color);\n",
              "    border-color: transparent;\n",
              "    border-bottom-color: var(--fill-color);\n",
              "    animation:\n",
              "      spin 1s steps(1) infinite;\n",
              "  }\n",
              "\n",
              "  @keyframes spin {\n",
              "    0% {\n",
              "      border-color: transparent;\n",
              "      border-bottom-color: var(--fill-color);\n",
              "      border-left-color: var(--fill-color);\n",
              "    }\n",
              "    20% {\n",
              "      border-color: transparent;\n",
              "      border-left-color: var(--fill-color);\n",
              "      border-top-color: var(--fill-color);\n",
              "    }\n",
              "    30% {\n",
              "      border-color: transparent;\n",
              "      border-left-color: var(--fill-color);\n",
              "      border-top-color: var(--fill-color);\n",
              "      border-right-color: var(--fill-color);\n",
              "    }\n",
              "    40% {\n",
              "      border-color: transparent;\n",
              "      border-right-color: var(--fill-color);\n",
              "      border-top-color: var(--fill-color);\n",
              "    }\n",
              "    60% {\n",
              "      border-color: transparent;\n",
              "      border-right-color: var(--fill-color);\n",
              "    }\n",
              "    80% {\n",
              "      border-color: transparent;\n",
              "      border-right-color: var(--fill-color);\n",
              "      border-bottom-color: var(--fill-color);\n",
              "    }\n",
              "    90% {\n",
              "      border-color: transparent;\n",
              "      border-bottom-color: var(--fill-color);\n",
              "    }\n",
              "  }\n",
              "</style>\n",
              "\n",
              "  <script>\n",
              "    async function quickchart(key) {\n",
              "      const quickchartButtonEl =\n",
              "        document.querySelector('#' + key + ' button');\n",
              "      quickchartButtonEl.disabled = true;  // To prevent multiple clicks.\n",
              "      quickchartButtonEl.classList.add('colab-df-spinner');\n",
              "      try {\n",
              "        const charts = await google.colab.kernel.invokeFunction(\n",
              "            'suggestCharts', [key], {});\n",
              "      } catch (error) {\n",
              "        console.error('Error during call to suggestCharts:', error);\n",
              "      }\n",
              "      quickchartButtonEl.classList.remove('colab-df-spinner');\n",
              "      quickchartButtonEl.classList.add('colab-df-quickchart-complete');\n",
              "    }\n",
              "    (() => {\n",
              "      let quickchartButtonEl =\n",
              "        document.querySelector('#df-2d37e6d0-04cd-4486-8f22-9d86a5783efd button');\n",
              "      quickchartButtonEl.style.display =\n",
              "        google.colab.kernel.accessAllowed ? 'block' : 'none';\n",
              "    })();\n",
              "  </script>\n",
              "</div>\n",
              "\n",
              "  <div id=\"id_f6395c4d-f775-4372-a796-5c6575cca7b4\">\n",
              "    <style>\n",
              "      .colab-df-generate {\n",
              "        background-color: #E8F0FE;\n",
              "        border: none;\n",
              "        border-radius: 50%;\n",
              "        cursor: pointer;\n",
              "        display: none;\n",
              "        fill: #1967D2;\n",
              "        height: 32px;\n",
              "        padding: 0 0 0 0;\n",
              "        width: 32px;\n",
              "      }\n",
              "\n",
              "      .colab-df-generate:hover {\n",
              "        background-color: #E2EBFA;\n",
              "        box-shadow: 0px 1px 2px rgba(60, 64, 67, 0.3), 0px 1px 3px 1px rgba(60, 64, 67, 0.15);\n",
              "        fill: #174EA6;\n",
              "      }\n",
              "\n",
              "      [theme=dark] .colab-df-generate {\n",
              "        background-color: #3B4455;\n",
              "        fill: #D2E3FC;\n",
              "      }\n",
              "\n",
              "      [theme=dark] .colab-df-generate:hover {\n",
              "        background-color: #434B5C;\n",
              "        box-shadow: 0px 1px 3px 1px rgba(0, 0, 0, 0.15);\n",
              "        filter: drop-shadow(0px 1px 2px rgba(0, 0, 0, 0.3));\n",
              "        fill: #FFFFFF;\n",
              "      }\n",
              "    </style>\n",
              "    <button class=\"colab-df-generate\" onclick=\"generateWithVariable('num_of_post_each_topic')\"\n",
              "            title=\"Generate code using this dataframe.\"\n",
              "            style=\"display:none;\">\n",
              "\n",
              "  <svg xmlns=\"http://www.w3.org/2000/svg\" height=\"24px\"viewBox=\"0 0 24 24\"\n",
              "       width=\"24px\">\n",
              "    <path d=\"M7,19H8.4L18.45,9,17,7.55,7,17.6ZM5,21V16.75L18.45,3.32a2,2,0,0,1,2.83,0l1.4,1.43a1.91,1.91,0,0,1,.58,1.4,1.91,1.91,0,0,1-.58,1.4L9.25,21ZM18.45,9,17,7.55Zm-12,3A5.31,5.31,0,0,0,4.9,8.1,5.31,5.31,0,0,0,1,6.5,5.31,5.31,0,0,0,4.9,4.9,5.31,5.31,0,0,0,6.5,1,5.31,5.31,0,0,0,8.1,4.9,5.31,5.31,0,0,0,12,6.5,5.46,5.46,0,0,0,6.5,12Z\"/>\n",
              "  </svg>\n",
              "    </button>\n",
              "    <script>\n",
              "      (() => {\n",
              "      const buttonEl =\n",
              "        document.querySelector('#id_f6395c4d-f775-4372-a796-5c6575cca7b4 button.colab-df-generate');\n",
              "      buttonEl.style.display =\n",
              "        google.colab.kernel.accessAllowed ? 'block' : 'none';\n",
              "\n",
              "      buttonEl.onclick = () => {\n",
              "        google.colab.notebook.generateWithVariable('num_of_post_each_topic');\n",
              "      }\n",
              "      })();\n",
              "    </script>\n",
              "  </div>\n",
              "\n",
              "    </div>\n",
              "  </div>\n"
            ],
            "application/vnd.google.colaboratory.intrinsic+json": {
              "type": "dataframe",
              "variable_name": "num_of_post_each_topic",
              "summary": "{\n  \"name\": \"num_of_post_each_topic\",\n  \"rows\": 14,\n  \"fields\": [\n    {\n      \"column\": \"category\",\n      \"properties\": {\n        \"dtype\": \"string\",\n        \"num_unique_values\": 14,\n        \"samples\": [\n          \"Th\\u1ebf gi\\u1edbi\",\n          \"Gi\\u1ea3i tr\\u00ed\",\n          \"Th\\u1ec3 thao\"\n        ],\n        \"semantic_type\": \"\",\n        \"description\": \"\"\n      }\n    },\n    {\n      \"column\": \"count\",\n      \"properties\": {\n        \"dtype\": \"number\",\n        \"std\": 325,\n        \"min\": 409,\n        \"max\": 1497,\n        \"num_unique_values\": 14,\n        \"samples\": [\n          759,\n          600,\n          1497\n        ],\n        \"semantic_type\": \"\",\n        \"description\": \"\"\n      }\n    }\n  ]\n}"
            }
          },
          "metadata": {},
          "execution_count": 13
        }
      ],
      "source": [
        "count = data[\"category\"].value_counts()\n",
        "num_of_post_each_topic = pd.DataFrame(\n",
        "    {\"category\": count.index, \"count\": count.values}\n",
        ")\n",
        "num_of_post_each_topic"
      ]
    },
    {
      "cell_type": "code",
      "execution_count": null,
      "metadata": {
        "id": "Sue5jymVq0hZ"
      },
      "outputs": [],
      "source": [
        "def create_bar_plot(df=None, title=\"Số lượng bài báo trên từng hạng mục\", y_arrow=500):\n",
        "  fig = px.histogram(\n",
        "    df,\n",
        "    x='category',\n",
        "    y='count',\n",
        "    color='category',\n",
        "    title=title,\n",
        "    color_discrete_sequence=px.colors.qualitative.Light24,\n",
        "    opacity=0.75\n",
        "  )\n",
        "  fig.update_yaxes(showgrid=True)  # the y-axis is in dollars\n",
        "  fig.update_layout(  # customize font and legend orientation & position\n",
        "      font_family=\"Arial\",\n",
        "      legend=dict(\n",
        "          title=None, orientation=\"h\", y=1, yanchor=\"bottom\", x=0.5, xanchor=\"center\"\n",
        "      ),\n",
        "      yaxis_title=\"Số lượng bài báo\",\n",
        "      xaxis_title=\"Hạng mục\",\n",
        "  )\n",
        "\n",
        "\n",
        "  fig.add_shape(  # add a horizontal \"target\" line\n",
        "      type=\"line\",\n",
        "      line_color=\"#16FF32\",\n",
        "      line_width=3,\n",
        "      opacity=1,\n",
        "      line_dash=\"dot\",\n",
        "      x0=0,\n",
        "      x1=1,\n",
        "      xref=\"paper\",\n",
        "      y0=929,\n",
        "      y1=929,\n",
        "      yref=\"y\",\n",
        "  )\n",
        "\n",
        "  fig.add_annotation(  # add a text callout with arrow\n",
        "      text=\"Số lượng ít nhất\", x=\"Pháp luật\", y=y_arrow, arrowhead=1, showarrow=True\n",
        "  )\n",
        "\n",
        "\n",
        "  fig.show()"
      ]
    },
    {
      "cell_type": "code",
      "execution_count": null,
      "metadata": {
        "colab": {
          "base_uri": "https://localhost:8080/",
          "height": 542
        },
        "id": "glS7R-R7OZvT",
        "outputId": "1b94b7b6-ae8a-4280-d55c-ff91702c8ceb"
      },
      "outputs": [
        {
          "output_type": "display_data",
          "data": {
            "text/html": [
              "<html>\n",
              "<head><meta charset=\"utf-8\" /></head>\n",
              "<body>\n",
              "    <div>            <script src=\"https://cdnjs.cloudflare.com/ajax/libs/mathjax/2.7.5/MathJax.js?config=TeX-AMS-MML_SVG\"></script><script type=\"text/javascript\">if (window.MathJax && window.MathJax.Hub && window.MathJax.Hub.Config) {window.MathJax.Hub.Config({SVG: {font: \"STIX-Web\"}});}</script>                <script type=\"text/javascript\">window.PlotlyConfig = {MathJaxConfig: 'local'};</script>\n",
              "        <script charset=\"utf-8\" src=\"https://cdn.plot.ly/plotly-2.24.1.min.js\"></script>                <div id=\"abb7d319-9759-405f-be85-cfdb8f7af7ca\" class=\"plotly-graph-div\" style=\"height:525px; width:100%;\"></div>            <script type=\"text/javascript\">                                    window.PLOTLYENV=window.PLOTLYENV || {};                                    if (document.getElementById(\"abb7d319-9759-405f-be85-cfdb8f7af7ca\")) {                    Plotly.newPlot(                        \"abb7d319-9759-405f-be85-cfdb8f7af7ca\",                        [{\"alignmentgroup\":\"True\",\"bingroup\":\"x\",\"histfunc\":\"sum\",\"hovertemplate\":\"category=%{x}\\u003cbr\\u003esum of count=%{y}\\u003cextra\\u003e\\u003c\\u002fextra\\u003e\",\"legendgroup\":\"Th\\u1ec3 thao\",\"marker\":{\"color\":\"#FD3216\",\"opacity\":0.75,\"pattern\":{\"shape\":\"\"}},\"name\":\"Th\\u1ec3 thao\",\"offsetgroup\":\"Th\\u1ec3 thao\",\"orientation\":\"v\",\"showlegend\":true,\"x\":[\"Th\\u1ec3 thao\"],\"xaxis\":\"x\",\"y\":[1497],\"yaxis\":\"y\",\"type\":\"histogram\"},{\"alignmentgroup\":\"True\",\"bingroup\":\"x\",\"histfunc\":\"sum\",\"hovertemplate\":\"category=%{x}\\u003cbr\\u003esum of count=%{y}\\u003cextra\\u003e\\u003c\\u002fextra\\u003e\",\"legendgroup\":\"Gi\\u00e1o d\\u1ee5c\",\"marker\":{\"color\":\"#00FE35\",\"opacity\":0.75,\"pattern\":{\"shape\":\"\"}},\"name\":\"Gi\\u00e1o d\\u1ee5c\",\"offsetgroup\":\"Gi\\u00e1o d\\u1ee5c\",\"orientation\":\"v\",\"showlegend\":true,\"x\":[\"Gi\\u00e1o d\\u1ee5c\"],\"xaxis\":\"x\",\"y\":[1414],\"yaxis\":\"y\",\"type\":\"histogram\"},{\"alignmentgroup\":\"True\",\"bingroup\":\"x\",\"histfunc\":\"sum\",\"hovertemplate\":\"category=%{x}\\u003cbr\\u003esum of count=%{y}\\u003cextra\\u003e\\u003c\\u002fextra\\u003e\",\"legendgroup\":\"S\\u1ee9c kh\\u1ecfe\",\"marker\":{\"color\":\"#6A76FC\",\"opacity\":0.75,\"pattern\":{\"shape\":\"\"}},\"name\":\"S\\u1ee9c kh\\u1ecfe\",\"offsetgroup\":\"S\\u1ee9c kh\\u1ecfe\",\"orientation\":\"v\",\"showlegend\":true,\"x\":[\"S\\u1ee9c kh\\u1ecfe\"],\"xaxis\":\"x\",\"y\":[1270],\"yaxis\":\"y\",\"type\":\"histogram\"},{\"alignmentgroup\":\"True\",\"bingroup\":\"x\",\"histfunc\":\"sum\",\"hovertemplate\":\"category=%{x}\\u003cbr\\u003esum of count=%{y}\\u003cextra\\u003e\\u003c\\u002fextra\\u003e\",\"legendgroup\":\"B\\u1ea5t \\u0111\\u1ed9ng s\\u1ea3n\",\"marker\":{\"color\":\"#FED4C4\",\"opacity\":0.75,\"pattern\":{\"shape\":\"\"}},\"name\":\"B\\u1ea5t \\u0111\\u1ed9ng s\\u1ea3n\",\"offsetgroup\":\"B\\u1ea5t \\u0111\\u1ed9ng s\\u1ea3n\",\"orientation\":\"v\",\"showlegend\":true,\"x\":[\"B\\u1ea5t \\u0111\\u1ed9ng s\\u1ea3n\"],\"xaxis\":\"x\",\"y\":[1229],\"yaxis\":\"y\",\"type\":\"histogram\"},{\"alignmentgroup\":\"True\",\"bingroup\":\"x\",\"histfunc\":\"sum\",\"hovertemplate\":\"category=%{x}\\u003cbr\\u003esum of count=%{y}\\u003cextra\\u003e\\u003c\\u002fextra\\u003e\",\"legendgroup\":\"Kinh doanh\",\"marker\":{\"color\":\"#FE00CE\",\"opacity\":0.75,\"pattern\":{\"shape\":\"\"}},\"name\":\"Kinh doanh\",\"offsetgroup\":\"Kinh doanh\",\"orientation\":\"v\",\"showlegend\":true,\"x\":[\"Kinh doanh\"],\"xaxis\":\"x\",\"y\":[1102],\"yaxis\":\"y\",\"type\":\"histogram\"},{\"alignmentgroup\":\"True\",\"bingroup\":\"x\",\"histfunc\":\"sum\",\"hovertemplate\":\"category=%{x}\\u003cbr\\u003esum of count=%{y}\\u003cextra\\u003e\\u003c\\u002fextra\\u003e\",\"legendgroup\":\"V\\u0103n h\\u00f3a\",\"marker\":{\"color\":\"#0DF9FF\",\"opacity\":0.75,\"pattern\":{\"shape\":\"\"}},\"name\":\"V\\u0103n h\\u00f3a\",\"offsetgroup\":\"V\\u0103n h\\u00f3a\",\"orientation\":\"v\",\"showlegend\":true,\"x\":[\"V\\u0103n h\\u00f3a\"],\"xaxis\":\"x\",\"y\":[1044],\"yaxis\":\"y\",\"type\":\"histogram\"},{\"alignmentgroup\":\"True\",\"bingroup\":\"x\",\"histfunc\":\"sum\",\"hovertemplate\":\"category=%{x}\\u003cbr\\u003esum of count=%{y}\\u003cextra\\u003e\\u003c\\u002fextra\\u003e\",\"legendgroup\":\"X\\u00e3 h\\u1ed9i\",\"marker\":{\"color\":\"#F6F926\",\"opacity\":0.75,\"pattern\":{\"shape\":\"\"}},\"name\":\"X\\u00e3 h\\u1ed9i\",\"offsetgroup\":\"X\\u00e3 h\\u1ed9i\",\"orientation\":\"v\",\"showlegend\":true,\"x\":[\"X\\u00e3 h\\u1ed9i\"],\"xaxis\":\"x\",\"y\":[967],\"yaxis\":\"y\",\"type\":\"histogram\"},{\"alignmentgroup\":\"True\",\"bingroup\":\"x\",\"histfunc\":\"sum\",\"hovertemplate\":\"category=%{x}\\u003cbr\\u003esum of count=%{y}\\u003cextra\\u003e\\u003c\\u002fextra\\u003e\",\"legendgroup\":\"Xe ++\",\"marker\":{\"color\":\"#FF9616\",\"opacity\":0.75,\"pattern\":{\"shape\":\"\"}},\"name\":\"Xe ++\",\"offsetgroup\":\"Xe ++\",\"orientation\":\"v\",\"showlegend\":true,\"x\":[\"Xe ++\"],\"xaxis\":\"x\",\"y\":[910],\"yaxis\":\"y\",\"type\":\"histogram\"},{\"alignmentgroup\":\"True\",\"bingroup\":\"x\",\"histfunc\":\"sum\",\"hovertemplate\":\"category=%{x}\\u003cbr\\u003esum of count=%{y}\\u003cextra\\u003e\\u003c\\u002fextra\\u003e\",\"legendgroup\":\"S\\u1ee9c m\\u1ea1nh s\\u1ed1\",\"marker\":{\"color\":\"#479B55\",\"opacity\":0.75,\"pattern\":{\"shape\":\"\"}},\"name\":\"S\\u1ee9c m\\u1ea1nh s\\u1ed1\",\"offsetgroup\":\"S\\u1ee9c m\\u1ea1nh s\\u1ed1\",\"orientation\":\"v\",\"showlegend\":true,\"x\":[\"S\\u1ee9c m\\u1ea1nh s\\u1ed1\"],\"xaxis\":\"x\",\"y\":[800],\"yaxis\":\"y\",\"type\":\"histogram\"},{\"alignmentgroup\":\"True\",\"bingroup\":\"x\",\"histfunc\":\"sum\",\"hovertemplate\":\"category=%{x}\\u003cbr\\u003esum of count=%{y}\\u003cextra\\u003e\\u003c\\u002fextra\\u003e\",\"legendgroup\":\"Th\\u1ebf gi\\u1edbi\",\"marker\":{\"color\":\"#EEA6FB\",\"opacity\":0.75,\"pattern\":{\"shape\":\"\"}},\"name\":\"Th\\u1ebf gi\\u1edbi\",\"offsetgroup\":\"Th\\u1ebf gi\\u1edbi\",\"orientation\":\"v\",\"showlegend\":true,\"x\":[\"Th\\u1ebf gi\\u1edbi\"],\"xaxis\":\"x\",\"y\":[759],\"yaxis\":\"y\",\"type\":\"histogram\"},{\"alignmentgroup\":\"True\",\"bingroup\":\"x\",\"histfunc\":\"sum\",\"hovertemplate\":\"category=%{x}\\u003cbr\\u003esum of count=%{y}\\u003cextra\\u003e\\u003c\\u002fextra\\u003e\",\"legendgroup\":\"Vi\\u1ec7c l\\u00e0m\",\"marker\":{\"color\":\"#DC587D\",\"opacity\":0.75,\"pattern\":{\"shape\":\"\"}},\"name\":\"Vi\\u1ec7c l\\u00e0m\",\"offsetgroup\":\"Vi\\u1ec7c l\\u00e0m\",\"orientation\":\"v\",\"showlegend\":true,\"x\":[\"Vi\\u1ec7c l\\u00e0m\"],\"xaxis\":\"x\",\"y\":[732],\"yaxis\":\"y\",\"type\":\"histogram\"},{\"alignmentgroup\":\"True\",\"bingroup\":\"x\",\"histfunc\":\"sum\",\"hovertemplate\":\"category=%{x}\\u003cbr\\u003esum of count=%{y}\\u003cextra\\u003e\\u003c\\u002fextra\\u003e\",\"legendgroup\":\"Gi\\u1ea3i tr\\u00ed\",\"marker\":{\"color\":\"#D626FF\",\"opacity\":0.75,\"pattern\":{\"shape\":\"\"}},\"name\":\"Gi\\u1ea3i tr\\u00ed\",\"offsetgroup\":\"Gi\\u1ea3i tr\\u00ed\",\"orientation\":\"v\",\"showlegend\":true,\"x\":[\"Gi\\u1ea3i tr\\u00ed\"],\"xaxis\":\"x\",\"y\":[600],\"yaxis\":\"y\",\"type\":\"histogram\"},{\"alignmentgroup\":\"True\",\"bingroup\":\"x\",\"histfunc\":\"sum\",\"hovertemplate\":\"category=%{x}\\u003cbr\\u003esum of count=%{y}\\u003cextra\\u003e\\u003c\\u002fextra\\u003e\",\"legendgroup\":\"An sinh\",\"marker\":{\"color\":\"#6E899C\",\"opacity\":0.75,\"pattern\":{\"shape\":\"\"}},\"name\":\"An sinh\",\"offsetgroup\":\"An sinh\",\"orientation\":\"v\",\"showlegend\":true,\"x\":[\"An sinh\"],\"xaxis\":\"x\",\"y\":[598],\"yaxis\":\"y\",\"type\":\"histogram\"},{\"alignmentgroup\":\"True\",\"bingroup\":\"x\",\"histfunc\":\"sum\",\"hovertemplate\":\"category=%{x}\\u003cbr\\u003esum of count=%{y}\\u003cextra\\u003e\\u003c\\u002fextra\\u003e\",\"legendgroup\":\"Ph\\u00e1p lu\\u1eadt\",\"marker\":{\"color\":\"#00B5F7\",\"opacity\":0.75,\"pattern\":{\"shape\":\"\"}},\"name\":\"Ph\\u00e1p lu\\u1eadt\",\"offsetgroup\":\"Ph\\u00e1p lu\\u1eadt\",\"orientation\":\"v\",\"showlegend\":true,\"x\":[\"Ph\\u00e1p lu\\u1eadt\"],\"xaxis\":\"x\",\"y\":[409],\"yaxis\":\"y\",\"type\":\"histogram\"}],                        {\"template\":{\"data\":{\"histogram2dcontour\":[{\"type\":\"histogram2dcontour\",\"colorbar\":{\"outlinewidth\":0,\"ticks\":\"\"},\"colorscale\":[[0.0,\"#0d0887\"],[0.1111111111111111,\"#46039f\"],[0.2222222222222222,\"#7201a8\"],[0.3333333333333333,\"#9c179e\"],[0.4444444444444444,\"#bd3786\"],[0.5555555555555556,\"#d8576b\"],[0.6666666666666666,\"#ed7953\"],[0.7777777777777778,\"#fb9f3a\"],[0.8888888888888888,\"#fdca26\"],[1.0,\"#f0f921\"]]}],\"choropleth\":[{\"type\":\"choropleth\",\"colorbar\":{\"outlinewidth\":0,\"ticks\":\"\"}}],\"histogram2d\":[{\"type\":\"histogram2d\",\"colorbar\":{\"outlinewidth\":0,\"ticks\":\"\"},\"colorscale\":[[0.0,\"#0d0887\"],[0.1111111111111111,\"#46039f\"],[0.2222222222222222,\"#7201a8\"],[0.3333333333333333,\"#9c179e\"],[0.4444444444444444,\"#bd3786\"],[0.5555555555555556,\"#d8576b\"],[0.6666666666666666,\"#ed7953\"],[0.7777777777777778,\"#fb9f3a\"],[0.8888888888888888,\"#fdca26\"],[1.0,\"#f0f921\"]]}],\"heatmap\":[{\"type\":\"heatmap\",\"colorbar\":{\"outlinewidth\":0,\"ticks\":\"\"},\"colorscale\":[[0.0,\"#0d0887\"],[0.1111111111111111,\"#46039f\"],[0.2222222222222222,\"#7201a8\"],[0.3333333333333333,\"#9c179e\"],[0.4444444444444444,\"#bd3786\"],[0.5555555555555556,\"#d8576b\"],[0.6666666666666666,\"#ed7953\"],[0.7777777777777778,\"#fb9f3a\"],[0.8888888888888888,\"#fdca26\"],[1.0,\"#f0f921\"]]}],\"heatmapgl\":[{\"type\":\"heatmapgl\",\"colorbar\":{\"outlinewidth\":0,\"ticks\":\"\"},\"colorscale\":[[0.0,\"#0d0887\"],[0.1111111111111111,\"#46039f\"],[0.2222222222222222,\"#7201a8\"],[0.3333333333333333,\"#9c179e\"],[0.4444444444444444,\"#bd3786\"],[0.5555555555555556,\"#d8576b\"],[0.6666666666666666,\"#ed7953\"],[0.7777777777777778,\"#fb9f3a\"],[0.8888888888888888,\"#fdca26\"],[1.0,\"#f0f921\"]]}],\"contourcarpet\":[{\"type\":\"contourcarpet\",\"colorbar\":{\"outlinewidth\":0,\"ticks\":\"\"}}],\"contour\":[{\"type\":\"contour\",\"colorbar\":{\"outlinewidth\":0,\"ticks\":\"\"},\"colorscale\":[[0.0,\"#0d0887\"],[0.1111111111111111,\"#46039f\"],[0.2222222222222222,\"#7201a8\"],[0.3333333333333333,\"#9c179e\"],[0.4444444444444444,\"#bd3786\"],[0.5555555555555556,\"#d8576b\"],[0.6666666666666666,\"#ed7953\"],[0.7777777777777778,\"#fb9f3a\"],[0.8888888888888888,\"#fdca26\"],[1.0,\"#f0f921\"]]}],\"surface\":[{\"type\":\"surface\",\"colorbar\":{\"outlinewidth\":0,\"ticks\":\"\"},\"colorscale\":[[0.0,\"#0d0887\"],[0.1111111111111111,\"#46039f\"],[0.2222222222222222,\"#7201a8\"],[0.3333333333333333,\"#9c179e\"],[0.4444444444444444,\"#bd3786\"],[0.5555555555555556,\"#d8576b\"],[0.6666666666666666,\"#ed7953\"],[0.7777777777777778,\"#fb9f3a\"],[0.8888888888888888,\"#fdca26\"],[1.0,\"#f0f921\"]]}],\"mesh3d\":[{\"type\":\"mesh3d\",\"colorbar\":{\"outlinewidth\":0,\"ticks\":\"\"}}],\"scatter\":[{\"fillpattern\":{\"fillmode\":\"overlay\",\"size\":10,\"solidity\":0.2},\"type\":\"scatter\"}],\"parcoords\":[{\"type\":\"parcoords\",\"line\":{\"colorbar\":{\"outlinewidth\":0,\"ticks\":\"\"}}}],\"scatterpolargl\":[{\"type\":\"scatterpolargl\",\"marker\":{\"colorbar\":{\"outlinewidth\":0,\"ticks\":\"\"}}}],\"bar\":[{\"error_x\":{\"color\":\"#2a3f5f\"},\"error_y\":{\"color\":\"#2a3f5f\"},\"marker\":{\"line\":{\"color\":\"#E5ECF6\",\"width\":0.5},\"pattern\":{\"fillmode\":\"overlay\",\"size\":10,\"solidity\":0.2}},\"type\":\"bar\"}],\"scattergeo\":[{\"type\":\"scattergeo\",\"marker\":{\"colorbar\":{\"outlinewidth\":0,\"ticks\":\"\"}}}],\"scatterpolar\":[{\"type\":\"scatterpolar\",\"marker\":{\"colorbar\":{\"outlinewidth\":0,\"ticks\":\"\"}}}],\"histogram\":[{\"marker\":{\"pattern\":{\"fillmode\":\"overlay\",\"size\":10,\"solidity\":0.2}},\"type\":\"histogram\"}],\"scattergl\":[{\"type\":\"scattergl\",\"marker\":{\"colorbar\":{\"outlinewidth\":0,\"ticks\":\"\"}}}],\"scatter3d\":[{\"type\":\"scatter3d\",\"line\":{\"colorbar\":{\"outlinewidth\":0,\"ticks\":\"\"}},\"marker\":{\"colorbar\":{\"outlinewidth\":0,\"ticks\":\"\"}}}],\"scattermapbox\":[{\"type\":\"scattermapbox\",\"marker\":{\"colorbar\":{\"outlinewidth\":0,\"ticks\":\"\"}}}],\"scatterternary\":[{\"type\":\"scatterternary\",\"marker\":{\"colorbar\":{\"outlinewidth\":0,\"ticks\":\"\"}}}],\"scattercarpet\":[{\"type\":\"scattercarpet\",\"marker\":{\"colorbar\":{\"outlinewidth\":0,\"ticks\":\"\"}}}],\"carpet\":[{\"aaxis\":{\"endlinecolor\":\"#2a3f5f\",\"gridcolor\":\"white\",\"linecolor\":\"white\",\"minorgridcolor\":\"white\",\"startlinecolor\":\"#2a3f5f\"},\"baxis\":{\"endlinecolor\":\"#2a3f5f\",\"gridcolor\":\"white\",\"linecolor\":\"white\",\"minorgridcolor\":\"white\",\"startlinecolor\":\"#2a3f5f\"},\"type\":\"carpet\"}],\"table\":[{\"cells\":{\"fill\":{\"color\":\"#EBF0F8\"},\"line\":{\"color\":\"white\"}},\"header\":{\"fill\":{\"color\":\"#C8D4E3\"},\"line\":{\"color\":\"white\"}},\"type\":\"table\"}],\"barpolar\":[{\"marker\":{\"line\":{\"color\":\"#E5ECF6\",\"width\":0.5},\"pattern\":{\"fillmode\":\"overlay\",\"size\":10,\"solidity\":0.2}},\"type\":\"barpolar\"}],\"pie\":[{\"automargin\":true,\"type\":\"pie\"}]},\"layout\":{\"autotypenumbers\":\"strict\",\"colorway\":[\"#636efa\",\"#EF553B\",\"#00cc96\",\"#ab63fa\",\"#FFA15A\",\"#19d3f3\",\"#FF6692\",\"#B6E880\",\"#FF97FF\",\"#FECB52\"],\"font\":{\"color\":\"#2a3f5f\"},\"hovermode\":\"closest\",\"hoverlabel\":{\"align\":\"left\"},\"paper_bgcolor\":\"white\",\"plot_bgcolor\":\"#E5ECF6\",\"polar\":{\"bgcolor\":\"#E5ECF6\",\"angularaxis\":{\"gridcolor\":\"white\",\"linecolor\":\"white\",\"ticks\":\"\"},\"radialaxis\":{\"gridcolor\":\"white\",\"linecolor\":\"white\",\"ticks\":\"\"}},\"ternary\":{\"bgcolor\":\"#E5ECF6\",\"aaxis\":{\"gridcolor\":\"white\",\"linecolor\":\"white\",\"ticks\":\"\"},\"baxis\":{\"gridcolor\":\"white\",\"linecolor\":\"white\",\"ticks\":\"\"},\"caxis\":{\"gridcolor\":\"white\",\"linecolor\":\"white\",\"ticks\":\"\"}},\"coloraxis\":{\"colorbar\":{\"outlinewidth\":0,\"ticks\":\"\"}},\"colorscale\":{\"sequential\":[[0.0,\"#0d0887\"],[0.1111111111111111,\"#46039f\"],[0.2222222222222222,\"#7201a8\"],[0.3333333333333333,\"#9c179e\"],[0.4444444444444444,\"#bd3786\"],[0.5555555555555556,\"#d8576b\"],[0.6666666666666666,\"#ed7953\"],[0.7777777777777778,\"#fb9f3a\"],[0.8888888888888888,\"#fdca26\"],[1.0,\"#f0f921\"]],\"sequentialminus\":[[0.0,\"#0d0887\"],[0.1111111111111111,\"#46039f\"],[0.2222222222222222,\"#7201a8\"],[0.3333333333333333,\"#9c179e\"],[0.4444444444444444,\"#bd3786\"],[0.5555555555555556,\"#d8576b\"],[0.6666666666666666,\"#ed7953\"],[0.7777777777777778,\"#fb9f3a\"],[0.8888888888888888,\"#fdca26\"],[1.0,\"#f0f921\"]],\"diverging\":[[0,\"#8e0152\"],[0.1,\"#c51b7d\"],[0.2,\"#de77ae\"],[0.3,\"#f1b6da\"],[0.4,\"#fde0ef\"],[0.5,\"#f7f7f7\"],[0.6,\"#e6f5d0\"],[0.7,\"#b8e186\"],[0.8,\"#7fbc41\"],[0.9,\"#4d9221\"],[1,\"#276419\"]]},\"xaxis\":{\"gridcolor\":\"white\",\"linecolor\":\"white\",\"ticks\":\"\",\"title\":{\"standoff\":15},\"zerolinecolor\":\"white\",\"automargin\":true,\"zerolinewidth\":2},\"yaxis\":{\"gridcolor\":\"white\",\"linecolor\":\"white\",\"ticks\":\"\",\"title\":{\"standoff\":15},\"zerolinecolor\":\"white\",\"automargin\":true,\"zerolinewidth\":2},\"scene\":{\"xaxis\":{\"backgroundcolor\":\"#E5ECF6\",\"gridcolor\":\"white\",\"linecolor\":\"white\",\"showbackground\":true,\"ticks\":\"\",\"zerolinecolor\":\"white\",\"gridwidth\":2},\"yaxis\":{\"backgroundcolor\":\"#E5ECF6\",\"gridcolor\":\"white\",\"linecolor\":\"white\",\"showbackground\":true,\"ticks\":\"\",\"zerolinecolor\":\"white\",\"gridwidth\":2},\"zaxis\":{\"backgroundcolor\":\"#E5ECF6\",\"gridcolor\":\"white\",\"linecolor\":\"white\",\"showbackground\":true,\"ticks\":\"\",\"zerolinecolor\":\"white\",\"gridwidth\":2}},\"shapedefaults\":{\"line\":{\"color\":\"#2a3f5f\"}},\"annotationdefaults\":{\"arrowcolor\":\"#2a3f5f\",\"arrowhead\":0,\"arrowwidth\":1},\"geo\":{\"bgcolor\":\"white\",\"landcolor\":\"#E5ECF6\",\"subunitcolor\":\"white\",\"showland\":true,\"showlakes\":true,\"lakecolor\":\"white\"},\"title\":{\"x\":0.05},\"mapbox\":{\"style\":\"light\"}}},\"xaxis\":{\"anchor\":\"y\",\"domain\":[0.0,1.0],\"title\":{\"text\":\"H\\u1ea1ng m\\u1ee5c\"},\"categoryorder\":\"array\",\"categoryarray\":[\"Th\\u1ec3 thao\",\"Gi\\u00e1o d\\u1ee5c\",\"S\\u1ee9c kh\\u1ecfe\",\"B\\u1ea5t \\u0111\\u1ed9ng s\\u1ea3n\",\"Kinh doanh\",\"V\\u0103n h\\u00f3a\",\"X\\u00e3 h\\u1ed9i\",\"Xe ++\",\"S\\u1ee9c m\\u1ea1nh s\\u1ed1\",\"Th\\u1ebf gi\\u1edbi\",\"Vi\\u1ec7c l\\u00e0m\",\"Gi\\u1ea3i tr\\u00ed\",\"An sinh\",\"Ph\\u00e1p lu\\u1eadt\"]},\"yaxis\":{\"anchor\":\"x\",\"domain\":[0.0,1.0],\"title\":{\"text\":\"S\\u1ed1 l\\u01b0\\u1ee3ng b\\u00e0i b\\u00e1o\"},\"showgrid\":true},\"legend\":{\"title\":{},\"tracegroupgap\":0,\"orientation\":\"h\",\"y\":1,\"yanchor\":\"bottom\",\"x\":0.5,\"xanchor\":\"center\"},\"title\":{\"text\":\"S\\u1ed1 l\\u01b0\\u1ee3ng b\\u00e0i b\\u00e1o tr\\u00ean t\\u1eebng h\\u1ea1ng m\\u1ee5c\"},\"barmode\":\"relative\",\"font\":{\"family\":\"Arial\"},\"shapes\":[{\"line\":{\"color\":\"#16FF32\",\"dash\":\"dot\",\"width\":3},\"opacity\":1,\"type\":\"line\",\"x0\":0,\"x1\":1,\"xref\":\"paper\",\"y0\":929,\"y1\":929,\"yref\":\"y\"}],\"annotations\":[{\"arrowhead\":1,\"showarrow\":true,\"text\":\"S\\u1ed1 l\\u01b0\\u1ee3ng \\u00edt nh\\u1ea5t\",\"x\":\"Ph\\u00e1p lu\\u1eadt\",\"y\":500}]},                        {\"responsive\": true}                    ).then(function(){\n",
              "                            \n",
              "var gd = document.getElementById('abb7d319-9759-405f-be85-cfdb8f7af7ca');\n",
              "var x = new MutationObserver(function (mutations, observer) {{\n",
              "        var display = window.getComputedStyle(gd).display;\n",
              "        if (!display || display === 'none') {{\n",
              "            console.log([gd, 'removed!']);\n",
              "            Plotly.purge(gd);\n",
              "            observer.disconnect();\n",
              "        }}\n",
              "}});\n",
              "\n",
              "// Listen for the removal of the full notebook cells\n",
              "var notebookContainer = gd.closest('#notebook-container');\n",
              "if (notebookContainer) {{\n",
              "    x.observe(notebookContainer, {childList: true});\n",
              "}}\n",
              "\n",
              "// Listen for the clearing of the current output cell\n",
              "var outputEl = gd.closest('.output');\n",
              "if (outputEl) {{\n",
              "    x.observe(outputEl, {childList: true});\n",
              "}}\n",
              "\n",
              "                        })                };                            </script>        </div>\n",
              "</body>\n",
              "</html>"
            ]
          },
          "metadata": {}
        }
      ],
      "source": [
        "create_bar_plot(df=num_of_post_each_topic)"
      ]
    },
    {
      "cell_type": "markdown",
      "metadata": {
        "id": "4itcVdp5OwoS"
      },
      "source": [
        "Với biểu đồ cột ở trên, thấy rằng phân bố `số lượng bài báo` trên từng `hạng mục` là không đồng đều nhau. Điều này có nghĩa là khi chia ngẫu nhiên dữ liệu để xây dựng mô hình có thể xảy ra tình trạng **Imbalanced Data** vì số lượng bài báo của hạng mục đầu tiên trên trung bình mẫu (đường màu xanh) đã gấp hơn 2 lần so với số lượng bài báo thấp nhất (đường mũi tên).\n",
        "\n",
        "Từ những nhận xét sơ cấp ở trên, chúng ta có thể xem xét đến hiệu suất của mô hình khi đã qua xử lý việc mất cân bằng dữ liệu"
      ]
    },
    {
      "cell_type": "code",
      "execution_count": null,
      "metadata": {
        "colab": {
          "base_uri": "https://localhost:8080/"
        },
        "id": "AqNJRHaMQX70",
        "outputId": "583ff2cf-1e98-4b82-ec3e-fd725df42739"
      },
      "outputs": [
        {
          "output_type": "execute_result",
          "data": {
            "text/plain": [
              "array(['Xã hội', 'Việc làm', 'An sinh', 'Văn hóa', 'Thế giới',\n",
              "       'Kinh doanh', 'Bất động sản', 'Sức mạnh số', 'Thể thao',\n",
              "       'Sức khỏe', 'Giải trí', 'Giáo dục', 'Xe ++', 'Pháp luật'],\n",
              "      dtype=object)"
            ]
          },
          "metadata": {},
          "execution_count": 16
        }
      ],
      "source": [
        "categories = data['category'].unique()\n",
        "categories"
      ]
    },
    {
      "cell_type": "code",
      "execution_count": null,
      "metadata": {
        "colab": {
          "base_uri": "https://localhost:8080/",
          "height": 206
        },
        "id": "DmaGBUT72fOx",
        "outputId": "4fcd20e9-f18b-45ea-9ed5-176dc35de79a"
      },
      "outputs": [
        {
          "output_type": "execute_result",
          "data": {
            "text/plain": [
              "                                             content category   len\n",
              "0  Ông Nguyễn Văn Sơn, Phó Tổng cục trưởng Tổng c...   Xã hội  2825\n",
              "1  Sáng 12/2 (mùng 3 Tết Giáp Thìn), Thủ tướng Ph...   Xã hội  3688\n",
              "2  Sáng 12/2 (mùng 3 Tết Giáp Thìn), Thủ tướng Ph...   Xã hội  3759\n",
              "3  Thủ tướng Phạm Minh Chính tiếp Đại sứ Saudi Ar...   Xã hội  5821\n",
              "4  Tổng Thanh tra Chính phủ Đoàn Hồng Phong vừa c...   Xã hội  4660"
            ],
            "text/html": [
              "\n",
              "  <div id=\"df-8fedad8c-d920-449b-bd04-8418dfc6439b\" class=\"colab-df-container\">\n",
              "    <div>\n",
              "<style scoped>\n",
              "    .dataframe tbody tr th:only-of-type {\n",
              "        vertical-align: middle;\n",
              "    }\n",
              "\n",
              "    .dataframe tbody tr th {\n",
              "        vertical-align: top;\n",
              "    }\n",
              "\n",
              "    .dataframe thead th {\n",
              "        text-align: right;\n",
              "    }\n",
              "</style>\n",
              "<table border=\"1\" class=\"dataframe\">\n",
              "  <thead>\n",
              "    <tr style=\"text-align: right;\">\n",
              "      <th></th>\n",
              "      <th>content</th>\n",
              "      <th>category</th>\n",
              "      <th>len</th>\n",
              "    </tr>\n",
              "  </thead>\n",
              "  <tbody>\n",
              "    <tr>\n",
              "      <th>0</th>\n",
              "      <td>Ông Nguyễn Văn Sơn, Phó Tổng cục trưởng Tổng c...</td>\n",
              "      <td>Xã hội</td>\n",
              "      <td>2825</td>\n",
              "    </tr>\n",
              "    <tr>\n",
              "      <th>1</th>\n",
              "      <td>Sáng 12/2 (mùng 3 Tết Giáp Thìn), Thủ tướng Ph...</td>\n",
              "      <td>Xã hội</td>\n",
              "      <td>3688</td>\n",
              "    </tr>\n",
              "    <tr>\n",
              "      <th>2</th>\n",
              "      <td>Sáng 12/2 (mùng 3 Tết Giáp Thìn), Thủ tướng Ph...</td>\n",
              "      <td>Xã hội</td>\n",
              "      <td>3759</td>\n",
              "    </tr>\n",
              "    <tr>\n",
              "      <th>3</th>\n",
              "      <td>Thủ tướng Phạm Minh Chính tiếp Đại sứ Saudi Ar...</td>\n",
              "      <td>Xã hội</td>\n",
              "      <td>5821</td>\n",
              "    </tr>\n",
              "    <tr>\n",
              "      <th>4</th>\n",
              "      <td>Tổng Thanh tra Chính phủ Đoàn Hồng Phong vừa c...</td>\n",
              "      <td>Xã hội</td>\n",
              "      <td>4660</td>\n",
              "    </tr>\n",
              "  </tbody>\n",
              "</table>\n",
              "</div>\n",
              "    <div class=\"colab-df-buttons\">\n",
              "\n",
              "  <div class=\"colab-df-container\">\n",
              "    <button class=\"colab-df-convert\" onclick=\"convertToInteractive('df-8fedad8c-d920-449b-bd04-8418dfc6439b')\"\n",
              "            title=\"Convert this dataframe to an interactive table.\"\n",
              "            style=\"display:none;\">\n",
              "\n",
              "  <svg xmlns=\"http://www.w3.org/2000/svg\" height=\"24px\" viewBox=\"0 -960 960 960\">\n",
              "    <path d=\"M120-120v-720h720v720H120Zm60-500h600v-160H180v160Zm220 220h160v-160H400v160Zm0 220h160v-160H400v160ZM180-400h160v-160H180v160Zm440 0h160v-160H620v160ZM180-180h160v-160H180v160Zm440 0h160v-160H620v160Z\"/>\n",
              "  </svg>\n",
              "    </button>\n",
              "\n",
              "  <style>\n",
              "    .colab-df-container {\n",
              "      display:flex;\n",
              "      gap: 12px;\n",
              "    }\n",
              "\n",
              "    .colab-df-convert {\n",
              "      background-color: #E8F0FE;\n",
              "      border: none;\n",
              "      border-radius: 50%;\n",
              "      cursor: pointer;\n",
              "      display: none;\n",
              "      fill: #1967D2;\n",
              "      height: 32px;\n",
              "      padding: 0 0 0 0;\n",
              "      width: 32px;\n",
              "    }\n",
              "\n",
              "    .colab-df-convert:hover {\n",
              "      background-color: #E2EBFA;\n",
              "      box-shadow: 0px 1px 2px rgba(60, 64, 67, 0.3), 0px 1px 3px 1px rgba(60, 64, 67, 0.15);\n",
              "      fill: #174EA6;\n",
              "    }\n",
              "\n",
              "    .colab-df-buttons div {\n",
              "      margin-bottom: 4px;\n",
              "    }\n",
              "\n",
              "    [theme=dark] .colab-df-convert {\n",
              "      background-color: #3B4455;\n",
              "      fill: #D2E3FC;\n",
              "    }\n",
              "\n",
              "    [theme=dark] .colab-df-convert:hover {\n",
              "      background-color: #434B5C;\n",
              "      box-shadow: 0px 1px 3px 1px rgba(0, 0, 0, 0.15);\n",
              "      filter: drop-shadow(0px 1px 2px rgba(0, 0, 0, 0.3));\n",
              "      fill: #FFFFFF;\n",
              "    }\n",
              "  </style>\n",
              "\n",
              "    <script>\n",
              "      const buttonEl =\n",
              "        document.querySelector('#df-8fedad8c-d920-449b-bd04-8418dfc6439b button.colab-df-convert');\n",
              "      buttonEl.style.display =\n",
              "        google.colab.kernel.accessAllowed ? 'block' : 'none';\n",
              "\n",
              "      async function convertToInteractive(key) {\n",
              "        const element = document.querySelector('#df-8fedad8c-d920-449b-bd04-8418dfc6439b');\n",
              "        const dataTable =\n",
              "          await google.colab.kernel.invokeFunction('convertToInteractive',\n",
              "                                                    [key], {});\n",
              "        if (!dataTable) return;\n",
              "\n",
              "        const docLinkHtml = 'Like what you see? Visit the ' +\n",
              "          '<a target=\"_blank\" href=https://colab.research.google.com/notebooks/data_table.ipynb>data table notebook</a>'\n",
              "          + ' to learn more about interactive tables.';\n",
              "        element.innerHTML = '';\n",
              "        dataTable['output_type'] = 'display_data';\n",
              "        await google.colab.output.renderOutput(dataTable, element);\n",
              "        const docLink = document.createElement('div');\n",
              "        docLink.innerHTML = docLinkHtml;\n",
              "        element.appendChild(docLink);\n",
              "      }\n",
              "    </script>\n",
              "  </div>\n",
              "\n",
              "\n",
              "<div id=\"df-e489717c-f6f9-4e67-9f42-2c55d1f92fb8\">\n",
              "  <button class=\"colab-df-quickchart\" onclick=\"quickchart('df-e489717c-f6f9-4e67-9f42-2c55d1f92fb8')\"\n",
              "            title=\"Suggest charts\"\n",
              "            style=\"display:none;\">\n",
              "\n",
              "<svg xmlns=\"http://www.w3.org/2000/svg\" height=\"24px\"viewBox=\"0 0 24 24\"\n",
              "     width=\"24px\">\n",
              "    <g>\n",
              "        <path d=\"M19 3H5c-1.1 0-2 .9-2 2v14c0 1.1.9 2 2 2h14c1.1 0 2-.9 2-2V5c0-1.1-.9-2-2-2zM9 17H7v-7h2v7zm4 0h-2V7h2v10zm4 0h-2v-4h2v4z\"/>\n",
              "    </g>\n",
              "</svg>\n",
              "  </button>\n",
              "\n",
              "<style>\n",
              "  .colab-df-quickchart {\n",
              "      --bg-color: #E8F0FE;\n",
              "      --fill-color: #1967D2;\n",
              "      --hover-bg-color: #E2EBFA;\n",
              "      --hover-fill-color: #174EA6;\n",
              "      --disabled-fill-color: #AAA;\n",
              "      --disabled-bg-color: #DDD;\n",
              "  }\n",
              "\n",
              "  [theme=dark] .colab-df-quickchart {\n",
              "      --bg-color: #3B4455;\n",
              "      --fill-color: #D2E3FC;\n",
              "      --hover-bg-color: #434B5C;\n",
              "      --hover-fill-color: #FFFFFF;\n",
              "      --disabled-bg-color: #3B4455;\n",
              "      --disabled-fill-color: #666;\n",
              "  }\n",
              "\n",
              "  .colab-df-quickchart {\n",
              "    background-color: var(--bg-color);\n",
              "    border: none;\n",
              "    border-radius: 50%;\n",
              "    cursor: pointer;\n",
              "    display: none;\n",
              "    fill: var(--fill-color);\n",
              "    height: 32px;\n",
              "    padding: 0;\n",
              "    width: 32px;\n",
              "  }\n",
              "\n",
              "  .colab-df-quickchart:hover {\n",
              "    background-color: var(--hover-bg-color);\n",
              "    box-shadow: 0 1px 2px rgba(60, 64, 67, 0.3), 0 1px 3px 1px rgba(60, 64, 67, 0.15);\n",
              "    fill: var(--button-hover-fill-color);\n",
              "  }\n",
              "\n",
              "  .colab-df-quickchart-complete:disabled,\n",
              "  .colab-df-quickchart-complete:disabled:hover {\n",
              "    background-color: var(--disabled-bg-color);\n",
              "    fill: var(--disabled-fill-color);\n",
              "    box-shadow: none;\n",
              "  }\n",
              "\n",
              "  .colab-df-spinner {\n",
              "    border: 2px solid var(--fill-color);\n",
              "    border-color: transparent;\n",
              "    border-bottom-color: var(--fill-color);\n",
              "    animation:\n",
              "      spin 1s steps(1) infinite;\n",
              "  }\n",
              "\n",
              "  @keyframes spin {\n",
              "    0% {\n",
              "      border-color: transparent;\n",
              "      border-bottom-color: var(--fill-color);\n",
              "      border-left-color: var(--fill-color);\n",
              "    }\n",
              "    20% {\n",
              "      border-color: transparent;\n",
              "      border-left-color: var(--fill-color);\n",
              "      border-top-color: var(--fill-color);\n",
              "    }\n",
              "    30% {\n",
              "      border-color: transparent;\n",
              "      border-left-color: var(--fill-color);\n",
              "      border-top-color: var(--fill-color);\n",
              "      border-right-color: var(--fill-color);\n",
              "    }\n",
              "    40% {\n",
              "      border-color: transparent;\n",
              "      border-right-color: var(--fill-color);\n",
              "      border-top-color: var(--fill-color);\n",
              "    }\n",
              "    60% {\n",
              "      border-color: transparent;\n",
              "      border-right-color: var(--fill-color);\n",
              "    }\n",
              "    80% {\n",
              "      border-color: transparent;\n",
              "      border-right-color: var(--fill-color);\n",
              "      border-bottom-color: var(--fill-color);\n",
              "    }\n",
              "    90% {\n",
              "      border-color: transparent;\n",
              "      border-bottom-color: var(--fill-color);\n",
              "    }\n",
              "  }\n",
              "</style>\n",
              "\n",
              "  <script>\n",
              "    async function quickchart(key) {\n",
              "      const quickchartButtonEl =\n",
              "        document.querySelector('#' + key + ' button');\n",
              "      quickchartButtonEl.disabled = true;  // To prevent multiple clicks.\n",
              "      quickchartButtonEl.classList.add('colab-df-spinner');\n",
              "      try {\n",
              "        const charts = await google.colab.kernel.invokeFunction(\n",
              "            'suggestCharts', [key], {});\n",
              "      } catch (error) {\n",
              "        console.error('Error during call to suggestCharts:', error);\n",
              "      }\n",
              "      quickchartButtonEl.classList.remove('colab-df-spinner');\n",
              "      quickchartButtonEl.classList.add('colab-df-quickchart-complete');\n",
              "    }\n",
              "    (() => {\n",
              "      let quickchartButtonEl =\n",
              "        document.querySelector('#df-e489717c-f6f9-4e67-9f42-2c55d1f92fb8 button');\n",
              "      quickchartButtonEl.style.display =\n",
              "        google.colab.kernel.accessAllowed ? 'block' : 'none';\n",
              "    })();\n",
              "  </script>\n",
              "</div>\n",
              "\n",
              "    </div>\n",
              "  </div>\n"
            ],
            "application/vnd.google.colaboratory.intrinsic+json": {
              "type": "dataframe",
              "variable_name": "data",
              "summary": "{\n  \"name\": \"data\",\n  \"rows\": 13331,\n  \"fields\": [\n    {\n      \"column\": \"content\",\n      \"properties\": {\n        \"dtype\": \"string\",\n        \"num_unique_values\": 13331,\n        \"samples\": [\n          \"Di\\u1ec5n \\u0111\\u00e0n l\\u00e0 m\\u1ed9t trong nh\\u1eefng ho\\u1ea1t \\u0111\\u1ed9ng n\\u1eb1m trong khu\\u00f4n kh\\u1ed5 H\\u1ed9i ngh\\u1ecb quan ch\\u1ee9c c\\u1ea5p cao ASEAN v\\u1ec1 Ph\\u00fac l\\u1ee3i x\\u00e3 h\\u1ed9i v\\u00e0 ph\\u00e1t tri\\u1ec3n (SOMSWD) l\\u1ea7n th\\u1ee9 19 v\\u00e0 c\\u00e1c s\\u1ef1 ki\\u1ec7n li\\u00ean quan do Vi\\u1ec7t Nam ch\\u1ee7 tr\\u00ec t\\u1ed5 ch\\u1ee9c v\\u1edbi vai tr\\u00f2 l\\u00e0 Ch\\u1ee7 t\\u1ecbch. V\\u1edbi ch\\u1ee7 \\u0111\\u1ec1 \\\"An sinh x\\u00e3 h\\u1ed9i th\\u00edch \\u1ee9ng v\\u1edbi b\\u1ed1i c\\u1ea3nh m\\u1edbi\\\", di\\u1ec5n \\u0111\\u00e0n l\\u1ea7n n\\u00e0y \\u0111\\u01b0\\u1ee3c t\\u1ed5 ch\\u1ee9c nh\\u1eb1m trao \\u0111\\u1ed5i v\\u1ec1 nh\\u1eefng th\\u00e1ch th\\u1ee9c ch\\u00ednh m\\u00e0 c\\u00e1c h\\u1ec7 th\\u1ed1ng an sinh x\\u00e3 h\\u1ed9i \\u0111ang ph\\u1ea3i \\u0111\\u1ed1i m\\u1eb7t v\\u00e0 nh\\u1eefng bi\\u1ec7n ph\\u00e1p \\u0111\\u01b0\\u1ee3c c\\u00e1c n\\u01b0\\u1edbc th\\u1ef1c hi\\u1ec7n ho\\u1eb7c l\\u00ean k\\u1ebf ho\\u1ea1ch \\u0111\\u1ec3 \\u1ee9ng ph\\u00f3 v\\u1edbi nh\\u1eefng th\\u00e1ch th\\u1ee9c \\u0111\\u00f3. Trong \\u0111\\u00f3 t\\u1eadp trung v\\u00e0o c\\u00e1c nh\\u00f3m \\u0111\\u1ed1i t\\u01b0\\u1ee3ng d\\u1ec5 b\\u1ecb t\\u1ed5n th\\u01b0\\u01a1ng nh\\u01b0 tr\\u1ebb em, ng\\u01b0\\u1eddi cao tu\\u1ed5i, ng\\u01b0\\u1eddi khuy\\u1ebft t\\u1eadt. Di\\u1ec5n \\u0111\\u00e0n Ch\\u00ednh ph\\u1ee7 - Phi Ch\\u00ednh ph\\u1ee7 v\\u1ec1 Ph\\u00fac l\\u1ee3i x\\u00e3 h\\u1ed9i v\\u00e0 Ph\\u00e1t tri\\u1ec3n l\\u1ea7n th\\u1ee9 18 di\\u1ec5n ra s\\u00e1ng 13/11 (\\u1ea2nh: Nguy\\u1ec5n S\\u01a1n). Di\\u1ec5n \\u0111\\u00e0n c\\u00f3 s\\u1ef1 tham d\\u1ef1 c\\u1ee7a \\u0111\\u1ea1i di\\u1ec7n c\\u00e1c c\\u01a1 quan ch\\u00ednh ph\\u1ee7, t\\u1ed5 ch\\u1ee9c phi ch\\u00ednh ph\\u1ee7 c\\u00e1c n\\u01b0\\u1edbc th\\u00e0nh vi\\u00ean ASEAN, Timor Leste (quan s\\u00e1t vi\\u00ean), Ban Th\\u01b0 k\\u00fd ASEAN, c\\u00e1c c\\u01a1 quan Li\\u00ean h\\u1ee3p qu\\u1ed1c v\\u00e0 m\\u1ed9t s\\u1ed1 t\\u1ed5 ch\\u1ee9c qu\\u1ed1c t\\u1ebf ho\\u1ea1t \\u0111\\u1ed9ng trong l\\u0129nh v\\u1ef1c ph\\u00fac l\\u1ee3i x\\u00e3 h\\u1ed9i v\\u00e0 ph\\u00e1t tri\\u1ec3n t\\u1ea1i Vi\\u1ec7t Nam v\\u00e0 trong khu v\\u1ef1c ASEAN. Ph\\u00e1t bi\\u1ec3u khai m\\u1ea1c di\\u1ec5n \\u0111\\u00e0n, V\\u1ee5 tr\\u01b0\\u1edfng V\\u1ee5 H\\u1ee3p t\\u00e1c qu\\u1ed1c t\\u1ebf, B\\u1ed9 L\\u0110-TB&XH L\\u01b0u Quang Tu\\u1ea5n cho bi\\u1ebft, vi\\u1ec7c ch\\u1ea5m d\\u1ee9t t\\u00ecnh tr\\u1ea1ng kh\\u1ea9n c\\u1ea5p c\\u1ee7a \\u0111\\u1ea1i d\\u1ecbch Covid-19 kh\\u00f4ng \\u0111\\u1ed3ng ngh\\u0129a d\\u1ecbch b\\u1ec7nh \\u0111\\u00e3 bi\\u1ebfn m\\u1ea5t m\\u00e0 c\\u00e1c qu\\u1ed1c gia n\\u00ean t\\u1eadp trung v\\u00e0o c\\u00e1c chi\\u1ebfn l\\u01b0\\u1ee3c qu\\u1ea3n l\\u00fd, ki\\u1ec3m so\\u00e1t v\\u00e0 ph\\u00f2ng d\\u1ecbch m\\u1ed9t c\\u00e1ch b\\u1ec1n v\\u1eefng, l\\u00e2u d\\u00e0i h\\u01a1n. \\\"Nh\\u1eefng b\\u00e0i h\\u1ecdc v\\u00f4 gi\\u00e1 r\\u00fat ra tr\\u01b0\\u1edbc v\\u00e0 trong \\u0111\\u1ea1i d\\u1ecbch Covid-19 c\\u1ea7n \\u0111\\u01b0\\u1ee3c \\u0111\\u01b0a v\\u00e0o c\\u00e1c ch\\u00ednh s\\u00e1ch, k\\u1ebf ho\\u1ea1ch v\\u00e0 h\\u1ec7 th\\u1ed1ng an sinh x\\u00e3 h\\u1ed9i qu\\u1ed1c gia c\\u1ea3 trong trung v\\u00e0 d\\u00e0i h\\u1ea1n \\u0111\\u1ec3 \\u0111\\u1ea3m b\\u1ea3o kh\\u00f4ng ai b\\u1ecb b\\u1ecf l\\u1ea1i ph\\u00eda sau\\\", \\u00f4ng Tu\\u1ea5n nh\\u1ea5n m\\u1ea1nh. B\\u00ean c\\u1ea1nh \\u0111\\u00f3, c\\u00e1c n\\u01b0\\u1edbc c\\u0169ng c\\u1ea7n c\\u00e2n nh\\u1eafc k\\u1ef9 l\\u01b0\\u1ee1ng \\u0111\\u1ebfn nh\\u1eefng xu h\\u01b0\\u1edbng m\\u1edbi n\\u1ed5i trong khu v\\u1ef1c nh\\u01b0 thay \\u0111\\u1ed5i nh\\u00e2n kh\\u1ea9u h\\u1ecdc, di c\\u01b0, t\\u00e1c \\u0111\\u1ed9ng c\\u1ee7a bi\\u1ebfn \\u0111\\u1ed5i kh\\u00ed h\\u1eadu v\\u00e0 ti\\u1ebfn b\\u1ed9 khoa h\\u1ecdc c\\u00f4ng ngh\\u1ec7 nhanh ch\\u00f3ng, c\\u00f9ng v\\u1edbi t\\u00ecnh tr\\u1ea1ng ngh\\u00e8o \\u0111\\u00f3i v\\u00e0 b\\u1ea5t b\\u00ecnh \\u0111\\u1eb3ng dai d\\u1eb3ng. V\\u1ee5 tr\\u01b0\\u1edfng V\\u1ee5 H\\u1ee3p t\\u00e1c qu\\u1ed1c t\\u1ebf L\\u01b0u Quang Tu\\u1ea5n ph\\u00e1t bi\\u1ec3u khai m\\u1ea1c (\\u1ea2nh: Nguy\\u1ec5n S\\u01a1n). \\\"\\u0110\\u00e2y l\\u00e0 nh\\u1eefng v\\u1ea5n \\u0111\\u1ec1 \\u0111ang c\\u00f3 nh\\u1eefng t\\u00e1c \\u0111\\u1ed9ng \\u0111\\u00e1ng k\\u1ec3 v\\u00e0 \\u0111\\u00f2i h\\u1ecfi s\\u1ef1 \\u0111\\u00e1p \\u1ee9ng t\\u1eeb h\\u1ec7 th\\u1ed1ng v\\u00e0 bi\\u1ec7n ph\\u00e1p an sinh x\\u00e3 h\\u1ed9i c\\u1ee7a c\\u00e1c n\\u01b0\\u1edbc th\\u00e0nh vi\\u00ean ASEAN\\\", \\u00f4ng Tu\\u1ea5n n\\u00f3i. C\\u0169ng t\\u1ea1i di\\u1ec5n \\u0111\\u00e0n, Ph\\u00f3 Ch\\u1ee7 t\\u1ecbch th\\u01b0\\u1eddng tr\\u1ef1c, Li\\u00ean hi\\u1ec7p h\\u1ed9i v\\u1ec1 ng\\u01b0\\u1eddi khuy\\u1ebft t\\u1eadt Vi\\u1ec7t Nam \\u0110\\u1eb7ng V\\u0103n Thanh chia s\\u1ebb, trong nh\\u1eefng n\\u0103m qua, Vi\\u1ec7t Nam \\u0111\\u00e3 ban h\\u00e0nh nhi\\u1ec1u ch\\u00ednh s\\u00e1ch \\u0111\\u1ea3m b\\u1ea3o \\u0111\\u1ec3 c\\u00e1c nh\\u00f3m d\\u1ec5 b\\u1ecb t\\u1ed5n th\\u01b0\\u01a1ng c\\u0169ng \\u0111\\u01b0\\u1ee3c th\\u1ee5 h\\u01b0\\u1edfng c\\u00e1c th\\u00e0nh t\\u1ef1u kinh t\\u1ebf - x\\u00e3 h\\u1ed9i m\\u1ed9t c\\u00e1ch c\\u00f4ng b\\u1eb1ng nh\\u01b0 m\\u1ecdi ng\\u01b0\\u1eddi d\\u00e2n. Theo \\u0111\\u00f3, nhi\\u1ec1u ch\\u01b0\\u01a1ng tr\\u00ecnh h\\u00e0nh \\u0111\\u1ed9ng c\\u1ea5p qu\\u1ed1c gia \\u0111\\u01b0\\u1ee3c ban h\\u00e0nh v\\u00e0 th\\u1ef1c hi\\u1ec7n bao tr\\u00f9m, bao g\\u1ed3m chi\\u1ebfn l\\u01b0\\u1ee3c qu\\u1ed1c gia v\\u1ec1 b\\u00ecnh \\u0111\\u1eb3ng gi\\u1edbi giai \\u0111o\\u1ea1n 2021 - 2030, ch\\u01b0\\u01a1ng tr\\u00ecnh h\\u1ed7 tr\\u1ee3 ng\\u01b0\\u1eddi khuy\\u1ebft t\\u1eadt giai \\u0111o\\u1ea1n 2021 - 2030, ch\\u01b0\\u01a1ng tr\\u00ecnh b\\u1ea3o v\\u1ec7 tr\\u1ebb em tr\\u00ean kh\\u00f4ng gian m\\u1ea1ng, ch\\u01b0\\u01a1ng tr\\u00ecnh h\\u00e0nh \\u0111\\u1ed9ng qu\\u1ed1c gia v\\u00ec tr\\u1ebb em giai \\u0111o\\u1ea1n 2021 - 2030\\u2026 \\\"Nh\\u1eefng ch\\u00ednh s\\u00e1ch n\\u00e0y \\u0111\\u00e3 v\\u00e0 \\u0111ang g\\u00f3p ph\\u1ea7n b\\u1ea3o \\u0111\\u1ea3m t\\u1ed1t h\\u01a1n quy\\u1ec1n c\\u1ee7a c\\u00e1c nh\\u00f3m d\\u1ec5 b\\u1ecb t\\u1ed5n th\\u01b0\\u01a1ng, \\u0111\\u1eb7c bi\\u1ec7t tr\\u01b0\\u1edbc nh\\u1eefng t\\u00e1c \\u0111\\u1ed9ng c\\u1ee7a c\\u00e1c xu h\\u01b0\\u1edbng m\\u1edbi n\\u1ed5i hi\\u1ec7n nay nh\\u01b0 d\\u1ecbch b\\u1ec7nh, bi\\u1ebfn \\u0111\\u1ed5i kh\\u00ed h\\u1eadu v\\u00e0 cu\\u1ed9c c\\u00e1ch m\\u1ea1ng c\\u00f4ng nghi\\u1ec7p 4.0\\\", \\u00f4ng Thanh \\u0111\\u00e1nh gi\\u00e1. \\u0110\\u1ea1i di\\u1ec7n Li\\u00ean hi\\u1ec7p h\\u1ed9i v\\u1ec1 ng\\u01b0\\u1eddi khuy\\u1ebft t\\u1eadt Vi\\u1ec7t Nam kh\\u1eb3ng \\u0111\\u1ecbnh, di\\u1ec5n \\u0111\\u00e0n s\\u1ebd g\\u00f3p ph\\u1ea7n th\\u1ef1c hi\\u1ec7n c\\u00e1c m\\u1ee5c ti\\u00eau l\\u00e2u d\\u00e0i v\\u00e0 c\\u00e1c cam k\\u1ebft c\\u1ee7a c\\u00e1c nh\\u00e0 l\\u00e3nh \\u0111\\u1ea1o ASEAN trong vi\\u1ec7c x\\u00e2y d\\u1ef1ng c\\u1ed9ng \\u0111\\u1ed3ng ASEAN t\\u1ef1 c\\u01b0\\u1eddng, bao tr\\u00f9m, kh\\u00f4ng \\u0111\\u1ec3 ai b\\u1ecb b\\u1ecf l\\u1ea1i ph\\u00eda sau. C\\u00e1c \\u0111\\u1ea1i bi\\u1ec3u ch\\u1ee5p \\u1ea3nh l\\u01b0u ni\\u1ec7m (\\u1ea2nh: Nguy\\u1ec5n S\\u01a1n). T\\u1ea1i di\\u1ec5n \\u0111\\u00e0n, c\\u00e1c \\u0111\\u1ea1i bi\\u1ec3u chia s\\u1ebb v\\u1ec1 th\\u1ef1c tr\\u1ea1ng ch\\u00ednh s\\u00e1ch, ph\\u00e1p lu\\u1eadt c\\u0169ng nh\\u01b0 nh\\u1eefng \\u0111i\\u1ec3n h\\u00ecnh t\\u1ed1t v\\u1ec1 an sinh x\\u00e3 h\\u1ed9i \\u0111\\u1ec3 \\u0111\\u00e1p \\u1ee9ng v\\u1edbi c\\u00e1c xu h\\u01b0\\u1edbng m\\u1edbi n\\u1ed5i trong ASEAN v\\u00e0 tr\\u00ean th\\u1ebf gi\\u1edbi, \\u0111\\u1ed3ng th\\u1eddi \\u0111\\u01b0a ra nh\\u1eefng khuy\\u1ebfn ngh\\u1ecb nh\\u1eb1m t\\u0103ng c\\u01b0\\u1eddng c\\u00e1c bi\\u1ec7n ph\\u00e1p ph\\u00e1t tri\\u1ec3n \\u0111\\u1ed9i ng\\u0169 nh\\u00e2n vi\\u00ean c\\u00f4ng t\\u00e1c x\\u00e3 h\\u1ed9i, \\u0111\\u1ea3m b\\u1ea3o h\\u1ec7 th\\u1ed1ng an sinh x\\u00e3 h\\u1ed9i ti\\u1ebfp c\\u1eadn, h\\u00f2a nh\\u1eadp, l\\u1ea5y ng\\u01b0\\u1eddi d\\u00e2n l\\u00e0m trung t\\u00e2m, \\u0111\\u1eb7c bi\\u1ec7t l\\u00e0 c\\u00e1c nh\\u00f3m y\\u1ebfu th\\u1ebf, d\\u1ec5 b\\u1ecb t\\u1ed5n th\\u01b0\\u01a1ng. Nh\\u1eefng khuy\\u1ebfn ngh\\u1ecb c\\u1ee7a di\\u1ec5n \\u0111\\u00e0n s\\u1ebd \\u0111\\u01b0\\u1ee3c tr\\u00ecnh l\\u00ean h\\u1ed9i ngh\\u1ecb quan ch\\u1ee9c c\\u1ea5p cao ASEAN v\\u1ec1 Ph\\u00fac l\\u1ee3i x\\u00e3 h\\u1ed9i v\\u00e0 Ph\\u00e1t tri\\u1ec3n (SOMSWD) l\\u1ea7n th\\u1ee9 19 di\\u1ec5n ra v\\u00e0o ng\\u00e0y 15-17/11 \\u0111\\u1ec3 ghi nh\\u1eadn v\\u00e0 l\\u1ed3ng gh\\u00e9p v\\u00e0o trong c\\u00e1c ho\\u1ea1t \\u0111\\u1ed9ng h\\u1ee3p t\\u00e1c c\\u1ee7a SOMSWD. \",\n          \"Mercedes-Benz \\u0111\\u00e3 b\\u1eaft \\u0111\\u1ea7u ch\\u00ednh th\\u1ee9c b\\u00e1n m\\u1eabu sedan ch\\u1ea1y \\u0111i\\u1ec7n EQS \\u1edf th\\u1ecb tr\\u01b0\\u1eddng Ch\\u00e2u \\u00c2u. C\\u1ee5 th\\u1ec3, t\\u1ea1i \\u0110\\u1ee9c, phi\\u00ean b\\u1ea3n EQS 450+ c\\u00f3 gi\\u00e1 t\\u1eeb 106.374 euro v\\u00e0 phi\\u00ean b\\u1ea3n cao c\\u1ea5p h\\u01a1n l\\u00e0 EQS 580 4Matic c\\u00f3 gi\\u00e1 t\\u1eeb 135.529 euro. Nh\\u01b0 v\\u1eady, Mercedes-Benz EQS 450+ c\\u00f3 gi\\u00e1 ngang v\\u1edbi m\\u1eabu Porsche Taycan 4S t\\u1ea1i \\u0110\\u1ee9c (t\\u1eeb 106.487 euro). Tuy nhi\\u00ean, hai m\\u1eabu xe n\\u00e0y n\\u1eb1m \\u1edf hai th\\u00e1i c\\u1ef1c \\u0111\\u1ed1i l\\u1eadp; m\\u1ed9t chi\\u1ebfc thu\\u1ed9c d\\u00f2ng xe GT t\\u00ednh n\\u0103ng v\\u1eadn h\\u00e0nh cao, t\\u1eadp trung v\\u00e0o tr\\u1ea3i nghi\\u1ec7m c\\u1ee7a ng\\u01b0\\u1eddi c\\u1ea7m l\\u00e1i, trong khi chi\\u1ebfc c\\u00f2n l\\u1ea1i v\\u1ec1 c\\u01a1 b\\u1ea3n ch\\u1ec9 l\\u00e0 phi\\u00ean b\\u1ea3n ch\\u1ea1y \\u0111i\\u1ec7n c\\u1ee7a d\\u00f2ng S-Class. V\\u1eabn bi\\u1ebft m\\u1ecdi s\\u1ef1 so s\\u00e1nh \\u0111\\u1ec1u l\\u00e0 kh\\u1eadp khi\\u1ec5ng, nh\\u01b0ng v\\u1edbi m\\u1ee9c gi\\u00e1 t\\u01b0\\u01a1ng \\u0111\\u01b0\\u01a1ng nhau, kh\\u00f3 tr\\u00e1nh vi\\u1ec7c hai d\\u00f2ng xe n\\u00e0y s\\u1ebd b\\u1ecb \\u0111\\u1eb7t l\\u00ean b\\u00e0n c\\u00e2n \\u0111\\u1ec3 so s\\u00e1nh. M\\u1eabu xe 4 ch\\u1ed7 t\\u00ednh n\\u0103ng v\\u1eadn h\\u00e0nh cao c\\u1ee7a Porsche c\\u00f3 chi\\u1ec1u 4.963 mm, s\\u1eed d\\u1ee5ng hai m\\u00f4-t\\u01a1 \\u0111i\\u1ec7n, cho t\\u1ed5ng c\\u00f4ng su\\u1ea5t 390 kW v\\u00e0 m\\u00f4-men xo\\u1eafn 640 Nm. Xe c\\u00f3 kh\\u1ea3 n\\u0103ng t\\u0103ng t\\u1ed1c 0-100 km/h ch\\u1ec9 trong 4 gi\\u00e2y, n\\u1ebfu k\\u00edch ho\\u1ea1t t\\u00ednh n\\u0103ng T\\u0103ng t\\u1ed1c nhanh. Trong khi \\u0111\\u00f3, Mercedes-Benz EQS 450+ ch\\u1ec9 \\u0111\\u01b0\\u1ee3c trang b\\u1ecb m\\u1ed9t m\\u00f4-t\\u01a1 \\u0111i\\u1ec7n ph\\u00eda sau, cho c\\u00f4ng su\\u1ea5t 245 kW v\\u00e0 m\\u00f4-men xo\\u1eafn 568 Nm. Chi\\u1ebfc sedan d\\u00e0i 5,2 m\\u00e9t n\\u00e0y c\\u1ea7n 6,2 gi\\u00e2y \\u0111\\u1ec3 t\\u0103ng t\\u1ed1c l\\u00ean 100 km/h, tr\\u01b0\\u1edbc khi \\u0111\\u1ea1t t\\u1ed1c \\u0111\\u1ed9 t\\u1ed1i \\u0111a 210 km/h (gi\\u1edbi h\\u1ea1n \\u0111i\\u1ec7n t\\u1eed). M\\u1eabu Mercedes-Benz EQS 450+ AMG. EQS 450+ v\\u1edbi t\\u00f9y ch\\u1ecdn pin cao c\\u1ea5p nh\\u1ea5t 107,8 kWh c\\u00f3 th\\u1ec3 di chuy\\u1ec3n t\\u1edbi 770km sau m\\u1ed9t l\\u1ea7n s\\u1ea1c \\u0111\\u1ea7y. Trong khi \\u0111\\u00f3, Taycan 4S v\\u1edbi g\\u00f3i pin hi\\u1ec7u su\\u1ea5t cao Performance Battery Plus 93,4 kWh c\\u00f3 th\\u1ec3 ch\\u1ea1y 464km sau m\\u1ed7i l\\u1ea7n s\\u1ea1c. N\\u1ebfu mu\\u1ed1n c\\u00f3 m\\u1ed9t chi\\u1ebfc EQS t\\u00ednh n\\u0103ng v\\u1eadn h\\u00e0nh cao h\\u01a1n, kh\\u00e1ch h\\u00e0ng ph\\u1ea3i chuy\\u1ec3n sang b\\u1ea3n EQS 580 4Matic v\\u1edbi trang b\\u1ecb 2 m\\u00f4-t\\u01a1 \\u0111i\\u1ec7n, s\\u1ea3n sinh c\\u00f4ng su\\u1ea5t 385 kW v\\u00e0 m\\u00f4-men xo\\u1eafn 855 Nm. H\\u1ec7 th\\u1ed1ng n\\u00e0y gi\\u00fap xe t\\u0103ng t\\u1ed1c 0-100 km/h ch\\u1ec9 trong 4,3 gi\\u00e2y. Trong t\\u01b0\\u01a1ng lai kh\\u00f4ng xa s\\u1ebd c\\u00f3 th\\u00eam phi\\u00ean b\\u1ea3n AMG v\\u1edbi c\\u00f4ng su\\u1ea5t h\\u1ee9a h\\u1eb9n l\\u00ean \\u0111\\u1ebfn 560 kW. Trang b\\u1ecb n\\u1ed9i th\\u1ea5t c\\u1ee7a EQS c\\u00f3 ph\\u1ea7n n\\u1ed5i tr\\u1ed9i h\\u01a1n Porsche Taycan, \\u0111\\u1eb7c bi\\u1ec7t l\\u00e0 v\\u1edbi t\\u00f9y ch\\u1ecdn m\\u00e0n h\\u00ecnh Hyperscreen 56 inch g\\u1ea7n nh\\u01b0 ph\\u1ee7 k\\u00edn chi\\u1ec1u d\\u00e0i t\\u00e1p-l\\u00f4. N\\u00f3 gh\\u00e9p chung 3 m\\u00e0n h\\u00ecnh v\\u00e0o m\\u1ed9t, g\\u1ed3m c\\u1ee5m \\u0111\\u1ed3ng h\\u1ed3 k\\u1ef9 thu\\u1eadt s\\u1ed1 ph\\u00eda tr\\u01b0\\u1edbc ng\\u01b0\\u1eddi l\\u00e1i, m\\u1ed9t m\\u00e0n h\\u00ecnh c\\u1ea3m \\u1ee9ng trung t\\u00e2m, v\\u00e0 m\\u1ed9t m\\u00e0n h\\u00ecnh d\\u00e0nh cho ng\\u01b0\\u1eddi ng\\u1ed3i b\\u00ean gh\\u1ebf ph\\u1ee5. Nh\\u01b0 v\\u1eady, m\\u1ed7i d\\u00f2ng xe \\u0111\\u1ec1u c\\u00f3 th\\u1ebf m\\u1ea1nh ri\\u00eang, kh\\u00f4ng xe n\\u00e0o chi\\u1ebfm \\u01b0u th\\u1ebf tuy\\u1ec7t \\u0111\\u1ed1i. N\\u1ebfu ti\\u1ec1n kh\\u00f4ng ph\\u1ea3i l\\u00e0 v\\u1ea5n \\u0111\\u1ec1, b\\u1ea1n s\\u1ebd ch\\u1ecdn cho m\\u00ecnh xe n\\u00e0o? H\\u00e3y \\u0111\\u1ec3 l\\u1ea1i \\u00fd ki\\u1ebfn trong ph\\u1ea7n B\\u00ecnh lu\\u1eadn b\\u00ean d\\u01b0\\u1edbi. Ph\\u1ea1m Trung \\u0110\\u1ee9c Theo Paultan, Carscoops \",\n          \"Steve Ballmer, c\\u1ef1u CEO c\\u1ee7a Microsoft v\\u00e0 \\u0111\\u1ee9ng th\\u1ee9 s\\u00e1u trong s\\u1ed1 nh\\u1eefng t\\u1ef7 ph\\u00fa gi\\u00e0u nh\\u1ea5t th\\u1ebf gi\\u1edbi (\\u1ea2nh: Reuters). Theo CNN, \\u00f4ng Steve Ballmer, ng\\u01b0\\u1eddi gi\\u00e0u th\\u1ee9 6 tr\\u00ean th\\u1ebf gi\\u1edbi, s\\u1ebd nh\\u1eadn \\u0111\\u01b0\\u1ee3c s\\u1ed1 c\\u1ed5 t\\u1ee9c tr\\u1ecb gi\\u00e1 1 tri\\u1ec7u USD t\\u1eeb Microsoft v\\u00e0o n\\u0103m 2024. \\u0110i\\u1ec1u n\\u00e0y x\\u1ea3y ra sau khi g\\u00e3 kh\\u1ed5ng l\\u1ed3 c\\u00f4ng ngh\\u1ec7 t\\u0103ng m\\u1ee9c chi tr\\u1ea3 c\\u1ed5 t\\u1ee9c h\\u00e0ng qu\\u00fd l\\u00ean 75 cent m\\u1ed9t c\\u1ed5 phi\\u1ebfu, t\\u01b0\\u01a1ng \\u0111\\u01b0\\u01a1ng 3 USD m\\u1ed7i c\\u1ed5 phi\\u1ebfu h\\u00e0ng n\\u0103m. Ballmer - c\\u1ef1u Gi\\u00e1m \\u0111\\u1ed1c \\u0111i\\u1ec1u h\\u00e0nh c\\u1ee7a Microsoft - s\\u1edf h\\u1eefu 333,2 tri\\u1ec7u c\\u1ed5 phi\\u1ebfu c\\u1ee7a c\\u00f4ng ty t\\u00ednh \\u0111\\u1ebfn n\\u0103m 2014 (l\\u1ea7n cu\\u1ed1i c\\u00f9ng \\u00f4ng ti\\u1ebft l\\u1ed9 quy\\u1ec1n s\\u1edf h\\u1eefu v\\u00e0 d\\u01b0\\u1eddng nh\\u01b0 \\u0111\\u00e3 \\u0111i\\u1ec1u ch\\u1ec9nh c\\u1ed5 phi\\u1ebfu Microsoft c\\u1ee7a m\\u00ecnh), t\\u01b0\\u01a1ng \\u0111\\u01b0\\u01a1ng v\\u1edbi 4% c\\u1ed5 ph\\u1ea7n. Theo \\u0111\\u00f3, \\u00f4ng s\\u1ebd nh\\u1eadn kho\\u1ea3ng 1 t\\u1ef7 USD c\\u1ed5 t\\u1ee9c trong n\\u0103m t\\u00e0i ch\\u00ednh 2024. \\u0110i\\u1ec1u \\u0111\\u01a1n gi\\u1ea3n l\\u00e0 \\u00f4ng ch\\u1ec9 vi\\u1ec7c s\\u1edf h\\u1eefu c\\u1ed5 phi\\u1ebfu, b\\u1ea5t k\\u1ec3 ch\\u00fang ho\\u1ea1t \\u0111\\u1ed9ng th\\u1ebf n\\u00e0o. T\\u1ef7 ph\\u00fa Ballmer ch\\u01b0a b\\u00ecnh lu\\u1eadn v\\u1ec1 th\\u00f4ng tin tr\\u00ean. T\\u1ea5t nhi\\u00ean \\u0111\\u00f3 l\\u00e0 gi\\u1ea3 \\u0111\\u1ecbnh ban gi\\u00e1m \\u0111\\u1ed1c c\\u1ee7a Microsoft kh\\u00f4ng quy\\u1ebft \\u0111\\u1ecbnh c\\u1eaft gi\\u1ea3m c\\u1ed5 t\\u1ee9c. Nh\\u01b0ng \\u0111i\\u1ec1u \\u0111\\u00f3 d\\u01b0\\u1eddng nh\\u01b0 kh\\u00f4ng c\\u00f3 kh\\u1ea3 n\\u0103ng x\\u1ea3y ra. K\\u1ec3 t\\u1eeb khi c\\u00f4ng ty b\\u1eaft \\u0111\\u1ea7u tr\\u1ea3 c\\u1ed5 t\\u1ee9c cho c\\u1ed5 \\u0111\\u00f4ng v\\u00e0o n\\u0103m 2003, s\\u1ed1 ti\\u1ec1n n\\u00e0y ng\\u00e0y c\\u00e0ng t\\u0103ng l\\u00ean. Ballmer s\\u1ebd kh\\u00f4ng ph\\u1ea3i l\\u00e0 ng\\u01b0\\u1eddi duy nh\\u1ea5t ki\\u1ebfm \\u0111\\u01b0\\u1ee3c b\\u1ed9n ti\\u1ec1n. N\\u01b0\\u1edbc M\\u1ef9 c\\u0169ng s\\u1ebd \\u0111\\u01b0\\u1ee3c h\\u01b0\\u1edfng m\\u1ed9t kho\\u1ea3n thu ng\\u00e2n s\\u00e1ch l\\u1edbn. Theo ProPublica, \\u00f4ng Ballmer \\u0111\\u00e3 b\\u00e1o c\\u00e1o thu nh\\u1eadp 656 tri\\u1ec7u USD cho S\\u1edf Thu\\u1ebf v\\u1ee5 v\\u00e0o n\\u0103m 2018. \\u00d4ng ph\\u1ea3i ch\\u1ecbu thu\\u1ebf 20% \\u0111\\u1ed1i v\\u1edbi c\\u1ed5 t\\u1ee9c \\u00e1p cho nh\\u1eefng c\\u00e1 nh\\u00e2n c\\u00f3 thu nh\\u1eadp ch\\u1ecbu thu\\u1ebf t\\u1eeb 500.000 USD m\\u1ed9t n\\u0103m tr\\u1edf l\\u00ean. \\u0110i\\u1ec1u \\u0111\\u00f3 c\\u00f3 ngh\\u0129a l\\u00e0 \\u00f4ng s\\u1ebd ph\\u1ea3i tr\\u1ea3 g\\u1ea7n 200 tri\\u1ec7u USD ti\\u1ec1n thu\\u1ebf cho c\\u1ed5 t\\u1ee9c Microsoft m\\u00e0 \\u00f4ng thu \\u0111\\u01b0\\u1ee3c. Ballmer kh\\u00f4ng ph\\u1ea3i l\\u00e0 ng\\u01b0\\u1eddi duy nh\\u1ea5t ki\\u1ebfm \\u0111\\u01b0\\u1ee3c nhi\\u1ec1u ti\\u1ec1n t\\u1eeb vi\\u1ec7c s\\u1edf h\\u1eefu c\\u1ed5 phi\\u1ebfu tr\\u1ea3 c\\u1ed5 t\\u1ee9c. Theo ph\\u00e2n t\\u00edch c\\u1ee7a Wall Street Journal, c\\u00f4ng ty Berkshire Hathaway c\\u1ee7a t\\u1ef7 ph\\u00fa Warren Buffet d\\u1ef1 ki\\u1ebfn s\\u1ebd thu \\u0111\\u01b0\\u1ee3c 6 t\\u1ef7 USD c\\u1ed5 t\\u1ee9c trong n\\u0103m nay nh\\u1edd n\\u1eafm gi\\u1eef c\\u1ed5 phi\\u1ebfu c\\u1ee7a c\\u00e1c t\\u1eadp \\u0111o\\u00e0n Chevron, Bank of America, Apple, Coca-Cola, Kraft Heinz v\\u00e0 American Express. \"\n        ],\n        \"semantic_type\": \"\",\n        \"description\": \"\"\n      }\n    },\n    {\n      \"column\": \"category\",\n      \"properties\": {\n        \"dtype\": \"category\",\n        \"num_unique_values\": 14,\n        \"samples\": [\n          \"S\\u1ee9c kh\\u1ecfe\",\n          \"Gi\\u00e1o d\\u1ee5c\",\n          \"X\\u00e3 h\\u1ed9i\"\n        ],\n        \"semantic_type\": \"\",\n        \"description\": \"\"\n      }\n    },\n    {\n      \"column\": \"len\",\n      \"properties\": {\n        \"dtype\": \"number\",\n        \"std\": 2130,\n        \"min\": 9,\n        \"max\": 62134,\n        \"num_unique_values\": 5702,\n        \"samples\": [\n          4375,\n          4090,\n          458\n        ],\n        \"semantic_type\": \"\",\n        \"description\": \"\"\n      }\n    }\n  ]\n}"
            }
          },
          "metadata": {},
          "execution_count": 17
        }
      ],
      "source": [
        "data['len'] = data['content'].str.len()\n",
        "data.head()"
      ]
    },
    {
      "cell_type": "code",
      "execution_count": null,
      "metadata": {
        "id": "F5x1KW0MkfrN"
      },
      "outputs": [],
      "source": [
        "def truncate_data(df, category):\n",
        "  df_category = df.query(f\"`category` == '{category}'\")\n",
        "  describe = df_category['len'].describe()\n",
        "  at_75th = int(describe['75%'])\n",
        "  at_25th = int(describe['25%'])\n",
        "  return df_category[(df_category['len'] <= (at_75th-at_25th) * 3)]\n"
      ]
    },
    {
      "cell_type": "code",
      "execution_count": null,
      "metadata": {
        "id": "XHpZXKxwlIeg"
      },
      "outputs": [],
      "source": [
        "data_dict = {}\n",
        "for category in categories:\n",
        "  data_dict[category] = truncate_data(data, category)"
      ]
    },
    {
      "cell_type": "code",
      "execution_count": null,
      "metadata": {
        "colab": {
          "base_uri": "https://localhost:8080/",
          "height": 423
        },
        "id": "KG21-AjTlVjD",
        "outputId": "16b96155-9e01-4ca7-cc80-94cd02df281e"
      },
      "outputs": [
        {
          "output_type": "execute_result",
          "data": {
            "text/plain": [
              "                                               content category   len\n",
              "0    Ông Nguyễn Văn Sơn, Phó Tổng cục trưởng Tổng c...   Xã hội  2825\n",
              "1    Sáng 12/2 (mùng 3 Tết Giáp Thìn), Thủ tướng Ph...   Xã hội  3688\n",
              "2    Sáng 12/2 (mùng 3 Tết Giáp Thìn), Thủ tướng Ph...   Xã hội  3759\n",
              "3    Thủ tướng Phạm Minh Chính tiếp Đại sứ Saudi Ar...   Xã hội  5821\n",
              "4    Tổng Thanh tra Chính phủ Đoàn Hồng Phong vừa c...   Xã hội  4660\n",
              "..                                                 ...      ...   ...\n",
              "967  Liên quan đến vụ, gia đình một chủ tịch phường...   Xã hội  2324\n",
              "968  Liên quan tới vụ ô tô nổi bồng bềnh giữa hồ Tâ...   Xã hội  1039\n",
              "969  Ngày 1/4, trên mạng xã hội xôn xao hình ảnh kè...   Xã hội  1059\n",
              "970  Tối 31/3, trao đổi với PV Dân trí, ông Phạm Đì...   Xã hội   789\n",
              "971  Chiều 31/3, trao đổi với PV Dân trí, lãnh đạo ...   Xã hội  1276\n",
              "\n",
              "[885 rows x 3 columns]"
            ],
            "text/html": [
              "\n",
              "  <div id=\"df-7430bc6f-f078-4584-9945-dcd60ea3d0da\" class=\"colab-df-container\">\n",
              "    <div>\n",
              "<style scoped>\n",
              "    .dataframe tbody tr th:only-of-type {\n",
              "        vertical-align: middle;\n",
              "    }\n",
              "\n",
              "    .dataframe tbody tr th {\n",
              "        vertical-align: top;\n",
              "    }\n",
              "\n",
              "    .dataframe thead th {\n",
              "        text-align: right;\n",
              "    }\n",
              "</style>\n",
              "<table border=\"1\" class=\"dataframe\">\n",
              "  <thead>\n",
              "    <tr style=\"text-align: right;\">\n",
              "      <th></th>\n",
              "      <th>content</th>\n",
              "      <th>category</th>\n",
              "      <th>len</th>\n",
              "    </tr>\n",
              "  </thead>\n",
              "  <tbody>\n",
              "    <tr>\n",
              "      <th>0</th>\n",
              "      <td>Ông Nguyễn Văn Sơn, Phó Tổng cục trưởng Tổng c...</td>\n",
              "      <td>Xã hội</td>\n",
              "      <td>2825</td>\n",
              "    </tr>\n",
              "    <tr>\n",
              "      <th>1</th>\n",
              "      <td>Sáng 12/2 (mùng 3 Tết Giáp Thìn), Thủ tướng Ph...</td>\n",
              "      <td>Xã hội</td>\n",
              "      <td>3688</td>\n",
              "    </tr>\n",
              "    <tr>\n",
              "      <th>2</th>\n",
              "      <td>Sáng 12/2 (mùng 3 Tết Giáp Thìn), Thủ tướng Ph...</td>\n",
              "      <td>Xã hội</td>\n",
              "      <td>3759</td>\n",
              "    </tr>\n",
              "    <tr>\n",
              "      <th>3</th>\n",
              "      <td>Thủ tướng Phạm Minh Chính tiếp Đại sứ Saudi Ar...</td>\n",
              "      <td>Xã hội</td>\n",
              "      <td>5821</td>\n",
              "    </tr>\n",
              "    <tr>\n",
              "      <th>4</th>\n",
              "      <td>Tổng Thanh tra Chính phủ Đoàn Hồng Phong vừa c...</td>\n",
              "      <td>Xã hội</td>\n",
              "      <td>4660</td>\n",
              "    </tr>\n",
              "    <tr>\n",
              "      <th>...</th>\n",
              "      <td>...</td>\n",
              "      <td>...</td>\n",
              "      <td>...</td>\n",
              "    </tr>\n",
              "    <tr>\n",
              "      <th>967</th>\n",
              "      <td>Liên quan đến vụ, gia đình một chủ tịch phường...</td>\n",
              "      <td>Xã hội</td>\n",
              "      <td>2324</td>\n",
              "    </tr>\n",
              "    <tr>\n",
              "      <th>968</th>\n",
              "      <td>Liên quan tới vụ ô tô nổi bồng bềnh giữa hồ Tâ...</td>\n",
              "      <td>Xã hội</td>\n",
              "      <td>1039</td>\n",
              "    </tr>\n",
              "    <tr>\n",
              "      <th>969</th>\n",
              "      <td>Ngày 1/4, trên mạng xã hội xôn xao hình ảnh kè...</td>\n",
              "      <td>Xã hội</td>\n",
              "      <td>1059</td>\n",
              "    </tr>\n",
              "    <tr>\n",
              "      <th>970</th>\n",
              "      <td>Tối 31/3, trao đổi với PV Dân trí, ông Phạm Đì...</td>\n",
              "      <td>Xã hội</td>\n",
              "      <td>789</td>\n",
              "    </tr>\n",
              "    <tr>\n",
              "      <th>971</th>\n",
              "      <td>Chiều 31/3, trao đổi với PV Dân trí, lãnh đạo ...</td>\n",
              "      <td>Xã hội</td>\n",
              "      <td>1276</td>\n",
              "    </tr>\n",
              "  </tbody>\n",
              "</table>\n",
              "<p>885 rows × 3 columns</p>\n",
              "</div>\n",
              "    <div class=\"colab-df-buttons\">\n",
              "\n",
              "  <div class=\"colab-df-container\">\n",
              "    <button class=\"colab-df-convert\" onclick=\"convertToInteractive('df-7430bc6f-f078-4584-9945-dcd60ea3d0da')\"\n",
              "            title=\"Convert this dataframe to an interactive table.\"\n",
              "            style=\"display:none;\">\n",
              "\n",
              "  <svg xmlns=\"http://www.w3.org/2000/svg\" height=\"24px\" viewBox=\"0 -960 960 960\">\n",
              "    <path d=\"M120-120v-720h720v720H120Zm60-500h600v-160H180v160Zm220 220h160v-160H400v160Zm0 220h160v-160H400v160ZM180-400h160v-160H180v160Zm440 0h160v-160H620v160ZM180-180h160v-160H180v160Zm440 0h160v-160H620v160Z\"/>\n",
              "  </svg>\n",
              "    </button>\n",
              "\n",
              "  <style>\n",
              "    .colab-df-container {\n",
              "      display:flex;\n",
              "      gap: 12px;\n",
              "    }\n",
              "\n",
              "    .colab-df-convert {\n",
              "      background-color: #E8F0FE;\n",
              "      border: none;\n",
              "      border-radius: 50%;\n",
              "      cursor: pointer;\n",
              "      display: none;\n",
              "      fill: #1967D2;\n",
              "      height: 32px;\n",
              "      padding: 0 0 0 0;\n",
              "      width: 32px;\n",
              "    }\n",
              "\n",
              "    .colab-df-convert:hover {\n",
              "      background-color: #E2EBFA;\n",
              "      box-shadow: 0px 1px 2px rgba(60, 64, 67, 0.3), 0px 1px 3px 1px rgba(60, 64, 67, 0.15);\n",
              "      fill: #174EA6;\n",
              "    }\n",
              "\n",
              "    .colab-df-buttons div {\n",
              "      margin-bottom: 4px;\n",
              "    }\n",
              "\n",
              "    [theme=dark] .colab-df-convert {\n",
              "      background-color: #3B4455;\n",
              "      fill: #D2E3FC;\n",
              "    }\n",
              "\n",
              "    [theme=dark] .colab-df-convert:hover {\n",
              "      background-color: #434B5C;\n",
              "      box-shadow: 0px 1px 3px 1px rgba(0, 0, 0, 0.15);\n",
              "      filter: drop-shadow(0px 1px 2px rgba(0, 0, 0, 0.3));\n",
              "      fill: #FFFFFF;\n",
              "    }\n",
              "  </style>\n",
              "\n",
              "    <script>\n",
              "      const buttonEl =\n",
              "        document.querySelector('#df-7430bc6f-f078-4584-9945-dcd60ea3d0da button.colab-df-convert');\n",
              "      buttonEl.style.display =\n",
              "        google.colab.kernel.accessAllowed ? 'block' : 'none';\n",
              "\n",
              "      async function convertToInteractive(key) {\n",
              "        const element = document.querySelector('#df-7430bc6f-f078-4584-9945-dcd60ea3d0da');\n",
              "        const dataTable =\n",
              "          await google.colab.kernel.invokeFunction('convertToInteractive',\n",
              "                                                    [key], {});\n",
              "        if (!dataTable) return;\n",
              "\n",
              "        const docLinkHtml = 'Like what you see? Visit the ' +\n",
              "          '<a target=\"_blank\" href=https://colab.research.google.com/notebooks/data_table.ipynb>data table notebook</a>'\n",
              "          + ' to learn more about interactive tables.';\n",
              "        element.innerHTML = '';\n",
              "        dataTable['output_type'] = 'display_data';\n",
              "        await google.colab.output.renderOutput(dataTable, element);\n",
              "        const docLink = document.createElement('div');\n",
              "        docLink.innerHTML = docLinkHtml;\n",
              "        element.appendChild(docLink);\n",
              "      }\n",
              "    </script>\n",
              "  </div>\n",
              "\n",
              "\n",
              "<div id=\"df-3776e800-cedb-4552-a99a-532691ce9fc6\">\n",
              "  <button class=\"colab-df-quickchart\" onclick=\"quickchart('df-3776e800-cedb-4552-a99a-532691ce9fc6')\"\n",
              "            title=\"Suggest charts\"\n",
              "            style=\"display:none;\">\n",
              "\n",
              "<svg xmlns=\"http://www.w3.org/2000/svg\" height=\"24px\"viewBox=\"0 0 24 24\"\n",
              "     width=\"24px\">\n",
              "    <g>\n",
              "        <path d=\"M19 3H5c-1.1 0-2 .9-2 2v14c0 1.1.9 2 2 2h14c1.1 0 2-.9 2-2V5c0-1.1-.9-2-2-2zM9 17H7v-7h2v7zm4 0h-2V7h2v10zm4 0h-2v-4h2v4z\"/>\n",
              "    </g>\n",
              "</svg>\n",
              "  </button>\n",
              "\n",
              "<style>\n",
              "  .colab-df-quickchart {\n",
              "      --bg-color: #E8F0FE;\n",
              "      --fill-color: #1967D2;\n",
              "      --hover-bg-color: #E2EBFA;\n",
              "      --hover-fill-color: #174EA6;\n",
              "      --disabled-fill-color: #AAA;\n",
              "      --disabled-bg-color: #DDD;\n",
              "  }\n",
              "\n",
              "  [theme=dark] .colab-df-quickchart {\n",
              "      --bg-color: #3B4455;\n",
              "      --fill-color: #D2E3FC;\n",
              "      --hover-bg-color: #434B5C;\n",
              "      --hover-fill-color: #FFFFFF;\n",
              "      --disabled-bg-color: #3B4455;\n",
              "      --disabled-fill-color: #666;\n",
              "  }\n",
              "\n",
              "  .colab-df-quickchart {\n",
              "    background-color: var(--bg-color);\n",
              "    border: none;\n",
              "    border-radius: 50%;\n",
              "    cursor: pointer;\n",
              "    display: none;\n",
              "    fill: var(--fill-color);\n",
              "    height: 32px;\n",
              "    padding: 0;\n",
              "    width: 32px;\n",
              "  }\n",
              "\n",
              "  .colab-df-quickchart:hover {\n",
              "    background-color: var(--hover-bg-color);\n",
              "    box-shadow: 0 1px 2px rgba(60, 64, 67, 0.3), 0 1px 3px 1px rgba(60, 64, 67, 0.15);\n",
              "    fill: var(--button-hover-fill-color);\n",
              "  }\n",
              "\n",
              "  .colab-df-quickchart-complete:disabled,\n",
              "  .colab-df-quickchart-complete:disabled:hover {\n",
              "    background-color: var(--disabled-bg-color);\n",
              "    fill: var(--disabled-fill-color);\n",
              "    box-shadow: none;\n",
              "  }\n",
              "\n",
              "  .colab-df-spinner {\n",
              "    border: 2px solid var(--fill-color);\n",
              "    border-color: transparent;\n",
              "    border-bottom-color: var(--fill-color);\n",
              "    animation:\n",
              "      spin 1s steps(1) infinite;\n",
              "  }\n",
              "\n",
              "  @keyframes spin {\n",
              "    0% {\n",
              "      border-color: transparent;\n",
              "      border-bottom-color: var(--fill-color);\n",
              "      border-left-color: var(--fill-color);\n",
              "    }\n",
              "    20% {\n",
              "      border-color: transparent;\n",
              "      border-left-color: var(--fill-color);\n",
              "      border-top-color: var(--fill-color);\n",
              "    }\n",
              "    30% {\n",
              "      border-color: transparent;\n",
              "      border-left-color: var(--fill-color);\n",
              "      border-top-color: var(--fill-color);\n",
              "      border-right-color: var(--fill-color);\n",
              "    }\n",
              "    40% {\n",
              "      border-color: transparent;\n",
              "      border-right-color: var(--fill-color);\n",
              "      border-top-color: var(--fill-color);\n",
              "    }\n",
              "    60% {\n",
              "      border-color: transparent;\n",
              "      border-right-color: var(--fill-color);\n",
              "    }\n",
              "    80% {\n",
              "      border-color: transparent;\n",
              "      border-right-color: var(--fill-color);\n",
              "      border-bottom-color: var(--fill-color);\n",
              "    }\n",
              "    90% {\n",
              "      border-color: transparent;\n",
              "      border-bottom-color: var(--fill-color);\n",
              "    }\n",
              "  }\n",
              "</style>\n",
              "\n",
              "  <script>\n",
              "    async function quickchart(key) {\n",
              "      const quickchartButtonEl =\n",
              "        document.querySelector('#' + key + ' button');\n",
              "      quickchartButtonEl.disabled = true;  // To prevent multiple clicks.\n",
              "      quickchartButtonEl.classList.add('colab-df-spinner');\n",
              "      try {\n",
              "        const charts = await google.colab.kernel.invokeFunction(\n",
              "            'suggestCharts', [key], {});\n",
              "      } catch (error) {\n",
              "        console.error('Error during call to suggestCharts:', error);\n",
              "      }\n",
              "      quickchartButtonEl.classList.remove('colab-df-spinner');\n",
              "      quickchartButtonEl.classList.add('colab-df-quickchart-complete');\n",
              "    }\n",
              "    (() => {\n",
              "      let quickchartButtonEl =\n",
              "        document.querySelector('#df-3776e800-cedb-4552-a99a-532691ce9fc6 button');\n",
              "      quickchartButtonEl.style.display =\n",
              "        google.colab.kernel.accessAllowed ? 'block' : 'none';\n",
              "    })();\n",
              "  </script>\n",
              "</div>\n",
              "\n",
              "    </div>\n",
              "  </div>\n"
            ],
            "application/vnd.google.colaboratory.intrinsic+json": {
              "type": "dataframe",
              "summary": "{\n  \"name\": \"data_dict['X\\u00e3 h\\u1ed9i']\",\n  \"rows\": 885,\n  \"fields\": [\n    {\n      \"column\": \"content\",\n      \"properties\": {\n        \"dtype\": \"string\",\n        \"num_unique_values\": 885,\n        \"samples\": [\n          \"T\\u1ed1i 1/2, t\\u1ea1i Cung v\\u0103n h\\u00f3a lao \\u0111\\u1ed9ng h\\u1eefu ngh\\u1ecb Vi\\u1ec7t X\\u00f4 (H\\u00e0 N\\u1ed9i), Ban T\\u1ed5 ch\\u1ee9c Trung \\u01b0\\u01a1ng ch\\u1ee7 tr\\u00ec, ph\\u1ed1i h\\u1ee3p v\\u1edbi B\\u00e1o Nh\\u00e2n d\\u00e2n, T\\u1ea1p ch\\u00ed C\\u1ed9ng s\\u1ea3n, \\u0110\\u00e0i Truy\\u1ec1n h\\u00ecnh Vi\\u1ec7t Nam, H\\u1ed9i Nh\\u00e0 b\\u00e1o Vi\\u1ec7t Nam t\\u1ed5 ch\\u1ee9c L\\u1ec5 c\\u00f4ng b\\u1ed1 v\\u00e0 trao Gi\\u1ea3i b\\u00e1o ch\\u00ed to\\u00e0n qu\\u1ed1c v\\u1ec1 x\\u00e2y d\\u1ef1ng \\u0110\\u1ea3ng (mang t\\u00ean B\\u00faa li\\u1ec1m v\\u00e0ng) l\\u1ea7n th\\u1ee9 VIII n\\u0103m 2023. Ph\\u00e1t bi\\u1ec3u t\\u1ea1i l\\u1ec5 trao gi\\u1ea3i, Th\\u1ee7 t\\u01b0\\u1edbng Ph\\u1ea1m Minh Ch\\u00ednh nh\\u1ea5n m\\u1ea1nh, th\\u1ef1c ti\\u1ec5n phong ph\\u00fa v\\u00e0 sinh \\u0111\\u1ed9ng c\\u1ee7a c\\u00f4ng cu\\u1ed9c x\\u00e2y d\\u1ef1ng v\\u00e0 b\\u1ea3o v\\u1ec7 T\\u1ed5 qu\\u1ed1c, c\\u00f4ng t\\u00e1c x\\u00e2y d\\u1ef1ng, ch\\u1ec9nh \\u0111\\u1ed1n \\u0110\\u1ea3ng, s\\u1ef1 \\u0111\\u1ed3ng l\\u00f2ng, ni\\u1ec1m tin c\\u1ee7a nh\\u00e2n d\\u00e2n l\\u00e0 ngu\\u1ed3n ch\\u1ea5t li\\u1ec7u qu\\u00fd gi\\u00e1 \\u0111\\u1ec3 s\\u00e1ng t\\u1ea1o n\\u00ean nh\\u1eefng t\\u00e1c ph\\u1ea9m b\\u00e1o ch\\u00ed c\\u00f3 ch\\u1ea5t l\\u01b0\\u1ee3ng cao. Qua 8 l\\u1ea7n t\\u1ed5 ch\\u1ee9c, gi\\u1ea3i b\\u00e1o ch\\u00ed to\\u00e0n qu\\u1ed1c v\\u1ec1 x\\u00e2y d\\u1ef1ng \\u0110\\u1ea3ng mang t\\u00ean B\\u00faa li\\u1ec1m v\\u00e0ng \\u0111\\u00e3 kh\\u1eb3ng \\u0111\\u1ecbnh gi\\u00e1 tr\\u1ecb, s\\u1ee9c h\\u1ea5p d\\u1eabn, s\\u1ef1 lan t\\u1ecfa \\u0111\\u1ed1i v\\u1edbi c\\u00f4ng t\\u00e1c x\\u00e2y d\\u1ef1ng \\u0110\\u1ea3ng, x\\u00e2y d\\u1ef1ng h\\u1ec7 th\\u1ed1ng ch\\u00ednh tr\\u1ecb, x\\u00e2y d\\u1ef1ng \\u0111\\u1ed9i ng\\u0169 c\\u00e1n b\\u1ed9; \\u0111\\u1ed3ng th\\u1eddi kh\\u1eb3ng \\u0111\\u1ecbnh \\u00fd th\\u1ee9c ch\\u00ednh tr\\u1ecb s\\u00e2u s\\u1eafc, \\u0111\\u1ea1o \\u0111\\u1ee9c ngh\\u1ec1 nghi\\u1ec7p v\\u00e0 t\\u1ea5m l\\u00f2ng son s\\u1eaft c\\u00e1ch m\\u1ea1ng c\\u1ee7a nh\\u1eefng ng\\u01b0\\u1eddi l\\u00e0m b\\u00e1o trong c\\u1ea3 n\\u01b0\\u1edbc, x\\u1ee9ng \\u0111\\u00e1ng nh\\u01b0 l\\u1eddi d\\u1ea1y c\\u1ee7a B\\u00e1c H\\u1ed3: \\\"C\\u00e1n b\\u1ed9 b\\u00e1o ch\\u00ed c\\u0169ng l\\u00e0 chi\\u1ebfn s\\u0129 c\\u00e1ch m\\u1ea1ng\\\". Th\\u1ee7 t\\u01b0\\u1edbng Ch\\u00ednh ph\\u1ee7 Ph\\u1ea1m Minh Ch\\u00ednh ph\\u00e1t bi\\u1ec3u t\\u1ea1i l\\u1ec5 trao gi\\u1ea3i (\\u1ea2nh: Nguy\\u1ec5n H\\u1ea3i). 72 t\\u00e1c ph\\u1ea9m xu\\u1ea5t s\\u1eafc \\u0111\\u01b0\\u1ee3c Ban t\\u1ed5 ch\\u1ee9c l\\u1ef1a ch\\u1ecdn trao gi\\u1ea3i h\\u00f4m nay l\\u00e0 \\u0111\\u1ea1i di\\u1ec7n \\u01b0u t\\u00fa cho h\\u01a1n 2.210 t\\u00e1c ph\\u1ea9m h\\u1ed9i t\\u1ee5, k\\u1ebft tinh t\\u00e2m huy\\u1ebft, tr\\u00ed tu\\u1ec7 v\\u00e0 th\\u1ec3 hi\\u1ec7n s\\u1ef1 t\\u00ecm t\\u00f2i, lao \\u0111\\u1ed9ng s\\u00e1ng t\\u1ea1o v\\u1edbi t\\u01b0 duy ch\\u00ednh tr\\u1ecb s\\u1eafc b\\u00e9n, l\\u01b0\\u01a1ng t\\u00e2m v\\u00e0 tr\\u00e1ch nhi\\u1ec7m x\\u00e3 h\\u1ed9i, t\\u00ecnh y\\u00eau qu\\u00ea h\\u01b0\\u01a1ng, \\u0111\\u1ea5t n\\u01b0\\u1edbc cao c\\u1ea3 c\\u1ee7a nh\\u1eefng ng\\u01b0\\u1eddi l\\u00e0m b\\u00e1o. Th\\u1ee7 t\\u01b0\\u1edbng \\u0111\\u00e1nh gi\\u00e1, \\u0111\\u1ea5t n\\u01b0\\u1edbc ta b\\u01b0\\u1edbc v\\u00e0o n\\u0103m 2024, l\\u00e0 m\\u1ed9t trong nh\\u1eefng n\\u0103m c\\u00f3 t\\u00ednh ch\\u1ea5t quy\\u1ebft \\u0111\\u1ecbnh trong vi\\u1ec7c th\\u1ef1c hi\\u1ec7n th\\u1eafng l\\u1ee3i Ngh\\u1ecb quy\\u1ebft \\u0110\\u1ea1i h\\u1ed9i \\u0110\\u1ea3ng l\\u1ea7n th\\u1ee9 XIII, v\\u1edbi nh\\u1eefng th\\u1eddi c\\u01a1 m\\u1edbi, v\\u1eadn h\\u1ed9i m\\u1edbi, song c\\u0169ng \\u0111\\u1ee9ng tr\\u01b0\\u1edbc nhi\\u1ec1u kh\\u00f3 kh\\u0103n, th\\u00e1ch th\\u1ee9c. Trong b\\u1ed1i c\\u1ea3nh nh\\u01b0 v\\u1eady, l\\u1ecbch s\\u1eed 94 n\\u0103m \\u0111\\u1ea7y t\\u1ef1 h\\u00e0o c\\u1ee7a \\u0110\\u1ea3ng ta ch\\u1ec9 r\\u00f5, ph\\u1ea3i \\u0111\\u1eb7c bi\\u1ec7t coi tr\\u1ecdng v\\u00e0 \\u0111\\u1ea9y m\\u1ea1nh h\\u01a1n n\\u1eefa c\\u00f4ng t\\u00e1c x\\u00e2y d\\u1ef1ng, ch\\u1ec9nh \\u0111\\u1ed1n \\u0110\\u1ea3ng to\\u00e0n di\\u1ec7n v\\u1ec1 ch\\u00ednh tr\\u1ecb, t\\u01b0 t\\u01b0\\u1edfng, \\u0111\\u1ea1o \\u0111\\u1ee9c, t\\u1ed5 ch\\u1ee9c v\\u00e0 c\\u00e1n b\\u1ed9. \\u0110\\u1eb7c bi\\u1ec7t l\\u00e0 qu\\u00e1n tri\\u1ec7t, l\\u00e0m s\\u00e2u s\\u1eafc th\\u00eam v\\u00e0 th\\u1ef1c hi\\u1ec7n nghi\\u00eam t\\u00fac c\\u00e1c \\u00fd ki\\u1ebfn ch\\u1ec9 \\u0111\\u1ea1o quan tr\\u1ecdng c\\u1ee7a T\\u1ed5ng B\\u00ed th\\u01b0 Nguy\\u1ec5n Ph\\u00fa Tr\\u1ecdng trong b\\u00e0i vi\\u1ebft \\\"T\\u1ef1 h\\u00e0o v\\u00e0 tin t\\u01b0\\u1edfng d\\u01b0\\u1edbi l\\u00e1 c\\u1edd v\\u1ebb vang c\\u1ee7a \\u0110\\u1ea3ng, quy\\u1ebft t\\u00e2m x\\u00e2y d\\u1ef1ng m\\u1ed9t n\\u01b0\\u1edbc Vi\\u1ec7t Nam ng\\u00e0y c\\u00e0ng gi\\u00e0u m\\u1ea1nh, v\\u0103n minh, v\\u0103n hi\\u1ebfn v\\u00e0 anh h\\u00f9ng\\\" nh\\u00e2n k\\u1ef7 ni\\u1ec7m 94 n\\u0103m Ng\\u00e0y th\\u00e0nh l\\u1eadp \\u0110\\u1ea3ng C\\u1ed9ng s\\u1ea3n Vi\\u1ec7t Nam. \\u0110\\u00e2y kh\\u00f4ng ch\\u1ec9 l\\u00e0 nhi\\u1ec7m v\\u1ee5 c\\u1ee7a c\\u1ea5p \\u1ee7y, t\\u1ed5 ch\\u1ee9c \\u0111\\u1ea3ng, m\\u00e0 c\\u1ea7n c\\u00f3 s\\u1ef1 v\\u00e0o cu\\u1ed9c t\\u00edch c\\u1ef1c, quy\\u1ebft li\\u1ec7t c\\u1ee7a c\\u1ea3 h\\u1ec7 th\\u1ed1ng ch\\u00ednh tr\\u1ecb, c\\u00e1c t\\u1ea7ng l\\u1edbp nh\\u00e2n d\\u00e2n v\\u00e0 c\\u00e1c c\\u01a1 quan b\\u00e1o ch\\u00ed... Th\\u1ee7 t\\u01b0\\u1edbng Ph\\u1ea1m Minh Ch\\u00ednh v\\u00e0 Th\\u01b0\\u1eddng tr\\u1ef1c Ban B\\u00ed th\\u01b0 Tr\\u01b0\\u01a1ng Th\\u1ecb Mai trao gi\\u1ea3i A cho c\\u00e1c t\\u00e1c gi\\u1ea3, \\u0111\\u1ea1i di\\u1ec7n nh\\u00f3m t\\u00e1c gi\\u1ea3 \\u0111o\\u1ea1t gi\\u1ea3i. (\\u1ea2nh: Nguy\\u1ec5n H\\u1ea3i) Nh\\u1ea5n m\\u1ea1nh ph\\u01b0\\u01a1ng ch\\u00e2m \\\"l\\u1ea5y c\\u00e1i \\u0111\\u1eb9p d\\u1eb9p c\\u00e1i x\\u1ea5u\\\", \\\"l\\u1ea5y t\\u00edch c\\u1ef1c \\u0111\\u1ea9y l\\u00f9i ti\\u00eau c\\u1ef1c\\\", Th\\u1ee7 t\\u01b0\\u1edbng \\u0111\\u1ec1 ngh\\u1ecb c\\u00e1c c\\u1ea5p \\u1ee7y, t\\u1ed5 ch\\u1ee9c \\u0111\\u1ea3ng t\\u1eadp trung l\\u00e3nh \\u0111\\u1ea1o, ch\\u1ec9 \\u0111\\u1ea1o, t\\u1ea1o \\u0111i\\u1ec1u ki\\u1ec7n cho c\\u00e1c c\\u01a1 quan b\\u00e1o ch\\u00ed, \\u0111\\u1ed9i ng\\u0169 ph\\u00f3ng vi\\u00ean t\\u1eadp trung tuy\\u00ean truy\\u1ec1n, ph\\u1ea3n \\u00e1nh nh\\u1eefng gi\\u00e1 tr\\u1ecb l\\u00fd lu\\u1eadn, quan \\u0111i\\u1ec3m \\u0111\\u1ed5i m\\u1edbi c\\u1ee7a \\u0110\\u1ea3ng v\\u00e0 quy\\u1ebft t\\u00e2m x\\u00e2y d\\u1ef1ng \\u0110\\u1ea3ng trong s\\u1ea1ch, v\\u1eefng m\\u1ea1nh. Th\\u1ee7 t\\u01b0\\u1edbng mong mu\\u1ed1n v\\u00e0 tin t\\u01b0\\u1edfng gi\\u1ea3i B\\u00faa li\\u1ec1m v\\u00e0ng ti\\u1ebfp t\\u1ee5c ph\\u00e1t huy nh\\u1eefng k\\u1ebft qu\\u1ea3 \\u0111\\u00e3 \\u0111\\u1ea1t \\u0111\\u01b0\\u1ee3c, ti\\u1ebfp t\\u1ee5c t\\u00ecm t\\u00f2i \\u0111\\u1ed5i m\\u1edbi, s\\u00e1ng t\\u1ea1o \\u0111\\u1ec3 ng\\u00e0y c\\u00e0ng lan t\\u1ecfa s\\u1ee9c s\\u1ed1ng m\\u1ea1nh m\\u1ebd c\\u1ee7a gi\\u1ea3i, g\\u00f3p ph\\u1ea7n nhi\\u1ec1u h\\u01a1n cho nhi\\u1ec7m v\\u1ee5 x\\u00e2y d\\u1ef1ng, ch\\u1ec9nh \\u0111\\u1ed1n \\u0110\\u1ea3ng... Gi\\u1ea3i B\\u00faa li\\u1ec1m v\\u00e0ng l\\u1ea7n th\\u1ee9 VIII n\\u0103m 2023 \\u0111\\u00e3 nh\\u1eadn \\u0111\\u01b0\\u1ee3c t\\u1ed5ng s\\u1ed1 c\\u00f3 2.216 t\\u00e1c ph\\u1ea9m, t\\u0103ng 184 t\\u00e1c ph\\u1ea9m so v\\u1edbi n\\u0103m 2022 (8,6%). Trong \\u0111\\u00f3, c\\u00f3 755 t\\u00e1c ph\\u1ea9m b\\u00e1o in, 549 t\\u00e1c ph\\u1ea9m b\\u00e1o \\u0111i\\u1ec7n t\\u1eed, 530 t\\u00e1c ph\\u1ea9m truy\\u1ec1n h\\u00ecnh, 280 t\\u00e1c ph\\u1ea9m ph\\u00e1t thanh v\\u00e0 102 t\\u00e1c ph\\u1ea9m \\u1ea3nh b\\u00e1o ch\\u00ed. T\\u1eeb 120 t\\u00e1c ph\\u1ea9m \\u0111\\u01b0\\u1ee3c h\\u1ed9i \\u0111\\u1ed3ng s\\u01a1 kh\\u1ea3o x\\u00e9t ch\\u1ecdn gi\\u1edbi thi\\u1ec7u ch\\u1ea5m chung kh\\u1ea3o, H\\u1ed9i \\u0111\\u1ed3ng chung kh\\u1ea3o \\u0111\\u00e3 xem x\\u00e9t, l\\u1ef1a ch\\u1ecdn ra c\\u00e1c t\\u00e1c ph\\u1ea9m xu\\u1ea5t s\\u1eafc nh\\u1ea5t \\u0111\\u1ec3 tr\\u00ecnh Ban Ch\\u1ec9 \\u0111\\u1ea1o gi\\u1ea3i B\\u00faa li\\u1ec1m v\\u00e0ng quy\\u1ebft \\u0111\\u1ecbnh trao gi\\u1ea3i, trong \\u0111\\u00f3 c\\u00f3 6 gi\\u1ea3i A, 12 gi\\u1ea3i B, 18 gi\\u1ea3i C v\\u00e0 30 gi\\u1ea3i Khuy\\u1ebfn kh\\u00edch. 6 t\\u00e1c ph\\u1ea9m \\u0111o\\u1ea1t gi\\u1ea3i A gi\\u1ea3i B\\u00faa li\\u1ec1m v\\u00e0ng l\\u1ea7n th\\u1ee9 VIII n\\u0103m 2023 1. T\\u00e1c ph\\u1ea9m: V\\u00ec sao ngh\\u1ecb quy\\u1ebft th\\u00ec hay, th\\u1ef1c hi\\u1ec7n l\\u1ea1i \\\"gay tr\\u0103m b\\u1ec1\\\"? c\\u1ee7a nh\\u00f3m t\\u00e1c gi\\u1ea3: L\\u00ea Ng\\u1ecdc Long - Nguy\\u1ec5n V\\u0103n H\\u1ea3i - Tr\\u1ea7n Ho\\u00e0ng Ti\\u1ebfn - Nguy\\u1ec5n T\\u1ea5n Tu\\u00e2n - Phan T\\u00f9ng S\\u01a1n, b\\u00e1o Qu\\u00e2n \\u0111\\u1ed9i nh\\u00e2n d\\u00e2n. 2. T\\u00e1c ph\\u1ea9m: Hai ti\\u1ebfng Vi\\u1ec7t Nam lu\\u00f4n thi\\u00eang li\\u00eang v\\u00e0 th\\u00f4i th\\u00fac c\\u1ee7a nh\\u00f3m t\\u00e1c gi\\u1ea3: V\\u0169 Minh Kh\\u01b0\\u01a1ng - \\u0110\\u1ed7 Anh, t\\u1ea1p ch\\u00ed X\\u00e2y d\\u1ef1ng \\u0110\\u1ea3ng. 3. T\\u00e1c ph\\u1ea9m: Ki\\u1ec3m so\\u00e1t quy\\u1ec1n l\\u1ef1c trong c\\u00e1c c\\u01a1 quan ph\\u00f2ng, ch\\u1ed1ng tham nh\\u0169ng, ti\\u00eau c\\u1ef1c c\\u1ee7a t\\u00e1c gi\\u1ea3: L\\u01b0\\u01a1ng Th\\u1ecb V\\u00e2n Anh (b\\u00fat danh: V\\u00e2n Anh, V\\u00e2n Thanh), b\\u00e1o Ph\\u00e1p lu\\u1eadt Vi\\u1ec7t Nam. 4. T\\u00e1c ph\\u1ea9m: Ch\\u1ea5n ch\\u1ec9nh t\\u00ecnh tr\\u1ea1ng \\u0111\\u00f9n \\u0111\\u1ea9y, s\\u1ee3 sai: Ai kh\\u00f4ng l\\u00e0m h\\u00e3y \\u0111\\u1ee9ng sang m\\u1ed9t b\\u00ean! c\\u1ee7a t\\u00e1c gi\\u1ea3: Phan Thanh H\\u00e0, \\u0111\\u00e0i Ti\\u1ebfng n\\u00f3i Vi\\u1ec7t Nam. 5. T\\u00e1c ph\\u1ea9m: Ph\\u1ea3n b\\u00e1c c\\u00e1c lu\\u1eadn \\u0111i\\u1ec7u xuy\\u00ean t\\u1ea1c v\\u1ec1 ch\\u00ednh s\\u00e1ch d\\u00e2n t\\u1ed9c c\\u1ee7a nh\\u00f3m t\\u00e1c gi\\u1ea3: Nguy\\u1ec5n Ph\\u01b0\\u01a1ng Mai - \\u0110\\u1ed7 Quang Anh - Li\\u00ean Li\\u00ean - Tu\\u1ea5n Trung - M\\u1ea1nh T\\u00fa - Ng\\u1ecdc H\\u00e0 - Quang H\\u1ea1nh - Ho\\u00e0ng Tu\\u1ea5n - Minh \\u0110\\u1ee9c - L\\u00ea Tu\\u1ea5n - Thanh Xu\\u00e2n - Quang L\\u00e2m - \\u0110\\u1ee9c Thu\\u1eadn - T\\u1ea5t Khoa - H\\u1ed3ng Khang - Gia Ho\\u00e0ng - Duy Th\\u00e0nh - Lan Anh - Tr\\u1ea7n H\\u01b0\\u01a1ng - \\u0110\\u1ee9c Vinh, \\u0111\\u00e0i Truy\\u1ec1n h\\u00ecnh Vi\\u1ec7t Nam. 6. T\\u00e1c ph\\u1ea9m: Thi\\u1ebfu gi\\u00e1o vi\\u00ean kh\\u1eafp c\\u1ea3 n\\u01b0\\u1edbc, ng\\u00e0nh gi\\u00e1o d\\u1ee5c ch\\u1eadt v\\u1eadt \\u0111\\u1ed5i m\\u1edbi c\\u1ee7a nh\\u00f3m t\\u00e1c gi\\u1ea3: Ph\\u1ea1m Mai - V\\u00f5 Ho\\u00e0ng Long, b\\u00e1o \\u0111i\\u1ec7n t\\u1eed VietnamPlus, Th\\u00f4ng t\\u1ea5n x\\u00e3 Vi\\u1ec7t Nam. \",\n          \"B\\u1ed9 T\\u00e0i nguy\\u00ean v\\u00e0 M\\u00f4i tr\\u01b0\\u1eddng (B\\u1ed9 TN&MT) v\\u1eeba c\\u00f3 v\\u0103n b\\u1ea3n \\u0111\\u1ec1 ngh\\u1ecb c\\u00e1c b\\u1ed9,\\u00a0ng\\u00e0nh v\\u00e0 \\u0111\\u1ecba ph\\u01b0\\u01a1ng \\u0111\\u1ea9y m\\u1ea1nh th\\u1ef1c thi ph\\u00e1p lu\\u1eadt, tuy\\u00ean truy\\u1ec1n, ph\\u1ed5 bi\\u1ebfn c\\u00f4ng t\\u00e1c b\\u1ea3o t\\u1ed3n \\u0111a d\\u1ea1ng sinh h\\u1ecdc v\\u00e0 b\\u1ea3o v\\u1ec7 c\\u00e1c lo\\u00e0i hoang d\\u00e3 d\\u1ecbp T\\u1ebft Nguy\\u00ean \\u0111\\u00e1n 2024. C\\u01a1 quan n\\u00e0y \\u0111\\u1ec1 ngh\\u1ecb c\\u00e1n b\\u1ed9, c\\u00f4ng ch\\u1ee9c, ng\\u01b0\\u1eddi lao \\u0111\\u1ed9ng v\\u00e0 ng\\u01b0\\u1eddi d\\u00e2n kh\\u00f4ng tham gia s\\u0103n, b\\u1eaft, mua, b\\u00e1n, v\\u1eadn chuy\\u1ec3n, gi\\u1ebft m\\u1ed5, ti\\u00eau th\\u1ee5 \\u0111\\u1ed9ng v\\u1eadt hoang d\\u00e3, chim di c\\u01b0 tr\\u00e1i ph\\u00e1p lu\\u1eadt. \\\"Kh\\u00f4ng mua c\\u00e1c c\\u00e1 th\\u1ec3 chim \\u0111\\u1ec3 ph\\u00f3ng sinh v\\u00ec \\u0111\\u00e2y l\\u00e0 h\\u00e0nh vi ti\\u1ebfp tay cho c\\u00e1c ho\\u1ea1t \\u0111\\u1ed9ng s\\u0103n, b\\u1eaby chim hoang d\\u00e3 tr\\u00e1i ph\\u00e9p\\\", B\\u1ed9 T\\u00e0i nguy\\u00ean v\\u00e0 M\\u00f4i tr\\u01b0\\u1eddng khuy\\u1ebfn c\\u00e1o. Chim hoang d\\u00e3 \\u0111\\u01b0\\u1ee3c rao b\\u00e1n c\\u00f4ng khai \\u1edf H\\u00e0 N\\u1ed9i (\\u1ea2nh: To\\u00e0n V\\u0169). C\\u00e1c c\\u01a1 quan th\\u1ef1c thi ph\\u00e1p lu\\u1eadt (ki\\u1ec3m l\\u00e2m, ki\\u1ec3m ng\\u01b0, qu\\u1ea3n l\\u00fd th\\u1ecb tr\\u01b0\\u1eddng, h\\u1ea3i quan, bi\\u00ean ph\\u00f2ng, c\\u1ea3nh s\\u00e1t bi\\u1ec3n, c\\u00f4ng an) c\\u1ea7n t\\u0103ng c\\u01b0\\u1eddng ph\\u1ed1i h\\u1ee3p li\\u00ean ng\\u00e0nh. C\\u1ee5 th\\u1ec3 h\\u01a1n, B\\u1ed9 T\\u00e0i nguy\\u00ean v\\u00e0 M\\u00f4i tr\\u01b0\\u1eddng \\u0111\\u1ec1 ngh\\u1ecb thanh tra, ki\\u1ec3m tra th\\u01b0\\u1eddng xuy\\u00ean c\\u00e1c nh\\u00e0 h\\u00e0ng, c\\u01a1 s\\u1edf nu\\u00f4i, kinh doanh \\u0111\\u1ed9ng v\\u1eadt hoang d\\u00e3, ch\\u1ee3 chim hoang d\\u00e3, \\u0111\\u1ea7u n\\u1eadu v\\u1ec1 s\\u0103n b\\u1eaft, bu\\u00f4n b\\u00e1n, ti\\u00eau th\\u1ee5 c\\u00e1c lo\\u00e0i \\u0111\\u1ed9ng v\\u1eadt hoang d\\u00e3. C\\u00e1c ho\\u1ea1t \\u0111\\u1ed9ng nu\\u00f4i, tr\\u1ed3ng, bu\\u00f4n b\\u00e1n, ph\\u00f3ng sinh c\\u00e1c lo\\u00e0i ngo\\u1ea1i lai x\\u00e2m h\\u1ea1i ra m\\u00f4i tr\\u01b0\\u1eddng t\\u1ef1 nhi\\u00ean c\\u0169ng c\\u1ea7n ph\\u1ea3i \\u0111\\u01b0\\u1ee3c ki\\u1ec3m tra, ki\\u1ec3m so\\u00e1t v\\u00e0 x\\u1eed l\\u00fd nghi\\u00eam vi ph\\u1ea1m. Tr\\u01b0\\u1edbc \\u0111\\u00f3, b\\u00e1o\\u00a0D\\u00e2n tr\\u00ed \\u0111\\u0103ng t\\u1ea3i lo\\u1ea1t b\\u00e0i vi\\u1ebft v\\u1ec1 ch\\u1ee3 bu\\u00f4n b\\u00e1n chim tr\\u1eddi ho\\u1ea1t \\u0111\\u1ed9ng c\\u00f4ng khai nhi\\u1ec1u n\\u0103m nay \\u1edf \\u0111\\u01b0\\u1eddng tr\\u1ee5c ph\\u00eda Nam H\\u00e0 N\\u1ed9i - k\\u1ebft n\\u1ed1i khu v\\u1ef1c trung t\\u00e2m n\\u1ed9i th\\u00e0nh v\\u1edbi c\\u00e1c huy\\u1ec7n M\\u1ef9 \\u0110\\u1ee9c, \\u1ee8ng H\\u00f2a, Thanh Oai, Ph\\u00fa Xuy\\u00ean (H\\u00e0 N\\u1ed9i) v\\u00e0 t\\u1ec9nh H\\u00e0 Nam. T\\u1ea1i \\u0111\\u00e2y, nh\\u1eefng gian h\\u00e0ng b\\u00e1n c\\u00f4ng khai c\\u00e1c lo\\u1ea1i chim nh\\u01b0 v\\u1ea1c, giang, c\\u00f2 h\\u01b0\\u01a1ng, chim di\\u1ec7c... c\\u00f2n s\\u1ed1ng, b\\u1ecb tr\\u00f3i ch\\u00e2n hay bu\\u1ed9c c\\u00e1nh, kh\\u00e2u m\\u1eaft. Gi\\u00e1 c\\u00e1c lo\\u1ea1i chim tr\\u1eddi n\\u00e0y kh\\u00e1 cao, t\\u1eeb 500.000 \\u0111\\u1ebfn 750.000 \\u0111\\u1ed3ng/con. Di\\u1ec7c tr\\u1eafng \\u0111\\u01b0\\u1ee3c b\\u00e1n c\\u00f4ng khai t\\u1eeb 300.000-700.000 \\u0111\\u1ed3ng/con (\\u1ea2nh: Ng\\u01b0\\u1eddi b\\u00e1n cung c\\u1ea5p). \\u0110\\u00e1ng ng\\u1ea1i h\\u01a1n, xu\\u1ea5t hi\\u1ec7n nhi\\u1ec1u nh\\u00f3m Facebook ho\\u1ea1t \\u0111\\u1ed9ng c\\u00f4ng khai ho\\u1eb7c nh\\u00f3m k\\u00edn nh\\u01b0 \\\"Chim r\\u1eebng th\\u1ecbt\\\", \\\"Y\\u00eau \\u0111\\u1ed3 r\\u1eebng\\\" c\\u0169ng c\\u00f3 nhi\\u1ec1u t\\u00e0i kho\\u1ea3n rao b\\u00e1n c\\u00e1c lo\\u1ea1i chim hoang d\\u00e3 nh\\u01b0 giang, v\\u1ea1c, cu\\u1ed1c b\\u00e8o, tu h\\u00fa, r\\u1ebd giun, m\\u00f2ng k\\u00e9t, di\\u1ec7c, c\\u00f2 tr\\u1eafng, c\\u00f2 b\\u1ee3, g\\u00e0 n\\u01b0\\u1edbc, s\\u00e2m c\\u1ea7m\\u2026 Sau lo\\u1ea1t b\\u00e0i c\\u1ee7a b\\u00e1o\\u00a0D\\u00e2n tr\\u00ed, ch\\u00ednh quy\\u1ec1n c\\u00e1c \\u0111\\u1ecba ph\\u01b0\\u01a1ng \\u1edf H\\u00e0 N\\u1ed9i \\u0111\\u00e3 ra qu\\u00e2n x\\u1eed l\\u00fd t\\u00ecnh tr\\u1ea1ng mua b\\u00e1n tr\\u00e1i ph\\u00e9p. Tuy nhi\\u00ean, sau v\\u00e0i ng\\u00e0y im \\u1eafng, t\\u00ecnh tr\\u1ea1ng bu\\u00f4n b\\u00e1n c\\u00e1c lo\\u1ea1i chim tr\\u1eddi l\\u1ea1i t\\u00e1i di\\u1ec5n, c\\u00e1c ti\\u1ec3u th\\u01b0\\u01a1ng bu\\u00f4n b\\u00e1n k\\u00edn \\u0111\\u00e1o h\\u01a1n \\u0111\\u1ec3 n\\u00e9 tr\\u00e1nh s\\u1ef1 ki\\u1ec3m so\\u00e1t c\\u1ee7a c\\u01a1 quan ch\\u1ee9c n\\u0103ng. \",\n          \"Li\\u00ean t\\u1ee5c ph\\u00e1t hi\\u1ec7n ph\\u00e1o t\\u1ef1 ch\\u1ebf t\\u1ea1i gia M\\u1edbi \\u0111\\u00e2y, nh\\u1eadn tin b\\u00e1o t\\u1ea1i khu d\\u00e2n c\\u01b0 x\\u00e3 H\\u00f2a Ph\\u00fa (huy\\u1ec7n H\\u00f2a Vang, \\u0110\\u00e0 N\\u1eb5ng) c\\u00f3 ti\\u1ebfng ph\\u00e1o n\\u1ed5, c\\u00f4ng an \\u0111\\u00e3 ti\\u1ebfn h\\u00e0nh ki\\u1ec3m tra m\\u1ed9t nh\\u00f3m thanh thi\\u1ebfu ni\\u00ean (t\\u1eeb 12 \\u0111\\u1ebfn 16 tu\\u1ed5i, h\\u1ecdc sinh c\\u1ee7a m\\u1ed9t tr\\u01b0\\u1eddng THCS tr\\u00ean \\u0111\\u1ecba b\\u00e0n). C\\u00f4ng an qu\\u1eadn C\\u1ea9m L\\u1ec7 thu gi\\u1eef 40 qu\\u1ea3 ph\\u00e1o l\\u1edbn nh\\u1ecf v\\u00e0 thu\\u1ed1c n\\u1ed5 c\\u1ee7a m\\u1ed9t nh\\u00f3m thanh thi\\u1ebfu ni\\u00ean (\\u1ea2nh: C\\u00f4ng an \\u0110\\u00e0 N\\u1eb5ng). C\\u00f4ng an ph\\u00e1t hi\\u1ec7n trong c\\u1eb7p s\\u00e1ch c\\u1ee7a em H.T.D. c\\u00f3 6 qu\\u1ea3 ph\\u00e1o t\\u1ef1 ch\\u1ebf, em n\\u00e0y khai mua ph\\u00e1o c\\u1ee7a m\\u1ed9t em kh\\u00e1c t\\u00ean P.T.T.. C\\u00f4ng an ph\\u00e1t hi\\u1ec7n T. c\\u00f9ng 3 em kh\\u00e1c t\\u1ed5 ch\\u1ee9c ch\\u1ebf t\\u1ea1o ph\\u00e1o t\\u1ea1i nh\\u00e0 T.H.K. Ti\\u1ebfp t\\u1ee5c ki\\u1ec3m tra nh\\u00e0 K., c\\u00f4ng an ph\\u00e1t hi\\u1ec7n 11 qu\\u1ea3 ph\\u00e1o r\\u1eddi v\\u00e0 m\\u1ed9t d\\u00e2y ph\\u00e1o th\\u00e0nh ph\\u1ea9m (26 qu\\u1ea3) c\\u00f9ng m\\u1ed9t s\\u1ed1 h\\u1ee3p ch\\u1ea5t \\u0111\\u1ec3 ch\\u1ebf ph\\u00e1o. Em n\\u00e0y khai h\\u1ecdc ch\\u1ebf t\\u1ea1o ph\\u00e1o v\\u00e0 mua c\\u00e1c h\\u1ee3p ch\\u1ea5t tr\\u00ean m\\u1ea1ng Tiktok v\\u1edbi gi\\u00e1 100.000 \\u0111\\u1ed3ng. C\\u0169ng t\\u1ea1i huy\\u1ec7n H\\u00f2a Vang, v\\u00e0o ng\\u00e0y 2/1, C\\u00f4ng an x\\u00e3 H\\u00f2a S\\u01a1n ki\\u1ec3m tra h\\u00e0nh ch\\u00ednh h\\u1ed9 \\u00f4ng T.V.T., ph\\u00e1t hi\\u1ec7n con \\u00f4ng n\\u00e0y \\u0111ang t\\u00e0ng tr\\u1eef 7 qu\\u1ea3 ph\\u00e1o t\\u1ef1 ch\\u1ebf, 5 l\\u1ecd h\\u1ee3p ch\\u1ea5t d\\u00f9ng \\u0111\\u1ec3 ch\\u1ebf t\\u1ea1o ph\\u00e1o n\\u1ed5 v\\u00e0 1 \\u0111o\\u1ea1n d\\u00e2y d\\u1eabn d\\u00e0i 50cm. Nh\\u00f3m thi\\u1ebfu ni\\u00ean ch\\u1ebf t\\u1ea1o ph\\u00e1o t\\u1ea1i nh\\u00e0 t\\u1ea1i huy\\u1ec7n H\\u00f2a Vang (\\u1ea2nh: C\\u00f4ng an \\u0110\\u00e0 N\\u1eb5ng). Con trai \\u00f4ng T. khai h\\u1ecdc c\\u00e1ch ch\\u1ebf t\\u1ea1o ph\\u00e1o tr\\u00ean m\\u1ea1ng v\\u00e0 \\u0111\\u1eb7t mua h\\u1ee3p ch\\u1ea5t v\\u1ec1 t\\u1ef1 ch\\u1ebf t\\u1ea1o ph\\u00e1o v\\u00e0 \\u0111\\u1ed1t (\\u0111\\u00e3 \\u0111\\u1ed1t h\\u01a1n 10 qu\\u1ea3 \\u1edf khu v\\u1ef1c n\\u00fai \\u0110\\u1ea1i La). Tr\\u01b0\\u1edbc \\u0111\\u00f3, C\\u00f4ng an ph\\u01b0\\u1eddng H\\u00f2a Ph\\u00e1t (qu\\u1eadn C\\u1ea9m L\\u1ec7) c\\u0169ng ph\\u00e1t hi\\u1ec7n, b\\u1eaft qu\\u1ea3 tang 4 thanh thi\\u1ebfu ni\\u00ean \\u0111ang c\\u00f3 h\\u00e0nh vi ch\\u1ebf t\\u1ea1o, s\\u1eed d\\u1ee5ng ph\\u00e1o n\\u1ed5 t\\u1ef1 ch\\u1ebf v\\u1edbi h\\u01a1n 40 qu\\u1ea3 ph\\u00e1o l\\u1edbn nh\\u1ecf. C\\u00f3 4 thanh thi\\u1ebfu ni\\u00ean 14-15 tu\\u1ed5i th\\u1eeba nh\\u1eadn vi\\u1ec7c \\u0111i mua c\\u00e1c lo\\u1ea1i h\\u1ee3p ch\\u1ea5t \\u0111\\u1ec3 v\\u1ec1 nh\\u00e0 t\\u1ef1 ch\\u1ebf ph\\u00e1o n\\u1ed5. C\\u00f4ng an thu gi\\u1eef 40 qu\\u1ea3 ph\\u00e1o l\\u1edbn nh\\u1ecf v\\u00e0 thu\\u1ed1c n\\u1ed5 \\u0111\\u1ec3 l\\u1eadp h\\u1ed3 s\\u01a1 x\\u1eed l\\u00fd. \\\"L\\u00f2\\\" h\\u01b0\\u1edbng d\\u1eabn ch\\u1ebf ph\\u00e1o tr\\u00ean m\\u1ea1ng D\\u1ea1o m\\u1ed9t v\\u00f2ng tr\\u00ean k\\u00eanh YouTube, TikTok, Facebook, ch\\u1ec9 c\\u1ea7n g\\u00f5 t\\u1eeb kh\\u00f3a \\\"c\\u00e1ch l\\u00e0m ph\\u00e1o T\\u1ebft t\\u1ef1 ch\\u1ebf\\\", ngay l\\u1eadp t\\u1ee9c xu\\u1ea5t hi\\u1ec7n h\\u00e0ng lo\\u1ea1t c\\u00e1c clip d\\u1ea1y c\\u00e1ch l\\u00e0m ph\\u00e1o t\\u1eeb ph\\u00e1o hoa kh\\u00f4ng n\\u1ed5, ph\\u00e1o hoa n\\u1ed5 t\\u1edbi ph\\u00e1o di\\u00eam t\\u1ef1 ch\\u1ebf, ph\\u00e1o c\\u1ed1i \\\"\\u0111\\u01a1n gi\\u1ea3n ai c\\u0169ng l\\u00e0m \\u0111\\u01b0\\u1ee3c\\\". C\\u00e1c clip chia s\\u1ebb c\\u00e1ch th\\u1ee9c l\\u00e0m thu\\u1ed1c n\\u1ed5 ph\\u00e1o \\u0111\\u1ebfn c\\u00e1ch l\\u00e0m ph\\u00e1o thu h\\u00fat h\\u00e0ng tr\\u0103m ngh\\u00ecn l\\u01b0\\u1ee3t xem. \\u0110\\u00e1ng n\\u00f3i l\\u00e0, h\\u1ea7u h\\u1ebft c\\u00e1c clip n\\u00e0y \\u0111\\u1ec1u kh\\u00f4ng g\\u1eafn nh\\u00e3n gi\\u1edbi h\\u1ea1n \\u0111\\u1ed9 tu\\u1ed5i. Tr\\u00ean Facebook, m\\u1ed9t nh\\u00f3m \\\"\\u0110am m\\u00ea ch\\u1ebf ph\\u00e1o\\\" v\\u1edbi h\\u01a1n 50.000 th\\u00e0nh vi\\u00ean, th\\u01b0\\u1eddng xuy\\u00ean \\u0111\\u0103ng c\\u00e1c b\\u00e0i vi\\u1ebft chia s\\u1ebb \\\"th\\u00fa vui\\\" l\\u00e0m ph\\u00e1o, qu\\u1ea3ng c\\u00e1o hay ch\\u1ec9 nhau n\\u01a1i b\\u00e1n nguy\\u00ean li\\u1ec7u l\\u00e0m ph\\u00e1o n\\u1ed5. Nh\\u00f3m \\\"AE ph\\u00e1o th\\u1ee7\\\" v\\u1edbi 2.100 th\\u00e0nh vi\\u00ean \\u0111\\u0103ng c\\u00e1c b\\u00e0i vi\\u1ebft qu\\u1ea3ng c\\u00e1o b\\u00e1n ph\\u00e1o n\\u1ed5 v\\u00e0 h\\u01b0\\u1edbng d\\u1eabn c\\u00e1ch l\\u00e0m ph\\u00e1o, \\u0111\\u0103ng b\\u00e0i t\\u00ecm nguy\\u00ean li\\u1ec7u l\\u00e0m ph\\u00e1o. Tr\\u00ean TikTok g\\u00f5 t\\u1eeb kh\\u00f3a \\\"h\\u01b0\\u1edbng d\\u1eabn ch\\u1ebf t\\u1ea1o ph\\u00e1o n\\u1ed5\\\", b\\u00ean c\\u1ea1nh nhi\\u1ec1u video c\\u1ea3nh b\\u00e1o v\\u1ec1 t\\u00e1c h\\u1ea1i t\\u1eeb c\\u01a1 quan ch\\u1ee9c n\\u0103ng c\\u00f3 kh\\u00f4ng \\u00edt video chia s\\u1ebb c\\u00f4ng th\\u1ee9c ch\\u1ebf ph\\u00e1o t\\u1eeb l\\u01b0u hu\\u1ef3nh, nh\\u0169 nh\\u00f4m, than\\u2026 C\\u00f3 th\\u1ec3 b\\u1ecb x\\u1eed l\\u00fd nh\\u01b0 th\\u1ebf n\\u00e0o?  Lu\\u1eadt s\\u01b0 Ph\\u1ea1m Th\\u1ea3o, C\\u00f4ng ty Lu\\u1eadt H\\u1ee3p danh FDVN cho r\\u1eb1ng, \\u0111\\u1ed1i v\\u1edbi h\\u00e0nh vi t\\u1ef1 \\u00fd mua c\\u00e1c lo\\u1ea1i ch\\u1ea5t g\\u00e2y n\\u1ed5, h\\u1ecdc theo c\\u00e1c video h\\u01b0\\u1edbng d\\u1eabn ch\\u1ebf t\\u1ea1o ph\\u00e1o c\\u1ee7a c\\u00e1c em h\\u1ecdc sinh l\\u00e0 h\\u00e0nh vi b\\u1ecb nghi\\u00eam c\\u1ea5m, tr\\u00e1i quy \\u0111\\u1ecbnh ph\\u00e1p lu\\u1eadt. H\\u00e0nh vi ch\\u1ebf t\\u1ea1o ph\\u00e1o n\\u1ed5 tr\\u00e1i ph\\u00e9p ho\\u1eb7c t\\u00e0ng tr\\u1eef tr\\u00e1i ph\\u00e9p ph\\u00e1o, thu\\u1ed1c ph\\u00e1o ho\\u1eb7c nguy\\u00ean li\\u1ec7u, ph\\u1ee5 ki\\u1ec7n \\u0111\\u1ec3 s\\u1ea3n xu\\u1ea5t ph\\u00e1o t\\u1ea1i nh\\u00e0 c\\u00f3 th\\u1ec3 b\\u1ecb ph\\u1ea1t ti\\u1ec1n t\\u1eeb 10 tri\\u1ec7u \\u0111\\u1ed3ng \\u0111\\u1ebfn 20 tri\\u1ec7u \\u0111\\u1ed3ng \\u0111\\u1ed1i v\\u1edbi c\\u00e1 nh\\u00e2n. C\\u00e1c h\\u1ee3p ch\\u1ea5t ch\\u1ebf t\\u1ea1o ph\\u00e1o \\u0111\\u01b0\\u1ee3c c\\u00f4ng an ph\\u00e1t hi\\u1ec7n (\\u1ea2nh: C\\u00f4ng an \\u0110\\u00e0 N\\u1eb5ng). Tuy nhi\\u00ean, \\u0111\\u1ed1i v\\u1edbi c\\u00e1c em h\\u1ecdc sinh t\\u1eeb 14 tu\\u1ed5i \\u0111\\u1ebfn d\\u01b0\\u1edbi 16 tu\\u1ed5i ch\\u1ebf t\\u1ea1o ph\\u00e1o n\\u1ed5, kh\\u00f4ng \\u00e1p d\\u1ee5ng h\\u00ecnh th\\u1ee9c ph\\u1ea1t ti\\u1ec1n m\\u00e0 \\u00e1p d\\u1ee5ng h\\u00ecnh th\\u1ee9c x\\u1eed ph\\u1ea1t c\\u1ea3nh c\\u00e1o. \\u0110\\u1ed1i v\\u1edbi c\\u00e1c em h\\u1ecdc sinh t\\u1eeb \\u0111\\u1ee7 16 tu\\u1ed5i \\u0111\\u1ebfn d\\u01b0\\u1edbi 18 tu\\u1ed5i s\\u1ebd b\\u1ecb ph\\u1ea1t ti\\u1ec1n, m\\u1ee9c ti\\u1ec1n ph\\u1ea1t kh\\u00f4ng qu\\u00e1 1/2 m\\u1ee9c ti\\u1ec1n ph\\u1ea1t \\u00e1p d\\u1ee5ng \\u0111\\u1ed1i v\\u1edbi ng\\u01b0\\u1eddi th\\u00e0nh ni\\u00ean. Tr\\u01b0\\u1eddng h\\u1ee3p kh\\u00f4ng c\\u00f3 ti\\u1ec1n n\\u1ed9p ph\\u1ea1t ho\\u1eb7c kh\\u00f4ng c\\u00f3 kh\\u1ea3 n\\u0103ng th\\u1ef1c hi\\u1ec7n bi\\u1ec7n ph\\u00e1p kh\\u1eafc, ph\\u1ee5c h\\u1eadu qu\\u1ea3, cha m\\u1eb9 ho\\u1eb7c ng\\u01b0\\u1eddi gi\\u00e1m h\\u1ed9 ph\\u1ea3i th\\u1ef1c hi\\u1ec7n thay. Ngo\\u00e0i vi\\u1ec7c x\\u1eed ph\\u1ea1t ti\\u1ec1n, c\\u00e1c em h\\u1ecdc sinh c\\u00f2n b\\u1ecb \\u00e1p d\\u1ee5ng c\\u00e1c h\\u00ecnh th\\u1ee9c x\\u1eed ph\\u1ea1t b\\u1ed5 sung l\\u00e0 t\\u1ecbch thu to\\u00e0n b\\u1ed9 s\\u1ed1 ph\\u00e1o c\\u00e1c em t\\u1ef1 ch\\u1ebf t\\u1ea1o, bu\\u1ed9c n\\u1ed9p l\\u1ea1i s\\u1ed1 l\\u1ee3i b\\u1ea5t h\\u1ee3p ph\\u00e1p c\\u00e1c em c\\u00f3 \\u0111\\u01b0\\u1ee3c (n\\u1ebfu c\\u00f3) do th\\u1ef1c hi\\u1ec7n h\\u00e0nh vi vi ph\\u1ea1m tr\\u00ean. Lu\\u1eadt s\\u01b0 Th\\u1ea3o cho r\\u1eb1ng, vi\\u1ec7c h\\u01b0\\u1edbng d\\u1eabn ng\\u01b0\\u1eddi kh\\u00e1c t\\u1ef1 ch\\u1ebf ph\\u00e1o n\\u1ed5, quay video clip r\\u1ed3i \\u0111\\u0103ng t\\u1ea3i tr\\u00ean m\\u1ea1ng c\\u0169ng l\\u00e0 h\\u00e0nh vi vi ph\\u1ea1m ph\\u00e1p lu\\u1eadt. H\\u00e0nh vi n\\u00e0y c\\u00f3 th\\u1ec3 b\\u1ecb ph\\u1ea1t h\\u00e0nh ch\\u00ednh t\\u1eeb 10 tri\\u1ec7u \\u0111\\u1ed3ng \\u0111\\u1ebfn 20 tri\\u1ec7u \\u0111\\u1ed3ng \\u0111\\u1ed1i v\\u1edbi c\\u00e1 nh\\u00e2n; t\\u1eeb 20 tri\\u1ec7u \\u0111\\u1ed3ng \\u0111\\u1ebfn 40 tri\\u1ec7u \\u0111\\u1ed3ng \\u0111\\u1ed1i v\\u1edbi t\\u1ed5 ch\\u1ee9c. Ngo\\u00e0i ra, ch\\u1ee7 th\\u1ec3 vi ph\\u1ea1m c\\u00f2n b\\u1ecb bu\\u1ed9c n\\u1ed9p l\\u1ea1i s\\u1ed1 l\\u1ee3i b\\u1ea5t h\\u1ee3p ph\\u00e1p c\\u00f3 \\u0111\\u01b0\\u1ee3c do th\\u1ef1c hi\\u1ec7n h\\u00e0nh vi vi ph\\u1ea1m. \"\n        ],\n        \"semantic_type\": \"\",\n        \"description\": \"\"\n      }\n    },\n    {\n      \"column\": \"category\",\n      \"properties\": {\n        \"dtype\": \"category\",\n        \"num_unique_values\": 1,\n        \"samples\": [\n          \"X\\u00e3 h\\u1ed9i\"\n        ],\n        \"semantic_type\": \"\",\n        \"description\": \"\"\n      }\n    },\n    {\n      \"column\": \"len\",\n      \"properties\": {\n        \"dtype\": \"number\",\n        \"std\": 1518,\n        \"min\": 56,\n        \"max\": 7553,\n        \"num_unique_values\": 802,\n        \"samples\": [\n          3837\n        ],\n        \"semantic_type\": \"\",\n        \"description\": \"\"\n      }\n    }\n  ]\n}"
            }
          },
          "metadata": {},
          "execution_count": 20
        }
      ],
      "source": [
        "data_dict['Xã hội']"
      ]
    },
    {
      "cell_type": "code",
      "execution_count": null,
      "metadata": {
        "colab": {
          "base_uri": "https://localhost:8080/",
          "height": 89
        },
        "id": "7qgGM3W7lwSP",
        "outputId": "19d933a2-5b34-4cf2-a1ad-4bf45fe4147a"
      },
      "outputs": [
        {
          "output_type": "execute_result",
          "data": {
            "text/plain": [
              "Empty DataFrame\n",
              "Columns: [content, category, len]\n",
              "Index: []"
            ],
            "text/html": [
              "\n",
              "  <div id=\"df-24e6bb33-b163-456c-a900-18076f5ea322\" class=\"colab-df-container\">\n",
              "    <div>\n",
              "<style scoped>\n",
              "    .dataframe tbody tr th:only-of-type {\n",
              "        vertical-align: middle;\n",
              "    }\n",
              "\n",
              "    .dataframe tbody tr th {\n",
              "        vertical-align: top;\n",
              "    }\n",
              "\n",
              "    .dataframe thead th {\n",
              "        text-align: right;\n",
              "    }\n",
              "</style>\n",
              "<table border=\"1\" class=\"dataframe\">\n",
              "  <thead>\n",
              "    <tr style=\"text-align: right;\">\n",
              "      <th></th>\n",
              "      <th>content</th>\n",
              "      <th>category</th>\n",
              "      <th>len</th>\n",
              "    </tr>\n",
              "  </thead>\n",
              "  <tbody>\n",
              "  </tbody>\n",
              "</table>\n",
              "</div>\n",
              "    <div class=\"colab-df-buttons\">\n",
              "\n",
              "  <div class=\"colab-df-container\">\n",
              "    <button class=\"colab-df-convert\" onclick=\"convertToInteractive('df-24e6bb33-b163-456c-a900-18076f5ea322')\"\n",
              "            title=\"Convert this dataframe to an interactive table.\"\n",
              "            style=\"display:none;\">\n",
              "\n",
              "  <svg xmlns=\"http://www.w3.org/2000/svg\" height=\"24px\" viewBox=\"0 -960 960 960\">\n",
              "    <path d=\"M120-120v-720h720v720H120Zm60-500h600v-160H180v160Zm220 220h160v-160H400v160Zm0 220h160v-160H400v160ZM180-400h160v-160H180v160Zm440 0h160v-160H620v160ZM180-180h160v-160H180v160Zm440 0h160v-160H620v160Z\"/>\n",
              "  </svg>\n",
              "    </button>\n",
              "\n",
              "  <style>\n",
              "    .colab-df-container {\n",
              "      display:flex;\n",
              "      gap: 12px;\n",
              "    }\n",
              "\n",
              "    .colab-df-convert {\n",
              "      background-color: #E8F0FE;\n",
              "      border: none;\n",
              "      border-radius: 50%;\n",
              "      cursor: pointer;\n",
              "      display: none;\n",
              "      fill: #1967D2;\n",
              "      height: 32px;\n",
              "      padding: 0 0 0 0;\n",
              "      width: 32px;\n",
              "    }\n",
              "\n",
              "    .colab-df-convert:hover {\n",
              "      background-color: #E2EBFA;\n",
              "      box-shadow: 0px 1px 2px rgba(60, 64, 67, 0.3), 0px 1px 3px 1px rgba(60, 64, 67, 0.15);\n",
              "      fill: #174EA6;\n",
              "    }\n",
              "\n",
              "    .colab-df-buttons div {\n",
              "      margin-bottom: 4px;\n",
              "    }\n",
              "\n",
              "    [theme=dark] .colab-df-convert {\n",
              "      background-color: #3B4455;\n",
              "      fill: #D2E3FC;\n",
              "    }\n",
              "\n",
              "    [theme=dark] .colab-df-convert:hover {\n",
              "      background-color: #434B5C;\n",
              "      box-shadow: 0px 1px 3px 1px rgba(0, 0, 0, 0.15);\n",
              "      filter: drop-shadow(0px 1px 2px rgba(0, 0, 0, 0.3));\n",
              "      fill: #FFFFFF;\n",
              "    }\n",
              "  </style>\n",
              "\n",
              "    <script>\n",
              "      const buttonEl =\n",
              "        document.querySelector('#df-24e6bb33-b163-456c-a900-18076f5ea322 button.colab-df-convert');\n",
              "      buttonEl.style.display =\n",
              "        google.colab.kernel.accessAllowed ? 'block' : 'none';\n",
              "\n",
              "      async function convertToInteractive(key) {\n",
              "        const element = document.querySelector('#df-24e6bb33-b163-456c-a900-18076f5ea322');\n",
              "        const dataTable =\n",
              "          await google.colab.kernel.invokeFunction('convertToInteractive',\n",
              "                                                    [key], {});\n",
              "        if (!dataTable) return;\n",
              "\n",
              "        const docLinkHtml = 'Like what you see? Visit the ' +\n",
              "          '<a target=\"_blank\" href=https://colab.research.google.com/notebooks/data_table.ipynb>data table notebook</a>'\n",
              "          + ' to learn more about interactive tables.';\n",
              "        element.innerHTML = '';\n",
              "        dataTable['output_type'] = 'display_data';\n",
              "        await google.colab.output.renderOutput(dataTable, element);\n",
              "        const docLink = document.createElement('div');\n",
              "        docLink.innerHTML = docLinkHtml;\n",
              "        element.appendChild(docLink);\n",
              "      }\n",
              "    </script>\n",
              "  </div>\n",
              "\n",
              "\n",
              "  <div id=\"id_36cddffa-232f-4a4a-b904-8c4bfc1ab728\">\n",
              "    <style>\n",
              "      .colab-df-generate {\n",
              "        background-color: #E8F0FE;\n",
              "        border: none;\n",
              "        border-radius: 50%;\n",
              "        cursor: pointer;\n",
              "        display: none;\n",
              "        fill: #1967D2;\n",
              "        height: 32px;\n",
              "        padding: 0 0 0 0;\n",
              "        width: 32px;\n",
              "      }\n",
              "\n",
              "      .colab-df-generate:hover {\n",
              "        background-color: #E2EBFA;\n",
              "        box-shadow: 0px 1px 2px rgba(60, 64, 67, 0.3), 0px 1px 3px 1px rgba(60, 64, 67, 0.15);\n",
              "        fill: #174EA6;\n",
              "      }\n",
              "\n",
              "      [theme=dark] .colab-df-generate {\n",
              "        background-color: #3B4455;\n",
              "        fill: #D2E3FC;\n",
              "      }\n",
              "\n",
              "      [theme=dark] .colab-df-generate:hover {\n",
              "        background-color: #434B5C;\n",
              "        box-shadow: 0px 1px 3px 1px rgba(0, 0, 0, 0.15);\n",
              "        filter: drop-shadow(0px 1px 2px rgba(0, 0, 0, 0.3));\n",
              "        fill: #FFFFFF;\n",
              "      }\n",
              "    </style>\n",
              "    <button class=\"colab-df-generate\" onclick=\"generateWithVariable('newdata')\"\n",
              "            title=\"Generate code using this dataframe.\"\n",
              "            style=\"display:none;\">\n",
              "\n",
              "  <svg xmlns=\"http://www.w3.org/2000/svg\" height=\"24px\"viewBox=\"0 0 24 24\"\n",
              "       width=\"24px\">\n",
              "    <path d=\"M7,19H8.4L18.45,9,17,7.55,7,17.6ZM5,21V16.75L18.45,3.32a2,2,0,0,1,2.83,0l1.4,1.43a1.91,1.91,0,0,1,.58,1.4,1.91,1.91,0,0,1-.58,1.4L9.25,21ZM18.45,9,17,7.55Zm-12,3A5.31,5.31,0,0,0,4.9,8.1,5.31,5.31,0,0,0,1,6.5,5.31,5.31,0,0,0,4.9,4.9,5.31,5.31,0,0,0,6.5,1,5.31,5.31,0,0,0,8.1,4.9,5.31,5.31,0,0,0,12,6.5,5.46,5.46,0,0,0,6.5,12Z\"/>\n",
              "  </svg>\n",
              "    </button>\n",
              "    <script>\n",
              "      (() => {\n",
              "      const buttonEl =\n",
              "        document.querySelector('#id_36cddffa-232f-4a4a-b904-8c4bfc1ab728 button.colab-df-generate');\n",
              "      buttonEl.style.display =\n",
              "        google.colab.kernel.accessAllowed ? 'block' : 'none';\n",
              "\n",
              "      buttonEl.onclick = () => {\n",
              "        google.colab.notebook.generateWithVariable('newdata');\n",
              "      }\n",
              "      })();\n",
              "    </script>\n",
              "  </div>\n",
              "\n",
              "    </div>\n",
              "  </div>\n"
            ],
            "application/vnd.google.colaboratory.intrinsic+json": {
              "type": "dataframe",
              "variable_name": "newdata",
              "repr_error": "'str' object has no attribute 'empty'"
            }
          },
          "metadata": {},
          "execution_count": 21
        }
      ],
      "source": [
        "newdata = pd.DataFrame(columns=['content', 'category', 'len'])\n",
        "newdata"
      ]
    },
    {
      "cell_type": "code",
      "execution_count": null,
      "metadata": {
        "id": "K6_h2a9lmFGo"
      },
      "outputs": [],
      "source": [
        "for key, value in data_dict.items():\n",
        "  newdata = newdata.append(value)\n",
        "\n",
        "newdata.reset_index(drop=True, inplace=True)"
      ]
    },
    {
      "cell_type": "code",
      "execution_count": null,
      "metadata": {
        "colab": {
          "base_uri": "https://localhost:8080/"
        },
        "id": "GjZvhF8MmbtB",
        "outputId": "4105cf9f-2a8d-433c-8e97-f6a7a8322b81"
      },
      "outputs": [
        {
          "output_type": "execute_result",
          "data": {
            "text/plain": [
              "(12232, 3)"
            ]
          },
          "metadata": {},
          "execution_count": 23
        }
      ],
      "source": [
        "newdata.shape"
      ]
    },
    {
      "cell_type": "code",
      "execution_count": null,
      "metadata": {
        "colab": {
          "base_uri": "https://localhost:8080/",
          "height": 206
        },
        "id": "7j-DUA8tmhP7",
        "outputId": "6bdf48e3-9240-4eb6-83dd-b6a97ca23ea0"
      },
      "outputs": [
        {
          "output_type": "execute_result",
          "data": {
            "text/plain": [
              "                                             content category   len\n",
              "0  Ông Nguyễn Văn Sơn, Phó Tổng cục trưởng Tổng c...   Xã hội  2825\n",
              "1  Sáng 12/2 (mùng 3 Tết Giáp Thìn), Thủ tướng Ph...   Xã hội  3688\n",
              "2  Sáng 12/2 (mùng 3 Tết Giáp Thìn), Thủ tướng Ph...   Xã hội  3759\n",
              "3  Thủ tướng Phạm Minh Chính tiếp Đại sứ Saudi Ar...   Xã hội  5821\n",
              "4  Tổng Thanh tra Chính phủ Đoàn Hồng Phong vừa c...   Xã hội  4660"
            ],
            "text/html": [
              "\n",
              "  <div id=\"df-366b0406-c320-4850-a152-76d01b4bc7ef\" class=\"colab-df-container\">\n",
              "    <div>\n",
              "<style scoped>\n",
              "    .dataframe tbody tr th:only-of-type {\n",
              "        vertical-align: middle;\n",
              "    }\n",
              "\n",
              "    .dataframe tbody tr th {\n",
              "        vertical-align: top;\n",
              "    }\n",
              "\n",
              "    .dataframe thead th {\n",
              "        text-align: right;\n",
              "    }\n",
              "</style>\n",
              "<table border=\"1\" class=\"dataframe\">\n",
              "  <thead>\n",
              "    <tr style=\"text-align: right;\">\n",
              "      <th></th>\n",
              "      <th>content</th>\n",
              "      <th>category</th>\n",
              "      <th>len</th>\n",
              "    </tr>\n",
              "  </thead>\n",
              "  <tbody>\n",
              "    <tr>\n",
              "      <th>0</th>\n",
              "      <td>Ông Nguyễn Văn Sơn, Phó Tổng cục trưởng Tổng c...</td>\n",
              "      <td>Xã hội</td>\n",
              "      <td>2825</td>\n",
              "    </tr>\n",
              "    <tr>\n",
              "      <th>1</th>\n",
              "      <td>Sáng 12/2 (mùng 3 Tết Giáp Thìn), Thủ tướng Ph...</td>\n",
              "      <td>Xã hội</td>\n",
              "      <td>3688</td>\n",
              "    </tr>\n",
              "    <tr>\n",
              "      <th>2</th>\n",
              "      <td>Sáng 12/2 (mùng 3 Tết Giáp Thìn), Thủ tướng Ph...</td>\n",
              "      <td>Xã hội</td>\n",
              "      <td>3759</td>\n",
              "    </tr>\n",
              "    <tr>\n",
              "      <th>3</th>\n",
              "      <td>Thủ tướng Phạm Minh Chính tiếp Đại sứ Saudi Ar...</td>\n",
              "      <td>Xã hội</td>\n",
              "      <td>5821</td>\n",
              "    </tr>\n",
              "    <tr>\n",
              "      <th>4</th>\n",
              "      <td>Tổng Thanh tra Chính phủ Đoàn Hồng Phong vừa c...</td>\n",
              "      <td>Xã hội</td>\n",
              "      <td>4660</td>\n",
              "    </tr>\n",
              "  </tbody>\n",
              "</table>\n",
              "</div>\n",
              "    <div class=\"colab-df-buttons\">\n",
              "\n",
              "  <div class=\"colab-df-container\">\n",
              "    <button class=\"colab-df-convert\" onclick=\"convertToInteractive('df-366b0406-c320-4850-a152-76d01b4bc7ef')\"\n",
              "            title=\"Convert this dataframe to an interactive table.\"\n",
              "            style=\"display:none;\">\n",
              "\n",
              "  <svg xmlns=\"http://www.w3.org/2000/svg\" height=\"24px\" viewBox=\"0 -960 960 960\">\n",
              "    <path d=\"M120-120v-720h720v720H120Zm60-500h600v-160H180v160Zm220 220h160v-160H400v160Zm0 220h160v-160H400v160ZM180-400h160v-160H180v160Zm440 0h160v-160H620v160ZM180-180h160v-160H180v160Zm440 0h160v-160H620v160Z\"/>\n",
              "  </svg>\n",
              "    </button>\n",
              "\n",
              "  <style>\n",
              "    .colab-df-container {\n",
              "      display:flex;\n",
              "      gap: 12px;\n",
              "    }\n",
              "\n",
              "    .colab-df-convert {\n",
              "      background-color: #E8F0FE;\n",
              "      border: none;\n",
              "      border-radius: 50%;\n",
              "      cursor: pointer;\n",
              "      display: none;\n",
              "      fill: #1967D2;\n",
              "      height: 32px;\n",
              "      padding: 0 0 0 0;\n",
              "      width: 32px;\n",
              "    }\n",
              "\n",
              "    .colab-df-convert:hover {\n",
              "      background-color: #E2EBFA;\n",
              "      box-shadow: 0px 1px 2px rgba(60, 64, 67, 0.3), 0px 1px 3px 1px rgba(60, 64, 67, 0.15);\n",
              "      fill: #174EA6;\n",
              "    }\n",
              "\n",
              "    .colab-df-buttons div {\n",
              "      margin-bottom: 4px;\n",
              "    }\n",
              "\n",
              "    [theme=dark] .colab-df-convert {\n",
              "      background-color: #3B4455;\n",
              "      fill: #D2E3FC;\n",
              "    }\n",
              "\n",
              "    [theme=dark] .colab-df-convert:hover {\n",
              "      background-color: #434B5C;\n",
              "      box-shadow: 0px 1px 3px 1px rgba(0, 0, 0, 0.15);\n",
              "      filter: drop-shadow(0px 1px 2px rgba(0, 0, 0, 0.3));\n",
              "      fill: #FFFFFF;\n",
              "    }\n",
              "  </style>\n",
              "\n",
              "    <script>\n",
              "      const buttonEl =\n",
              "        document.querySelector('#df-366b0406-c320-4850-a152-76d01b4bc7ef button.colab-df-convert');\n",
              "      buttonEl.style.display =\n",
              "        google.colab.kernel.accessAllowed ? 'block' : 'none';\n",
              "\n",
              "      async function convertToInteractive(key) {\n",
              "        const element = document.querySelector('#df-366b0406-c320-4850-a152-76d01b4bc7ef');\n",
              "        const dataTable =\n",
              "          await google.colab.kernel.invokeFunction('convertToInteractive',\n",
              "                                                    [key], {});\n",
              "        if (!dataTable) return;\n",
              "\n",
              "        const docLinkHtml = 'Like what you see? Visit the ' +\n",
              "          '<a target=\"_blank\" href=https://colab.research.google.com/notebooks/data_table.ipynb>data table notebook</a>'\n",
              "          + ' to learn more about interactive tables.';\n",
              "        element.innerHTML = '';\n",
              "        dataTable['output_type'] = 'display_data';\n",
              "        await google.colab.output.renderOutput(dataTable, element);\n",
              "        const docLink = document.createElement('div');\n",
              "        docLink.innerHTML = docLinkHtml;\n",
              "        element.appendChild(docLink);\n",
              "      }\n",
              "    </script>\n",
              "  </div>\n",
              "\n",
              "\n",
              "<div id=\"df-9d55dd36-725e-423c-84b0-15a92fc0da07\">\n",
              "  <button class=\"colab-df-quickchart\" onclick=\"quickchart('df-9d55dd36-725e-423c-84b0-15a92fc0da07')\"\n",
              "            title=\"Suggest charts\"\n",
              "            style=\"display:none;\">\n",
              "\n",
              "<svg xmlns=\"http://www.w3.org/2000/svg\" height=\"24px\"viewBox=\"0 0 24 24\"\n",
              "     width=\"24px\">\n",
              "    <g>\n",
              "        <path d=\"M19 3H5c-1.1 0-2 .9-2 2v14c0 1.1.9 2 2 2h14c1.1 0 2-.9 2-2V5c0-1.1-.9-2-2-2zM9 17H7v-7h2v7zm4 0h-2V7h2v10zm4 0h-2v-4h2v4z\"/>\n",
              "    </g>\n",
              "</svg>\n",
              "  </button>\n",
              "\n",
              "<style>\n",
              "  .colab-df-quickchart {\n",
              "      --bg-color: #E8F0FE;\n",
              "      --fill-color: #1967D2;\n",
              "      --hover-bg-color: #E2EBFA;\n",
              "      --hover-fill-color: #174EA6;\n",
              "      --disabled-fill-color: #AAA;\n",
              "      --disabled-bg-color: #DDD;\n",
              "  }\n",
              "\n",
              "  [theme=dark] .colab-df-quickchart {\n",
              "      --bg-color: #3B4455;\n",
              "      --fill-color: #D2E3FC;\n",
              "      --hover-bg-color: #434B5C;\n",
              "      --hover-fill-color: #FFFFFF;\n",
              "      --disabled-bg-color: #3B4455;\n",
              "      --disabled-fill-color: #666;\n",
              "  }\n",
              "\n",
              "  .colab-df-quickchart {\n",
              "    background-color: var(--bg-color);\n",
              "    border: none;\n",
              "    border-radius: 50%;\n",
              "    cursor: pointer;\n",
              "    display: none;\n",
              "    fill: var(--fill-color);\n",
              "    height: 32px;\n",
              "    padding: 0;\n",
              "    width: 32px;\n",
              "  }\n",
              "\n",
              "  .colab-df-quickchart:hover {\n",
              "    background-color: var(--hover-bg-color);\n",
              "    box-shadow: 0 1px 2px rgba(60, 64, 67, 0.3), 0 1px 3px 1px rgba(60, 64, 67, 0.15);\n",
              "    fill: var(--button-hover-fill-color);\n",
              "  }\n",
              "\n",
              "  .colab-df-quickchart-complete:disabled,\n",
              "  .colab-df-quickchart-complete:disabled:hover {\n",
              "    background-color: var(--disabled-bg-color);\n",
              "    fill: var(--disabled-fill-color);\n",
              "    box-shadow: none;\n",
              "  }\n",
              "\n",
              "  .colab-df-spinner {\n",
              "    border: 2px solid var(--fill-color);\n",
              "    border-color: transparent;\n",
              "    border-bottom-color: var(--fill-color);\n",
              "    animation:\n",
              "      spin 1s steps(1) infinite;\n",
              "  }\n",
              "\n",
              "  @keyframes spin {\n",
              "    0% {\n",
              "      border-color: transparent;\n",
              "      border-bottom-color: var(--fill-color);\n",
              "      border-left-color: var(--fill-color);\n",
              "    }\n",
              "    20% {\n",
              "      border-color: transparent;\n",
              "      border-left-color: var(--fill-color);\n",
              "      border-top-color: var(--fill-color);\n",
              "    }\n",
              "    30% {\n",
              "      border-color: transparent;\n",
              "      border-left-color: var(--fill-color);\n",
              "      border-top-color: var(--fill-color);\n",
              "      border-right-color: var(--fill-color);\n",
              "    }\n",
              "    40% {\n",
              "      border-color: transparent;\n",
              "      border-right-color: var(--fill-color);\n",
              "      border-top-color: var(--fill-color);\n",
              "    }\n",
              "    60% {\n",
              "      border-color: transparent;\n",
              "      border-right-color: var(--fill-color);\n",
              "    }\n",
              "    80% {\n",
              "      border-color: transparent;\n",
              "      border-right-color: var(--fill-color);\n",
              "      border-bottom-color: var(--fill-color);\n",
              "    }\n",
              "    90% {\n",
              "      border-color: transparent;\n",
              "      border-bottom-color: var(--fill-color);\n",
              "    }\n",
              "  }\n",
              "</style>\n",
              "\n",
              "  <script>\n",
              "    async function quickchart(key) {\n",
              "      const quickchartButtonEl =\n",
              "        document.querySelector('#' + key + ' button');\n",
              "      quickchartButtonEl.disabled = true;  // To prevent multiple clicks.\n",
              "      quickchartButtonEl.classList.add('colab-df-spinner');\n",
              "      try {\n",
              "        const charts = await google.colab.kernel.invokeFunction(\n",
              "            'suggestCharts', [key], {});\n",
              "      } catch (error) {\n",
              "        console.error('Error during call to suggestCharts:', error);\n",
              "      }\n",
              "      quickchartButtonEl.classList.remove('colab-df-spinner');\n",
              "      quickchartButtonEl.classList.add('colab-df-quickchart-complete');\n",
              "    }\n",
              "    (() => {\n",
              "      let quickchartButtonEl =\n",
              "        document.querySelector('#df-9d55dd36-725e-423c-84b0-15a92fc0da07 button');\n",
              "      quickchartButtonEl.style.display =\n",
              "        google.colab.kernel.accessAllowed ? 'block' : 'none';\n",
              "    })();\n",
              "  </script>\n",
              "</div>\n",
              "\n",
              "    </div>\n",
              "  </div>\n"
            ],
            "application/vnd.google.colaboratory.intrinsic+json": {
              "type": "dataframe",
              "variable_name": "newdata",
              "repr_error": "'str' object has no attribute 'empty'"
            }
          },
          "metadata": {},
          "execution_count": 24
        }
      ],
      "source": [
        "newdata.head()"
      ]
    },
    {
      "cell_type": "code",
      "execution_count": null,
      "metadata": {
        "id": "pDGlTn5k2GTZ"
      },
      "outputs": [],
      "source": [
        "def create_hist_plot(categories: list[str], df, num_subplots=3):\n",
        "  fig, ax = plt.subplots(1, num_subplots)\n",
        "  for idx, category in enumerate(categories):\n",
        "    df_category = df.query(f\"`category` == '{category}'\")\n",
        "    sns.histplot(data=df_category, x=\"len\", kde=True, ax=ax[idx])\n",
        "    ax[idx].set_title(category)\n",
        "  plt.show()\n",
        "\n"
      ]
    },
    {
      "cell_type": "code",
      "execution_count": null,
      "metadata": {
        "colab": {
          "base_uri": "https://localhost:8080/",
          "height": 787
        },
        "id": "NuQl8iR53Leh",
        "outputId": "7b872fa8-f909-4783-ecf0-5ec0c2c51f02"
      },
      "outputs": [
        {
          "output_type": "display_data",
          "data": {
            "text/plain": [
              "<Figure size 1500x1000 with 3 Axes>"
            ],
            "image/png": "[encoded data removed]"
          },
          "metadata": {}
        }
      ],
      "source": [
        "create_hist_plot(categories[:3], df=newdata)"
      ]
    },
    {
      "cell_type": "code",
      "execution_count": null,
      "metadata": {
        "colab": {
          "base_uri": "https://localhost:8080/",
          "height": 788
        },
        "id": "TynvJPos3S-o",
        "outputId": "29ef2d62-2044-47ca-9ab6-469397080366"
      },
      "outputs": [
        {
          "output_type": "display_data",
          "data": {
            "text/plain": [
              "<Figure size 1500x1000 with 3 Axes>"
            ],
            "image/png": "[encoded data removed]"
          },
          "metadata": {}
        }
      ],
      "source": [
        "create_hist_plot(categories[3:6], df=newdata)\n"
      ]
    },
    {
      "cell_type": "code",
      "execution_count": null,
      "metadata": {
        "colab": {
          "base_uri": "https://localhost:8080/",
          "height": 788
        },
        "id": "krdK4wI4747B",
        "outputId": "aa500218-a42e-4d9a-ff52-7f0bbdbcd878"
      },
      "outputs": [
        {
          "output_type": "display_data",
          "data": {
            "text/plain": [
              "<Figure size 1500x1000 with 3 Axes>"
            ],
            "image/png": "[encoded data removed]"
          },
          "metadata": {}
        }
      ],
      "source": [
        "create_hist_plot(categories[6:9], df=newdata)\n"
      ]
    },
    {
      "cell_type": "code",
      "execution_count": null,
      "metadata": {
        "colab": {
          "base_uri": "https://localhost:8080/",
          "height": 787
        },
        "id": "JAvX-FEq8AQB",
        "outputId": "4a371bfd-66e6-45d6-b936-308740226408"
      },
      "outputs": [
        {
          "output_type": "display_data",
          "data": {
            "text/plain": [
              "<Figure size 1500x1000 with 3 Axes>"
            ],
            "image/png": "[encoded data removed]"
          },
          "metadata": {}
        }
      ],
      "source": [
        "create_hist_plot(categories[9:12], df=newdata)\n"
      ]
    },
    {
      "cell_type": "code",
      "execution_count": null,
      "metadata": {
        "colab": {
          "base_uri": "https://localhost:8080/",
          "height": 787
        },
        "id": "bhymdmyO8EGA",
        "outputId": "5f57b5b2-837f-45dd-c454-b29b1665993a"
      },
      "outputs": [
        {
          "output_type": "display_data",
          "data": {
            "text/plain": [
              "<Figure size 1500x1000 with 2 Axes>"
            ],
            "image/png": "[encoded data removed]"
          },
          "metadata": {}
        }
      ],
      "source": [
        "create_hist_plot(categories[12:14], df=newdata, num_subplots=2)\n"
      ]
    },
    {
      "cell_type": "markdown",
      "metadata": {
        "id": "SgLltv5B8G7g"
      },
      "source": [
        "Từ các biểu đồ phân phối trên, ta nhận thấy rằng, hầu hết các hạng mục đều tuân theo dạng hình chuông (phân phối Gaussian). Theo lý thuyết, thường phân phối chuẩn sẽ tốt cho mô hình khi học"
      ]
    },
    {
      "cell_type": "code",
      "execution_count": null,
      "metadata": {
        "id": "cV5lbOkxScTf"
      },
      "outputs": [],
      "source": [
        "def create_boxplot(categories, df, title):\n",
        "  df_categories = df[df['category'].isin(categories)]\n",
        "  sns.boxplot(data=df_categories, x=\"category\", y=\"len\", hue='category')\n",
        "  plt.title(title)\n",
        "  plt.tight_layout()\n",
        "  plt.xlabel(\"Category\")\n",
        "  plt.ylabel(\"len\")\n",
        "  plt.show()"
      ]
    },
    {
      "cell_type": "code",
      "execution_count": null,
      "metadata": {
        "colab": {
          "base_uri": "https://localhost:8080/",
          "height": 755
        },
        "id": "sWTXSynNTFpM",
        "outputId": "792af0cf-1b01-4be4-eded-889722417944"
      },
      "outputs": [
        {
          "output_type": "display_data",
          "data": {
            "text/plain": [
              "<Figure size 1500x1000 with 1 Axes>"
            ],
            "image/png": "[encoded data removed]"
          },
          "metadata": {}
        }
      ],
      "source": [
        "create_boxplot(categories[0:3], data, title=\"Dữ liệu trước khi được xử lý\")"
      ]
    },
    {
      "cell_type": "code",
      "execution_count": null,
      "metadata": {
        "colab": {
          "base_uri": "https://localhost:8080/",
          "height": 755
        },
        "id": "Oy3ZZVb6UlCa",
        "outputId": "5a24b81c-eb08-439e-9a09-2d7523185148"
      },
      "outputs": [
        {
          "output_type": "display_data",
          "data": {
            "text/plain": [
              "<Figure size 1500x1000 with 1 Axes>"
            ],
            "image/png": "[encoded data removed]"
          },
          "metadata": {}
        }
      ],
      "source": [
        "create_boxplot(categories[0:3], newdata, title=\"Dữ liệu sau khi được xử lý\")\n"
      ]
    },
    {
      "cell_type": "code",
      "execution_count": null,
      "metadata": {
        "colab": {
          "base_uri": "https://localhost:8080/",
          "height": 542
        },
        "id": "URNs9q-5WnkZ",
        "outputId": "538656b8-f5eb-408d-9628-a3a5620a94be"
      },
      "outputs": [
        {
          "output_type": "display_data",
          "data": {
            "text/html": [
              "<html>\n",
              "<head><meta charset=\"utf-8\" /></head>\n",
              "<body>\n",
              "    <div>            <script src=\"https://cdnjs.cloudflare.com/ajax/libs/mathjax/2.7.5/MathJax.js?config=TeX-AMS-MML_SVG\"></script><script type=\"text/javascript\">if (window.MathJax && window.MathJax.Hub && window.MathJax.Hub.Config) {window.MathJax.Hub.Config({SVG: {font: \"STIX-Web\"}});}</script>                <script type=\"text/javascript\">window.PlotlyConfig = {MathJaxConfig: 'local'};</script>\n",
              "        <script charset=\"utf-8\" src=\"https://cdn.plot.ly/plotly-2.24.1.min.js\"></script>                <div id=\"bf797e9f-8184-4a02-b4b1-21c23704b1cc\" class=\"plotly-graph-div\" style=\"height:525px; width:100%;\"></div>            <script type=\"text/javascript\">                                    window.PLOTLYENV=window.PLOTLYENV || {};                                    if (document.getElementById(\"bf797e9f-8184-4a02-b4b1-21c23704b1cc\")) {                    Plotly.newPlot(                        \"bf797e9f-8184-4a02-b4b1-21c23704b1cc\",                        [{\"alignmentgroup\":\"True\",\"bingroup\":\"x\",\"histfunc\":\"sum\",\"hovertemplate\":\"category=%{x}\\u003cbr\\u003esum of count=%{y}\\u003cextra\\u003e\\u003c\\u002fextra\\u003e\",\"legendgroup\":\"Gi\\u00e1o d\\u1ee5c\",\"marker\":{\"color\":\"#FD3216\",\"opacity\":0.75,\"pattern\":{\"shape\":\"\"}},\"name\":\"Gi\\u00e1o d\\u1ee5c\",\"offsetgroup\":\"Gi\\u00e1o d\\u1ee5c\",\"orientation\":\"v\",\"showlegend\":true,\"x\":[\"Gi\\u00e1o d\\u1ee5c\"],\"xaxis\":\"x\",\"y\":[1327],\"yaxis\":\"y\",\"type\":\"histogram\"},{\"alignmentgroup\":\"True\",\"bingroup\":\"x\",\"histfunc\":\"sum\",\"hovertemplate\":\"category=%{x}\\u003cbr\\u003esum of count=%{y}\\u003cextra\\u003e\\u003c\\u002fextra\\u003e\",\"legendgroup\":\"Th\\u1ec3 thao\",\"marker\":{\"color\":\"#00FE35\",\"opacity\":0.75,\"pattern\":{\"shape\":\"\"}},\"name\":\"Th\\u1ec3 thao\",\"offsetgroup\":\"Th\\u1ec3 thao\",\"orientation\":\"v\",\"showlegend\":true,\"x\":[\"Th\\u1ec3 thao\"],\"xaxis\":\"x\",\"y\":[1325],\"yaxis\":\"y\",\"type\":\"histogram\"},{\"alignmentgroup\":\"True\",\"bingroup\":\"x\",\"histfunc\":\"sum\",\"hovertemplate\":\"category=%{x}\\u003cbr\\u003esum of count=%{y}\\u003cextra\\u003e\\u003c\\u002fextra\\u003e\",\"legendgroup\":\"B\\u1ea5t \\u0111\\u1ed9ng s\\u1ea3n\",\"marker\":{\"color\":\"#6A76FC\",\"opacity\":0.75,\"pattern\":{\"shape\":\"\"}},\"name\":\"B\\u1ea5t \\u0111\\u1ed9ng s\\u1ea3n\",\"offsetgroup\":\"B\\u1ea5t \\u0111\\u1ed9ng s\\u1ea3n\",\"orientation\":\"v\",\"showlegend\":true,\"x\":[\"B\\u1ea5t \\u0111\\u1ed9ng s\\u1ea3n\"],\"xaxis\":\"x\",\"y\":[1175],\"yaxis\":\"y\",\"type\":\"histogram\"},{\"alignmentgroup\":\"True\",\"bingroup\":\"x\",\"histfunc\":\"sum\",\"hovertemplate\":\"category=%{x}\\u003cbr\\u003esum of count=%{y}\\u003cextra\\u003e\\u003c\\u002fextra\\u003e\",\"legendgroup\":\"S\\u1ee9c kh\\u1ecfe\",\"marker\":{\"color\":\"#FED4C4\",\"opacity\":0.75,\"pattern\":{\"shape\":\"\"}},\"name\":\"S\\u1ee9c kh\\u1ecfe\",\"offsetgroup\":\"S\\u1ee9c kh\\u1ecfe\",\"orientation\":\"v\",\"showlegend\":true,\"x\":[\"S\\u1ee9c kh\\u1ecfe\"],\"xaxis\":\"x\",\"y\":[1138],\"yaxis\":\"y\",\"type\":\"histogram\"},{\"alignmentgroup\":\"True\",\"bingroup\":\"x\",\"histfunc\":\"sum\",\"hovertemplate\":\"category=%{x}\\u003cbr\\u003esum of count=%{y}\\u003cextra\\u003e\\u003c\\u002fextra\\u003e\",\"legendgroup\":\"V\\u0103n h\\u00f3a\",\"marker\":{\"color\":\"#FE00CE\",\"opacity\":0.75,\"pattern\":{\"shape\":\"\"}},\"name\":\"V\\u0103n h\\u00f3a\",\"offsetgroup\":\"V\\u0103n h\\u00f3a\",\"orientation\":\"v\",\"showlegend\":true,\"x\":[\"V\\u0103n h\\u00f3a\"],\"xaxis\":\"x\",\"y\":[1007],\"yaxis\":\"y\",\"type\":\"histogram\"},{\"alignmentgroup\":\"True\",\"bingroup\":\"x\",\"histfunc\":\"sum\",\"hovertemplate\":\"category=%{x}\\u003cbr\\u003esum of count=%{y}\\u003cextra\\u003e\\u003c\\u002fextra\\u003e\",\"legendgroup\":\"Kinh doanh\",\"marker\":{\"color\":\"#0DF9FF\",\"opacity\":0.75,\"pattern\":{\"shape\":\"\"}},\"name\":\"Kinh doanh\",\"offsetgroup\":\"Kinh doanh\",\"orientation\":\"v\",\"showlegend\":true,\"x\":[\"Kinh doanh\"],\"xaxis\":\"x\",\"y\":[985],\"yaxis\":\"y\",\"type\":\"histogram\"},{\"alignmentgroup\":\"True\",\"bingroup\":\"x\",\"histfunc\":\"sum\",\"hovertemplate\":\"category=%{x}\\u003cbr\\u003esum of count=%{y}\\u003cextra\\u003e\\u003c\\u002fextra\\u003e\",\"legendgroup\":\"X\\u00e3 h\\u1ed9i\",\"marker\":{\"color\":\"#F6F926\",\"opacity\":0.75,\"pattern\":{\"shape\":\"\"}},\"name\":\"X\\u00e3 h\\u1ed9i\",\"offsetgroup\":\"X\\u00e3 h\\u1ed9i\",\"orientation\":\"v\",\"showlegend\":true,\"x\":[\"X\\u00e3 h\\u1ed9i\"],\"xaxis\":\"x\",\"y\":[885],\"yaxis\":\"y\",\"type\":\"histogram\"},{\"alignmentgroup\":\"True\",\"bingroup\":\"x\",\"histfunc\":\"sum\",\"hovertemplate\":\"category=%{x}\\u003cbr\\u003esum of count=%{y}\\u003cextra\\u003e\\u003c\\u002fextra\\u003e\",\"legendgroup\":\"Xe ++\",\"marker\":{\"color\":\"#FF9616\",\"opacity\":0.75,\"pattern\":{\"shape\":\"\"}},\"name\":\"Xe ++\",\"offsetgroup\":\"Xe ++\",\"orientation\":\"v\",\"showlegend\":true,\"x\":[\"Xe ++\"],\"xaxis\":\"x\",\"y\":[855],\"yaxis\":\"y\",\"type\":\"histogram\"},{\"alignmentgroup\":\"True\",\"bingroup\":\"x\",\"histfunc\":\"sum\",\"hovertemplate\":\"category=%{x}\\u003cbr\\u003esum of count=%{y}\\u003cextra\\u003e\\u003c\\u002fextra\\u003e\",\"legendgroup\":\"S\\u1ee9c m\\u1ea1nh s\\u1ed1\",\"marker\":{\"color\":\"#479B55\",\"opacity\":0.75,\"pattern\":{\"shape\":\"\"}},\"name\":\"S\\u1ee9c m\\u1ea1nh s\\u1ed1\",\"offsetgroup\":\"S\\u1ee9c m\\u1ea1nh s\\u1ed1\",\"orientation\":\"v\",\"showlegend\":true,\"x\":[\"S\\u1ee9c m\\u1ea1nh s\\u1ed1\"],\"xaxis\":\"x\",\"y\":[707],\"yaxis\":\"y\",\"type\":\"histogram\"},{\"alignmentgroup\":\"True\",\"bingroup\":\"x\",\"histfunc\":\"sum\",\"hovertemplate\":\"category=%{x}\\u003cbr\\u003esum of count=%{y}\\u003cextra\\u003e\\u003c\\u002fextra\\u003e\",\"legendgroup\":\"Th\\u1ebf gi\\u1edbi\",\"marker\":{\"color\":\"#EEA6FB\",\"opacity\":0.75,\"pattern\":{\"shape\":\"\"}},\"name\":\"Th\\u1ebf gi\\u1edbi\",\"offsetgroup\":\"Th\\u1ebf gi\\u1edbi\",\"orientation\":\"v\",\"showlegend\":true,\"x\":[\"Th\\u1ebf gi\\u1edbi\"],\"xaxis\":\"x\",\"y\":[672],\"yaxis\":\"y\",\"type\":\"histogram\"},{\"alignmentgroup\":\"True\",\"bingroup\":\"x\",\"histfunc\":\"sum\",\"hovertemplate\":\"category=%{x}\\u003cbr\\u003esum of count=%{y}\\u003cextra\\u003e\\u003c\\u002fextra\\u003e\",\"legendgroup\":\"Vi\\u1ec7c l\\u00e0m\",\"marker\":{\"color\":\"#DC587D\",\"opacity\":0.75,\"pattern\":{\"shape\":\"\"}},\"name\":\"Vi\\u1ec7c l\\u00e0m\",\"offsetgroup\":\"Vi\\u1ec7c l\\u00e0m\",\"orientation\":\"v\",\"showlegend\":true,\"x\":[\"Vi\\u1ec7c l\\u00e0m\"],\"xaxis\":\"x\",\"y\":[657],\"yaxis\":\"y\",\"type\":\"histogram\"},{\"alignmentgroup\":\"True\",\"bingroup\":\"x\",\"histfunc\":\"sum\",\"hovertemplate\":\"category=%{x}\\u003cbr\\u003esum of count=%{y}\\u003cextra\\u003e\\u003c\\u002fextra\\u003e\",\"legendgroup\":\"An sinh\",\"marker\":{\"color\":\"#D626FF\",\"opacity\":0.75,\"pattern\":{\"shape\":\"\"}},\"name\":\"An sinh\",\"offsetgroup\":\"An sinh\",\"orientation\":\"v\",\"showlegend\":true,\"x\":[\"An sinh\"],\"xaxis\":\"x\",\"y\":[568],\"yaxis\":\"y\",\"type\":\"histogram\"},{\"alignmentgroup\":\"True\",\"bingroup\":\"x\",\"histfunc\":\"sum\",\"hovertemplate\":\"category=%{x}\\u003cbr\\u003esum of count=%{y}\\u003cextra\\u003e\\u003c\\u002fextra\\u003e\",\"legendgroup\":\"Gi\\u1ea3i tr\\u00ed\",\"marker\":{\"color\":\"#6E899C\",\"opacity\":0.75,\"pattern\":{\"shape\":\"\"}},\"name\":\"Gi\\u1ea3i tr\\u00ed\",\"offsetgroup\":\"Gi\\u1ea3i tr\\u00ed\",\"orientation\":\"v\",\"showlegend\":true,\"x\":[\"Gi\\u1ea3i tr\\u00ed\"],\"xaxis\":\"x\",\"y\":[542],\"yaxis\":\"y\",\"type\":\"histogram\"},{\"alignmentgroup\":\"True\",\"bingroup\":\"x\",\"histfunc\":\"sum\",\"hovertemplate\":\"category=%{x}\\u003cbr\\u003esum of count=%{y}\\u003cextra\\u003e\\u003c\\u002fextra\\u003e\",\"legendgroup\":\"Ph\\u00e1p lu\\u1eadt\",\"marker\":{\"color\":\"#00B5F7\",\"opacity\":0.75,\"pattern\":{\"shape\":\"\"}},\"name\":\"Ph\\u00e1p lu\\u1eadt\",\"offsetgroup\":\"Ph\\u00e1p lu\\u1eadt\",\"orientation\":\"v\",\"showlegend\":true,\"x\":[\"Ph\\u00e1p lu\\u1eadt\"],\"xaxis\":\"x\",\"y\":[389],\"yaxis\":\"y\",\"type\":\"histogram\"}],                        {\"template\":{\"data\":{\"histogram2dcontour\":[{\"type\":\"histogram2dcontour\",\"colorbar\":{\"outlinewidth\":0,\"ticks\":\"\"},\"colorscale\":[[0.0,\"#0d0887\"],[0.1111111111111111,\"#46039f\"],[0.2222222222222222,\"#7201a8\"],[0.3333333333333333,\"#9c179e\"],[0.4444444444444444,\"#bd3786\"],[0.5555555555555556,\"#d8576b\"],[0.6666666666666666,\"#ed7953\"],[0.7777777777777778,\"#fb9f3a\"],[0.8888888888888888,\"#fdca26\"],[1.0,\"#f0f921\"]]}],\"choropleth\":[{\"type\":\"choropleth\",\"colorbar\":{\"outlinewidth\":0,\"ticks\":\"\"}}],\"histogram2d\":[{\"type\":\"histogram2d\",\"colorbar\":{\"outlinewidth\":0,\"ticks\":\"\"},\"colorscale\":[[0.0,\"#0d0887\"],[0.1111111111111111,\"#46039f\"],[0.2222222222222222,\"#7201a8\"],[0.3333333333333333,\"#9c179e\"],[0.4444444444444444,\"#bd3786\"],[0.5555555555555556,\"#d8576b\"],[0.6666666666666666,\"#ed7953\"],[0.7777777777777778,\"#fb9f3a\"],[0.8888888888888888,\"#fdca26\"],[1.0,\"#f0f921\"]]}],\"heatmap\":[{\"type\":\"heatmap\",\"colorbar\":{\"outlinewidth\":0,\"ticks\":\"\"},\"colorscale\":[[0.0,\"#0d0887\"],[0.1111111111111111,\"#46039f\"],[0.2222222222222222,\"#7201a8\"],[0.3333333333333333,\"#9c179e\"],[0.4444444444444444,\"#bd3786\"],[0.5555555555555556,\"#d8576b\"],[0.6666666666666666,\"#ed7953\"],[0.7777777777777778,\"#fb9f3a\"],[0.8888888888888888,\"#fdca26\"],[1.0,\"#f0f921\"]]}],\"heatmapgl\":[{\"type\":\"heatmapgl\",\"colorbar\":{\"outlinewidth\":0,\"ticks\":\"\"},\"colorscale\":[[0.0,\"#0d0887\"],[0.1111111111111111,\"#46039f\"],[0.2222222222222222,\"#7201a8\"],[0.3333333333333333,\"#9c179e\"],[0.4444444444444444,\"#bd3786\"],[0.5555555555555556,\"#d8576b\"],[0.6666666666666666,\"#ed7953\"],[0.7777777777777778,\"#fb9f3a\"],[0.8888888888888888,\"#fdca26\"],[1.0,\"#f0f921\"]]}],\"contourcarpet\":[{\"type\":\"contourcarpet\",\"colorbar\":{\"outlinewidth\":0,\"ticks\":\"\"}}],\"contour\":[{\"type\":\"contour\",\"colorbar\":{\"outlinewidth\":0,\"ticks\":\"\"},\"colorscale\":[[0.0,\"#0d0887\"],[0.1111111111111111,\"#46039f\"],[0.2222222222222222,\"#7201a8\"],[0.3333333333333333,\"#9c179e\"],[0.4444444444444444,\"#bd3786\"],[0.5555555555555556,\"#d8576b\"],[0.6666666666666666,\"#ed7953\"],[0.7777777777777778,\"#fb9f3a\"],[0.8888888888888888,\"#fdca26\"],[1.0,\"#f0f921\"]]}],\"surface\":[{\"type\":\"surface\",\"colorbar\":{\"outlinewidth\":0,\"ticks\":\"\"},\"colorscale\":[[0.0,\"#0d0887\"],[0.1111111111111111,\"#46039f\"],[0.2222222222222222,\"#7201a8\"],[0.3333333333333333,\"#9c179e\"],[0.4444444444444444,\"#bd3786\"],[0.5555555555555556,\"#d8576b\"],[0.6666666666666666,\"#ed7953\"],[0.7777777777777778,\"#fb9f3a\"],[0.8888888888888888,\"#fdca26\"],[1.0,\"#f0f921\"]]}],\"mesh3d\":[{\"type\":\"mesh3d\",\"colorbar\":{\"outlinewidth\":0,\"ticks\":\"\"}}],\"scatter\":[{\"fillpattern\":{\"fillmode\":\"overlay\",\"size\":10,\"solidity\":0.2},\"type\":\"scatter\"}],\"parcoords\":[{\"type\":\"parcoords\",\"line\":{\"colorbar\":{\"outlinewidth\":0,\"ticks\":\"\"}}}],\"scatterpolargl\":[{\"type\":\"scatterpolargl\",\"marker\":{\"colorbar\":{\"outlinewidth\":0,\"ticks\":\"\"}}}],\"bar\":[{\"error_x\":{\"color\":\"#2a3f5f\"},\"error_y\":{\"color\":\"#2a3f5f\"},\"marker\":{\"line\":{\"color\":\"#E5ECF6\",\"width\":0.5},\"pattern\":{\"fillmode\":\"overlay\",\"size\":10,\"solidity\":0.2}},\"type\":\"bar\"}],\"scattergeo\":[{\"type\":\"scattergeo\",\"marker\":{\"colorbar\":{\"outlinewidth\":0,\"ticks\":\"\"}}}],\"scatterpolar\":[{\"type\":\"scatterpolar\",\"marker\":{\"colorbar\":{\"outlinewidth\":0,\"ticks\":\"\"}}}],\"histogram\":[{\"marker\":{\"pattern\":{\"fillmode\":\"overlay\",\"size\":10,\"solidity\":0.2}},\"type\":\"histogram\"}],\"scattergl\":[{\"type\":\"scattergl\",\"marker\":{\"colorbar\":{\"outlinewidth\":0,\"ticks\":\"\"}}}],\"scatter3d\":[{\"type\":\"scatter3d\",\"line\":{\"colorbar\":{\"outlinewidth\":0,\"ticks\":\"\"}},\"marker\":{\"colorbar\":{\"outlinewidth\":0,\"ticks\":\"\"}}}],\"scattermapbox\":[{\"type\":\"scattermapbox\",\"marker\":{\"colorbar\":{\"outlinewidth\":0,\"ticks\":\"\"}}}],\"scatterternary\":[{\"type\":\"scatterternary\",\"marker\":{\"colorbar\":{\"outlinewidth\":0,\"ticks\":\"\"}}}],\"scattercarpet\":[{\"type\":\"scattercarpet\",\"marker\":{\"colorbar\":{\"outlinewidth\":0,\"ticks\":\"\"}}}],\"carpet\":[{\"aaxis\":{\"endlinecolor\":\"#2a3f5f\",\"gridcolor\":\"white\",\"linecolor\":\"white\",\"minorgridcolor\":\"white\",\"startlinecolor\":\"#2a3f5f\"},\"baxis\":{\"endlinecolor\":\"#2a3f5f\",\"gridcolor\":\"white\",\"linecolor\":\"white\",\"minorgridcolor\":\"white\",\"startlinecolor\":\"#2a3f5f\"},\"type\":\"carpet\"}],\"table\":[{\"cells\":{\"fill\":{\"color\":\"#EBF0F8\"},\"line\":{\"color\":\"white\"}},\"header\":{\"fill\":{\"color\":\"#C8D4E3\"},\"line\":{\"color\":\"white\"}},\"type\":\"table\"}],\"barpolar\":[{\"marker\":{\"line\":{\"color\":\"#E5ECF6\",\"width\":0.5},\"pattern\":{\"fillmode\":\"overlay\",\"size\":10,\"solidity\":0.2}},\"type\":\"barpolar\"}],\"pie\":[{\"automargin\":true,\"type\":\"pie\"}]},\"layout\":{\"autotypenumbers\":\"strict\",\"colorway\":[\"#636efa\",\"#EF553B\",\"#00cc96\",\"#ab63fa\",\"#FFA15A\",\"#19d3f3\",\"#FF6692\",\"#B6E880\",\"#FF97FF\",\"#FECB52\"],\"font\":{\"color\":\"#2a3f5f\"},\"hovermode\":\"closest\",\"hoverlabel\":{\"align\":\"left\"},\"paper_bgcolor\":\"white\",\"plot_bgcolor\":\"#E5ECF6\",\"polar\":{\"bgcolor\":\"#E5ECF6\",\"angularaxis\":{\"gridcolor\":\"white\",\"linecolor\":\"white\",\"ticks\":\"\"},\"radialaxis\":{\"gridcolor\":\"white\",\"linecolor\":\"white\",\"ticks\":\"\"}},\"ternary\":{\"bgcolor\":\"#E5ECF6\",\"aaxis\":{\"gridcolor\":\"white\",\"linecolor\":\"white\",\"ticks\":\"\"},\"baxis\":{\"gridcolor\":\"white\",\"linecolor\":\"white\",\"ticks\":\"\"},\"caxis\":{\"gridcolor\":\"white\",\"linecolor\":\"white\",\"ticks\":\"\"}},\"coloraxis\":{\"colorbar\":{\"outlinewidth\":0,\"ticks\":\"\"}},\"colorscale\":{\"sequential\":[[0.0,\"#0d0887\"],[0.1111111111111111,\"#46039f\"],[0.2222222222222222,\"#7201a8\"],[0.3333333333333333,\"#9c179e\"],[0.4444444444444444,\"#bd3786\"],[0.5555555555555556,\"#d8576b\"],[0.6666666666666666,\"#ed7953\"],[0.7777777777777778,\"#fb9f3a\"],[0.8888888888888888,\"#fdca26\"],[1.0,\"#f0f921\"]],\"sequentialminus\":[[0.0,\"#0d0887\"],[0.1111111111111111,\"#46039f\"],[0.2222222222222222,\"#7201a8\"],[0.3333333333333333,\"#9c179e\"],[0.4444444444444444,\"#bd3786\"],[0.5555555555555556,\"#d8576b\"],[0.6666666666666666,\"#ed7953\"],[0.7777777777777778,\"#fb9f3a\"],[0.8888888888888888,\"#fdca26\"],[1.0,\"#f0f921\"]],\"diverging\":[[0,\"#8e0152\"],[0.1,\"#c51b7d\"],[0.2,\"#de77ae\"],[0.3,\"#f1b6da\"],[0.4,\"#fde0ef\"],[0.5,\"#f7f7f7\"],[0.6,\"#e6f5d0\"],[0.7,\"#b8e186\"],[0.8,\"#7fbc41\"],[0.9,\"#4d9221\"],[1,\"#276419\"]]},\"xaxis\":{\"gridcolor\":\"white\",\"linecolor\":\"white\",\"ticks\":\"\",\"title\":{\"standoff\":15},\"zerolinecolor\":\"white\",\"automargin\":true,\"zerolinewidth\":2},\"yaxis\":{\"gridcolor\":\"white\",\"linecolor\":\"white\",\"ticks\":\"\",\"title\":{\"standoff\":15},\"zerolinecolor\":\"white\",\"automargin\":true,\"zerolinewidth\":2},\"scene\":{\"xaxis\":{\"backgroundcolor\":\"#E5ECF6\",\"gridcolor\":\"white\",\"linecolor\":\"white\",\"showbackground\":true,\"ticks\":\"\",\"zerolinecolor\":\"white\",\"gridwidth\":2},\"yaxis\":{\"backgroundcolor\":\"#E5ECF6\",\"gridcolor\":\"white\",\"linecolor\":\"white\",\"showbackground\":true,\"ticks\":\"\",\"zerolinecolor\":\"white\",\"gridwidth\":2},\"zaxis\":{\"backgroundcolor\":\"#E5ECF6\",\"gridcolor\":\"white\",\"linecolor\":\"white\",\"showbackground\":true,\"ticks\":\"\",\"zerolinecolor\":\"white\",\"gridwidth\":2}},\"shapedefaults\":{\"line\":{\"color\":\"#2a3f5f\"}},\"annotationdefaults\":{\"arrowcolor\":\"#2a3f5f\",\"arrowhead\":0,\"arrowwidth\":1},\"geo\":{\"bgcolor\":\"white\",\"landcolor\":\"#E5ECF6\",\"subunitcolor\":\"white\",\"showland\":true,\"showlakes\":true,\"lakecolor\":\"white\"},\"title\":{\"x\":0.05},\"mapbox\":{\"style\":\"light\"}}},\"xaxis\":{\"anchor\":\"y\",\"domain\":[0.0,1.0],\"title\":{\"text\":\"H\\u1ea1ng m\\u1ee5c\"},\"categoryorder\":\"array\",\"categoryarray\":[\"Gi\\u00e1o d\\u1ee5c\",\"Th\\u1ec3 thao\",\"B\\u1ea5t \\u0111\\u1ed9ng s\\u1ea3n\",\"S\\u1ee9c kh\\u1ecfe\",\"V\\u0103n h\\u00f3a\",\"Kinh doanh\",\"X\\u00e3 h\\u1ed9i\",\"Xe ++\",\"S\\u1ee9c m\\u1ea1nh s\\u1ed1\",\"Th\\u1ebf gi\\u1edbi\",\"Vi\\u1ec7c l\\u00e0m\",\"An sinh\",\"Gi\\u1ea3i tr\\u00ed\",\"Ph\\u00e1p lu\\u1eadt\"]},\"yaxis\":{\"anchor\":\"x\",\"domain\":[0.0,1.0],\"title\":{\"text\":\"S\\u1ed1 l\\u01b0\\u1ee3ng b\\u00e0i b\\u00e1o\"},\"showgrid\":true},\"legend\":{\"title\":{},\"tracegroupgap\":0,\"orientation\":\"h\",\"y\":1,\"yanchor\":\"bottom\",\"x\":0.5,\"xanchor\":\"center\"},\"title\":{\"text\":\"S\\u1ed1 l\\u01b0\\u1ee3ng b\\u00e0i b\\u00e1o tr\\u00ean t\\u1eebng h\\u1ea1ng m\\u1ee5c\"},\"barmode\":\"relative\",\"font\":{\"family\":\"Arial\"},\"shapes\":[{\"line\":{\"color\":\"#16FF32\",\"dash\":\"dot\",\"width\":3},\"opacity\":1,\"type\":\"line\",\"x0\":0,\"x1\":1,\"xref\":\"paper\",\"y0\":929,\"y1\":929,\"yref\":\"y\"}],\"annotations\":[{\"arrowhead\":1,\"showarrow\":true,\"text\":\"S\\u1ed1 l\\u01b0\\u1ee3ng \\u00edt nh\\u1ea5t\",\"x\":\"Ph\\u00e1p lu\\u1eadt\",\"y\":500}]},                        {\"responsive\": true}                    ).then(function(){\n",
              "                            \n",
              "var gd = document.getElementById('bf797e9f-8184-4a02-b4b1-21c23704b1cc');\n",
              "var x = new MutationObserver(function (mutations, observer) {{\n",
              "        var display = window.getComputedStyle(gd).display;\n",
              "        if (!display || display === 'none') {{\n",
              "            console.log([gd, 'removed!']);\n",
              "            Plotly.purge(gd);\n",
              "            observer.disconnect();\n",
              "        }}\n",
              "}});\n",
              "\n",
              "// Listen for the removal of the full notebook cells\n",
              "var notebookContainer = gd.closest('#notebook-container');\n",
              "if (notebookContainer) {{\n",
              "    x.observe(notebookContainer, {childList: true});\n",
              "}}\n",
              "\n",
              "// Listen for the clearing of the current output cell\n",
              "var outputEl = gd.closest('.output');\n",
              "if (outputEl) {{\n",
              "    x.observe(outputEl, {childList: true});\n",
              "}}\n",
              "\n",
              "                        })                };                            </script>        </div>\n",
              "</body>\n",
              "</html>"
            ]
          },
          "metadata": {}
        }
      ],
      "source": [
        "count = newdata[\"category\"].value_counts()\n",
        "num_of_post_each_topic = pd.DataFrame(\n",
        "    {\"category\": count.index, \"count\": count.values}\n",
        ")\n",
        "\n",
        "create_bar_plot(df=num_of_post_each_topic)"
      ]
    },
    {
      "cell_type": "markdown",
      "metadata": {
        "id": "eabgFtQkHfTe"
      },
      "source": [
        "### Data preprocessing\n",
        "> Bình thường, trong tiếng Anh sẽ tách ra thành các từ đơn lẻ rồi chuyển sang dạng só thực một cách trực tiếp. Tuy nhiên, trong tiếng Việt sẽ có những từ phải đi cùng một cặp với nhau thì sẽ mang ý nghĩa rõ ràng hơn. Do đó cách xử lý sẽ khác so với tiếng Anh"
      ]
    },
    {
      "cell_type": "code",
      "execution_count": null,
      "metadata": {
        "id": "VQuyp68kBPYI"
      },
      "outputs": [],
      "source": [
        "class TextCleaner(BaseEstimator, TransformerMixin):\n",
        "    def __init__(self) -> None:\n",
        "        super().__init__()\n",
        "\n",
        "    def fit(self, X, y=None):\n",
        "        return self\n",
        "\n",
        "    def transform(self, X):\n",
        "        cleaned_texts = []\n",
        "        for text in X:\n",
        "            cleaned_text = self.clean_text(text)\n",
        "            cleaned_texts.append(cleaned_text)\n",
        "        return np.array(cleaned_texts)\n",
        "\n",
        "    @staticmethod\n",
        "    def clean_text(content: str):\n",
        "        # Text Normalizer\n",
        "        # lowercase content\n",
        "        # content = content.lower()\n",
        "        # # remove white space\n",
        "        # content = \" \".join([x for x in content.split()])\n",
        "        # # remove punctuation and digits\n",
        "        # content = content.translate(str.maketrans(\"\", \"\", punc_custom)).translate(\n",
        "        #     str.maketrans(\"\", \"\", digits)\n",
        "        # )\n",
        "\n",
        "        # Sử dụng `gensim` để xử lý cơ bản text\n",
        "        tokens = gensim.utils.simple_preprocess(content)\n",
        "        content = \" \".join(tokens)\n",
        "        # tokenize content\n",
        "        content = ViTokenizer.tokenize(content)\n",
        "\n",
        "        return content"
      ]
    },
    {
      "cell_type": "code",
      "execution_count": null,
      "metadata": {
        "colab": {
          "base_uri": "https://localhost:8080/"
        },
        "id": "OL3pAOXhIf1p",
        "outputId": "a0f7b3eb-2a1a-40de-b913-b9cb6d98df4d"
      },
      "outputs": [
        {
          "output_type": "stream",
          "name": "stdout",
          "text": [
            "(12232,) (12232,)\n"
          ]
        }
      ],
      "source": [
        "X, label = newdata['content'].values, newdata['category'].values\n",
        "\n",
        "print(X.shape, label.shape)"
      ]
    },
    {
      "cell_type": "code",
      "execution_count": null,
      "metadata": {
        "colab": {
          "base_uri": "https://localhost:8080/"
        },
        "id": "AsQqz-auK1mB",
        "outputId": "0158ecb1-7239-4c89-d727-e140a12e33bf"
      },
      "outputs": [
        {
          "output_type": "stream",
          "name": "stdout",
          "text": [
            "['Ông Nguyễn Văn Sơn, Phó Tổng cục trưởng Tổng cục Thi hành án dân sự (Bộ Tư pháp) vừa ký ban hành kế hoạch công tác năm 2024 của Tổ công tác chỉ đạo xử lý các vụ việc liên quan đến hoạt động tín dụng, ngân hàng (Tổ xử lý nợ xấu). Tổ xử lý nợ xấu có trách nhiệm phối hợp với Vụ Pháp chế (Ngân hàng Nhà nước), Hiệp hội Ngân hàng tổ chức tọa đàm, đối thoại giữa các cơ quan thi hành án với tổ chức tín dụng, Công ty quản lý tài sản (VAMC) để trao đổi, tháo gỡ khó khăn, vướng mắc liên quan đến các vụ việc thi hành án tín dụng, ngân hàng. Trong đó, tập trung rà soát, tổng hợp các vụ việc trên cơ sở thông báo kết luận kiểm tra các năm 2022, 2023 hoặc đề nghị của Hiệp hội Ngân hàng, các tổ chức tín dụng, VAMC. \"Phối hợp chỉ đạo tổ chức thi hành dứt điểm đối với những vụ việc có điều kiện, nhất là những đơn vị có nhiều vụ việc lớn, phức tạp liên quan đến các tổ chức tín dụng như Agribank, Vietcombank, VPBank, BIDV, Vietinbank\", lãnh đạo Tổng cục Thi hành án dân sự nêu rõ. Ông Nguyễn Văn Sơn, Phó Tổng cục trưởng Tổng cục Thi hành án dân sự, Bộ Tư pháp (Ảnh: Thế Kha). Tổ xử lý nợ xấu có trách nhiệm kiểm tra, phúc tra, đôn đốc thi hành án tại một số địa phương có số lượng việc/số tiền phải thi hành lớn, tỷ lệ thi hành án thấp để kịp thời chỉ đạo đẩy nhanh tiến độ. Dự kiến sẽ thực hiện việc này tại Cục Thi hành án dân sự TPHCM, Hà Nội, Kiên Giang. Để đảm bảo mục tiêu đề ra, Tổng cục Thi hành án dân sự cũng vừa có công văn yêu cầu Cục trưởng Thi hành án dân sự các địa phương đôn đốc, chỉ đạo chấp hành viên tập trung rà soát kỹ những vụ việc còn tồn đọng, liên quan đến xử lý tài sản bảo đảm và xây dựng kế hoạch chi tiết, các giải pháp cụ thể để giải quyết dứt điểm. Cơ quan thi hành án phân công lãnh đạo trực tiếp chỉ đạo, chịu trách nhiệm về tiến độ và kết quả thi hành án với những vụ việc phức tạp, có giá trị lớn; những vụ việc trên 3 năm chưa thi hành xong. Với những vụ việc chậm thi hành án do nguyên nhân chủ quan của cá nhân, Tổng cục Thi hành án dân sự yêu cầu nghiêm túc chấn chỉnh, xem xét trách nhiệm. Những trường hợp có khó khăn, vướng mắc, địa phương phải kịp thời chỉ đạo tháo gỡ hoặc báo cáo xin ý kiến cơ quan cấp trên hoặc báo cáo Tổng cục Thi hành án dân sự để lập đoàn kiểm tra đột xuất. 40 người thuộc diện tinh giản biên chế năm 2024 Tổng cục Thi hành án dân sự cho biết đã báo cáo lãnh đạo Bộ Tư pháp phê duyệt tinh giản biên chế với 39 trường hợp trong năm 2023 (34 người về hưu trước tuổi và 5 trường hợp thôi việc ngay). Việc xây dựng kế hoạch tinh giản biên chế đã được cơ quan này đảm bảo đúng nguyên tắc tinh giản tối thiểu 5% trên tỷ lệ biên chế giao đảm bảo đến năm 2026.\\xa0 Năm 2024, hệ thống thi hành án dân sự dự kiến thực hiện tinh giản biên chế đối với 40 trường hợp; đồng thời thực hiện sắp xếp, tinh gọn bộ máy và nâng cao chất lượng cho hệ thống phát triển bền vững, ổn định. '\n",
            " 'Sáng 12/2 (mùng 3 Tết Giáp Thìn), Thủ tướng Phạm Minh Chính đã đi thăm, tặng quà, động viên cán bộ, công nhân, người lao động tại Công ty Môi trường đô thị Hà Nội và Nhà máy nước Yên Phụ. Đến động viên các tổ công nhân của Công ty URENCO đang làm nhiệm vụ tại khu vực đường Điện Biên Phủ và đường Hoàng Diệu, Thủ tướng gửi lời cảm ơn và chúc mừng năm mới tới toàn thể gần 5.000 cán bộ, công nhân viên, người lao động của Công ty. Thủ tướng Phạm Minh Chính thăm, chúc Tết công nhân, người lao động của Công ty Môi trường đô thị Hà Nội đang trực tại Công viên Lênin (Ảnh: Đoàn Bắc). Theo ông, họ là những người đã không quản mưa rét hay nắng nóng, bền bỉ làm việc cho những con đường, góc phố, công viên của Hà Nội xanh, sạch, đẹp, an toàn, góp phần giữ gìn và xây dựng Hà Nội ngàn năm văn hiến, Thành phố vì hòa bình. Thủ tướng đặc biệt biểu dương tinh thần làm việc của các công nhân lao động xuyên Tết, khi mọi người nghỉ ngơi, vui Tết, họ phải đảm đương khối lượng công việc ngày Tết nhiều hơn, vất vả hơn. Thăm hỏi công việc, đời sống, thu nhập của người lao động công ty, chế độ đãi ngộ dịp Tết, Thủ tướng cho rằng nghề gì cũng có vất vả và vinh quang riêng và các công nhân là những người chiến sĩ thầm lặng trên mặt trận bảo vệ môi trường. Thủ tướng Phạm Minh Chính tặng quà cho công nhân vệ sinh môi trường - những người lao động thầm lặng không có ngày nghỉ Tết (Ảnh: Đoàn Bắc). Xúc động khi được lãnh đạo Đảng, Nhà nước đến thăm, động viên và tặng quà, các công nhân vệ sinh hứa với Thủ tướng luôn nỗ lực vượt mọi khó khăn, gác lại việc gia đình dịp Tết để giữ gìn, bảo vệ môi trường Thành phố. Các công nhân mong muốn các cơ quan chức năng có biện pháp hiệu quả hơn để mỗi người dân có ý thức tốt hơn trong bảo vệ môi trường, thu gom rác thải, xử phạt nghiêm các trường hợp vứt rác bừa bãi. Ghi nhận ý kiến này, Thủ tướng cho rằng việc giữ gìn môi trường sạch, đẹp cần sự vào cuộc mạnh hơn và ý thức cùng sự chung tay của mỗi người dân. \"Nếu biết ơn những người công nhân đã giữ gìn cho môi trường xanh sạch đẹp, mỗi người cần đổ rác đúng chỗ, đúng giờ, giúp giảm bớt sự vất vả, khó nhọc của các công nhân\", Thủ tướng nói. Ngoài đề nghị cần có chính sách phù hợp cho lực lượng công nhân, người đứng đầu Chính phủ yêu cầu tăng cường ứng dụng công nghệ, các giải pháp mới trong công việc. Tiếp đó, Thủ tướng Phạm Minh Chính đi chúc Tết, tặng quà động viên người lao động tại Nhà máy nước Yên Phụ thuộc Công ty Nước sạch Hà Nội. Thủ tướng Phạm Minh Chính chúc Tết, tặng quà động viên người lao động tại Nhà máy nước Yên Phụ thuộc Công ty Nước sạch Hà Nội (Ảnh: Đoàn Bắc). Thủ tướng đánh giá cao Công ty đã triển khai đồng bộ, đảm bảo tất cả các hoạt động bình thường dịp Tết; vận hành mạng lưới cấp nước lưu thông phân phối, bố trí phương tiện, thiết bị, xe téc cấp nước 24/24h để xử lý kịp thời các sự cố…; không để cho khu vực nào mất nước, thiếu nước trong dịp Tết. Thủ tướng đề nghị Công ty áp dụng công nghệ nâng cao chất lượng nước; tiết kiệm nguyên liệu; nâng cao hiệu quả hoạt động. Thủ tướng cũng lưu ý làm tốt công tác quy hoạch mạng lưới cấp nước, đa dạng hóa các nguồn cung nước, đa dạng hóa địa bàn, mở rộng hoạt động hơn nữa tới các địa bàn xa trung tâm... Thủ tướng thăm phòng truyền thống của Công ty Nước sạch Hà Nội (Ảnh: Đoàn Bắc). Về giá nước, Thủ tướng định hướng cần tuân theo quy luật thị trường, nhưng khi cần thiết phải có sự điều tiết của Nhà nước bằng các công cụ phù hợp, có chính sách phù hợp với những người nghèo, người yếu thế, có hoàn cảnh khó khăn. Thủ tướng nhấn mạnh, Công ty Nước sạch Hà Nội phải bảo đảm an ninh nguồn nước phục vụ người dân Thủ đô, bảo đảm hoàn thành chỉ tiêu về cung cấp nước sạch, giảm tỷ lệ thất thoát, thất thu nước sạch. ']\n",
            "['Xã hội' 'Xã hội']\n"
          ]
        }
      ],
      "source": [
        "print(X[:2])\n",
        "print(label[:2])"
      ]
    },
    {
      "cell_type": "code",
      "execution_count": null,
      "metadata": {
        "colab": {
          "base_uri": "https://localhost:8080/"
        },
        "id": "i9dB8ctaK33R",
        "outputId": "21fa1a53-3925-4c33-ba66-51fa6bcfa398"
      },
      "outputs": [
        {
          "output_type": "stream",
          "name": "stdout",
          "text": [
            "['An sinh' 'Bất động sản' 'Giáo dục' 'Giải trí' 'Kinh doanh' 'Pháp luật'\n",
            " 'Sức khỏe' 'Sức mạnh số' 'Thế giới' 'Thể thao' 'Việc làm' 'Văn hóa'\n",
            " 'Xe ++' 'Xã hội']\n"
          ]
        }
      ],
      "source": [
        "le = LabelEncoder()\n",
        "y = le.fit_transform(label)\n",
        "\n",
        "print(le.classes_)"
      ]
    },
    {
      "cell_type": "markdown",
      "metadata": {
        "id": "6nCu6aEZwukk"
      },
      "source": [
        "#### Chia dữ liệu thành tập train và test"
      ]
    },
    {
      "cell_type": "code",
      "execution_count": null,
      "metadata": {
        "id": "RconzWivMkOC"
      },
      "outputs": [],
      "source": [
        "X_train, X_test, y_train, y_test = train_test_split(X, y, test_size=0.3, random_state=RANDOM_STATE)"
      ]
    },
    {
      "cell_type": "code",
      "execution_count": null,
      "metadata": {
        "colab": {
          "base_uri": "https://localhost:8080/",
          "height": 206
        },
        "id": "P4n6hZ2YueJY",
        "outputId": "75ab7dcf-e864-49b2-9fe7-53228044db7e"
      },
      "outputs": [
        {
          "output_type": "execute_result",
          "data": {
            "text/plain": [
              "   category\n",
              "0         5\n",
              "1         1\n",
              "2        13\n",
              "3         2\n",
              "4         1"
            ],
            "text/html": [
              "\n",
              "  <div id=\"df-7e49adcc-63bd-4067-a2e9-85a6ac902e7a\" class=\"colab-df-container\">\n",
              "    <div>\n",
              "<style scoped>\n",
              "    .dataframe tbody tr th:only-of-type {\n",
              "        vertical-align: middle;\n",
              "    }\n",
              "\n",
              "    .dataframe tbody tr th {\n",
              "        vertical-align: top;\n",
              "    }\n",
              "\n",
              "    .dataframe thead th {\n",
              "        text-align: right;\n",
              "    }\n",
              "</style>\n",
              "<table border=\"1\" class=\"dataframe\">\n",
              "  <thead>\n",
              "    <tr style=\"text-align: right;\">\n",
              "      <th></th>\n",
              "      <th>category</th>\n",
              "    </tr>\n",
              "  </thead>\n",
              "  <tbody>\n",
              "    <tr>\n",
              "      <th>0</th>\n",
              "      <td>5</td>\n",
              "    </tr>\n",
              "    <tr>\n",
              "      <th>1</th>\n",
              "      <td>1</td>\n",
              "    </tr>\n",
              "    <tr>\n",
              "      <th>2</th>\n",
              "      <td>13</td>\n",
              "    </tr>\n",
              "    <tr>\n",
              "      <th>3</th>\n",
              "      <td>2</td>\n",
              "    </tr>\n",
              "    <tr>\n",
              "      <th>4</th>\n",
              "      <td>1</td>\n",
              "    </tr>\n",
              "  </tbody>\n",
              "</table>\n",
              "</div>\n",
              "    <div class=\"colab-df-buttons\">\n",
              "\n",
              "  <div class=\"colab-df-container\">\n",
              "    <button class=\"colab-df-convert\" onclick=\"convertToInteractive('df-7e49adcc-63bd-4067-a2e9-85a6ac902e7a')\"\n",
              "            title=\"Convert this dataframe to an interactive table.\"\n",
              "            style=\"display:none;\">\n",
              "\n",
              "  <svg xmlns=\"http://www.w3.org/2000/svg\" height=\"24px\" viewBox=\"0 -960 960 960\">\n",
              "    <path d=\"M120-120v-720h720v720H120Zm60-500h600v-160H180v160Zm220 220h160v-160H400v160Zm0 220h160v-160H400v160ZM180-400h160v-160H180v160Zm440 0h160v-160H620v160ZM180-180h160v-160H180v160Zm440 0h160v-160H620v160Z\"/>\n",
              "  </svg>\n",
              "    </button>\n",
              "\n",
              "  <style>\n",
              "    .colab-df-container {\n",
              "      display:flex;\n",
              "      gap: 12px;\n",
              "    }\n",
              "\n",
              "    .colab-df-convert {\n",
              "      background-color: #E8F0FE;\n",
              "      border: none;\n",
              "      border-radius: 50%;\n",
              "      cursor: pointer;\n",
              "      display: none;\n",
              "      fill: #1967D2;\n",
              "      height: 32px;\n",
              "      padding: 0 0 0 0;\n",
              "      width: 32px;\n",
              "    }\n",
              "\n",
              "    .colab-df-convert:hover {\n",
              "      background-color: #E2EBFA;\n",
              "      box-shadow: 0px 1px 2px rgba(60, 64, 67, 0.3), 0px 1px 3px 1px rgba(60, 64, 67, 0.15);\n",
              "      fill: #174EA6;\n",
              "    }\n",
              "\n",
              "    .colab-df-buttons div {\n",
              "      margin-bottom: 4px;\n",
              "    }\n",
              "\n",
              "    [theme=dark] .colab-df-convert {\n",
              "      background-color: #3B4455;\n",
              "      fill: #D2E3FC;\n",
              "    }\n",
              "\n",
              "    [theme=dark] .colab-df-convert:hover {\n",
              "      background-color: #434B5C;\n",
              "      box-shadow: 0px 1px 3px 1px rgba(0, 0, 0, 0.15);\n",
              "      filter: drop-shadow(0px 1px 2px rgba(0, 0, 0, 0.3));\n",
              "      fill: #FFFFFF;\n",
              "    }\n",
              "  </style>\n",
              "\n",
              "    <script>\n",
              "      const buttonEl =\n",
              "        document.querySelector('#df-7e49adcc-63bd-4067-a2e9-85a6ac902e7a button.colab-df-convert');\n",
              "      buttonEl.style.display =\n",
              "        google.colab.kernel.accessAllowed ? 'block' : 'none';\n",
              "\n",
              "      async function convertToInteractive(key) {\n",
              "        const element = document.querySelector('#df-7e49adcc-63bd-4067-a2e9-85a6ac902e7a');\n",
              "        const dataTable =\n",
              "          await google.colab.kernel.invokeFunction('convertToInteractive',\n",
              "                                                    [key], {});\n",
              "        if (!dataTable) return;\n",
              "\n",
              "        const docLinkHtml = 'Like what you see? Visit the ' +\n",
              "          '<a target=\"_blank\" href=https://colab.research.google.com/notebooks/data_table.ipynb>data table notebook</a>'\n",
              "          + ' to learn more about interactive tables.';\n",
              "        element.innerHTML = '';\n",
              "        dataTable['output_type'] = 'display_data';\n",
              "        await google.colab.output.renderOutput(dataTable, element);\n",
              "        const docLink = document.createElement('div');\n",
              "        docLink.innerHTML = docLinkHtml;\n",
              "        element.appendChild(docLink);\n",
              "      }\n",
              "    </script>\n",
              "  </div>\n",
              "\n",
              "\n",
              "<div id=\"df-3e3f512e-c1d8-40f0-8b11-15fe734f1fdf\">\n",
              "  <button class=\"colab-df-quickchart\" onclick=\"quickchart('df-3e3f512e-c1d8-40f0-8b11-15fe734f1fdf')\"\n",
              "            title=\"Suggest charts\"\n",
              "            style=\"display:none;\">\n",
              "\n",
              "<svg xmlns=\"http://www.w3.org/2000/svg\" height=\"24px\"viewBox=\"0 0 24 24\"\n",
              "     width=\"24px\">\n",
              "    <g>\n",
              "        <path d=\"M19 3H5c-1.1 0-2 .9-2 2v14c0 1.1.9 2 2 2h14c1.1 0 2-.9 2-2V5c0-1.1-.9-2-2-2zM9 17H7v-7h2v7zm4 0h-2V7h2v10zm4 0h-2v-4h2v4z\"/>\n",
              "    </g>\n",
              "</svg>\n",
              "  </button>\n",
              "\n",
              "<style>\n",
              "  .colab-df-quickchart {\n",
              "      --bg-color: #E8F0FE;\n",
              "      --fill-color: #1967D2;\n",
              "      --hover-bg-color: #E2EBFA;\n",
              "      --hover-fill-color: #174EA6;\n",
              "      --disabled-fill-color: #AAA;\n",
              "      --disabled-bg-color: #DDD;\n",
              "  }\n",
              "\n",
              "  [theme=dark] .colab-df-quickchart {\n",
              "      --bg-color: #3B4455;\n",
              "      --fill-color: #D2E3FC;\n",
              "      --hover-bg-color: #434B5C;\n",
              "      --hover-fill-color: #FFFFFF;\n",
              "      --disabled-bg-color: #3B4455;\n",
              "      --disabled-fill-color: #666;\n",
              "  }\n",
              "\n",
              "  .colab-df-quickchart {\n",
              "    background-color: var(--bg-color);\n",
              "    border: none;\n",
              "    border-radius: 50%;\n",
              "    cursor: pointer;\n",
              "    display: none;\n",
              "    fill: var(--fill-color);\n",
              "    height: 32px;\n",
              "    padding: 0;\n",
              "    width: 32px;\n",
              "  }\n",
              "\n",
              "  .colab-df-quickchart:hover {\n",
              "    background-color: var(--hover-bg-color);\n",
              "    box-shadow: 0 1px 2px rgba(60, 64, 67, 0.3), 0 1px 3px 1px rgba(60, 64, 67, 0.15);\n",
              "    fill: var(--button-hover-fill-color);\n",
              "  }\n",
              "\n",
              "  .colab-df-quickchart-complete:disabled,\n",
              "  .colab-df-quickchart-complete:disabled:hover {\n",
              "    background-color: var(--disabled-bg-color);\n",
              "    fill: var(--disabled-fill-color);\n",
              "    box-shadow: none;\n",
              "  }\n",
              "\n",
              "  .colab-df-spinner {\n",
              "    border: 2px solid var(--fill-color);\n",
              "    border-color: transparent;\n",
              "    border-bottom-color: var(--fill-color);\n",
              "    animation:\n",
              "      spin 1s steps(1) infinite;\n",
              "  }\n",
              "\n",
              "  @keyframes spin {\n",
              "    0% {\n",
              "      border-color: transparent;\n",
              "      border-bottom-color: var(--fill-color);\n",
              "      border-left-color: var(--fill-color);\n",
              "    }\n",
              "    20% {\n",
              "      border-color: transparent;\n",
              "      border-left-color: var(--fill-color);\n",
              "      border-top-color: var(--fill-color);\n",
              "    }\n",
              "    30% {\n",
              "      border-color: transparent;\n",
              "      border-left-color: var(--fill-color);\n",
              "      border-top-color: var(--fill-color);\n",
              "      border-right-color: var(--fill-color);\n",
              "    }\n",
              "    40% {\n",
              "      border-color: transparent;\n",
              "      border-right-color: var(--fill-color);\n",
              "      border-top-color: var(--fill-color);\n",
              "    }\n",
              "    60% {\n",
              "      border-color: transparent;\n",
              "      border-right-color: var(--fill-color);\n",
              "    }\n",
              "    80% {\n",
              "      border-color: transparent;\n",
              "      border-right-color: var(--fill-color);\n",
              "      border-bottom-color: var(--fill-color);\n",
              "    }\n",
              "    90% {\n",
              "      border-color: transparent;\n",
              "      border-bottom-color: var(--fill-color);\n",
              "    }\n",
              "  }\n",
              "</style>\n",
              "\n",
              "  <script>\n",
              "    async function quickchart(key) {\n",
              "      const quickchartButtonEl =\n",
              "        document.querySelector('#' + key + ' button');\n",
              "      quickchartButtonEl.disabled = true;  // To prevent multiple clicks.\n",
              "      quickchartButtonEl.classList.add('colab-df-spinner');\n",
              "      try {\n",
              "        const charts = await google.colab.kernel.invokeFunction(\n",
              "            'suggestCharts', [key], {});\n",
              "      } catch (error) {\n",
              "        console.error('Error during call to suggestCharts:', error);\n",
              "      }\n",
              "      quickchartButtonEl.classList.remove('colab-df-spinner');\n",
              "      quickchartButtonEl.classList.add('colab-df-quickchart-complete');\n",
              "    }\n",
              "    (() => {\n",
              "      let quickchartButtonEl =\n",
              "        document.querySelector('#df-3e3f512e-c1d8-40f0-8b11-15fe734f1fdf button');\n",
              "      quickchartButtonEl.style.display =\n",
              "        google.colab.kernel.accessAllowed ? 'block' : 'none';\n",
              "    })();\n",
              "  </script>\n",
              "</div>\n",
              "\n",
              "    </div>\n",
              "  </div>\n"
            ],
            "application/vnd.google.colaboratory.intrinsic+json": {
              "type": "dataframe",
              "variable_name": "train_category",
              "summary": "{\n  \"name\": \"train_category\",\n  \"rows\": 8562,\n  \"fields\": [\n    {\n      \"column\": \"category\",\n      \"properties\": {\n        \"dtype\": \"number\",\n        \"std\": 4,\n        \"min\": 0,\n        \"max\": 13,\n        \"num_unique_values\": 14,\n        \"samples\": [\n          6,\n          3,\n          5\n        ],\n        \"semantic_type\": \"\",\n        \"description\": \"\"\n      }\n    }\n  ]\n}"
            }
          },
          "metadata": {},
          "execution_count": 40
        }
      ],
      "source": [
        "train_category = pd.DataFrame({'category': y_train})\n",
        "train_category.head()"
      ]
    },
    {
      "cell_type": "code",
      "execution_count": null,
      "metadata": {
        "colab": {
          "base_uri": "https://localhost:8080/",
          "height": 206
        },
        "id": "dSYX2FUEu_zc",
        "outputId": "fa0c68c8-ea25-4bd8-bb3d-519e8cbb40b5"
      },
      "outputs": [
        {
          "output_type": "execute_result",
          "data": {
            "text/plain": [
              "   category_le  count      category\n",
              "0            9    937      Thể thao\n",
              "1            2    922      Giáo dục\n",
              "2            1    802  Bất động sản\n",
              "3            6    780      Sức khỏe\n",
              "4            4    698    Kinh doanh"
            ],
            "text/html": [
              "\n",
              "  <div id=\"df-6ccafe7f-4ea3-4871-a723-ad4c31764078\" class=\"colab-df-container\">\n",
              "    <div>\n",
              "<style scoped>\n",
              "    .dataframe tbody tr th:only-of-type {\n",
              "        vertical-align: middle;\n",
              "    }\n",
              "\n",
              "    .dataframe tbody tr th {\n",
              "        vertical-align: top;\n",
              "    }\n",
              "\n",
              "    .dataframe thead th {\n",
              "        text-align: right;\n",
              "    }\n",
              "</style>\n",
              "<table border=\"1\" class=\"dataframe\">\n",
              "  <thead>\n",
              "    <tr style=\"text-align: right;\">\n",
              "      <th></th>\n",
              "      <th>category_le</th>\n",
              "      <th>count</th>\n",
              "      <th>category</th>\n",
              "    </tr>\n",
              "  </thead>\n",
              "  <tbody>\n",
              "    <tr>\n",
              "      <th>0</th>\n",
              "      <td>9</td>\n",
              "      <td>937</td>\n",
              "      <td>Thể thao</td>\n",
              "    </tr>\n",
              "    <tr>\n",
              "      <th>1</th>\n",
              "      <td>2</td>\n",
              "      <td>922</td>\n",
              "      <td>Giáo dục</td>\n",
              "    </tr>\n",
              "    <tr>\n",
              "      <th>2</th>\n",
              "      <td>1</td>\n",
              "      <td>802</td>\n",
              "      <td>Bất động sản</td>\n",
              "    </tr>\n",
              "    <tr>\n",
              "      <th>3</th>\n",
              "      <td>6</td>\n",
              "      <td>780</td>\n",
              "      <td>Sức khỏe</td>\n",
              "    </tr>\n",
              "    <tr>\n",
              "      <th>4</th>\n",
              "      <td>4</td>\n",
              "      <td>698</td>\n",
              "      <td>Kinh doanh</td>\n",
              "    </tr>\n",
              "  </tbody>\n",
              "</table>\n",
              "</div>\n",
              "    <div class=\"colab-df-buttons\">\n",
              "\n",
              "  <div class=\"colab-df-container\">\n",
              "    <button class=\"colab-df-convert\" onclick=\"convertToInteractive('df-6ccafe7f-4ea3-4871-a723-ad4c31764078')\"\n",
              "            title=\"Convert this dataframe to an interactive table.\"\n",
              "            style=\"display:none;\">\n",
              "\n",
              "  <svg xmlns=\"http://www.w3.org/2000/svg\" height=\"24px\" viewBox=\"0 -960 960 960\">\n",
              "    <path d=\"M120-120v-720h720v720H120Zm60-500h600v-160H180v160Zm220 220h160v-160H400v160Zm0 220h160v-160H400v160ZM180-400h160v-160H180v160Zm440 0h160v-160H620v160ZM180-180h160v-160H180v160Zm440 0h160v-160H620v160Z\"/>\n",
              "  </svg>\n",
              "    </button>\n",
              "\n",
              "  <style>\n",
              "    .colab-df-container {\n",
              "      display:flex;\n",
              "      gap: 12px;\n",
              "    }\n",
              "\n",
              "    .colab-df-convert {\n",
              "      background-color: #E8F0FE;\n",
              "      border: none;\n",
              "      border-radius: 50%;\n",
              "      cursor: pointer;\n",
              "      display: none;\n",
              "      fill: #1967D2;\n",
              "      height: 32px;\n",
              "      padding: 0 0 0 0;\n",
              "      width: 32px;\n",
              "    }\n",
              "\n",
              "    .colab-df-convert:hover {\n",
              "      background-color: #E2EBFA;\n",
              "      box-shadow: 0px 1px 2px rgba(60, 64, 67, 0.3), 0px 1px 3px 1px rgba(60, 64, 67, 0.15);\n",
              "      fill: #174EA6;\n",
              "    }\n",
              "\n",
              "    .colab-df-buttons div {\n",
              "      margin-bottom: 4px;\n",
              "    }\n",
              "\n",
              "    [theme=dark] .colab-df-convert {\n",
              "      background-color: #3B4455;\n",
              "      fill: #D2E3FC;\n",
              "    }\n",
              "\n",
              "    [theme=dark] .colab-df-convert:hover {\n",
              "      background-color: #434B5C;\n",
              "      box-shadow: 0px 1px 3px 1px rgba(0, 0, 0, 0.15);\n",
              "      filter: drop-shadow(0px 1px 2px rgba(0, 0, 0, 0.3));\n",
              "      fill: #FFFFFF;\n",
              "    }\n",
              "  </style>\n",
              "\n",
              "    <script>\n",
              "      const buttonEl =\n",
              "        document.querySelector('#df-6ccafe7f-4ea3-4871-a723-ad4c31764078 button.colab-df-convert');\n",
              "      buttonEl.style.display =\n",
              "        google.colab.kernel.accessAllowed ? 'block' : 'none';\n",
              "\n",
              "      async function convertToInteractive(key) {\n",
              "        const element = document.querySelector('#df-6ccafe7f-4ea3-4871-a723-ad4c31764078');\n",
              "        const dataTable =\n",
              "          await google.colab.kernel.invokeFunction('convertToInteractive',\n",
              "                                                    [key], {});\n",
              "        if (!dataTable) return;\n",
              "\n",
              "        const docLinkHtml = 'Like what you see? Visit the ' +\n",
              "          '<a target=\"_blank\" href=https://colab.research.google.com/notebooks/data_table.ipynb>data table notebook</a>'\n",
              "          + ' to learn more about interactive tables.';\n",
              "        element.innerHTML = '';\n",
              "        dataTable['output_type'] = 'display_data';\n",
              "        await google.colab.output.renderOutput(dataTable, element);\n",
              "        const docLink = document.createElement('div');\n",
              "        docLink.innerHTML = docLinkHtml;\n",
              "        element.appendChild(docLink);\n",
              "      }\n",
              "    </script>\n",
              "  </div>\n",
              "\n",
              "\n",
              "<div id=\"df-2e40bd91-dad4-4a4c-88f9-dbbcc1d5301d\">\n",
              "  <button class=\"colab-df-quickchart\" onclick=\"quickchart('df-2e40bd91-dad4-4a4c-88f9-dbbcc1d5301d')\"\n",
              "            title=\"Suggest charts\"\n",
              "            style=\"display:none;\">\n",
              "\n",
              "<svg xmlns=\"http://www.w3.org/2000/svg\" height=\"24px\"viewBox=\"0 0 24 24\"\n",
              "     width=\"24px\">\n",
              "    <g>\n",
              "        <path d=\"M19 3H5c-1.1 0-2 .9-2 2v14c0 1.1.9 2 2 2h14c1.1 0 2-.9 2-2V5c0-1.1-.9-2-2-2zM9 17H7v-7h2v7zm4 0h-2V7h2v10zm4 0h-2v-4h2v4z\"/>\n",
              "    </g>\n",
              "</svg>\n",
              "  </button>\n",
              "\n",
              "<style>\n",
              "  .colab-df-quickchart {\n",
              "      --bg-color: #E8F0FE;\n",
              "      --fill-color: #1967D2;\n",
              "      --hover-bg-color: #E2EBFA;\n",
              "      --hover-fill-color: #174EA6;\n",
              "      --disabled-fill-color: #AAA;\n",
              "      --disabled-bg-color: #DDD;\n",
              "  }\n",
              "\n",
              "  [theme=dark] .colab-df-quickchart {\n",
              "      --bg-color: #3B4455;\n",
              "      --fill-color: #D2E3FC;\n",
              "      --hover-bg-color: #434B5C;\n",
              "      --hover-fill-color: #FFFFFF;\n",
              "      --disabled-bg-color: #3B4455;\n",
              "      --disabled-fill-color: #666;\n",
              "  }\n",
              "\n",
              "  .colab-df-quickchart {\n",
              "    background-color: var(--bg-color);\n",
              "    border: none;\n",
              "    border-radius: 50%;\n",
              "    cursor: pointer;\n",
              "    display: none;\n",
              "    fill: var(--fill-color);\n",
              "    height: 32px;\n",
              "    padding: 0;\n",
              "    width: 32px;\n",
              "  }\n",
              "\n",
              "  .colab-df-quickchart:hover {\n",
              "    background-color: var(--hover-bg-color);\n",
              "    box-shadow: 0 1px 2px rgba(60, 64, 67, 0.3), 0 1px 3px 1px rgba(60, 64, 67, 0.15);\n",
              "    fill: var(--button-hover-fill-color);\n",
              "  }\n",
              "\n",
              "  .colab-df-quickchart-complete:disabled,\n",
              "  .colab-df-quickchart-complete:disabled:hover {\n",
              "    background-color: var(--disabled-bg-color);\n",
              "    fill: var(--disabled-fill-color);\n",
              "    box-shadow: none;\n",
              "  }\n",
              "\n",
              "  .colab-df-spinner {\n",
              "    border: 2px solid var(--fill-color);\n",
              "    border-color: transparent;\n",
              "    border-bottom-color: var(--fill-color);\n",
              "    animation:\n",
              "      spin 1s steps(1) infinite;\n",
              "  }\n",
              "\n",
              "  @keyframes spin {\n",
              "    0% {\n",
              "      border-color: transparent;\n",
              "      border-bottom-color: var(--fill-color);\n",
              "      border-left-color: var(--fill-color);\n",
              "    }\n",
              "    20% {\n",
              "      border-color: transparent;\n",
              "      border-left-color: var(--fill-color);\n",
              "      border-top-color: var(--fill-color);\n",
              "    }\n",
              "    30% {\n",
              "      border-color: transparent;\n",
              "      border-left-color: var(--fill-color);\n",
              "      border-top-color: var(--fill-color);\n",
              "      border-right-color: var(--fill-color);\n",
              "    }\n",
              "    40% {\n",
              "      border-color: transparent;\n",
              "      border-right-color: var(--fill-color);\n",
              "      border-top-color: var(--fill-color);\n",
              "    }\n",
              "    60% {\n",
              "      border-color: transparent;\n",
              "      border-right-color: var(--fill-color);\n",
              "    }\n",
              "    80% {\n",
              "      border-color: transparent;\n",
              "      border-right-color: var(--fill-color);\n",
              "      border-bottom-color: var(--fill-color);\n",
              "    }\n",
              "    90% {\n",
              "      border-color: transparent;\n",
              "      border-bottom-color: var(--fill-color);\n",
              "    }\n",
              "  }\n",
              "</style>\n",
              "\n",
              "  <script>\n",
              "    async function quickchart(key) {\n",
              "      const quickchartButtonEl =\n",
              "        document.querySelector('#' + key + ' button');\n",
              "      quickchartButtonEl.disabled = true;  // To prevent multiple clicks.\n",
              "      quickchartButtonEl.classList.add('colab-df-spinner');\n",
              "      try {\n",
              "        const charts = await google.colab.kernel.invokeFunction(\n",
              "            'suggestCharts', [key], {});\n",
              "      } catch (error) {\n",
              "        console.error('Error during call to suggestCharts:', error);\n",
              "      }\n",
              "      quickchartButtonEl.classList.remove('colab-df-spinner');\n",
              "      quickchartButtonEl.classList.add('colab-df-quickchart-complete');\n",
              "    }\n",
              "    (() => {\n",
              "      let quickchartButtonEl =\n",
              "        document.querySelector('#df-2e40bd91-dad4-4a4c-88f9-dbbcc1d5301d button');\n",
              "      quickchartButtonEl.style.display =\n",
              "        google.colab.kernel.accessAllowed ? 'block' : 'none';\n",
              "    })();\n",
              "  </script>\n",
              "</div>\n",
              "\n",
              "    </div>\n",
              "  </div>\n"
            ],
            "application/vnd.google.colaboratory.intrinsic+json": {
              "type": "dataframe",
              "variable_name": "num_of_post_each_topic",
              "summary": "{\n  \"name\": \"num_of_post_each_topic\",\n  \"rows\": 14,\n  \"fields\": [\n    {\n      \"column\": \"category_le\",\n      \"properties\": {\n        \"dtype\": \"number\",\n        \"std\": 4,\n        \"min\": 0,\n        \"max\": 13,\n        \"num_unique_values\": 14,\n        \"samples\": [\n          8,\n          0,\n          9\n        ],\n        \"semantic_type\": \"\",\n        \"description\": \"\"\n      }\n    },\n    {\n      \"column\": \"count\",\n      \"properties\": {\n        \"dtype\": \"number\",\n        \"std\": 203,\n        \"min\": 286,\n        \"max\": 937,\n        \"num_unique_values\": 14,\n        \"samples\": [\n          475,\n          396,\n          937\n        ],\n        \"semantic_type\": \"\",\n        \"description\": \"\"\n      }\n    },\n    {\n      \"column\": \"category\",\n      \"properties\": {\n        \"dtype\": \"string\",\n        \"num_unique_values\": 14,\n        \"samples\": [\n          \"Th\\u1ebf gi\\u1edbi\",\n          \"An sinh\",\n          \"Th\\u1ec3 thao\"\n        ],\n        \"semantic_type\": \"\",\n        \"description\": \"\"\n      }\n    }\n  ]\n}"
            }
          },
          "metadata": {},
          "execution_count": 41
        }
      ],
      "source": [
        "count = train_category[\"category\"].value_counts()\n",
        "num_of_post_each_topic = pd.DataFrame(\n",
        "    {\"category_le\": count.index, \"count\": count.values}\n",
        ")\n",
        "num_of_post_each_topic['category'] = le.inverse_transform(num_of_post_each_topic['category_le'])\n",
        "num_of_post_each_topic.head()"
      ]
    },
    {
      "cell_type": "code",
      "execution_count": null,
      "metadata": {
        "colab": {
          "base_uri": "https://localhost:8080/",
          "height": 542
        },
        "id": "5Io0Oa7IvLI4",
        "outputId": "64625a58-32f7-42f9-9e0b-829703a93139"
      },
      "outputs": [
        {
          "output_type": "display_data",
          "data": {
            "text/html": [
              "<html>\n",
              "<head><meta charset=\"utf-8\" /></head>\n",
              "<body>\n",
              "    <div>            <script src=\"https://cdnjs.cloudflare.com/ajax/libs/mathjax/2.7.5/MathJax.js?config=TeX-AMS-MML_SVG\"></script><script type=\"text/javascript\">if (window.MathJax && window.MathJax.Hub && window.MathJax.Hub.Config) {window.MathJax.Hub.Config({SVG: {font: \"STIX-Web\"}});}</script>                <script type=\"text/javascript\">window.PlotlyConfig = {MathJaxConfig: 'local'};</script>\n",
              "        <script charset=\"utf-8\" src=\"https://cdn.plot.ly/plotly-2.24.1.min.js\"></script>                <div id=\"059f9db0-4f22-4670-b3bd-a839aea78f49\" class=\"plotly-graph-div\" style=\"height:525px; width:100%;\"></div>            <script type=\"text/javascript\">                                    window.PLOTLYENV=window.PLOTLYENV || {};                                    if (document.getElementById(\"059f9db0-4f22-4670-b3bd-a839aea78f49\")) {                    Plotly.newPlot(                        \"059f9db0-4f22-4670-b3bd-a839aea78f49\",                        [{\"alignmentgroup\":\"True\",\"bingroup\":\"x\",\"histfunc\":\"sum\",\"hovertemplate\":\"category=%{x}\\u003cbr\\u003esum of count=%{y}\\u003cextra\\u003e\\u003c\\u002fextra\\u003e\",\"legendgroup\":\"Th\\u1ec3 thao\",\"marker\":{\"color\":\"#FD3216\",\"opacity\":0.75,\"pattern\":{\"shape\":\"\"}},\"name\":\"Th\\u1ec3 thao\",\"offsetgroup\":\"Th\\u1ec3 thao\",\"orientation\":\"v\",\"showlegend\":true,\"x\":[\"Th\\u1ec3 thao\"],\"xaxis\":\"x\",\"y\":[937],\"yaxis\":\"y\",\"type\":\"histogram\"},{\"alignmentgroup\":\"True\",\"bingroup\":\"x\",\"histfunc\":\"sum\",\"hovertemplate\":\"category=%{x}\\u003cbr\\u003esum of count=%{y}\\u003cextra\\u003e\\u003c\\u002fextra\\u003e\",\"legendgroup\":\"Gi\\u00e1o d\\u1ee5c\",\"marker\":{\"color\":\"#00FE35\",\"opacity\":0.75,\"pattern\":{\"shape\":\"\"}},\"name\":\"Gi\\u00e1o d\\u1ee5c\",\"offsetgroup\":\"Gi\\u00e1o d\\u1ee5c\",\"orientation\":\"v\",\"showlegend\":true,\"x\":[\"Gi\\u00e1o d\\u1ee5c\"],\"xaxis\":\"x\",\"y\":[922],\"yaxis\":\"y\",\"type\":\"histogram\"},{\"alignmentgroup\":\"True\",\"bingroup\":\"x\",\"histfunc\":\"sum\",\"hovertemplate\":\"category=%{x}\\u003cbr\\u003esum of count=%{y}\\u003cextra\\u003e\\u003c\\u002fextra\\u003e\",\"legendgroup\":\"B\\u1ea5t \\u0111\\u1ed9ng s\\u1ea3n\",\"marker\":{\"color\":\"#6A76FC\",\"opacity\":0.75,\"pattern\":{\"shape\":\"\"}},\"name\":\"B\\u1ea5t \\u0111\\u1ed9ng s\\u1ea3n\",\"offsetgroup\":\"B\\u1ea5t \\u0111\\u1ed9ng s\\u1ea3n\",\"orientation\":\"v\",\"showlegend\":true,\"x\":[\"B\\u1ea5t \\u0111\\u1ed9ng s\\u1ea3n\"],\"xaxis\":\"x\",\"y\":[802],\"yaxis\":\"y\",\"type\":\"histogram\"},{\"alignmentgroup\":\"True\",\"bingroup\":\"x\",\"histfunc\":\"sum\",\"hovertemplate\":\"category=%{x}\\u003cbr\\u003esum of count=%{y}\\u003cextra\\u003e\\u003c\\u002fextra\\u003e\",\"legendgroup\":\"S\\u1ee9c kh\\u1ecfe\",\"marker\":{\"color\":\"#FED4C4\",\"opacity\":0.75,\"pattern\":{\"shape\":\"\"}},\"name\":\"S\\u1ee9c kh\\u1ecfe\",\"offsetgroup\":\"S\\u1ee9c kh\\u1ecfe\",\"orientation\":\"v\",\"showlegend\":true,\"x\":[\"S\\u1ee9c kh\\u1ecfe\"],\"xaxis\":\"x\",\"y\":[780],\"yaxis\":\"y\",\"type\":\"histogram\"},{\"alignmentgroup\":\"True\",\"bingroup\":\"x\",\"histfunc\":\"sum\",\"hovertemplate\":\"category=%{x}\\u003cbr\\u003esum of count=%{y}\\u003cextra\\u003e\\u003c\\u002fextra\\u003e\",\"legendgroup\":\"Kinh doanh\",\"marker\":{\"color\":\"#FE00CE\",\"opacity\":0.75,\"pattern\":{\"shape\":\"\"}},\"name\":\"Kinh doanh\",\"offsetgroup\":\"Kinh doanh\",\"orientation\":\"v\",\"showlegend\":true,\"x\":[\"Kinh doanh\"],\"xaxis\":\"x\",\"y\":[698],\"yaxis\":\"y\",\"type\":\"histogram\"},{\"alignmentgroup\":\"True\",\"bingroup\":\"x\",\"histfunc\":\"sum\",\"hovertemplate\":\"category=%{x}\\u003cbr\\u003esum of count=%{y}\\u003cextra\\u003e\\u003c\\u002fextra\\u003e\",\"legendgroup\":\"V\\u0103n h\\u00f3a\",\"marker\":{\"color\":\"#0DF9FF\",\"opacity\":0.75,\"pattern\":{\"shape\":\"\"}},\"name\":\"V\\u0103n h\\u00f3a\",\"offsetgroup\":\"V\\u0103n h\\u00f3a\",\"orientation\":\"v\",\"showlegend\":true,\"x\":[\"V\\u0103n h\\u00f3a\"],\"xaxis\":\"x\",\"y\":[688],\"yaxis\":\"y\",\"type\":\"histogram\"},{\"alignmentgroup\":\"True\",\"bingroup\":\"x\",\"histfunc\":\"sum\",\"hovertemplate\":\"category=%{x}\\u003cbr\\u003esum of count=%{y}\\u003cextra\\u003e\\u003c\\u002fextra\\u003e\",\"legendgroup\":\"X\\u00e3 h\\u1ed9i\",\"marker\":{\"color\":\"#F6F926\",\"opacity\":0.75,\"pattern\":{\"shape\":\"\"}},\"name\":\"X\\u00e3 h\\u1ed9i\",\"offsetgroup\":\"X\\u00e3 h\\u1ed9i\",\"orientation\":\"v\",\"showlegend\":true,\"x\":[\"X\\u00e3 h\\u1ed9i\"],\"xaxis\":\"x\",\"y\":[621],\"yaxis\":\"y\",\"type\":\"histogram\"},{\"alignmentgroup\":\"True\",\"bingroup\":\"x\",\"histfunc\":\"sum\",\"hovertemplate\":\"category=%{x}\\u003cbr\\u003esum of count=%{y}\\u003cextra\\u003e\\u003c\\u002fextra\\u003e\",\"legendgroup\":\"Xe ++\",\"marker\":{\"color\":\"#FF9616\",\"opacity\":0.75,\"pattern\":{\"shape\":\"\"}},\"name\":\"Xe ++\",\"offsetgroup\":\"Xe ++\",\"orientation\":\"v\",\"showlegend\":true,\"x\":[\"Xe ++\"],\"xaxis\":\"x\",\"y\":[615],\"yaxis\":\"y\",\"type\":\"histogram\"},{\"alignmentgroup\":\"True\",\"bingroup\":\"x\",\"histfunc\":\"sum\",\"hovertemplate\":\"category=%{x}\\u003cbr\\u003esum of count=%{y}\\u003cextra\\u003e\\u003c\\u002fextra\\u003e\",\"legendgroup\":\"S\\u1ee9c m\\u1ea1nh s\\u1ed1\",\"marker\":{\"color\":\"#479B55\",\"opacity\":0.75,\"pattern\":{\"shape\":\"\"}},\"name\":\"S\\u1ee9c m\\u1ea1nh s\\u1ed1\",\"offsetgroup\":\"S\\u1ee9c m\\u1ea1nh s\\u1ed1\",\"orientation\":\"v\",\"showlegend\":true,\"x\":[\"S\\u1ee9c m\\u1ea1nh s\\u1ed1\"],\"xaxis\":\"x\",\"y\":[489],\"yaxis\":\"y\",\"type\":\"histogram\"},{\"alignmentgroup\":\"True\",\"bingroup\":\"x\",\"histfunc\":\"sum\",\"hovertemplate\":\"category=%{x}\\u003cbr\\u003esum of count=%{y}\\u003cextra\\u003e\\u003c\\u002fextra\\u003e\",\"legendgroup\":\"Th\\u1ebf gi\\u1edbi\",\"marker\":{\"color\":\"#EEA6FB\",\"opacity\":0.75,\"pattern\":{\"shape\":\"\"}},\"name\":\"Th\\u1ebf gi\\u1edbi\",\"offsetgroup\":\"Th\\u1ebf gi\\u1edbi\",\"orientation\":\"v\",\"showlegend\":true,\"x\":[\"Th\\u1ebf gi\\u1edbi\"],\"xaxis\":\"x\",\"y\":[475],\"yaxis\":\"y\",\"type\":\"histogram\"},{\"alignmentgroup\":\"True\",\"bingroup\":\"x\",\"histfunc\":\"sum\",\"hovertemplate\":\"category=%{x}\\u003cbr\\u003esum of count=%{y}\\u003cextra\\u003e\\u003c\\u002fextra\\u003e\",\"legendgroup\":\"Vi\\u1ec7c l\\u00e0m\",\"marker\":{\"color\":\"#DC587D\",\"opacity\":0.75,\"pattern\":{\"shape\":\"\"}},\"name\":\"Vi\\u1ec7c l\\u00e0m\",\"offsetgroup\":\"Vi\\u1ec7c l\\u00e0m\",\"orientation\":\"v\",\"showlegend\":true,\"x\":[\"Vi\\u1ec7c l\\u00e0m\"],\"xaxis\":\"x\",\"y\":[463],\"yaxis\":\"y\",\"type\":\"histogram\"},{\"alignmentgroup\":\"True\",\"bingroup\":\"x\",\"histfunc\":\"sum\",\"hovertemplate\":\"category=%{x}\\u003cbr\\u003esum of count=%{y}\\u003cextra\\u003e\\u003c\\u002fextra\\u003e\",\"legendgroup\":\"An sinh\",\"marker\":{\"color\":\"#D626FF\",\"opacity\":0.75,\"pattern\":{\"shape\":\"\"}},\"name\":\"An sinh\",\"offsetgroup\":\"An sinh\",\"orientation\":\"v\",\"showlegend\":true,\"x\":[\"An sinh\"],\"xaxis\":\"x\",\"y\":[396],\"yaxis\":\"y\",\"type\":\"histogram\"},{\"alignmentgroup\":\"True\",\"bingroup\":\"x\",\"histfunc\":\"sum\",\"hovertemplate\":\"category=%{x}\\u003cbr\\u003esum of count=%{y}\\u003cextra\\u003e\\u003c\\u002fextra\\u003e\",\"legendgroup\":\"Gi\\u1ea3i tr\\u00ed\",\"marker\":{\"color\":\"#6E899C\",\"opacity\":0.75,\"pattern\":{\"shape\":\"\"}},\"name\":\"Gi\\u1ea3i tr\\u00ed\",\"offsetgroup\":\"Gi\\u1ea3i tr\\u00ed\",\"orientation\":\"v\",\"showlegend\":true,\"x\":[\"Gi\\u1ea3i tr\\u00ed\"],\"xaxis\":\"x\",\"y\":[390],\"yaxis\":\"y\",\"type\":\"histogram\"},{\"alignmentgroup\":\"True\",\"bingroup\":\"x\",\"histfunc\":\"sum\",\"hovertemplate\":\"category=%{x}\\u003cbr\\u003esum of count=%{y}\\u003cextra\\u003e\\u003c\\u002fextra\\u003e\",\"legendgroup\":\"Ph\\u00e1p lu\\u1eadt\",\"marker\":{\"color\":\"#00B5F7\",\"opacity\":0.75,\"pattern\":{\"shape\":\"\"}},\"name\":\"Ph\\u00e1p lu\\u1eadt\",\"offsetgroup\":\"Ph\\u00e1p lu\\u1eadt\",\"orientation\":\"v\",\"showlegend\":true,\"x\":[\"Ph\\u00e1p lu\\u1eadt\"],\"xaxis\":\"x\",\"y\":[286],\"yaxis\":\"y\",\"type\":\"histogram\"}],                        {\"template\":{\"data\":{\"histogram2dcontour\":[{\"type\":\"histogram2dcontour\",\"colorbar\":{\"outlinewidth\":0,\"ticks\":\"\"},\"colorscale\":[[0.0,\"#0d0887\"],[0.1111111111111111,\"#46039f\"],[0.2222222222222222,\"#7201a8\"],[0.3333333333333333,\"#9c179e\"],[0.4444444444444444,\"#bd3786\"],[0.5555555555555556,\"#d8576b\"],[0.6666666666666666,\"#ed7953\"],[0.7777777777777778,\"#fb9f3a\"],[0.8888888888888888,\"#fdca26\"],[1.0,\"#f0f921\"]]}],\"choropleth\":[{\"type\":\"choropleth\",\"colorbar\":{\"outlinewidth\":0,\"ticks\":\"\"}}],\"histogram2d\":[{\"type\":\"histogram2d\",\"colorbar\":{\"outlinewidth\":0,\"ticks\":\"\"},\"colorscale\":[[0.0,\"#0d0887\"],[0.1111111111111111,\"#46039f\"],[0.2222222222222222,\"#7201a8\"],[0.3333333333333333,\"#9c179e\"],[0.4444444444444444,\"#bd3786\"],[0.5555555555555556,\"#d8576b\"],[0.6666666666666666,\"#ed7953\"],[0.7777777777777778,\"#fb9f3a\"],[0.8888888888888888,\"#fdca26\"],[1.0,\"#f0f921\"]]}],\"heatmap\":[{\"type\":\"heatmap\",\"colorbar\":{\"outlinewidth\":0,\"ticks\":\"\"},\"colorscale\":[[0.0,\"#0d0887\"],[0.1111111111111111,\"#46039f\"],[0.2222222222222222,\"#7201a8\"],[0.3333333333333333,\"#9c179e\"],[0.4444444444444444,\"#bd3786\"],[0.5555555555555556,\"#d8576b\"],[0.6666666666666666,\"#ed7953\"],[0.7777777777777778,\"#fb9f3a\"],[0.8888888888888888,\"#fdca26\"],[1.0,\"#f0f921\"]]}],\"heatmapgl\":[{\"type\":\"heatmapgl\",\"colorbar\":{\"outlinewidth\":0,\"ticks\":\"\"},\"colorscale\":[[0.0,\"#0d0887\"],[0.1111111111111111,\"#46039f\"],[0.2222222222222222,\"#7201a8\"],[0.3333333333333333,\"#9c179e\"],[0.4444444444444444,\"#bd3786\"],[0.5555555555555556,\"#d8576b\"],[0.6666666666666666,\"#ed7953\"],[0.7777777777777778,\"#fb9f3a\"],[0.8888888888888888,\"#fdca26\"],[1.0,\"#f0f921\"]]}],\"contourcarpet\":[{\"type\":\"contourcarpet\",\"colorbar\":{\"outlinewidth\":0,\"ticks\":\"\"}}],\"contour\":[{\"type\":\"contour\",\"colorbar\":{\"outlinewidth\":0,\"ticks\":\"\"},\"colorscale\":[[0.0,\"#0d0887\"],[0.1111111111111111,\"#46039f\"],[0.2222222222222222,\"#7201a8\"],[0.3333333333333333,\"#9c179e\"],[0.4444444444444444,\"#bd3786\"],[0.5555555555555556,\"#d8576b\"],[0.6666666666666666,\"#ed7953\"],[0.7777777777777778,\"#fb9f3a\"],[0.8888888888888888,\"#fdca26\"],[1.0,\"#f0f921\"]]}],\"surface\":[{\"type\":\"surface\",\"colorbar\":{\"outlinewidth\":0,\"ticks\":\"\"},\"colorscale\":[[0.0,\"#0d0887\"],[0.1111111111111111,\"#46039f\"],[0.2222222222222222,\"#7201a8\"],[0.3333333333333333,\"#9c179e\"],[0.4444444444444444,\"#bd3786\"],[0.5555555555555556,\"#d8576b\"],[0.6666666666666666,\"#ed7953\"],[0.7777777777777778,\"#fb9f3a\"],[0.8888888888888888,\"#fdca26\"],[1.0,\"#f0f921\"]]}],\"mesh3d\":[{\"type\":\"mesh3d\",\"colorbar\":{\"outlinewidth\":0,\"ticks\":\"\"}}],\"scatter\":[{\"fillpattern\":{\"fillmode\":\"overlay\",\"size\":10,\"solidity\":0.2},\"type\":\"scatter\"}],\"parcoords\":[{\"type\":\"parcoords\",\"line\":{\"colorbar\":{\"outlinewidth\":0,\"ticks\":\"\"}}}],\"scatterpolargl\":[{\"type\":\"scatterpolargl\",\"marker\":{\"colorbar\":{\"outlinewidth\":0,\"ticks\":\"\"}}}],\"bar\":[{\"error_x\":{\"color\":\"#2a3f5f\"},\"error_y\":{\"color\":\"#2a3f5f\"},\"marker\":{\"line\":{\"color\":\"#E5ECF6\",\"width\":0.5},\"pattern\":{\"fillmode\":\"overlay\",\"size\":10,\"solidity\":0.2}},\"type\":\"bar\"}],\"scattergeo\":[{\"type\":\"scattergeo\",\"marker\":{\"colorbar\":{\"outlinewidth\":0,\"ticks\":\"\"}}}],\"scatterpolar\":[{\"type\":\"scatterpolar\",\"marker\":{\"colorbar\":{\"outlinewidth\":0,\"ticks\":\"\"}}}],\"histogram\":[{\"marker\":{\"pattern\":{\"fillmode\":\"overlay\",\"size\":10,\"solidity\":0.2}},\"type\":\"histogram\"}],\"scattergl\":[{\"type\":\"scattergl\",\"marker\":{\"colorbar\":{\"outlinewidth\":0,\"ticks\":\"\"}}}],\"scatter3d\":[{\"type\":\"scatter3d\",\"line\":{\"colorbar\":{\"outlinewidth\":0,\"ticks\":\"\"}},\"marker\":{\"colorbar\":{\"outlinewidth\":0,\"ticks\":\"\"}}}],\"scattermapbox\":[{\"type\":\"scattermapbox\",\"marker\":{\"colorbar\":{\"outlinewidth\":0,\"ticks\":\"\"}}}],\"scatterternary\":[{\"type\":\"scatterternary\",\"marker\":{\"colorbar\":{\"outlinewidth\":0,\"ticks\":\"\"}}}],\"scattercarpet\":[{\"type\":\"scattercarpet\",\"marker\":{\"colorbar\":{\"outlinewidth\":0,\"ticks\":\"\"}}}],\"carpet\":[{\"aaxis\":{\"endlinecolor\":\"#2a3f5f\",\"gridcolor\":\"white\",\"linecolor\":\"white\",\"minorgridcolor\":\"white\",\"startlinecolor\":\"#2a3f5f\"},\"baxis\":{\"endlinecolor\":\"#2a3f5f\",\"gridcolor\":\"white\",\"linecolor\":\"white\",\"minorgridcolor\":\"white\",\"startlinecolor\":\"#2a3f5f\"},\"type\":\"carpet\"}],\"table\":[{\"cells\":{\"fill\":{\"color\":\"#EBF0F8\"},\"line\":{\"color\":\"white\"}},\"header\":{\"fill\":{\"color\":\"#C8D4E3\"},\"line\":{\"color\":\"white\"}},\"type\":\"table\"}],\"barpolar\":[{\"marker\":{\"line\":{\"color\":\"#E5ECF6\",\"width\":0.5},\"pattern\":{\"fillmode\":\"overlay\",\"size\":10,\"solidity\":0.2}},\"type\":\"barpolar\"}],\"pie\":[{\"automargin\":true,\"type\":\"pie\"}]},\"layout\":{\"autotypenumbers\":\"strict\",\"colorway\":[\"#636efa\",\"#EF553B\",\"#00cc96\",\"#ab63fa\",\"#FFA15A\",\"#19d3f3\",\"#FF6692\",\"#B6E880\",\"#FF97FF\",\"#FECB52\"],\"font\":{\"color\":\"#2a3f5f\"},\"hovermode\":\"closest\",\"hoverlabel\":{\"align\":\"left\"},\"paper_bgcolor\":\"white\",\"plot_bgcolor\":\"#E5ECF6\",\"polar\":{\"bgcolor\":\"#E5ECF6\",\"angularaxis\":{\"gridcolor\":\"white\",\"linecolor\":\"white\",\"ticks\":\"\"},\"radialaxis\":{\"gridcolor\":\"white\",\"linecolor\":\"white\",\"ticks\":\"\"}},\"ternary\":{\"bgcolor\":\"#E5ECF6\",\"aaxis\":{\"gridcolor\":\"white\",\"linecolor\":\"white\",\"ticks\":\"\"},\"baxis\":{\"gridcolor\":\"white\",\"linecolor\":\"white\",\"ticks\":\"\"},\"caxis\":{\"gridcolor\":\"white\",\"linecolor\":\"white\",\"ticks\":\"\"}},\"coloraxis\":{\"colorbar\":{\"outlinewidth\":0,\"ticks\":\"\"}},\"colorscale\":{\"sequential\":[[0.0,\"#0d0887\"],[0.1111111111111111,\"#46039f\"],[0.2222222222222222,\"#7201a8\"],[0.3333333333333333,\"#9c179e\"],[0.4444444444444444,\"#bd3786\"],[0.5555555555555556,\"#d8576b\"],[0.6666666666666666,\"#ed7953\"],[0.7777777777777778,\"#fb9f3a\"],[0.8888888888888888,\"#fdca26\"],[1.0,\"#f0f921\"]],\"sequentialminus\":[[0.0,\"#0d0887\"],[0.1111111111111111,\"#46039f\"],[0.2222222222222222,\"#7201a8\"],[0.3333333333333333,\"#9c179e\"],[0.4444444444444444,\"#bd3786\"],[0.5555555555555556,\"#d8576b\"],[0.6666666666666666,\"#ed7953\"],[0.7777777777777778,\"#fb9f3a\"],[0.8888888888888888,\"#fdca26\"],[1.0,\"#f0f921\"]],\"diverging\":[[0,\"#8e0152\"],[0.1,\"#c51b7d\"],[0.2,\"#de77ae\"],[0.3,\"#f1b6da\"],[0.4,\"#fde0ef\"],[0.5,\"#f7f7f7\"],[0.6,\"#e6f5d0\"],[0.7,\"#b8e186\"],[0.8,\"#7fbc41\"],[0.9,\"#4d9221\"],[1,\"#276419\"]]},\"xaxis\":{\"gridcolor\":\"white\",\"linecolor\":\"white\",\"ticks\":\"\",\"title\":{\"standoff\":15},\"zerolinecolor\":\"white\",\"automargin\":true,\"zerolinewidth\":2},\"yaxis\":{\"gridcolor\":\"white\",\"linecolor\":\"white\",\"ticks\":\"\",\"title\":{\"standoff\":15},\"zerolinecolor\":\"white\",\"automargin\":true,\"zerolinewidth\":2},\"scene\":{\"xaxis\":{\"backgroundcolor\":\"#E5ECF6\",\"gridcolor\":\"white\",\"linecolor\":\"white\",\"showbackground\":true,\"ticks\":\"\",\"zerolinecolor\":\"white\",\"gridwidth\":2},\"yaxis\":{\"backgroundcolor\":\"#E5ECF6\",\"gridcolor\":\"white\",\"linecolor\":\"white\",\"showbackground\":true,\"ticks\":\"\",\"zerolinecolor\":\"white\",\"gridwidth\":2},\"zaxis\":{\"backgroundcolor\":\"#E5ECF6\",\"gridcolor\":\"white\",\"linecolor\":\"white\",\"showbackground\":true,\"ticks\":\"\",\"zerolinecolor\":\"white\",\"gridwidth\":2}},\"shapedefaults\":{\"line\":{\"color\":\"#2a3f5f\"}},\"annotationdefaults\":{\"arrowcolor\":\"#2a3f5f\",\"arrowhead\":0,\"arrowwidth\":1},\"geo\":{\"bgcolor\":\"white\",\"landcolor\":\"#E5ECF6\",\"subunitcolor\":\"white\",\"showland\":true,\"showlakes\":true,\"lakecolor\":\"white\"},\"title\":{\"x\":0.05},\"mapbox\":{\"style\":\"light\"}}},\"xaxis\":{\"anchor\":\"y\",\"domain\":[0.0,1.0],\"title\":{\"text\":\"H\\u1ea1ng m\\u1ee5c\"},\"categoryorder\":\"array\",\"categoryarray\":[\"Th\\u1ec3 thao\",\"Gi\\u00e1o d\\u1ee5c\",\"B\\u1ea5t \\u0111\\u1ed9ng s\\u1ea3n\",\"S\\u1ee9c kh\\u1ecfe\",\"Kinh doanh\",\"V\\u0103n h\\u00f3a\",\"X\\u00e3 h\\u1ed9i\",\"Xe ++\",\"S\\u1ee9c m\\u1ea1nh s\\u1ed1\",\"Th\\u1ebf gi\\u1edbi\",\"Vi\\u1ec7c l\\u00e0m\",\"An sinh\",\"Gi\\u1ea3i tr\\u00ed\",\"Ph\\u00e1p lu\\u1eadt\"]},\"yaxis\":{\"anchor\":\"x\",\"domain\":[0.0,1.0],\"title\":{\"text\":\"S\\u1ed1 l\\u01b0\\u1ee3ng b\\u00e0i b\\u00e1o\"},\"showgrid\":true},\"legend\":{\"title\":{},\"tracegroupgap\":0,\"orientation\":\"h\",\"y\":1,\"yanchor\":\"bottom\",\"x\":0.5,\"xanchor\":\"center\"},\"title\":{\"text\":\"S\\u1ed1 l\\u01b0\\u1ee3ng b\\u00e0i b\\u00e1o tr\\u00ean t\\u1eebng h\\u1ea1ng m\\u1ee5c\"},\"barmode\":\"relative\",\"font\":{\"family\":\"Arial\"},\"shapes\":[{\"line\":{\"color\":\"#16FF32\",\"dash\":\"dot\",\"width\":3},\"opacity\":1,\"type\":\"line\",\"x0\":0,\"x1\":1,\"xref\":\"paper\",\"y0\":929,\"y1\":929,\"yref\":\"y\"}],\"annotations\":[{\"arrowhead\":1,\"showarrow\":true,\"text\":\"S\\u1ed1 l\\u01b0\\u1ee3ng \\u00edt nh\\u1ea5t\",\"x\":\"Ph\\u00e1p lu\\u1eadt\",\"y\":450}]},                        {\"responsive\": true}                    ).then(function(){\n",
              "                            \n",
              "var gd = document.getElementById('059f9db0-4f22-4670-b3bd-a839aea78f49');\n",
              "var x = new MutationObserver(function (mutations, observer) {{\n",
              "        var display = window.getComputedStyle(gd).display;\n",
              "        if (!display || display === 'none') {{\n",
              "            console.log([gd, 'removed!']);\n",
              "            Plotly.purge(gd);\n",
              "            observer.disconnect();\n",
              "        }}\n",
              "}});\n",
              "\n",
              "// Listen for the removal of the full notebook cells\n",
              "var notebookContainer = gd.closest('#notebook-container');\n",
              "if (notebookContainer) {{\n",
              "    x.observe(notebookContainer, {childList: true});\n",
              "}}\n",
              "\n",
              "// Listen for the clearing of the current output cell\n",
              "var outputEl = gd.closest('.output');\n",
              "if (outputEl) {{\n",
              "    x.observe(outputEl, {childList: true});\n",
              "}}\n",
              "\n",
              "                        })                };                            </script>        </div>\n",
              "</body>\n",
              "</html>"
            ]
          },
          "metadata": {}
        }
      ],
      "source": [
        "create_bar_plot(df=num_of_post_each_topic, y_arrow=450)"
      ]
    },
    {
      "cell_type": "code",
      "execution_count": null,
      "metadata": {
        "colab": {
          "base_uri": "https://localhost:8080/"
        },
        "id": "0acuPaL9JjNK",
        "outputId": "86a2eab0-5a3c-4762-bb7d-98dc9ae58657"
      },
      "outputs": [
        {
          "output_type": "execute_result",
          "data": {
            "text/plain": [
              "count     14.000000\n",
              "mean     611.571429\n",
              "std      203.360882\n",
              "min      286.000000\n",
              "25%      466.000000\n",
              "50%      618.000000\n",
              "75%      759.500000\n",
              "max      937.000000\n",
              "Name: count, dtype: float64"
            ]
          },
          "metadata": {},
          "execution_count": 43
        }
      ],
      "source": [
        "num_of_post_each_topic['count'].describe()"
      ]
    },
    {
      "cell_type": "code",
      "execution_count": null,
      "metadata": {
        "colab": {
          "base_uri": "https://localhost:8080/"
        },
        "id": "lK9sAH91ihTv",
        "outputId": "63d4c9f3-120f-4099-d6fc-9e74868e578a"
      },
      "outputs": [
        {
          "output_type": "execute_result",
          "data": {
            "text/plain": [
              "(8562,)"
            ]
          },
          "metadata": {},
          "execution_count": 44
        }
      ],
      "source": [
        "X_train.shape"
      ]
    },
    {
      "cell_type": "markdown",
      "metadata": {
        "id": "pkUILkM6Suz1"
      },
      "source": [
        "#### Xây dựng tệp từ điển"
      ]
    },
    {
      "cell_type": "markdown",
      "metadata": {
        "id": "d5lq-ox2nKpV"
      },
      "source": [
        "Vì độ dài của các bài báo thường khá dài, từ các biểu đồ phân phối ở trên, chúng ta có thể thấy rằng, các bài báo thường từ 2000 từ trở lên, có nghĩa là nếu càng nhiều bài báo thì từ vựng càng nhiều, nếu mô tả một đoạn text theo tất cả các từ vựng đó thì ma trận sẽ rất lớn chưa kể đến việc nó là ma trận thưa (hầu hết là các giá trị 0)"
      ]
    },
    {
      "cell_type": "code",
      "execution_count": null,
      "metadata": {
        "id": "c_fFKnlWS2IF"
      },
      "outputs": [],
      "source": [
        "# No Cleaner\n",
        "# count_vectorizer_no_cleaner = CountVectorizer(stop_words=stopwords)\n",
        "# count_vectorizer_no_cleaner.fit(X_train)\n",
        "# MAX_FEATURES = len(count_vectorizer_no_cleaner.vocabulary_)\n",
        "\n",
        "# With Cleaner\n",
        "# text_cleaner = TextCleaner()\n",
        "# count_vectorizer_with_cleaner = CountVectorizer(stop_words=stopwords)\n",
        "# X_train_with_cleaner = text_cleaner.fit_transform(X_train)\n",
        "# count_vectorizer_with_cleaner.fit(X_train_with_cleaner)\n",
        "# MAX_FEATURES_WITH_CLEANER = len(count_vectorizer_with_cleaner.vocabulary_)"
      ]
    },
    {
      "cell_type": "code",
      "execution_count": null,
      "metadata": {
        "id": "Ue7czI_FUHyM"
      },
      "outputs": [],
      "source": [
        "# MAX_FEATURES_WITH_CLEANER #, MAX_FEATURES"
      ]
    },
    {
      "cell_type": "markdown",
      "metadata": {
        "id": "9zMbQF1jmuex"
      },
      "source": [
        "#### Tạo Pipeline cho việc tiền xử lý dữ liệu text"
      ]
    },
    {
      "cell_type": "code",
      "execution_count": null,
      "metadata": {
        "id": "vWc0X0OOUxgX"
      },
      "outputs": [],
      "source": [
        "# MAX_FEATURES_WITH_CLEANER = 30000\n",
        "def create_pipeline(stop_words, cleaner=False, max_features=10000, reduction=False, n_components=5000):\n",
        "  steps = []\n",
        "\n",
        "  count_vectorizer = CountVectorizer(stop_words=stop_words, max_features=max_features)\n",
        "  if cleaner:\n",
        "    text_cleaner = TextCleaner()\n",
        "    steps.append(('cleaner', text_cleaner))\n",
        "\n",
        "  # Add steps to convert text to matrix\n",
        "  steps.append(('count_vectorizer', count_vectorizer))\n",
        "  steps.append(('tfidf_transformer', TfidfTransformer()))\n",
        "\n",
        "  if reduction:\n",
        "    steps.append(('reduction', TruncatedSVD(n_components=n_components)))\n",
        "\n",
        "  return Pipeline(steps)\n",
        "\n"
      ]
    },
    {
      "cell_type": "markdown",
      "metadata": {
        "id": "1qV-dHzRn7nV"
      },
      "source": [
        "#### Chuyển dữ liệu dạng text sang dạng ma trận\n",
        "Chúng ta sẽ giữ lại khoảng 60% từ vựng, việc giảm số từ vựng xuống giúp cho mô hình giảm độ phức tạp, và chi phí tính toán được giảm thiểu\n",
        "\n",
        "> Đối với các mô hình Machine Learning, nó có thể *linh hoạt* hơn khi đào tạo với ma trận có kích thước cỡ lớn. Tuy nhiên, vì chúng ta có mục tiêu sẽ `thử` ứng dụng các mô hình **Deep Learning** như CNN và LSTM để **so sánh** hiệu suất giữa **Machine Learning** và **Deep Learning** nên việc **giảm chiều dữ liệu** là vô cùng cần thiết, vì nếu chúng ta đưa quá nhiều Input vào mô hình Neural Networks thì mô hình sẽ có độ phức tạp cao và chi phí tính toán \"đắt đỏ\""
      ]
    },
    {
      "cell_type": "code",
      "execution_count": null,
      "metadata": {
        "id": "4VLqLqG5J3OS"
      },
      "outputs": [],
      "source": [
        "MAX_FEATURES = 10000\n",
        "N_COMPONENTS = 5000\n",
        "\n",
        "pipeline = {}\n",
        "# pipeline['only_cleaner'] = create_pipeline(stopwords, cleaner=True, max_features=MAX_FEATURES)\n",
        "pipeline['cleaner_and_reduction'] = create_pipeline(stopwords, cleaner=True, max_features=MAX_FEATURES,\n",
        "                                                    reduction=True, n_components=N_COMPONENTS)"
      ]
    },
    {
      "cell_type": "code",
      "execution_count": null,
      "metadata": {
        "id": "Y4MKLb_MokN6"
      },
      "outputs": [],
      "source": [
        "# transform train and test set\n",
        "# X_train_cleaner_ = pipeline['only_cleaner'].fit_transform(X_train)\n",
        "# X_test_cleaner_ = pipeline['only_cleaner'].transform(X_test)\n",
        "\n",
        "X_train_cleaner_and_reduction_ = pipeline['cleaner_and_reduction'].fit_transform(X_train)\n",
        "X_test_cleaner_and_reduction_ = pipeline['cleaner_and_reduction'].transform(X_test)"
      ]
    },
    {
      "cell_type": "code",
      "execution_count": null,
      "metadata": {
        "id": "gJ4Hst5R_JXc"
      },
      "outputs": [],
      "source": [
        "# Save processed data\n",
        "with open(os.path.join(MODEL_PATH, 'X_train_cleaner_and_reduction_.pkl'), 'wb') as f:\n",
        "  pickle.dump(X_train_cleaner_and_reduction_, f)\n",
        "\n",
        "with open(os.path.join(MODEL_PATH, 'X_test_cleaner_and_reduction_.pkl'), 'wb') as f:\n",
        "  pickle.dump(X_test_cleaner_and_reduction_, f)"
      ]
    },
    {
      "cell_type": "code",
      "execution_count": null,
      "metadata": {
        "id": "juohf-7qbWjy"
      },
      "outputs": [],
      "source": [
        "# Load processed data\n",
        "with open(os.path.join(MODEL_PATH, 'X_train_cleaner_and_reduction_.pkl'), 'rb') as f:\n",
        "  X_train_cleaner_and_reduction_ = pickle.load(f)\n",
        "\n",
        "with open(os.path.join(MODEL_PATH, 'X_test_cleaner_and_reduction_.pkl'), 'rb') as f:\n",
        "  X_test_cleaner_and_reduction_ = pickle.load(f)"
      ]
    },
    {
      "cell_type": "markdown",
      "metadata": {
        "id": "IPqYaZDv2FJd"
      },
      "source": [
        "> Sau khi xử lý, dữ liệu hiện giờ đã ở dạng số thực và chúng ta có thể sử dụng trực tiếp vào mô hình, tuy nhiên điều này vẫn là chưa lên vì theo lý thuyết, các mô hình học máy \"**tốt**\" khi các lớp đã \"**cân bằng**\". Vì vậy chúng ta cần xử lý việc này vào phần sau"
      ]
    },
    {
      "cell_type": "code",
      "execution_count": null,
      "metadata": {
        "colab": {
          "base_uri": "https://localhost:8080/"
        },
        "id": "rozYgCouiqOo",
        "outputId": "c817d558-6e2e-4c76-c361-f9be2c6b3cac"
      },
      "outputs": [
        {
          "name": "stdout",
          "output_type": "stream",
          "text": [
            "(8562, 5000)\n"
          ]
        }
      ],
      "source": [
        "# print(X_train_cleaner_.shape)\n",
        "print(X_train_cleaner_and_reduction_.shape)"
      ]
    },
    {
      "cell_type": "code",
      "execution_count": null,
      "metadata": {
        "colab": {
          "base_uri": "https://localhost:8080/"
        },
        "id": "NcSCVfV5UqMj",
        "outputId": "178ba0a4-d9a2-40bc-caf0-7d1da5808c77"
      },
      "outputs": [
        {
          "data": {
            "text/plain": [
              "array([ 0.2663626 ,  0.03453088, -0.07849095, ..., -0.00737457,\n",
              "       -0.00048187,  0.00237583])"
            ]
          },
          "execution_count": 48,
          "metadata": {},
          "output_type": "execute_result"
        }
      ],
      "source": [
        "X_train_cleaner_and_reduction_[0]"
      ]
    },
    {
      "cell_type": "markdown",
      "metadata": {
        "id": "qLxD1azslO6v"
      },
      "source": [
        "#### Xử lý Imbalanced data"
      ]
    },
    {
      "cell_type": "code",
      "execution_count": null,
      "metadata": {
        "colab": {
          "base_uri": "https://localhost:8080/"
        },
        "id": "cnc3G_omEDB8",
        "outputId": "676d5cb2-1767-4fe6-9119-6864d94f0c85"
      },
      "outputs": [
        {
          "output_type": "execute_result",
          "data": {
            "text/plain": [
              "{'under': {9: 600, 2: 600, 1: 600, 6: 600, 4: 600, 11: 600, 13: 600, 12: 600},\n",
              " 'over': {7: 600, 8: 600, 10: 600, 0: 600, 3: 600, 5: 600}}"
            ]
          },
          "metadata": {},
          "execution_count": 50
        }
      ],
      "source": [
        "sampling = {}\n",
        "categories_geq_600 = num_of_post_each_topic[num_of_post_each_topic['count'] >= 600][['category_le', 'count']]\n",
        "categories_le_600 = num_of_post_each_topic[num_of_post_each_topic['count'] < 600][['category_le', 'count']]\n",
        "# num_of_post_each_topic['count'] >= 700\n",
        "# categories_geq_700\n",
        "sampling['under'] = {\n",
        "    key: 600\n",
        "    for (key, value) in categories_geq_600.values\n",
        "  }\n",
        "sampling['over'] = {key: 600 for (key, value) in categories_le_600.values}\n",
        "sampling"
      ]
    },
    {
      "cell_type": "code",
      "execution_count": null,
      "metadata": {
        "id": "Te908iSO-ahP"
      },
      "outputs": [],
      "source": [
        "# over = ios.BorderlineSMOTE(sampling_strategy=sampling['over'], n_jobs=-1)\n",
        "# under = ius.RandomUnderSampler(sampling_strategy=sampling['under'])\n",
        "\n",
        "# sampling_steps = [('over', over), ('under', under)]\n",
        "# sampling_pipeline = ipl.Pipeline(sampling_steps)\n",
        "\n",
        "# X_train_cleaner_sampled_, y_train_cleaner_sampled_ = sampling_pipeline.fit_resample(X_train_cleaner_, y_train)"
      ]
    },
    {
      "cell_type": "code",
      "execution_count": null,
      "metadata": {
        "id": "LCQexWkVSALW"
      },
      "outputs": [],
      "source": [
        "over = ios.BorderlineSMOTE(sampling_strategy=sampling['over'], n_jobs=-1, random_state=RANDOM_STATE)\n",
        "under = ius.RandomUnderSampler(sampling_strategy=sampling['under'], random_state=RANDOM_STATE)\n",
        "\n",
        "sampling_steps = [('over', over), ('under', under)]\n",
        "sampling_pipeline = ipl.Pipeline(sampling_steps)\n",
        "\n",
        "X_train_cleaner_and_reduction_sampled_, y_train_cleaner_and_reduction_sampled_ = sampling_pipeline.fit_resample(X_train_cleaner_and_reduction_, y_train)"
      ]
    },
    {
      "cell_type": "code",
      "execution_count": null,
      "metadata": {
        "colab": {
          "base_uri": "https://localhost:8080/"
        },
        "id": "66m1z7ti5wkX",
        "outputId": "61cf1da6-4626-462e-eec9-c3dccdbdc145"
      },
      "outputs": [
        {
          "output_type": "execute_result",
          "data": {
            "text/plain": [
              "Counter({0: 600,\n",
              "         1: 600,\n",
              "         2: 600,\n",
              "         3: 600,\n",
              "         4: 600,\n",
              "         5: 600,\n",
              "         6: 600,\n",
              "         7: 600,\n",
              "         8: 600,\n",
              "         9: 600,\n",
              "         10: 600,\n",
              "         11: 600,\n",
              "         12: 600,\n",
              "         13: 600})"
            ]
          },
          "metadata": {},
          "execution_count": 54
        }
      ],
      "source": [
        "from collections import Counter\n",
        "Counter(y_train_cleaner_and_reduction_sampled_)"
      ]
    },
    {
      "cell_type": "markdown",
      "metadata": {
        "id": "cuZBSBeNMGCd"
      },
      "source": [
        "## Phần II: Xây dựng mô hình"
      ]
    },
    {
      "cell_type": "markdown",
      "metadata": {
        "id": "AkmreGJkSkvc"
      },
      "source": [
        "Chúng ta sẽ sử dụng tối ưu tham số để tìm ra mô hình tốt nhất và sau đó sẽ so sánh chúng với nhau"
      ]
    },
    {
      "cell_type": "code",
      "execution_count": null,
      "metadata": {
        "id": "TVpcyHv37kkk"
      },
      "outputs": [],
      "source": [
        "def evaluation_model(y_pred, y_test):\n",
        "  acc = accuracy_score(y_test, y_pred)\n",
        "  print(\"- Acc = {}\".format(acc))\n",
        "  print(classification_report(y_test, y_pred, target_names=le.classes_))\n",
        "  return acc"
      ]
    },
    {
      "cell_type": "markdown",
      "metadata": {
        "id": "jJ4QLT6gwy3O"
      },
      "source": [
        "### 2.1 Single Classifier"
      ]
    },
    {
      "cell_type": "code",
      "execution_count": null,
      "metadata": {
        "id": "bYxh-CRDcSDn"
      },
      "outputs": [],
      "source": [
        "def train_model(estimator, X_train, y_train, X_test, y_test):\n",
        "  estimator_start = time.time()\n",
        "  estimator.fit(X_train, y_train)\n",
        "  print(\"Fit data completely ...\")\n",
        "  estimator_train_time = int(time.time() - estimator_start)\n",
        "  y_pred = estimator.predict(X_test)\n",
        "\n",
        "  estimator_acc = evaluation_model(y_pred, y_test)\n",
        "  return estimator, estimator_acc, estimator_train_time\n"
      ]
    },
    {
      "cell_type": "code",
      "execution_count": null,
      "metadata": {
        "id": "2wz0nnmIVqsE"
      },
      "outputs": [],
      "source": [
        "skf = KFold(n_splits=5, shuffle=True, random_state=RANDOM_STATE)"
      ]
    },
    {
      "cell_type": "code",
      "execution_count": null,
      "metadata": {
        "id": "NcvFN6eUcSTj"
      },
      "outputs": [],
      "source": [
        "def create_params_based_on_estimator(estimator, X_train, y_train, scoring='accuracy', return_train_score=True, cv=None):\n",
        "  params = dict (\n",
        "      estimator=estimator,\n",
        "      X=X_train,\n",
        "      y=y_train,\n",
        "      scoring=scoring,\n",
        "      return_train_score=return_train_score,\n",
        "      cv=cv,\n",
        "      n_jobs=-1,\n",
        "      verbose=3\n",
        "  )\n",
        "  return params"
      ]
    },
    {
      "cell_type": "markdown",
      "metadata": {
        "id": "O8eqt1lpSnoP"
      },
      "source": [
        "#### SVM"
      ]
    },
    {
      "cell_type": "code",
      "execution_count": null,
      "metadata": {
        "colab": {
          "base_uri": "https://localhost:8080/"
        },
        "id": "j2M8SLSUcCuq",
        "outputId": "0abdddd2-204b-4b9f-e904-4c26e8e47ccc"
      },
      "outputs": [
        {
          "output_type": "stream",
          "name": "stderr",
          "text": [
            "[Parallel(n_jobs=-1)]: Using backend LokyBackend with 2 concurrent workers.\n",
            "[Parallel(n_jobs=-1)]: Done   5 out of   5 | elapsed: 18.9min finished\n"
          ]
        }
      ],
      "source": [
        "\n",
        "cv_params_svm = create_params_based_on_estimator(SVC(C=1.0, kernel='linear', random_state=RANDOM_STATE),\n",
        "                                                 X_train_cleaner_and_reduction_sampled_,\n",
        "                                                 y_train_cleaner_and_reduction_sampled_,\n",
        "                                                 cv=skf)\n",
        "\n",
        "svm_cv = cross_validate(\n",
        "    **cv_params_svm\n",
        ")"
      ]
    },
    {
      "cell_type": "code",
      "execution_count": null,
      "metadata": {
        "colab": {
          "base_uri": "https://localhost:8080/"
        },
        "id": "DWca4RKtFILp",
        "outputId": "7915437a-4c5a-40a9-9df7-08d7307c0d59"
      },
      "outputs": [
        {
          "output_type": "stream",
          "name": "stdout",
          "text": [
            "Fit data completely ...\n",
            "- Acc = 0.8948228882833787\n",
            "              precision    recall  f1-score   support\n",
            "\n",
            "     An sinh       0.73      0.71      0.72       172\n",
            "Bất động sản       0.95      0.90      0.93       373\n",
            "    Giáo dục       0.93      0.93      0.93       405\n",
            "    Giải trí       0.81      0.81      0.81       152\n",
            "  Kinh doanh       0.87      0.83      0.85       287\n",
            "   Pháp luật       0.89      0.96      0.93       103\n",
            "    Sức khỏe       0.97      0.98      0.98       358\n",
            " Sức mạnh số       0.93      0.91      0.92       218\n",
            "    Thế giới       0.86      0.83      0.85       197\n",
            "    Thể thao       0.98      0.98      0.98       388\n",
            "    Việc làm       0.79      0.84      0.81       194\n",
            "     Văn hóa       0.87      0.84      0.86       319\n",
            "       Xe ++       0.94      0.98      0.96       240\n",
            "      Xã hội       0.78      0.85      0.81       264\n",
            "\n",
            "    accuracy                           0.89      3670\n",
            "   macro avg       0.88      0.88      0.88      3670\n",
            "weighted avg       0.90      0.89      0.89      3670\n",
            "\n"
          ]
        }
      ],
      "source": [
        "svm_clf, svm_acc, svm_time = train_model(cv_params_svm['estimator'], X_train_cleaner_and_reduction_sampled_,\n",
        "                                         y_train_cleaner_and_reduction_sampled_, X_test_cleaner_and_reduction_,\n",
        "                                         y_test)"
      ]
    },
    {
      "cell_type": "code",
      "execution_count": null,
      "metadata": {
        "id": "_lIVYm7zSwc1"
      },
      "outputs": [],
      "source": [
        "# with open(os.path.join(MODEL_PATH, 'svm_clf.pkl'), 'wb') as f:\n",
        "#   pickle.dump(svm_clf, f)\n",
        "\n",
        "# with open(os.path.join(MODEL_PATH, 'svm_cv.pkl'), 'wb') as f:\n",
        "#   pickle.dump(svm_cv, f)"
      ]
    },
    {
      "cell_type": "code",
      "source": [
        "#Load results\n",
        "with open(os.path.join(MODEL_PATH, 'svm_clf.pkl'), 'rb') as f:\n",
        "  svm_clf = pickle.load(f)\n",
        "\n",
        "with open(os.path.join(MODEL_PATH, 'svm_cv.pkl'), 'rb') as f:\n",
        "  svm_cv = pickle.load(f)"
      ],
      "metadata": {
        "id": "ffe9nBOItJ81"
      },
      "execution_count": null,
      "outputs": []
    },
    {
      "cell_type": "code",
      "source": [
        "svm_cv"
      ],
      "metadata": {
        "colab": {
          "base_uri": "https://localhost:8080/"
        },
        "id": "dy1h2i7WMzr3",
        "outputId": "0cb35e42-0474-44ad-f0ea-ff0c94d3f2ce"
      },
      "execution_count": null,
      "outputs": [
        {
          "output_type": "execute_result",
          "data": {
            "text/plain": [
              "{'fit_time': array([205.85080695, 204.18498588, 201.55848169, 202.74157453,\n",
              "        107.63038158]),\n",
              " 'score_time': array([49.02532315, 47.40264821, 47.56283641, 48.06446743, 26.69914889]),\n",
              " 'test_score': array([0.91607143, 0.90952381, 0.91488095, 0.92083333, 0.91904762]),\n",
              " 'train_score': array([0.98110119, 0.98139881, 0.98005952, 0.98050595, 0.97931548])}"
            ]
          },
          "metadata": {},
          "execution_count": 100
        }
      ]
    },
    {
      "cell_type": "markdown",
      "metadata": {
        "id": "ZqYe-GIzTcea"
      },
      "source": [
        "#### SGD"
      ]
    },
    {
      "cell_type": "code",
      "execution_count": null,
      "metadata": {
        "colab": {
          "base_uri": "https://localhost:8080/"
        },
        "id": "HwYnpk05T-Ea",
        "outputId": "4f4b53d6-2ba0-4d76-83f3-3ba72e7ea7fd"
      },
      "outputs": [
        {
          "output_type": "stream",
          "name": "stderr",
          "text": [
            "[Parallel(n_jobs=-1)]: Using backend LokyBackend with 2 concurrent workers.\n",
            "[Parallel(n_jobs=-1)]: Done   5 out of   5 | elapsed:   27.2s finished\n"
          ]
        }
      ],
      "source": [
        "cv_params_sgd = create_params_based_on_estimator(SGDClassifier(loss='modified_huber', max_iter=1000, eta0=0.001, early_stopping=True, n_jobs=-1, random_state=RANDOM_STATE),\n",
        "                                                 X_train_cleaner_and_reduction_sampled_,\n",
        "                                                 y_train_cleaner_and_reduction_sampled_,\n",
        "                                                 cv=skf)\n",
        "\n",
        "sgd_cv = cross_validate(\n",
        "    **cv_params_sgd\n",
        ")"
      ]
    },
    {
      "cell_type": "code",
      "execution_count": null,
      "metadata": {
        "colab": {
          "base_uri": "https://localhost:8080/"
        },
        "id": "CSeUWf-GTd2D",
        "outputId": "252f71cf-badc-436b-9add-b7e03fff4082"
      },
      "outputs": [
        {
          "output_type": "stream",
          "name": "stdout",
          "text": [
            "Fit data completely ...\n",
            "- Acc = 0.8809264305177111\n",
            "              precision    recall  f1-score   support\n",
            "\n",
            "     An sinh       0.73      0.65      0.69       172\n",
            "Bất động sản       0.98      0.85      0.91       373\n",
            "    Giáo dục       0.92      0.93      0.92       405\n",
            "    Giải trí       0.71      0.86      0.78       152\n",
            "  Kinh doanh       0.87      0.83      0.85       287\n",
            "   Pháp luật       0.88      0.97      0.92       103\n",
            "    Sức khỏe       0.95      0.98      0.97       358\n",
            " Sức mạnh số       0.94      0.91      0.92       218\n",
            "    Thế giới       0.91      0.80      0.85       197\n",
            "    Thể thao       0.98      0.98      0.98       388\n",
            "    Việc làm       0.80      0.76      0.78       194\n",
            "     Văn hóa       0.90      0.78      0.84       319\n",
            "       Xe ++       0.94      0.97      0.95       240\n",
            "      Xã hội       0.67      0.91      0.77       264\n",
            "\n",
            "    accuracy                           0.88      3670\n",
            "   macro avg       0.87      0.87      0.87      3670\n",
            "weighted avg       0.89      0.88      0.88      3670\n",
            "\n"
          ]
        }
      ],
      "source": [
        "sgd_clf, sgd_acc, sgd_time = train_model(cv_params_sgd['estimator'], X_train_cleaner_and_reduction_sampled_,\n",
        "                                         y_train_cleaner_and_reduction_sampled_, X_test_cleaner_and_reduction_,\n",
        "                                         y_test)"
      ]
    },
    {
      "cell_type": "code",
      "execution_count": null,
      "metadata": {
        "id": "rRLD0NiVVbra"
      },
      "outputs": [],
      "source": [
        "with open(os.path.join(MODEL_PATH, 'sgd_clf.pkl'), 'wb') as f:\n",
        "  pickle.dump(sgd_clf, f)\n",
        "\n",
        "with open(os.path.join(MODEL_PATH, 'sgd_cv.pkl'), 'wb') as f:\n",
        "  pickle.dump(sgd_cv, f)"
      ]
    },
    {
      "cell_type": "code",
      "source": [
        "# Load results\n",
        "with open(os.path.join(MODEL_PATH, 'sgd_clf.pkl'), 'rb') as f:\n",
        "  sgd_clf = pickle.load(f)\n",
        "\n",
        "with open(os.path.join(MODEL_PATH, 'sgd_cv.pkl'), 'rb') as f:\n",
        "  sgd_cv = pickle.load(f)"
      ],
      "metadata": {
        "id": "WYtbNHAIt69l"
      },
      "execution_count": null,
      "outputs": []
    },
    {
      "cell_type": "markdown",
      "metadata": {
        "id": "-79EaMqoCIie"
      },
      "source": [
        "#### GaussianNB"
      ]
    },
    {
      "cell_type": "code",
      "execution_count": null,
      "metadata": {
        "colab": {
          "base_uri": "https://localhost:8080/"
        },
        "id": "-lRfjyH4WBTg",
        "outputId": "096a8683-d390-4d5a-934c-f992986b137d"
      },
      "outputs": [
        {
          "output_type": "stream",
          "name": "stderr",
          "text": [
            "[Parallel(n_jobs=-1)]: Using backend LokyBackend with 2 concurrent workers.\n",
            "[Parallel(n_jobs=-1)]: Done   5 out of   5 | elapsed:   29.1s finished\n"
          ]
        }
      ],
      "source": [
        "cv_params_gnb = create_params_based_on_estimator(GaussianNB(),\n",
        "                                                 X_train_cleaner_and_reduction_sampled_,\n",
        "                                                 y_train_cleaner_and_reduction_sampled_,\n",
        "                                                 cv=skf)\n",
        "\n",
        "gnb_cv = cross_validate(\n",
        "    **cv_params_gnb\n",
        ")"
      ]
    },
    {
      "cell_type": "code",
      "execution_count": null,
      "metadata": {
        "colab": {
          "base_uri": "https://localhost:8080/"
        },
        "id": "7f8RSOgCCIXt",
        "outputId": "63c527f8-c156-4b40-e754-59ce70efee02"
      },
      "outputs": [
        {
          "name": "stdout",
          "output_type": "stream",
          "text": [
            "Fit data completely ...\n",
            "- Acc = 0.3138964577656676\n",
            "              precision    recall  f1-score   support\n",
            "\n",
            "     An sinh       0.08      0.74      0.14       172\n",
            "Bất động sản       0.50      0.30      0.37       373\n",
            "    Giáo dục       0.60      0.29      0.39       405\n",
            "    Giải trí       0.67      0.18      0.29       152\n",
            "  Kinh doanh       0.73      0.17      0.28       287\n",
            "   Pháp luật       0.29      0.06      0.10       103\n",
            "    Sức khỏe       0.97      0.18      0.31       358\n",
            " Sức mạnh số       0.96      0.22      0.36       218\n",
            "    Thế giới       0.43      0.52      0.47       197\n",
            "    Thể thao       0.85      0.66      0.75       388\n",
            "    Việc làm       0.15      0.19      0.17       194\n",
            "     Văn hóa       0.18      0.08      0.11       319\n",
            "       Xe ++       0.97      0.35      0.52       240\n",
            "      Xã hội       0.29      0.36      0.32       264\n",
            "\n",
            "    accuracy                           0.31      3670\n",
            "   macro avg       0.55      0.31      0.33      3670\n",
            "weighted avg       0.58      0.31      0.35      3670\n",
            "\n"
          ]
        }
      ],
      "source": [
        "gnb_clf, gnb_acc, gnb_time = train_model(cv_params_gnb['estimator'], X_train_cleaner_and_reduction_sampled_,\n",
        "                                         y_train_cleaner_and_reduction_sampled_, X_test_cleaner_and_reduction_,\n",
        "                                         y_test)"
      ]
    },
    {
      "cell_type": "code",
      "execution_count": null,
      "metadata": {
        "id": "rp4f_0qhWxOa"
      },
      "outputs": [],
      "source": [
        "with open(os.path.join(MODEL_PATH, 'gnb_clf.pkl'), 'wb') as f:\n",
        "  pickle.dump(gnb_clf, f)\n",
        "\n",
        "with open(os.path.join(MODEL_PATH, 'gnb_cv.pkl'), 'wb') as f:\n",
        "  pickle.dump(gnb_cv, f)"
      ]
    },
    {
      "cell_type": "code",
      "source": [
        "# Load results\n",
        "with open(os.path.join(MODEL_PATH, 'gnb_clf.pkl'), 'rb') as f:\n",
        "  gnb_clf = pickle.load(f)\n",
        "\n",
        "with open(os.path.join(MODEL_PATH, 'gnb_cv.pkl'), 'rb') as f:\n",
        "  gnb_cv = pickle.load(f)"
      ],
      "metadata": {
        "id": "0-QVfRE8vfd_"
      },
      "execution_count": null,
      "outputs": []
    },
    {
      "cell_type": "code",
      "source": [
        "gnb_cv"
      ],
      "metadata": {
        "colab": {
          "base_uri": "https://localhost:8080/"
        },
        "id": "hY5rOIWFvj4e",
        "outputId": "e42df81c-0966-4910-af92-e73b9a234884"
      },
      "execution_count": null,
      "outputs": [
        {
          "output_type": "execute_result",
          "data": {
            "text/plain": [
              "{'fit_time': array([1.68612027, 1.74308991, 0.95658684, 1.02987933, 0.78742671]),\n",
              " 'score_time': array([1.81759644, 1.97021675, 1.9955225 , 2.09249544, 0.95798826]),\n",
              " 'test_score': array([0.33452381, 0.35059524, 0.33869048, 0.30833333, 0.30595238]),\n",
              " 'train_score': array([0.41919643, 0.425     , 0.41979167, 0.40997024, 0.4108631 ])}"
            ]
          },
          "metadata": {},
          "execution_count": 117
        }
      ]
    },
    {
      "cell_type": "markdown",
      "metadata": {
        "id": "JJ7mOnlPTt1Y"
      },
      "source": [
        "#### Decision Tree"
      ]
    },
    {
      "cell_type": "code",
      "execution_count": null,
      "metadata": {
        "colab": {
          "base_uri": "https://localhost:8080/"
        },
        "id": "xwSRpdz_WO8X",
        "outputId": "99cd3551-d2be-4ece-c27d-1a6139442fde"
      },
      "outputs": [
        {
          "output_type": "stream",
          "name": "stderr",
          "text": [
            "[Parallel(n_jobs=-1)]: Using backend LokyBackend with 2 concurrent workers.\n",
            "[Parallel(n_jobs=-1)]: Done   5 out of   5 | elapsed:  5.3min finished\n"
          ]
        }
      ],
      "source": [
        "cv_params_dtc = create_params_based_on_estimator(DecisionTreeClassifier(max_depth=500, random_state=RANDOM_STATE),\n",
        "                                                 X_train_cleaner_and_reduction_sampled_,\n",
        "                                                 y_train_cleaner_and_reduction_sampled_,\n",
        "                                                 cv=skf)\n",
        "\n",
        "dtc_cv = cross_validate(\n",
        "    **cv_params_dtc\n",
        ")"
      ]
    },
    {
      "cell_type": "code",
      "execution_count": null,
      "metadata": {
        "colab": {
          "base_uri": "https://localhost:8080/"
        },
        "id": "jExZdO1hTtJD",
        "outputId": "2a538841-ab0e-4b55-e3d2-e4157da65c45"
      },
      "outputs": [
        {
          "output_type": "stream",
          "name": "stdout",
          "text": [
            "Fit data completely ...\n",
            "- Acc = 0.7220708446866485\n",
            "              precision    recall  f1-score   support\n",
            "\n",
            "     An sinh       0.45      0.48      0.46       172\n",
            "Bất động sản       0.85      0.77      0.81       373\n",
            "    Giáo dục       0.83      0.80      0.82       405\n",
            "    Giải trí       0.47      0.66      0.55       152\n",
            "  Kinh doanh       0.64      0.57      0.60       287\n",
            "   Pháp luật       0.68      0.79      0.73       103\n",
            "    Sức khỏe       0.89      0.89      0.89       358\n",
            " Sức mạnh số       0.68      0.67      0.68       218\n",
            "    Thế giới       0.65      0.69      0.67       197\n",
            "    Thể thao       0.90      0.91      0.90       388\n",
            "    Việc làm       0.51      0.56      0.54       194\n",
            "     Văn hóa       0.66      0.61      0.63       319\n",
            "       Xe ++       0.87      0.90      0.89       240\n",
            "      Xã hội       0.56      0.52      0.54       264\n",
            "\n",
            "    accuracy                           0.72      3670\n",
            "   macro avg       0.69      0.70      0.69      3670\n",
            "weighted avg       0.73      0.72      0.72      3670\n",
            "\n"
          ]
        }
      ],
      "source": [
        "dtc_clf, dtc_acc, dtc_time = train_model(cv_params_dtc['estimator'], X_train_cleaner_and_reduction_sampled_,\n",
        "                                         y_train_cleaner_and_reduction_sampled_, X_test_cleaner_and_reduction_,\n",
        "                                         y_test)"
      ]
    },
    {
      "cell_type": "code",
      "execution_count": null,
      "metadata": {
        "id": "pFrdmkpLY91c"
      },
      "outputs": [],
      "source": [
        "with open(os.path.join(MODEL_PATH, 'dtc_clf.pkl'), 'wb') as f:\n",
        "  pickle.dump(dtc_clf, f)\n",
        "\n",
        "with open(os.path.join(MODEL_PATH, 'dtc_cv.pkl'), 'wb') as f:\n",
        "  pickle.dump(dtc_cv, f)"
      ]
    },
    {
      "cell_type": "code",
      "source": [
        "# Load results\n",
        "with open(os.path.join(MODEL_PATH, 'dtc_clf.pkl'), 'rb') as f:\n",
        "  dtc_clf = pickle.load(f)\n",
        "\n",
        "with open(os.path.join(MODEL_PATH, 'dtc_cv.pkl'), 'rb') as f:\n",
        "  dtc_cv = pickle.load(f)"
      ],
      "metadata": {
        "id": "nVPnTp3MvmZg"
      },
      "execution_count": null,
      "outputs": []
    },
    {
      "cell_type": "code",
      "source": [
        "dtc_cv"
      ],
      "metadata": {
        "colab": {
          "base_uri": "https://localhost:8080/"
        },
        "id": "7LqVtpw_voYK",
        "outputId": "781337bc-82b4-4503-9312-61a1a4892d5d"
      },
      "execution_count": null,
      "outputs": [
        {
          "output_type": "execute_result",
          "data": {
            "text/plain": [
              "{'fit_time': array([131.26889825, 123.6719799 , 117.72439837, 114.51805377,\n",
              "         76.09465075]),\n",
              " 'score_time': array([0.05325437, 0.03090525, 0.03394556, 0.03002834, 0.02765059]),\n",
              " 'test_score': array([0.71845238, 0.71607143, 0.69047619, 0.71071429, 0.7047619 ]),\n",
              " 'train_score': array([1., 1., 1., 1., 1.])}"
            ]
          },
          "metadata": {},
          "execution_count": 123
        }
      ]
    },
    {
      "cell_type": "markdown",
      "metadata": {
        "id": "40qmLpFoFfH9"
      },
      "source": [
        "#### KNN"
      ]
    },
    {
      "cell_type": "code",
      "execution_count": null,
      "metadata": {
        "colab": {
          "base_uri": "https://localhost:8080/"
        },
        "id": "4CnXYA27Oky7",
        "outputId": "ce7878c3-e786-4e45-f65e-1e6fac7710fa"
      },
      "outputs": [
        {
          "output_type": "stream",
          "name": "stderr",
          "text": [
            "[Parallel(n_jobs=-1)]: Using backend LokyBackend with 2 concurrent workers.\n",
            "[Parallel(n_jobs=-1)]: Done   5 out of   5 | elapsed:  1.7min finished\n"
          ]
        }
      ],
      "source": [
        "\n",
        "cv_params_knn = create_params_based_on_estimator(KNeighborsClassifier(n_neighbors=5, n_jobs=-1, metric='euclidean', weights='distance'),\n",
        "                                                 X_train_cleaner_and_reduction_sampled_,\n",
        "                                                 y_train_cleaner_and_reduction_sampled_,\n",
        "                                                 cv=skf)\n",
        "\n",
        "knn_cv = cross_validate(\n",
        "    **cv_params_knn\n",
        ")\n"
      ]
    },
    {
      "cell_type": "code",
      "execution_count": null,
      "metadata": {
        "colab": {
          "base_uri": "https://localhost:8080/"
        },
        "id": "jhMF4VzOFe9O",
        "outputId": "4bf6a228-cf23-4840-f5b8-8e0240de41bd"
      },
      "outputs": [
        {
          "output_type": "stream",
          "name": "stdout",
          "text": [
            "Fit data completely ...\n",
            "- Acc = 0.7275204359673024\n",
            "              precision    recall  f1-score   support\n",
            "\n",
            "     An sinh       0.35      0.77      0.49       172\n",
            "Bất động sản       0.93      0.75      0.83       373\n",
            "    Giáo dục       0.97      0.65      0.78       405\n",
            "    Giải trí       0.47      0.90      0.61       152\n",
            "  Kinh doanh       0.91      0.56      0.69       287\n",
            "   Pháp luật       0.45      0.95      0.61       103\n",
            "    Sức khỏe       0.99      0.78      0.87       358\n",
            " Sức mạnh số       0.70      0.89      0.78       218\n",
            "    Thế giới       0.57      0.85      0.68       197\n",
            "    Thể thao       0.98      0.87      0.92       388\n",
            "    Việc làm       0.46      0.71      0.56       194\n",
            "     Văn hóa       0.87      0.44      0.58       319\n",
            "       Xe ++       0.92      0.91      0.91       240\n",
            "      Xã hội       0.88      0.48      0.62       264\n",
            "\n",
            "    accuracy                           0.73      3670\n",
            "   macro avg       0.75      0.75      0.71      3670\n",
            "weighted avg       0.82      0.73      0.74      3670\n",
            "\n"
          ]
        }
      ],
      "source": [
        "knn_clf, knn_acc, knn_time = train_model(cv_params_knn['estimator'], X_train_cleaner_and_reduction_sampled_,\n",
        "                                         y_train_cleaner_and_reduction_sampled_, X_test_cleaner_and_reduction_,\n",
        "                                         y_test)"
      ]
    },
    {
      "cell_type": "code",
      "execution_count": null,
      "metadata": {
        "id": "FPjxA2F_ViIw"
      },
      "outputs": [],
      "source": [
        "with open(os.path.join(MODEL_PATH, 'knn_clf.pkl'), 'wb') as f:\n",
        "  pickle.dump(knn_clf, f)\n",
        "\n",
        "with open(os.path.join(MODEL_PATH, 'knn_cv.pkl'), 'wb') as f:\n",
        "  pickle.dump(knn_cv, f)"
      ]
    },
    {
      "cell_type": "code",
      "source": [
        "# Load results\n",
        "with open(os.path.join(MODEL_PATH, 'knn_clf.pkl'), 'rb') as f:\n",
        "  knn_clf = pickle.load(f)\n",
        "\n",
        "with open(os.path.join(MODEL_PATH, 'knn_cv.pkl'), 'rb') as f:\n",
        "  knn_cv = pickle.load(f)"
      ],
      "metadata": {
        "id": "loxM0MTQvvvG"
      },
      "execution_count": null,
      "outputs": []
    },
    {
      "cell_type": "code",
      "source": [
        "knn_cv"
      ],
      "metadata": {
        "colab": {
          "base_uri": "https://localhost:8080/"
        },
        "id": "8uga3TqjvxQQ",
        "outputId": "6f638b97-df33-465b-c764-7181e6917db9"
      },
      "execution_count": null,
      "outputs": [
        {
          "output_type": "execute_result",
          "data": {
            "text/plain": [
              "{'fit_time': array([0.25758171, 0.22949553, 0.27052903, 0.254426  , 0.1865232 ]),\n",
              " 'score_time': array([8.82712197, 8.91819906, 6.85052562, 6.79315639, 4.85824394]),\n",
              " 'test_score': array([0.7797619 , 0.76488095, 0.77440476, 0.77619048, 0.77380952]),\n",
              " 'train_score': array([1., 1., 1., 1., 1.])}"
            ]
          },
          "metadata": {},
          "execution_count": 130
        }
      ]
    },
    {
      "cell_type": "markdown",
      "metadata": {
        "id": "PVdfvGFEwxKK"
      },
      "source": [
        "### 2.2 Ensemble Methods"
      ]
    },
    {
      "cell_type": "markdown",
      "metadata": {
        "id": "TDEw41UNw84-"
      },
      "source": [
        "#### Random Forest"
      ]
    },
    {
      "cell_type": "code",
      "execution_count": null,
      "metadata": {
        "colab": {
          "base_uri": "https://localhost:8080/"
        },
        "id": "VPM18hxbXbVL",
        "outputId": "2cf06ff3-1811-4459-c098-12151091c438"
      },
      "outputs": [
        {
          "output_type": "stream",
          "name": "stderr",
          "text": [
            "[Parallel(n_jobs=-1)]: Using backend LokyBackend with 2 concurrent workers.\n",
            "[Parallel(n_jobs=-1)]: Done   5 out of   5 | elapsed: 11.7min finished\n"
          ]
        }
      ],
      "source": [
        "\n",
        "cv_params_rf = create_params_based_on_estimator(RandomForestClassifier(n_estimators=250, max_depth=500, n_jobs=-1, random_state=RANDOM_STATE),\n",
        "                                                 X_train_cleaner_and_reduction_sampled_,\n",
        "                                                 y_train_cleaner_and_reduction_sampled_,\n",
        "                                                 cv=skf)\n",
        "\n",
        "rf_cv = cross_validate(\n",
        "    **cv_params_rf\n",
        ")"
      ]
    },
    {
      "cell_type": "code",
      "execution_count": null,
      "metadata": {
        "colab": {
          "base_uri": "https://localhost:8080/"
        },
        "id": "zuir99bXw4Ki",
        "outputId": "7064bae9-6cb0-46cc-fa80-c624c4098d98"
      },
      "outputs": [
        {
          "output_type": "stream",
          "name": "stdout",
          "text": [
            "Fit data completely ...\n",
            "- Acc = 0.8547683923705722\n",
            "              precision    recall  f1-score   support\n",
            "\n",
            "     An sinh       0.70      0.72      0.71       172\n",
            "Bất động sản       0.92      0.88      0.90       373\n",
            "    Giáo dục       0.92      0.90      0.91       405\n",
            "    Giải trí       0.69      0.82      0.75       152\n",
            "  Kinh doanh       0.83      0.73      0.78       287\n",
            "   Pháp luật       0.86      0.92      0.89       103\n",
            "    Sức khỏe       0.95      0.98      0.96       358\n",
            " Sức mạnh số       0.84      0.87      0.86       218\n",
            "    Thế giới       0.76      0.79      0.77       197\n",
            "    Thể thao       0.97      0.94      0.95       388\n",
            "    Việc làm       0.70      0.81      0.75       194\n",
            "     Văn hóa       0.87      0.80      0.83       319\n",
            "       Xe ++       0.89      0.94      0.92       240\n",
            "      Xã hội       0.79      0.72      0.75       264\n",
            "\n",
            "    accuracy                           0.85      3670\n",
            "   macro avg       0.83      0.85      0.84      3670\n",
            "weighted avg       0.86      0.85      0.86      3670\n",
            "\n"
          ]
        }
      ],
      "source": [
        "rf_clf, rf_acc, rf_time = train_model(cv_params_rf['estimator'], X_train_cleaner_and_reduction_sampled_,\n",
        "                                         y_train_cleaner_and_reduction_sampled_, X_test_cleaner_and_reduction_,\n",
        "                                         y_test)"
      ]
    },
    {
      "cell_type": "code",
      "execution_count": null,
      "metadata": {
        "id": "MMYvFRojg3mP"
      },
      "outputs": [],
      "source": [
        "with open(os.path.join(MODEL_PATH, 'rf_clf.pkl'), 'wb') as f:\n",
        "  pickle.dump(rf_clf, f)\n",
        "\n",
        "with open(os.path.join(MODEL_PATH, 'rf_cv.pkl'), 'wb') as f:\n",
        "  pickle.dump(rf_cv, f)"
      ]
    },
    {
      "cell_type": "code",
      "source": [
        "# Load results\n",
        "with open(os.path.join(MODEL_PATH, 'rf_clf.pkl'), 'rb') as f:\n",
        "  rf_clf = pickle.load(f)\n",
        "\n",
        "with open(os.path.join(MODEL_PATH, 'rf_cv.pkl'), 'rb') as f:\n",
        "  rf_cv = pickle.load(f)"
      ],
      "metadata": {
        "id": "r6yY7o20v74G"
      },
      "execution_count": null,
      "outputs": []
    },
    {
      "cell_type": "code",
      "source": [
        "rf_cv"
      ],
      "metadata": {
        "colab": {
          "base_uri": "https://localhost:8080/"
        },
        "id": "ExCnoXcXv9Wb",
        "outputId": "4db9262a-b1a3-4e0d-c64e-a0a75128008d"
      },
      "execution_count": null,
      "outputs": [
        {
          "output_type": "execute_result",
          "data": {
            "text/plain": [
              "{'fit_time': array([282.51631594, 279.19326973, 280.87837982, 278.49735737,\n",
              "        135.47052813]),\n",
              " 'score_time': array([0.48697925, 0.46735239, 0.46809244, 0.38874888, 0.36085534]),\n",
              " 'test_score': array([0.88571429, 0.88690476, 0.88571429, 0.89166667, 0.88214286]),\n",
              " 'train_score': array([1., 1., 1., 1., 1.])}"
            ]
          },
          "metadata": {},
          "execution_count": 137
        }
      ]
    },
    {
      "cell_type": "markdown",
      "metadata": {
        "id": "SGD3wie8LRCS"
      },
      "source": [
        "#### Voting"
      ]
    },
    {
      "cell_type": "markdown",
      "metadata": {
        "id": "RMILF9hENmVe"
      },
      "source": [
        "Để so sánh sự khác biệt giữa Ensemble Methods và Single Classifiers. Chúng ta sẽ sử dụng hai mô hình Voting khác nhau trong đó,\n",
        "\n",
        "Mô hình 1 bao gồm các `strong_learner` là các mô hình có độ chính xác >= 80%\n",
        "* SVM\n",
        "* SGD\n",
        "* Random Forest\n",
        "\n",
        "Mô hình 2 bao gồm các `weak_learner` là các mô hình có độ chính xác thấp hơn\n",
        "* GaussianNB\n",
        "* Decision Tree\n",
        "* KNN"
      ]
    },
    {
      "cell_type": "code",
      "execution_count": null,
      "metadata": {
        "colab": {
          "base_uri": "https://localhost:8080/"
        },
        "id": "N6Oxq6Vuhrab",
        "outputId": "7744ddfd-442f-4c04-fb87-d081851f1a2a"
      },
      "outputs": [
        {
          "output_type": "stream",
          "name": "stderr",
          "text": [
            "[Parallel(n_jobs=-1)]: Using backend LokyBackend with 2 concurrent workers.\n",
            "[Parallel(n_jobs=-1)]: Done   5 out of   5 | elapsed: 69.6min finished\n"
          ]
        }
      ],
      "source": [
        "strong_estimators = [\n",
        "    ('svm', SVC(C=1.0, kernel='linear', random_state=RANDOM_STATE, probability=True, gamma=0.001)),\n",
        "    ('sgd', SGDClassifier(loss='modified_huber', max_iter=1000, eta0=0.001, early_stopping=True, random_state=RANDOM_STATE)),\n",
        "    ('rf', RandomForestClassifier(n_estimators=500, max_depth=1000, random_state=RANDOM_STATE))\n",
        "]\n",
        "\n",
        "cv_params_voting_strong_learner = create_params_based_on_estimator(VotingClassifier(estimators=strong_estimators, voting='soft', n_jobs=-1),\n",
        "                                                 X_train_cleaner_and_reduction_sampled_,\n",
        "                                                 y_train_cleaner_and_reduction_sampled_,\n",
        "                                                 cv=skf)\n",
        "voting_strong_learner_cv = cross_validate(\n",
        "    **cv_params_voting_strong_learner\n",
        ")\n"
      ]
    },
    {
      "cell_type": "code",
      "execution_count": null,
      "metadata": {
        "id": "InQ0lRr2w4H7",
        "colab": {
          "base_uri": "https://localhost:8080/"
        },
        "outputId": "100efc58-1708-49c3-fde5-d010542e1650"
      },
      "outputs": [
        {
          "output_type": "stream",
          "name": "stdout",
          "text": [
            "Fit data completely ...\n",
            "- Acc = 0.8948228882833787\n",
            "              precision    recall  f1-score   support\n",
            "\n",
            "     An sinh       0.77      0.70      0.73       172\n",
            "Bất động sản       0.96      0.90      0.93       373\n",
            "    Giáo dục       0.92      0.93      0.93       405\n",
            "    Giải trí       0.80      0.82      0.81       152\n",
            "  Kinh doanh       0.87      0.83      0.85       287\n",
            "   Pháp luật       0.89      0.97      0.93       103\n",
            "    Sức khỏe       0.96      0.99      0.98       358\n",
            " Sức mạnh số       0.93      0.89      0.91       218\n",
            "    Thế giới       0.88      0.84      0.86       197\n",
            "    Thể thao       0.97      0.99      0.98       388\n",
            "    Việc làm       0.81      0.82      0.82       194\n",
            "     Văn hóa       0.89      0.83      0.86       319\n",
            "       Xe ++       0.93      0.98      0.96       240\n",
            "      Xã hội       0.74      0.87      0.80       264\n",
            "\n",
            "    accuracy                           0.89      3670\n",
            "   macro avg       0.88      0.88      0.88      3670\n",
            "weighted avg       0.90      0.89      0.89      3670\n",
            "\n"
          ]
        }
      ],
      "source": [
        "voting_strong_learner_clf, voting_strong_learner_acc, voting_strong_learner_time = train_model(cv_params_voting_strong_learner['estimator'], X_train_cleaner_and_reduction_sampled_,\n",
        "                                                                                               y_train_cleaner_and_reduction_sampled_, X_test_cleaner_and_reduction_,\n",
        "                                                                                               y_test)"
      ]
    },
    {
      "cell_type": "code",
      "execution_count": null,
      "metadata": {
        "id": "23b7lMw6iMkF"
      },
      "outputs": [],
      "source": [
        "with open(os.path.join(MODEL_PATH, 'voting_strong_learner_clf.pkl'), 'wb') as f:\n",
        "  pickle.dump(voting_strong_learner_clf, f)\n",
        "\n",
        "with open(os.path.join(MODEL_PATH, 'voting_strong_learner_cv.pkl'), 'wb') as f:\n",
        "  pickle.dump(voting_strong_learner_cv, f)"
      ]
    },
    {
      "cell_type": "code",
      "source": [
        "voting_strong_learner_cv"
      ],
      "metadata": {
        "colab": {
          "base_uri": "https://localhost:8080/"
        },
        "id": "vlCuX25uARxP",
        "outputId": "d8a0c8f9-8263-45ec-ea48-0464e25dfa34"
      },
      "execution_count": null,
      "outputs": [
        {
          "output_type": "execute_result",
          "data": {
            "text/plain": [
              "{'fit_time': array([1453.19184637, 1459.67234802, 1451.65796113, 1444.59222126,\n",
              "         665.69292831]),\n",
              " 'score_time': array([47.28556299, 47.32350945, 47.34397626, 49.64773583, 26.55470204]),\n",
              " 'test_score': array([0.92738095, 0.92857143, 0.91488095, 0.91011905, 0.91785714]),\n",
              " 'train_score': array([0.99508929, 0.99494048, 0.99613095, 0.9953869 , 0.99508929])}"
            ]
          },
          "metadata": {},
          "execution_count": 86
        }
      ]
    },
    {
      "cell_type": "code",
      "source": [
        "# Load results\n",
        "with open(os.path.join(MODEL_PATH, 'voting_strong_learner_clf.pkl'), 'rb') as f:\n",
        "  voting_strong_learner_clf = pickle.load(f)\n",
        "\n",
        "with open(os.path.join(MODEL_PATH, 'voting_strong_learner_cv.pkl'), 'rb') as f:\n",
        "  voting_strong_learner_cv = pickle.load(f)"
      ],
      "metadata": {
        "id": "HnUaJgf0LRwy"
      },
      "execution_count": null,
      "outputs": []
    },
    {
      "cell_type": "code",
      "source": [
        "voting_strong_learner_cv"
      ],
      "metadata": {
        "colab": {
          "base_uri": "https://localhost:8080/"
        },
        "id": "bsfdCLpbLVQX",
        "outputId": "ffc26b75-0cce-475f-e38b-7bef80bdb300"
      },
      "execution_count": null,
      "outputs": [
        {
          "output_type": "execute_result",
          "data": {
            "text/plain": [
              "{'fit_time': array([1453.19184637, 1459.67234802, 1451.65796113, 1444.59222126,\n",
              "         665.69292831]),\n",
              " 'score_time': array([47.28556299, 47.32350945, 47.34397626, 49.64773583, 26.55470204]),\n",
              " 'test_score': array([0.92738095, 0.92857143, 0.91488095, 0.91011905, 0.91785714]),\n",
              " 'train_score': array([0.99508929, 0.99494048, 0.99613095, 0.9953869 , 0.99508929])}"
            ]
          },
          "metadata": {},
          "execution_count": 88
        }
      ]
    },
    {
      "cell_type": "code",
      "execution_count": null,
      "metadata": {
        "id": "gJxjPT-97noC",
        "colab": {
          "base_uri": "https://localhost:8080/"
        },
        "outputId": "53ec520f-cd0e-4f53-b456-2bedb8cd5d18"
      },
      "outputs": [
        {
          "output_type": "stream",
          "name": "stderr",
          "text": [
            "[Parallel(n_jobs=-1)]: Using backend LokyBackend with 2 concurrent workers.\n",
            "[Parallel(n_jobs=-1)]: Done   5 out of   5 | elapsed:  7.2min finished\n"
          ]
        }
      ],
      "source": [
        "weak_estimators = [\n",
        "    ('gnb', GaussianNB()),\n",
        "    ('dtc', DecisionTreeClassifier(max_depth=1500, random_state=RANDOM_STATE)),\n",
        "    ('knn', KNeighborsClassifier(n_neighbors=5, n_jobs=-1, metric='euclidean', weights='distance'))\n",
        "]\n",
        "cv_params_voting_weak_learner = create_params_based_on_estimator(VotingClassifier(estimators=weak_estimators, voting='soft', n_jobs=-1),\n",
        "                                                 X_train_cleaner_and_reduction_sampled_,\n",
        "                                                 y_train_cleaner_and_reduction_sampled_,\n",
        "                                                 cv=skf)\n",
        "voting_weak_learner_cv = cross_validate(\n",
        "    **cv_params_voting_weak_learner\n",
        ")"
      ]
    },
    {
      "cell_type": "code",
      "execution_count": null,
      "metadata": {
        "id": "Tg8u7B7ajW9Y",
        "colab": {
          "base_uri": "https://localhost:8080/"
        },
        "outputId": "57022730-d93b-4d48-b4e1-dec40513fef0"
      },
      "outputs": [
        {
          "output_type": "stream",
          "name": "stdout",
          "text": [
            "Fit data completely ...\n",
            "- Acc = 0.738692098092643\n",
            "              precision    recall  f1-score   support\n",
            "\n",
            "     An sinh       0.27      0.77      0.40       172\n",
            "Bất động sản       0.89      0.79      0.84       373\n",
            "    Giáo dục       0.89      0.77      0.83       405\n",
            "    Giải trí       0.58      0.77      0.66       152\n",
            "  Kinh doanh       0.78      0.54      0.64       287\n",
            "   Pháp luật       0.81      0.84      0.82       103\n",
            "    Sức khỏe       0.94      0.86      0.90       358\n",
            " Sức mạnh số       0.81      0.75      0.78       218\n",
            "    Thế giới       0.65      0.74      0.69       197\n",
            "    Thể thao       0.94      0.91      0.93       388\n",
            "    Việc làm       0.55      0.58      0.56       194\n",
            "     Văn hóa       0.76      0.51      0.61       319\n",
            "       Xe ++       0.92      0.90      0.91       240\n",
            "      Xã hội       0.71      0.57      0.63       264\n",
            "\n",
            "    accuracy                           0.74      3670\n",
            "   macro avg       0.75      0.74      0.73      3670\n",
            "weighted avg       0.79      0.74      0.75      3670\n",
            "\n"
          ]
        }
      ],
      "source": [
        "voting_weak_learner_clf, voting_weak_learner_acc, voting_weak_learner_time = train_model(cv_params_voting_weak_learner['estimator'], X_train_cleaner_and_reduction_sampled_,\n",
        "                                                                                               y_train_cleaner_and_reduction_sampled_, X_test_cleaner_and_reduction_,\n",
        "                                                                                               y_test)"
      ]
    },
    {
      "cell_type": "code",
      "execution_count": null,
      "metadata": {
        "id": "gww0vUkDlBlH"
      },
      "outputs": [],
      "source": [
        "with open(os.path.join(MODEL_PATH, 'voting_weak_learner_clf.pkl'), 'wb') as f:\n",
        "  pickle.dump(voting_weak_learner_clf, f)\n",
        "\n",
        "with open(os.path.join(MODEL_PATH, 'voting_weak_learner_cv.pkl'), 'wb') as f:\n",
        "  pickle.dump(voting_weak_learner_cv, f)"
      ]
    },
    {
      "cell_type": "code",
      "source": [
        "# Load results\n",
        "with open(os.path.join(MODEL_PATH, 'voting_weak_learner_clf.pkl'), 'rb') as f:\n",
        "  voting_weak_learner_clf = pickle.load(f)\n",
        "\n",
        "with open(os.path.join(MODEL_PATH, 'voting_weak_learner_cv.pkl'), 'rb') as f:\n",
        "  voting_weak_learner_cv = pickle.load(f)"
      ],
      "metadata": {
        "id": "e18dm3_jLiCl"
      },
      "execution_count": null,
      "outputs": []
    },
    {
      "cell_type": "code",
      "source": [
        "voting_weak_learner_cv"
      ],
      "metadata": {
        "colab": {
          "base_uri": "https://localhost:8080/"
        },
        "id": "5FY4wufmXVTH",
        "outputId": "e5fc570b-ce9c-4e8c-8071-06cd69f00cf5"
      },
      "execution_count": null,
      "outputs": [
        {
          "output_type": "execute_result",
          "data": {
            "text/plain": [
              "{'fit_time': array([120.85351062, 118.05099034, 114.48570538, 116.30321527,\n",
              "         78.30454564]),\n",
              " 'score_time': array([8.46589899, 9.15693569, 9.61069059, 8.20373106, 5.51785803]),\n",
              " 'test_score': array([0.75119048, 0.7452381 , 0.76071429, 0.7577381 , 0.76607143]),\n",
              " 'train_score': array([1., 1., 1., 1., 1.])}"
            ]
          },
          "metadata": {},
          "execution_count": 67
        }
      ]
    },
    {
      "cell_type": "markdown",
      "metadata": {
        "id": "_5-87ZCj2wcj"
      },
      "source": [
        "#### Bagging"
      ]
    },
    {
      "cell_type": "markdown",
      "metadata": {
        "id": "WfmXc99x7Awd"
      },
      "source": [
        "Đối với việc sử dụng Bagging, chúng ta sẽ sử dụng những mô hình sau:\n",
        "* SVM\n",
        "* SGD\n",
        "* Random Forest"
      ]
    },
    {
      "cell_type": "code",
      "execution_count": null,
      "metadata": {
        "colab": {
          "base_uri": "https://localhost:8080/"
        },
        "id": "qqTfV5d8SDND",
        "outputId": "597af52e-3a52-4c66-e667-a0c8802ba04b"
      },
      "outputs": [
        {
          "output_type": "stream",
          "name": "stderr",
          "text": [
            "[Parallel(n_jobs=-1)]: Using backend LokyBackend with 2 concurrent workers.\n",
            "[Parallel(n_jobs=-1)]: Done   5 out of   5 | elapsed: 122.4min finished\n"
          ]
        }
      ],
      "source": [
        "svm_params = dict(\n",
        "    estimator=SVC(C=1.0, kernel='linear', random_state=RANDOM_STATE),\n",
        "    n_estimators=10,\n",
        "    bootstrap=True,\n",
        "    n_jobs=-1,\n",
        "    random_state=RANDOM_STATE,\n",
        ")\n",
        "\n",
        "cv_params_svm_bagging = create_params_based_on_estimator(BaggingClassifier(**svm_params),\n",
        "                                                 X_train_cleaner_and_reduction_sampled_,\n",
        "                                                 y_train_cleaner_and_reduction_sampled_,\n",
        "                                                 cv=skf)\n",
        "svm_bagging_cv = cross_validate(\n",
        "    **cv_params_svm_bagging\n",
        ")"
      ]
    },
    {
      "cell_type": "code",
      "source": [
        "svm_bagging_clf, svm_bagging_acc, svm_bagging_time = train_model(cv_params_svm_bagging['estimator'], X_train_cleaner_and_reduction_sampled_,\n",
        "                                         y_train_cleaner_and_reduction_sampled_, X_test_cleaner_and_reduction_,\n",
        "                                         y_test)"
      ],
      "metadata": {
        "colab": {
          "base_uri": "https://localhost:8080/"
        },
        "id": "2fDV0WLvyteY",
        "outputId": "1e00a8a2-6a62-42c3-db32-e9f831718041"
      },
      "execution_count": null,
      "outputs": [
        {
          "output_type": "stream",
          "name": "stdout",
          "text": [
            "Fit data completely ...\n",
            "- Acc = 0.8929155313351499\n",
            "              precision    recall  f1-score   support\n",
            "\n",
            "     An sinh       0.70      0.73      0.72       172\n",
            "Bất động sản       0.96      0.91      0.93       373\n",
            "    Giáo dục       0.94      0.92      0.93       405\n",
            "    Giải trí       0.80      0.82      0.81       152\n",
            "  Kinh doanh       0.86      0.84      0.85       287\n",
            "   Pháp luật       0.86      0.96      0.91       103\n",
            "    Sức khỏe       0.97      0.98      0.98       358\n",
            " Sức mạnh số       0.93      0.91      0.92       218\n",
            "    Thế giới       0.87      0.83      0.85       197\n",
            "    Thể thao       0.97      0.98      0.98       388\n",
            "    Việc làm       0.78      0.84      0.81       194\n",
            "     Văn hóa       0.87      0.84      0.85       319\n",
            "       Xe ++       0.93      0.97      0.95       240\n",
            "      Xã hội       0.82      0.82      0.82       264\n",
            "\n",
            "    accuracy                           0.89      3670\n",
            "   macro avg       0.88      0.88      0.88      3670\n",
            "weighted avg       0.89      0.89      0.89      3670\n",
            "\n"
          ]
        }
      ]
    },
    {
      "cell_type": "code",
      "source": [
        "with open(os.path.join(MODEL_PATH, 'svm_bagging_clf.pkl'), 'wb') as f:\n",
        "  pickle.dump(svm_bagging_clf, f)\n",
        "\n",
        "with open(os.path.join(MODEL_PATH, 'svm_bagging_cv.pkl'), 'wb') as f:\n",
        "  pickle.dump(svm_bagging_cv, f)"
      ],
      "metadata": {
        "id": "yORZ8cW0xuMS"
      },
      "execution_count": null,
      "outputs": []
    },
    {
      "cell_type": "code",
      "source": [
        "# Load results\n",
        "with open(os.path.join(MODEL_PATH, 'svm_bagging_clf.pkl'), 'rb') as f:\n",
        "  svm_bagging_clf = pickle.load(f)\n",
        "\n",
        "with open(os.path.join(MODEL_PATH, 'svm_bagging_cv.pkl'), 'rb') as f:\n",
        "  svm_bagging_cv = pickle.load(f)"
      ],
      "metadata": {
        "id": "k5F_mfx5XcGS"
      },
      "execution_count": null,
      "outputs": []
    },
    {
      "cell_type": "code",
      "source": [
        "svm_bagging_cv"
      ],
      "metadata": {
        "colab": {
          "base_uri": "https://localhost:8080/"
        },
        "id": "_atDz_q_T_lH",
        "outputId": "1fa690ab-0711-406a-f6c3-d0684e326aa8"
      },
      "execution_count": null,
      "outputs": [
        {
          "output_type": "execute_result",
          "data": {
            "text/plain": [
              "{'fit_time': array([1162.79616261, 1157.92801046, 1107.94643998, 1108.98057365,\n",
              "         552.78811789]),\n",
              " 'score_time': array([368.88606548, 364.52215052, 358.80326748, 363.26423526,\n",
              "        180.54321575]),\n",
              " 'test_score': array([0.91547619, 0.90952381, 0.91130952, 0.91428571, 0.91547619]),\n",
              " 'train_score': array([0.97619048, 0.97559524, 0.97410714, 0.97306548, 0.97440476])}"
            ]
          },
          "metadata": {},
          "execution_count": 69
        }
      ]
    },
    {
      "cell_type": "code",
      "execution_count": null,
      "metadata": {
        "id": "NN8Uv2XkHpD1",
        "colab": {
          "base_uri": "https://localhost:8080/"
        },
        "outputId": "82b79123-2084-4ae5-b694-173063405f2b"
      },
      "outputs": [
        {
          "output_type": "stream",
          "name": "stderr",
          "text": [
            "[Parallel(n_jobs=-1)]: Using backend LokyBackend with 2 concurrent workers.\n",
            "[Parallel(n_jobs=-1)]: Done   5 out of   5 | elapsed:  4.0min finished\n"
          ]
        }
      ],
      "source": [
        "sgd_params = dict(\n",
        "    estimator=SGDClassifier(loss='modified_huber', max_iter=1000, eta0=0.001, early_stopping=True, n_jobs=-1, random_state=RANDOM_STATE),\n",
        "    n_estimators=10,\n",
        "    bootstrap=True,\n",
        "    n_jobs=-1,\n",
        "    random_state=RANDOM_STATE,\n",
        ")\n",
        "\n",
        "cv_params_sgd_bagging = create_params_based_on_estimator(BaggingClassifier(**sgd_params),\n",
        "                                                 X_train_cleaner_and_reduction_sampled_,\n",
        "                                                 y_train_cleaner_and_reduction_sampled_,\n",
        "                                                 cv=skf)\n",
        "\n",
        "sgd_bagging_cv = cross_validate(\n",
        "    **cv_params_sgd_bagging\n",
        ")\n"
      ]
    },
    {
      "cell_type": "code",
      "source": [
        "sgd_bagging_clf, sgd_bagging_acc, sgd_bagging_time = train_model(cv_params_sgd_bagging['estimator'], X_train_cleaner_and_reduction_sampled_,\n",
        "                                         y_train_cleaner_and_reduction_sampled_, X_test_cleaner_and_reduction_,\n",
        "                                         y_test)"
      ],
      "metadata": {
        "colab": {
          "base_uri": "https://localhost:8080/"
        },
        "id": "zfG4IKOC2NY0",
        "outputId": "416876ef-aae9-4f78-a32d-bd161dc9bc8d"
      },
      "execution_count": null,
      "outputs": [
        {
          "output_type": "stream",
          "name": "stdout",
          "text": [
            "Fit data completely ...\n",
            "- Acc = 0.8937329700272479\n",
            "              precision    recall  f1-score   support\n",
            "\n",
            "     An sinh       0.73      0.72      0.73       172\n",
            "Bất động sản       0.95      0.90      0.93       373\n",
            "    Giáo dục       0.94      0.92      0.93       405\n",
            "    Giải trí       0.82      0.76      0.79       152\n",
            "  Kinh doanh       0.88      0.80      0.84       287\n",
            "   Pháp luật       0.88      0.97      0.92       103\n",
            "    Sức khỏe       0.95      0.99      0.97       358\n",
            " Sức mạnh số       0.90      0.94      0.92       218\n",
            "    Thế giới       0.86      0.84      0.85       197\n",
            "    Thể thao       0.97      0.99      0.98       388\n",
            "    Việc làm       0.75      0.84      0.79       194\n",
            "     Văn hóa       0.87      0.88      0.87       319\n",
            "       Xe ++       0.93      0.99      0.96       240\n",
            "      Xã hội       0.85      0.82      0.83       264\n",
            "\n",
            "    accuracy                           0.89      3670\n",
            "   macro avg       0.88      0.88      0.88      3670\n",
            "weighted avg       0.89      0.89      0.89      3670\n",
            "\n"
          ]
        }
      ]
    },
    {
      "cell_type": "code",
      "source": [
        "with open(os.path.join(MODEL_PATH, 'sgd_bagging_clf.pkl'), 'wb') as f:\n",
        "  pickle.dump(sgd_bagging_clf, f)\n",
        "\n",
        "with open(os.path.join(MODEL_PATH, 'sgd_bagging_cv.pkl'), 'wb') as f:\n",
        "  pickle.dump(sgd_bagging_cv, f)"
      ],
      "metadata": {
        "id": "0arg-ZHtUJ66"
      },
      "execution_count": null,
      "outputs": []
    },
    {
      "cell_type": "code",
      "source": [
        "# Load results\n",
        "with open(os.path.join(MODEL_PATH, 'sgd_bagging_clf.pkl'), 'rb') as f:\n",
        "  sgd_bagging_clf = pickle.load(f)\n",
        "\n",
        "with open(os.path.join(MODEL_PATH, 'sgd_bagging_cv.pkl'), 'rb') as f:\n",
        "  sgd_bagging_cv = pickle.load(f)"
      ],
      "metadata": {
        "id": "jyMyqS7oXnA4"
      },
      "execution_count": null,
      "outputs": []
    },
    {
      "cell_type": "code",
      "source": [
        "sgd_bagging_cv"
      ],
      "metadata": {
        "colab": {
          "base_uri": "https://localhost:8080/"
        },
        "id": "AkaEtBmMXFQ7",
        "outputId": "6077bbdf-d8d3-4e46-9aef-c9bcde590456"
      },
      "execution_count": null,
      "outputs": [
        {
          "output_type": "execute_result",
          "data": {
            "text/plain": [
              "{'fit_time': array([85.0439105 , 85.27712131, 82.01459432, 88.27509832, 46.81509948]),\n",
              " 'score_time': array([1.40774035, 1.37464952, 1.34870505, 1.1300292 , 0.64349484]),\n",
              " 'test_score': array([0.91785714, 0.91130952, 0.91666667, 0.91428571, 0.91666667]),\n",
              " 'train_score': array([0.98809524, 0.98988095, 0.98794643, 0.9889881 , 0.98824405])}"
            ]
          },
          "metadata": {},
          "execution_count": 71
        }
      ]
    },
    {
      "cell_type": "code",
      "execution_count": null,
      "metadata": {
        "id": "biTzWg8pH1iv",
        "colab": {
          "base_uri": "https://localhost:8080/"
        },
        "outputId": "7a718bf6-089a-4d3c-e401-3c9f15121619"
      },
      "outputs": [
        {
          "output_type": "stream",
          "name": "stderr",
          "text": [
            "[Parallel(n_jobs=-1)]: Using backend LokyBackend with 2 concurrent workers.\n",
            "[Parallel(n_jobs=-1)]: Done   5 out of   5 | elapsed: 74.8min finished\n"
          ]
        }
      ],
      "source": [
        "rf_params = dict(\n",
        "    estimator=RandomForestClassifier(n_estimators=250, max_depth=500, n_jobs=-1, random_state=RANDOM_STATE),\n",
        "    n_estimators=10,\n",
        "    bootstrap=True,\n",
        "    n_jobs=-1,\n",
        "    random_state=RANDOM_STATE,\n",
        ")\n",
        "\n",
        "cv_params_rf_bagging = create_params_based_on_estimator(BaggingClassifier(**rf_params),\n",
        "                                                 X_train_cleaner_and_reduction_sampled_,\n",
        "                                                 y_train_cleaner_and_reduction_sampled_,\n",
        "                                                 cv=skf)\n",
        "\n",
        "rf_bagging_cv = cross_validate(\n",
        "    **cv_params_rf_bagging\n",
        ")\n"
      ]
    },
    {
      "cell_type": "code",
      "source": [
        "rf_bagging_clf, rf_bagging_acc, rf_bagging_time = train_model(cv_params_rf_bagging['estimator'], X_train_cleaner_and_reduction_sampled_,\n",
        "                                         y_train_cleaner_and_reduction_sampled_, X_test_cleaner_and_reduction_,\n",
        "                                         y_test)"
      ],
      "metadata": {
        "colab": {
          "base_uri": "https://localhost:8080/"
        },
        "id": "pgJCG8LbX2Lv",
        "outputId": "ffead905-40f4-4154-bbe9-bbca267639cb"
      },
      "execution_count": null,
      "outputs": [
        {
          "output_type": "stream",
          "name": "stdout",
          "text": [
            "Fit data completely ...\n",
            "- Acc = 0.8520435967302452\n",
            "              precision    recall  f1-score   support\n",
            "\n",
            "     An sinh       0.66      0.72      0.69       172\n",
            "Bất động sản       0.93      0.88      0.91       373\n",
            "    Giáo dục       0.90      0.89      0.90       405\n",
            "    Giải trí       0.66      0.86      0.74       152\n",
            "  Kinh doanh       0.84      0.72      0.78       287\n",
            "   Pháp luật       0.86      0.94      0.90       103\n",
            "    Sức khỏe       0.94      0.97      0.96       358\n",
            " Sức mạnh số       0.85      0.88      0.86       218\n",
            "    Thế giới       0.76      0.79      0.78       197\n",
            "    Thể thao       0.96      0.94      0.95       388\n",
            "    Việc làm       0.69      0.80      0.74       194\n",
            "     Văn hóa       0.89      0.75      0.81       319\n",
            "       Xe ++       0.89      0.97      0.93       240\n",
            "      Xã hội       0.81      0.72      0.76       264\n",
            "\n",
            "    accuracy                           0.85      3670\n",
            "   macro avg       0.83      0.85      0.84      3670\n",
            "weighted avg       0.86      0.85      0.85      3670\n",
            "\n"
          ]
        }
      ]
    },
    {
      "cell_type": "code",
      "source": [
        "with open(os.path.join(MODEL_PATH, 'rf_bagging_clf.pkl'), 'wb') as f:\n",
        "  pickle.dump(rf_bagging_clf, f)\n",
        "\n",
        "with open(os.path.join(MODEL_PATH, 'rf_bagging_cv.pkl'), 'wb') as f:\n",
        "  pickle.dump(rf_bagging_cv, f)"
      ],
      "metadata": {
        "id": "76AoNCGTX6zA"
      },
      "execution_count": null,
      "outputs": []
    },
    {
      "cell_type": "code",
      "source": [
        "# Load results\n",
        "with open(os.path.join(MODEL_PATH, 'rf_bagging_clf.pkl'), 'rb') as f:\n",
        "  rf_bagging_clf = pickle.load(f)\n",
        "\n",
        "with open(os.path.join(MODEL_PATH, 'rf_bagging_cv.pkl'), 'rb') as f:\n",
        "  rf_bagging_cv = pickle.load(f)"
      ],
      "metadata": {
        "id": "FyPmJNOaYA5Z"
      },
      "execution_count": null,
      "outputs": []
    },
    {
      "cell_type": "code",
      "source": [
        "rf_bagging_cv"
      ],
      "metadata": {
        "colab": {
          "base_uri": "https://localhost:8080/"
        },
        "id": "OCeJGojzYD2K",
        "outputId": "0af6ad80-6f82-4bf3-c100-49fb2ae7a99b"
      },
      "execution_count": null,
      "outputs": [
        {
          "output_type": "execute_result",
          "data": {
            "text/plain": [
              "{'fit_time': array([1788.59767294, 1788.67969513, 1752.23457146, 1767.74074316,\n",
              "         875.88704586]),\n",
              " 'score_time': array([4.87887836, 4.8424201 , 4.77278113, 5.08355141, 3.84298968]),\n",
              " 'test_score': array([0.88630952, 0.88511905, 0.89047619, 0.89642857, 0.89107143]),\n",
              " 'train_score': array([1.        , 0.99985119, 1.        , 0.99985119, 0.99955357])}"
            ]
          },
          "metadata": {},
          "execution_count": 84
        }
      ]
    },
    {
      "cell_type": "markdown",
      "metadata": {
        "id": "5_v3hRb84rww"
      },
      "source": [
        "#### Boosting"
      ]
    },
    {
      "cell_type": "code",
      "execution_count": null,
      "metadata": {
        "id": "WSOawYDD4tFY"
      },
      "outputs": [],
      "source": []
    },
    {
      "cell_type": "code",
      "execution_count": null,
      "metadata": {
        "id": "vBhIVO1WS-Yi"
      },
      "outputs": [],
      "source": []
    }
  ],
  "metadata": {
    "colab": {
      "toc_visible": true,
      "provenance": []
    },
    "kernelspec": {
      "display_name": "Python 3",
      "name": "python3"
    },
    "language_info": {
      "name": "python"
    }
  },
  "nbformat": 4,
  "nbformat_minor": 0
}