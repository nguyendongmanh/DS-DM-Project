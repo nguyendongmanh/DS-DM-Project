{
 "cells": [
  {
   "cell_type": "markdown",
   "metadata": {},
   "source": [
    "# Chuẩn bị dữ liệu"
   ]
  },
  {
   "cell_type": "markdown",
   "metadata": {},
   "source": [
    "## Import các thư viện cần dùng"
   ]
  },
  {
   "cell_type": "code",
   "execution_count": 1,
   "metadata": {},
   "outputs": [],
   "source": [
    "import os\n",
    "import pickle\n",
    "import warnings\n",
    "\n",
    "import pandas as pd\n",
    "import numpy as np\n",
    "\n",
    "from sklearn.preprocessing import LabelEncoder\n",
    "from sklearn.model_selection import train_test_split\n",
    "from sklearn.feature_extraction.text import CountVectorizer, TfidfTransformer"
   ]
  },
  {
   "cell_type": "markdown",
   "metadata": {},
   "source": [
    "## Khai báo các giá trị hằng số"
   ]
  },
  {
   "cell_type": "code",
   "execution_count": 2,
   "metadata": {},
   "outputs": [],
   "source": [
    "warnings.filterwarnings(\"ignore\")\n",
    "np.random.seed(42)\n",
    "\n",
    "DATA_PATH = \"../data/\"\n",
    "MODEL_PATH = \"../models/\""
   ]
  },
  {
   "cell_type": "markdown",
   "metadata": {},
   "source": [
    "## Đọc dữ liệu từ DATA_PATH"
   ]
  },
  {
   "cell_type": "code",
   "execution_count": 3,
   "metadata": {},
   "outputs": [
    {
     "data": {
      "text/html": [
       "<div>\n",
       "<style scoped>\n",
       "    .dataframe tbody tr th:only-of-type {\n",
       "        vertical-align: middle;\n",
       "    }\n",
       "\n",
       "    .dataframe tbody tr th {\n",
       "        vertical-align: top;\n",
       "    }\n",
       "\n",
       "    .dataframe thead th {\n",
       "        text-align: right;\n",
       "    }\n",
       "</style>\n",
       "<table border=\"1\" class=\"dataframe\">\n",
       "  <thead>\n",
       "    <tr style=\"text-align: right;\">\n",
       "      <th></th>\n",
       "      <th>title</th>\n",
       "      <th>category</th>\n",
       "      <th>content</th>\n",
       "    </tr>\n",
       "  </thead>\n",
       "  <tbody>\n",
       "    <tr>\n",
       "      <th>0</th>\n",
       "      <td>Thi hành án dứt điểm những vụ lớn, phức tạp li...</td>\n",
       "      <td>Xã hội</td>\n",
       "      <td>Ông Nguyễn Văn Sơn, Phó Tổng cục trưởng Tổng c...</td>\n",
       "    </tr>\n",
       "    <tr>\n",
       "      <th>1</th>\n",
       "      <td>Món quà của Thủ tướng dành cho những người \"kh...</td>\n",
       "      <td>Xã hội</td>\n",
       "      <td>Sáng 12/2 (mùng 3 Tết Giáp Thìn), Thủ tướng Ph...</td>\n",
       "    </tr>\n",
       "    <tr>\n",
       "      <th>2</th>\n",
       "      <td>Thủ tướng thị sát đường sắt Nhổn - ga Hà Nội: ...</td>\n",
       "      <td>Xã hội</td>\n",
       "      <td>Sáng 12/2 (mùng 3 Tết Giáp Thìn), Thủ tướng Ph...</td>\n",
       "    </tr>\n",
       "    <tr>\n",
       "      <th>3</th>\n",
       "      <td>Đại sứ Saudi Arabia: Mong muốn Việt Nam sớm vư...</td>\n",
       "      <td>Xã hội</td>\n",
       "      <td>Thủ tướng Phạm Minh Chính tiếp Đại sứ Saudi Ar...</td>\n",
       "    </tr>\n",
       "    <tr>\n",
       "      <th>4</th>\n",
       "      <td>Tổng Thanh tra Chính phủ nói về giải pháp \"trị...</td>\n",
       "      <td>Xã hội</td>\n",
       "      <td>Tổng Thanh tra Chính phủ Đoàn Hồng Phong vừa c...</td>\n",
       "    </tr>\n",
       "  </tbody>\n",
       "</table>\n",
       "</div>"
      ],
      "text/plain": [
       "                                               title category  \\\n",
       "0  Thi hành án dứt điểm những vụ lớn, phức tạp li...   Xã hội   \n",
       "1  Món quà của Thủ tướng dành cho những người \"kh...   Xã hội   \n",
       "2  Thủ tướng thị sát đường sắt Nhổn - ga Hà Nội: ...   Xã hội   \n",
       "3  Đại sứ Saudi Arabia: Mong muốn Việt Nam sớm vư...   Xã hội   \n",
       "4  Tổng Thanh tra Chính phủ nói về giải pháp \"trị...   Xã hội   \n",
       "\n",
       "                                             content  \n",
       "0  Ông Nguyễn Văn Sơn, Phó Tổng cục trưởng Tổng c...  \n",
       "1  Sáng 12/2 (mùng 3 Tết Giáp Thìn), Thủ tướng Ph...  \n",
       "2  Sáng 12/2 (mùng 3 Tết Giáp Thìn), Thủ tướng Ph...  \n",
       "3  Thủ tướng Phạm Minh Chính tiếp Đại sứ Saudi Ar...  \n",
       "4  Tổng Thanh tra Chính phủ Đoàn Hồng Phong vừa c...  "
      ]
     },
     "execution_count": 3,
     "metadata": {},
     "output_type": "execute_result"
    }
   ],
   "source": [
    "data = pd.read_json(os.path.join(DATA_PATH, 'dantri.json'))\n",
    "data.head()"
   ]
  },
  {
   "cell_type": "code",
   "execution_count": 4,
   "metadata": {},
   "outputs": [],
   "source": [
    "def save_pkl_file(object, model_path: str, pkl_name: str):\n",
    "    with open(os.path.join(model_path, pkl_name), 'wb') as f:\n",
    "        pickle.dump(object, f)"
   ]
  },
  {
   "cell_type": "code",
   "execution_count": 5,
   "metadata": {},
   "outputs": [],
   "source": [
    "X, label = data['content'].values, data['category'].values"
   ]
  },
  {
   "cell_type": "code",
   "execution_count": 6,
   "metadata": {},
   "outputs": [],
   "source": [
    "le = LabelEncoder()\n",
    "le.fit(label)\n",
    "\n",
    "save_pkl_file(le, MODEL_PATH, 'label_encoder.pkl')\n",
    "\n",
    "y = le.transform(label)"
   ]
  },
  {
   "cell_type": "code",
   "execution_count": 7,
   "metadata": {},
   "outputs": [
    {
     "data": {
      "text/plain": [
       "(array(['Ông Nguyễn Văn Sơn, Phó Tổng cục trưởng Tổng cục Thi hành án dân sự (Bộ Tư pháp) vừa ký ban hành kế hoạch công tác năm 2024 của Tổ công tác chỉ đạo xử lý các vụ việc liên quan đến hoạt động tín dụng, ngân hàng (Tổ xử lý nợ xấu). Tổ xử lý nợ xấu có trách nhiệm phối hợp với Vụ Pháp chế (Ngân hàng Nhà nước), Hiệp hội Ngân hàng tổ chức tọa đàm, đối thoại giữa các cơ quan thi hành án với tổ chức tín dụng, Công ty quản lý tài sản (VAMC) để trao đổi, tháo gỡ khó khăn, vướng mắc liên quan đến các vụ việc thi hành án tín dụng, ngân hàng. Trong đó, tập trung rà soát, tổng hợp các vụ việc trên cơ sở thông báo kết luận kiểm tra các năm 2022, 2023 hoặc đề nghị của Hiệp hội Ngân hàng, các tổ chức tín dụng, VAMC. \"Phối hợp chỉ đạo tổ chức thi hành dứt điểm đối với những vụ việc có điều kiện, nhất là những đơn vị có nhiều vụ việc lớn, phức tạp liên quan đến các tổ chức tín dụng như Agribank, Vietcombank, VPBank, BIDV, Vietinbank\", lãnh đạo Tổng cục Thi hành án dân sự nêu rõ. Ông Nguyễn Văn Sơn, Phó Tổng cục trưởng Tổng cục Thi hành án dân sự, Bộ Tư pháp (Ảnh: Thế Kha). Tổ xử lý nợ xấu có trách nhiệm kiểm tra, phúc tra, đôn đốc thi hành án tại một số địa phương có số lượng việc/số tiền phải thi hành lớn, tỷ lệ thi hành án thấp để kịp thời chỉ đạo đẩy nhanh tiến độ. Dự kiến sẽ thực hiện việc này tại Cục Thi hành án dân sự TPHCM, Hà Nội, Kiên Giang. Để đảm bảo mục tiêu đề ra, Tổng cục Thi hành án dân sự cũng vừa có công văn yêu cầu Cục trưởng Thi hành án dân sự các địa phương đôn đốc, chỉ đạo chấp hành viên tập trung rà soát kỹ những vụ việc còn tồn đọng, liên quan đến xử lý tài sản bảo đảm và xây dựng kế hoạch chi tiết, các giải pháp cụ thể để giải quyết dứt điểm. Cơ quan thi hành án phân công lãnh đạo trực tiếp chỉ đạo, chịu trách nhiệm về tiến độ và kết quả thi hành án với những vụ việc phức tạp, có giá trị lớn; những vụ việc trên 3 năm chưa thi hành xong. Với những vụ việc chậm thi hành án do nguyên nhân chủ quan của cá nhân, Tổng cục Thi hành án dân sự yêu cầu nghiêm túc chấn chỉnh, xem xét trách nhiệm. Những trường hợp có khó khăn, vướng mắc, địa phương phải kịp thời chỉ đạo tháo gỡ hoặc báo cáo xin ý kiến cơ quan cấp trên hoặc báo cáo Tổng cục Thi hành án dân sự để lập đoàn kiểm tra đột xuất. 40 người thuộc diện tinh giản biên chế năm 2024 Tổng cục Thi hành án dân sự cho biết đã báo cáo lãnh đạo Bộ Tư pháp phê duyệt tinh giản biên chế với 39 trường hợp trong năm 2023 (34 người về hưu trước tuổi và 5 trường hợp thôi việc ngay). Việc xây dựng kế hoạch tinh giản biên chế đã được cơ quan này đảm bảo đúng nguyên tắc tinh giản tối thiểu 5% trên tỷ lệ biên chế giao đảm bảo đến năm 2026.\\xa0 Năm 2024, hệ thống thi hành án dân sự dự kiến thực hiện tinh giản biên chế đối với 40 trường hợp; đồng thời thực hiện sắp xếp, tinh gọn bộ máy và nâng cao chất lượng cho hệ thống phát triển bền vững, ổn định. ',\n",
       "        'Sáng 12/2 (mùng 3 Tết Giáp Thìn), Thủ tướng Phạm Minh Chính đã đi thăm, tặng quà, động viên cán bộ, công nhân, người lao động tại Công ty Môi trường đô thị Hà Nội và Nhà máy nước Yên Phụ. Đến động viên các tổ công nhân của Công ty URENCO đang làm nhiệm vụ tại khu vực đường Điện Biên Phủ và đường Hoàng Diệu, Thủ tướng gửi lời cảm ơn và chúc mừng năm mới tới toàn thể gần 5.000 cán bộ, công nhân viên, người lao động của Công ty. Thủ tướng Phạm Minh Chính thăm, chúc Tết công nhân, người lao động của Công ty Môi trường đô thị Hà Nội đang trực tại Công viên Lênin (Ảnh: Đoàn Bắc). Theo ông, họ là những người đã không quản mưa rét hay nắng nóng, bền bỉ làm việc cho những con đường, góc phố, công viên của Hà Nội xanh, sạch, đẹp, an toàn, góp phần giữ gìn và xây dựng Hà Nội ngàn năm văn hiến, Thành phố vì hòa bình. Thủ tướng đặc biệt biểu dương tinh thần làm việc của các công nhân lao động xuyên Tết, khi mọi người nghỉ ngơi, vui Tết, họ phải đảm đương khối lượng công việc ngày Tết nhiều hơn, vất vả hơn. Thăm hỏi công việc, đời sống, thu nhập của người lao động công ty, chế độ đãi ngộ dịp Tết, Thủ tướng cho rằng nghề gì cũng có vất vả và vinh quang riêng và các công nhân là những người chiến sĩ thầm lặng trên mặt trận bảo vệ môi trường. Thủ tướng Phạm Minh Chính tặng quà cho công nhân vệ sinh môi trường - những người lao động thầm lặng không có ngày nghỉ Tết (Ảnh: Đoàn Bắc). Xúc động khi được lãnh đạo Đảng, Nhà nước đến thăm, động viên và tặng quà, các công nhân vệ sinh hứa với Thủ tướng luôn nỗ lực vượt mọi khó khăn, gác lại việc gia đình dịp Tết để giữ gìn, bảo vệ môi trường Thành phố. Các công nhân mong muốn các cơ quan chức năng có biện pháp hiệu quả hơn để mỗi người dân có ý thức tốt hơn trong bảo vệ môi trường, thu gom rác thải, xử phạt nghiêm các trường hợp vứt rác bừa bãi. Ghi nhận ý kiến này, Thủ tướng cho rằng việc giữ gìn môi trường sạch, đẹp cần sự vào cuộc mạnh hơn và ý thức cùng sự chung tay của mỗi người dân. \"Nếu biết ơn những người công nhân đã giữ gìn cho môi trường xanh sạch đẹp, mỗi người cần đổ rác đúng chỗ, đúng giờ, giúp giảm bớt sự vất vả, khó nhọc của các công nhân\", Thủ tướng nói. Ngoài đề nghị cần có chính sách phù hợp cho lực lượng công nhân, người đứng đầu Chính phủ yêu cầu tăng cường ứng dụng công nghệ, các giải pháp mới trong công việc. Tiếp đó, Thủ tướng Phạm Minh Chính đi chúc Tết, tặng quà động viên người lao động tại Nhà máy nước Yên Phụ thuộc Công ty Nước sạch Hà Nội. Thủ tướng Phạm Minh Chính chúc Tết, tặng quà động viên người lao động tại Nhà máy nước Yên Phụ thuộc Công ty Nước sạch Hà Nội (Ảnh: Đoàn Bắc). Thủ tướng đánh giá cao Công ty đã triển khai đồng bộ, đảm bảo tất cả các hoạt động bình thường dịp Tết; vận hành mạng lưới cấp nước lưu thông phân phối, bố trí phương tiện, thiết bị, xe téc cấp nước 24/24h để xử lý kịp thời các sự cố…; không để cho khu vực nào mất nước, thiếu nước trong dịp Tết. Thủ tướng đề nghị Công ty áp dụng công nghệ nâng cao chất lượng nước; tiết kiệm nguyên liệu; nâng cao hiệu quả hoạt động. Thủ tướng cũng lưu ý làm tốt công tác quy hoạch mạng lưới cấp nước, đa dạng hóa các nguồn cung nước, đa dạng hóa địa bàn, mở rộng hoạt động hơn nữa tới các địa bàn xa trung tâm... Thủ tướng thăm phòng truyền thống của Công ty Nước sạch Hà Nội (Ảnh: Đoàn Bắc). Về giá nước, Thủ tướng định hướng cần tuân theo quy luật thị trường, nhưng khi cần thiết phải có sự điều tiết của Nhà nước bằng các công cụ phù hợp, có chính sách phù hợp với những người nghèo, người yếu thế, có hoàn cảnh khó khăn. Thủ tướng nhấn mạnh, Công ty Nước sạch Hà Nội phải bảo đảm an ninh nguồn nước phục vụ người dân Thủ đô, bảo đảm hoàn thành chỉ tiêu về cung cấp nước sạch, giảm tỷ lệ thất thoát, thất thu nước sạch. ',\n",
       "        'Sáng 12/2 (mùng 3 Tết Giáp Thìn), Thủ tướng Phạm Minh Chính đã đi kiểm tra hiện trường công tác thi công tuyến đường sắt đô thị số 3 Hà Nội (Nhổn - ga Hà Nội), thăm, tặng quà Tết, động viên cán bộ, công nhân đang làm việc trên công trường nhà ga ngầm S12 (ga Hà Nội) - vị trí sâu nhất của dự án. Tuyến metro Nhổn - ga Hà Nội dài 12,5km với 8 ga trên cao, 4 ga ngầm, đi qua 6 quận: Bắc Từ Liêm, Nam Từ Liêm, Cầu Giấy, Đống Đa, Hoàn Kiếm và Ba Đình. Thủ tướng Phạm Minh Chính đi kiểm tra hiện trường công tác thi công tuyến đường sắt đô thị Nhổn - ga Hà Nội (Ảnh: Đoàn Bắc). Báo cáo người đứng đầu Chính phủ, Ban Quản lý dự án đường sắt đô thị Hà Nội cho biết dự án đạt tiến độ tổng thể khoảng hơn 77%, trong đó đoạn trên cao Nhổn - Kim Mã đã đạt 99,7%; dự kiến vận hành vào tháng 6. Với đoạn ngầm hiện đạt tiến độ khoảng 40%, nhà thầu đang tập trung đẩy nhanh thi công kết cấu các ga ngầm để sớm khởi động thi công máy khoan hầm trong quý II/2024. Ga ngầm S12 là ga sâu nhất trong số 4 ga ngầm của tuyến metro, với thiết kế 3 tầng hầm, điểm sâu nhất ở\\xa035m dưới mặt đường. Các ga ngầm còn lại chỉ có 2 tầng, sâu 29m. \"Ga ngầm S12 đang nằm trên đường găng tiến độ của dự án, nếu chậm sẽ kéo cả dự án chậm theo\", theo báo cáo của Ban Quản lý. Thủ tướng nghe chuyên gia nước ngoài và cán bộ tư vấn, giám sát báo cáo về tiến độ của dự án (Ảnh: Đoàn Bắc). Hiện trên công trường toàn dự án có khoảng 40 chuyên gia nước ngoài, 100 cán bộ tư vấn, giám sát và khoảng 700-800 công nhân đang làm việc. Trên công trường, Thủ tướng đã trao đổi với đại diện TP Hà Nội, Ban Quản lý dự án, nhà thầu, chuyên gia nước ngoài, kỹ sư, công nhân… về việc triển khai dự án. Ông cũng tìm hiểu kỹ đánh giá của chuyên gia nước ngoài về chất lượng kỹ sư, công nhân Việt Nam, các biện pháp để thúc đẩy tiến độ dự án… Các chuyên gia nước ngoài đánh giá cao trình độ và ý thức trách nhiệm của đội ngũ kỹ sư, công nhân Việt Nam. Thủ tướng hoan nghênh tinh thần làm việc của các chuyên gia, cán bộ, công nhân trên công trường (Ảnh: Đoàn Bắc). Thủ tướng hoan nghênh các nhà thầu đã nhận thức rõ về tầm quan trọng của dự án với Hà Nội cũng như hiện trạng dự án, từ đó xác định rõ trách nhiệm, tăng cường nhân lực, máy móc để thi công xuyên Tết. \"Vì dự án đã kéo dài, Chính phủ rất quan tâm vấn đề đẩy nhanh tiến độ, không để tiếp tục kéo dài, bởi càng kéo dài thì càng đội vốn, hiệu quả đầu tư thấp\", Thủ tướng Phạm Minh Chính quán triệt. Về chất lượng, người đứng đầu Chính phủ nhận định địa chất tại khu vực dự án tương đối phức tạp, cần nghiên cứu để xử lý tốt các vấn đề liên quan. Mặt khác, dự án có mặt bằng thi công hẹp, nên khi thi công càng cần bảo đảm an toàn, vệ sinh môi trường, tính toán công việc khoa học, hợp lý. Cũng theo Thủ tướng, Việt Nam chưa có nhiều kinh nghiệm với các dự án metro, nên phải thuê tư vấn, nhà thầu nước ngoài, do đó mong được phía nước ngoài quan tâm chuyển giao công nghệ và đào tạo, nâng cao chất lượng nguồn nhân lực. Thủ tướng tặng quà các chuyên gia, cán bộ, công nhân trên công trường (Ảnh: Đoàn Bắc). Thủ tướng cũng đề nghị các nhà tư vấn, nhà thầu thiết kế, thi công tăng cường phối hợp chặt chẽ, nỗ lực, quyết tâm cao hơn, hành động quyết liệt hơn, tiếp tục huy động nhân lực, máy móc làm việc xuyên lễ, xuyên Tết với tinh thần \"vượt nắng, thắng mưa\", \"3 ca, 4 kíp\", \"ăn tranh thủ, ngủ khẩn trương\", \"chỉ bàn làm, không bàn lùi\". Chính phủ, các cơ quan liên quan và Hà Nội sẽ tiếp tục quan tâm, tháo gỡ khó khăn, vướng mắc để thúc đẩy dự án, Thủ tướng khẳng định. Cũng trên công trường thi công dự án, lãnh đạo Chính phủ ân cần thăm hỏi công việc, đời sống, tâm tư nguyện vọng, hoan nghênh tinh thần làm việc của các cán bộ, công nhân và động viên các cán bộ, công nhân cố gắng làm tốt hơn, nhanh hơn nhưng lưu ý phải bảo đảm an toàn là trên hết. ',\n",
       "        'Thủ tướng Phạm Minh Chính tiếp Đại sứ Saudi Arabia tại Việt Nam Mohammed Ismaeil A. Dahlwy (Ảnh tư liệu: Dương Giang/TTXVN). Nhân dịp đầu Xuân năm mới Giáp Thìn 2024, Đại sứ Saudi Arabia tại Việt Nam Mohammed Ismaeil A. Dahlwy đã có cuộc trao đổi với phóng viên TTXVN về những trải nghiệm của ông khi đón Tết cổ truyền của Việt Nam và nhìn lại một năm sôi động trong quan hệ hai nước Việt Nam - Saudi Arabia: Năm 2023 ghi đậm nét các hoạt động sôi động của hai nước Việt Nam - Saudi Arabia. Nổi bật là chuyến thăm Saudi Arabia rất thành công của Thủ tướng Chính phủ Phạm Minh Chính. Xin Đại sứ chia sẻ đánh giá khái quát về quan hệ hai nước trong năm qua? - Năm 2023 có thể coi là một điểm sáng trong quan hệ hai nước. Hai bên đã tích cực trao đổi đoàn các cấp và có nhiều cuộc tiếp xúc hiệu quả, nổi bật trong số đó là chuyến thăm của Thủ tướng Chính phủ Việt Nam Phạm Minh Chính cùng Đoàn cấp cao Việt Nam tới Saudi Arabia tháng 10/2023. Chuyến thăm đã góp phần nâng tầm quan hệ hai nước, đóng góp tích cực vào việc kết nối hai tổ chức khu vực là Hội đồng Hợp tác các nước vùng Vịnh (GCC) và Hiệp hội các quốc gia Đông Nam Á (ASEAN). Đây là chuyến công tác đầu tiên của một Thủ tướng Chính phủ Việt Nam tới Saudi Arabia và là chuyến thăm thứ hai của Lãnh đạo cấp cao Việt Nam sau 13 năm kể từ chuyến thăm đầu tiên năm 2010. Trong khuôn khổ chuyến thăm, hai bên đã tổ chức thành công Diễn đàn Doanh nghiệp Việt Nam - Saudi Arabia và ký kết 5 văn kiện hợp tác trong các lĩnh vực tư pháp, ngoại giao, phòng chống tội phạm, du lịch và xúc tiến thương mại, qua đó, hoàn thiện khuôn khổ pháp lý và tạo điều kiện thuận lợi cho hợp tác song phương trong thời gian tới. Saudi Arabia rất chú trọng tới việc phát triển quan hệ hợp tác với Việt Nam trong nhiều lĩnh vực. Điều này được phản ánh rõ nét thông qua chuyến thăm và làm việc tại Việt Nam của Bộ trưởng Du lịch Saudi Arabia Ahmed bin Aqeel-Khateeb, tổ chức thành công Diễn đàn Kinh doanh Việt Nam - Saudi Arabia, Kỳ họp lần thứ 5 Ủy ban hỗn hợp Việt Nam - Saudi Arabia… Bên cạnh đó, trong năm 2023, hai bên luôn phối hợp chặt chẽ, ủng hộ lẫn nhau trên các diễn đàn khu vực và quốc tế và tích cực đàm phán nhiều thỏa thuận nhằm tạo cơ sở vững chắc để củng cố quan hệ song phương. Hợp tác kinh tế là điểm sáng trong quan hệ giữa hai nước. Saudi Arabia hiện là một trong những đối tác kinh tế quan trọng hàng đầu của Việt Nam tại khu vực Trung Đông, với kim ngạch thương mại song phương năm 2023 đạt 2,68 tỷ USD. Như vậy, có thể nói kể từ khi thiết lập quan hệ ngoại giao vào năm 1999 đến nay, quan hệ hợp tác hữu nghị giữa Vương quốc Saudi Arabia và nước Cộng hòa xã hội chủ nghĩa Việt Nam đang phát triển vượt bậc trên tất cả các lĩnh vực. Sang năm 2024, Đại sứ và Đại sứ quán Saudi Arabia tại Việt Nam có kế hoạch gì để góp phần phát triển mối quan hệ hai nước trên đà những thành tựu tốt đẹp mà hai nước đã đạt được trong thời gian qua? - Trên cơ sở những thành tựu tốt đẹp mà hai nước đã đạt được, Đại sứ quán Saudi Arabia sẽ tiếp tục nỗ lực củng cố các cơ chế hợp tác sẵn có, tích cực thúc đẩy trao đổi đoàn các cấp giữa hai nước, đặc biệt là đoàn cấp cao, đồng thời đóng vai trò là cầu nối đưa nhân dân hai nước xích lại gần nhau hơn. Nhân dịp kỷ niệm 25 năm ngày thiết lập quan hệ ngoại giao giữa hai nước (21/10/1999-21/10/2024), Đại sứ quán dự kiến tổ chức chuỗi hoạt động để kỷ niệm sự kiện ý nghĩa này như các chương trình giao lưu văn hóa, nghệ thuật, triển lãm và các hoạt động tiếp xúc, xúc tiến đầu tư thương mại giữa hai nước. Sau hơn 1 năm nhận nhiệm vụ Đại sứ tại Việt Nam (từ tháng 8/2022), Đại sứ có thể chia sẻ cảm nhận của mình về đất nước, con người Việt Nam? Điều gì gây ấn tượng nhất với ông? - Khi ở Việt Nam, tôi và gia đình luôn cảm thấy hạnh phúc và hào hứng, bởi với chúng tôi mỗi ngày ở Việt Nam là một trải nghiệm mới. Chúng tôi ấn tượng không chỉ với lịch sử, văn hóa mà còn với con người cũng như cuộc sống bình dị nơi đây. Thời tiết ở Việt Nam rất khác biệt so với thời tiết ở đất nước chúng tôi. Chúng tôi rất thích trời mưa ở Việt Nam và cuộc sống thường nhật nơi đây. Tôi ấn tượng với việc người dân Việt Nam rất ham đọc sách, và đã nhìn thấy nhiều bạn trẻ Việt Nam đọc sách. Tôi thích cách những người ông, người bà Việt Nam chăm sóc con cháu, đưa đón cháu đến trường. Đó cũng là một điểm tương đồng với Saudi Arabia. Việt Nam là một đất nước rất đa dạng về văn hóa. Tôi đã có dịp thăm nhiều địa danh của Việt Nam như Sa Pa, Nha Trang, thành phố Hồ Chí Minh... và rất ấn tượng với các trang phục truyền thống cũng như phong tục tập quán của người dân địa phương. Ở các tỉnh miền núi của Việt Nam, tôi nhận thấy có một số họa tiết thổ cẩm giống với nghệ thuật Al-Qatt Al-Asiri tại đất nước chúng tôi, hay điệu múa gậy Sênh Tiền của người H\\'Mông vùng Tây Bắc cũng có nét tương đồng với một số điệu múa dân gian ở Saudi Arabia. Nhìn chung, tuy cách xa về địa lý nhưng hai nước có nhiều điểm chung về nhân sinh quan, cùng có sự tự hào về văn hóa, ngôn ngữ, thơ ca, và sự ham học hỏi. Đó là những điều tôi cảm nhận được ở Việt Nam thời gian qua. Nhân dịp năm mới 2024 và Tết Nguyên đán Giáp Thìn của Việt Nam, Đại sứ có thông điệp gì muốn gửi gắm tới đất nước, con người Việt Nam cùng những kỳ vọng vào quan hệ hai nước trong năm mới? - Tôi hy vọng năm nay 2024 sẽ trở thành một mốc son đánh dấu nhiều thành tựu mới của Việt Nam. Tôi xin chúc đất nước Việt Nam luôn vững mạnh, phồn vinh và phát triển mạnh mẽ, sớm vươn mình trở thành một trong những \"con rồng kinh tế\" dũng mãnh trong khu vực. Tôi mong muốn đóng góp được nhiều hơn nữa để tăng cường hợp tác giữa Saudi Arabia - Việt Nam; mong rằng hai nước sẽ ngày càng phát triển và thịnh vượng. Cuối cùng, tôi xin chúc Chính phủ và nhân dân Việt Nam bè bạn ngày càng phồn vinh, phát triển. Trân trọng cảm ơn và xin chúc Đại sứ đón Tết Giáp Thìn của Việt Nam với những trải nghiệm thú vị! ',\n",
       "        'Tổng Thanh tra Chính phủ Đoàn Hồng Phong vừa có văn bản trả lời các kiến nghị của cử tri nhiều địa phương liên quan đến xử lý tình trạng tham nhũng vặt. Một bộ phận cố tình gây khó khăn nhằm \"vòi vĩnh\" Cử tri Đà Nẵng và tỉnh Phú Yên kiến nghị quan tâm, xử lý nghiêm tình trạng tham nhũng vặt. Thực tế vừa qua xảy ra nhiều vụ việc gây hậu quả lớn, mất lòng tin trong nhân dân. \"Tham nhũng vặt xảy ra ở nhiều nơi, nhất là ở cơ sở. Một bộ phận cán bộ, công chức trong các cơ quan công quyền lợi dụng chức trách, nhiệm vụ được giao để nhũng nhiễu, gây khó khăn, phiền hà cho người dân và doanh nghiệp\", cử tri phản ánh. Tổng Thanh tra Chính phủ Đoàn Hồng Phong (Ảnh: Phương Hiếu). Chung sự quan tâm, cử tri tỉnh Quảng Trị khẳng định những dịch vụ công đều có quy định, quy trình và biểu giá rõ ràng nhưng một bộ phận công chức, viên chức cố tình gây khó khăn nhằm \"vòi vĩnh\". Hành vi \"tham nhũng vặt\" của một số công chức, viên chức đã làm ảnh hưởng trực tiếp tới cuộc sống của người nghèo, tạo gánh nặng cho doanh nghiệp, khiến các nhà đầu tư \"nản lòng\" và người dân mất niềm tin vào chính quyền cơ sở. Cử tri đề nghị Chính phủ chỉ đạo các cấp, các ngành và địa phương triển khai các biện pháp phòng, chống hành vi tham nhũng vặt, ưu tiên thực hiện ở một số lĩnh vực có nhiều ảnh hưởng đối với người dân và doanh nghiệp nhằm hạn chế vấn nạn trên. Tham nhũng trên nhiều lĩnh vực còn nghiêm trọng, phức tạp Trong văn bản gửi Đoàn đại biểu Quốc hội TP Đà Nẵng, Phú Yên và Quảng Trị, Tổng Thanh tra Chính phủ Đoàn Hồng Phong thừa nhận tình trạng nhũng nhiễu, tiêu cực, gây phiền hà cho người dân, doanh nghiệp trong khu vực hành chính, dịch vụ công chưa được ngăn chặn có hiệu quả. Tham nhũng trên nhiều lĩnh vực còn nghiêm trọng, phức tạp, với biểu hiện ngày càng tinh vi, gây bức xúc trong xã hội. Công tác phòng, chống tham nhũng ở một số địa phương, bộ, ngành chưa có sự chuyển biến rõ nét. Theo ông Phong, tự kiểm tra, phát hiện tham nhũng, tiêu cực trong nội bộ vẫn là khâu yếu. Một số cơ quan, tổ chức, đơn vị, địa phương, nhất là người đứng đầu chưa thực sự gương mẫu, quyết liệt, nói chưa đi đôi với làm trong lãnh đạo, chỉ đạo, thực hiện phòng chống tham nhũng. \"Có thể khẳng định nạn tham nhũng vặt đã làm cho nhiều doanh nghiệp và người dân phải chi trả những khoản chi phí ngoài quy định khi thực hiện các thủ tục hành chính\", người đứng đầu Thanh tra Chính phủ nhận định. Tổng Thanh tra thông tin, sau khi Quốc hội thông qua Luật Phòng chống tham nhũng năm 2018, Chính phủ, Thủ tướng Chính phủ đã rất quyết liệt trong việc chỉ đạo hoàn thiện các văn bản pháp luật hướng dẫn thi hành. Thủ tướng đã chỉ đạo ngành thanh tra tổ chức thanh tra chuyên đề trách nhiệm công vụ của cán bộ, công chức trong việc giải quyết thủ tục hành chính, cung cấp dịch vụ công cho người dân, doanh nghiệp. Hiện nay, Thanh tra Chính phủ và toàn ngành thanh tra đang thực hiện cuộc thanh tra này. Trong nhiều giải pháp sẽ thực hiện trong thời gian tới, lãnh đạo Thanh tra Chính phủ cho biết sẽ hoàn thiện các quy định xây dựng nền công vụ minh bạch, liêm chính, phục vụ. Thực hiện phòng, chống tham nhũng trong nội bộ các cơ quan có chức năng phòng, chống tham nhũng. Không để cán bộ, công chức có hành vi tham nhũng, tiêu cực làm nhiệm vụ phòng chống tham nhũng. Lãnh đạo Thanh tra Chính phủ khẳng định sẽ tập trung xử lý nghiêm khắc, ngăn chặn có hiệu quả tình trạng tham nhũng vặt, nhũng nhiễu, gây phiền hà cho người dân, doanh nghiệp trong giải quyết công việc. Cơ quan này sẽ thanh tra những vấn đề nổi cộm, bức xúc trong xã hội, những lĩnh vực chuyên môn sâu, hoạt động có tính chất khép kín như đất đai, tài nguyên, khoáng sản - nhất là công tác quản lý, cấp phép thăm dò, khai thác, tiêu thụ khoáng sản cát, vonfram, đất hiếm; các dự án đầu tư theo hình thức BOT, BT, cổ phần hóa doanh nghiệp nhà nước, tài chính, ngân hàng, thuế, hải quan, công tác cán bộ…. Các vụ việc có dấu hiệu rửa tiền, vận chuyển trái phép tiền tệ, kim khí quý, đá quý qua biên giới,… cũng sẽ được thanh tra đột xuất, kịp thời khi phát hiện dấu hiệu vi phạm. Bên cạnh đó, các vụ án, vụ việc tham nhũng, kinh tế đã phát hiện cũng sẽ được đẩy nhanh tiến độ xác minh, điều tra, truy tố, xét xử. \"Chính phủ đã kiến nghị Quốc hội, các cơ quan của Quốc hội, đại biểu Quốc hội tăng cường hoạt động chất vấn, giám sát chuyên đề về công tác phòng chống tham nhũng, tiêu cực. MTTQ Việt Nam, các đoàn thể, tổ chức xã hội, hiệp hội doanh nghiệp, hiệp hội ngành nghề, các cơ quan báo chí, doanh nghiệp và nhân dân tăng cường giám sát các lĩnh vực dễ phát sinh tiêu cực, tham nhũng, việc tu dưỡng, rèn luyện phẩm chất, đạo đức của cán bộ, đảng viên\", ông Đoàn Hồng Phong trả lời cử tri về giải pháp sắp tới. '],\n",
       "       dtype=object),\n",
       " array([14, 14, 14, 14, 14]))"
      ]
     },
     "execution_count": 7,
     "metadata": {},
     "output_type": "execute_result"
    }
   ],
   "source": [
    "X[:5], y[:5]"
   ]
  },
  {
   "cell_type": "code",
   "execution_count": 8,
   "metadata": {},
   "outputs": [
    {
     "data": {
      "text/plain": [
       "array(['An sinh', 'Bất động sản', 'Giáo dục', 'Giải trí', 'Kinh doanh',\n",
       "       'Nhân ái', 'Pháp luật', 'Sức khỏe', 'Sức mạnh số', 'Thế giới',\n",
       "       'Thể thao', 'Việc làm', 'Văn hóa', 'Xe ++', 'Xã hội'], dtype=object)"
      ]
     },
     "execution_count": 8,
     "metadata": {},
     "output_type": "execute_result"
    }
   ],
   "source": [
    "le.classes_"
   ]
  },
  {
   "cell_type": "code",
   "execution_count": 9,
   "metadata": {},
   "outputs": [
    {
     "name": "stdout",
     "output_type": "stream",
     "text": [
      "(11144,) (2787,)\n"
     ]
    }
   ],
   "source": [
    "X_train, X_test, y_train, y_test = train_test_split(X, y, test_size=0.2)\n",
    "print(X_train.shape, X_test.shape)"
   ]
  },
  {
   "cell_type": "code",
   "execution_count": 13,
   "metadata": {},
   "outputs": [],
   "source": [
    "# Save Train Set and Test Set\n",
    "save_pkl_file(X_train, MODEL_PATH, \"X_train.pkl\")\n",
    "save_pkl_file(X_test, MODEL_PATH, \"X_test.pkl\")\n",
    "save_pkl_file(y_train, MODEL_PATH, \"y_train.pkl\")\n",
    "save_pkl_file(y_test, MODEL_PATH, \"y_test.pkl\")"
   ]
  },
  {
   "cell_type": "code",
   "execution_count": 14,
   "metadata": {},
   "outputs": [
    {
     "data": {
      "text/plain": [
       "array(['Haruki Murakami, 74 tuổi, là tiểu thuyết gia có sách bán chạy nhất tại Nhật Bản. Ông bắt đầu sự nghiệp viết lách năm 30 tuổi và trở thành một hiện tượng văn học vào năm 1987 khi cuốn tiểu thuyết thứ 5 - Rừng Na Uy được xuất bản.\\xa0 Sự pha trộn giữa những câu chuyện thực tế và mơ mộng của Haruki Murakami\\xa0đã mang đến cho ông một lượng người hâm mộ đông đảo. Tên của ông thường nổi lên như một ứng cử viên cho giải thưởng Nobel Văn học.\\xa0 Chân dung Haruki Murakami (Thiết kế: The Guardian). Sách cho người mới bắt đầu đọc\\xa0 Tiểu thuyết của Murakami có thể được chia thành 2 loại: kỳ ảo và hiện thực. Nhiều cuốn nằm ở giữa 2 thể loại này.\\xa0 Được xuất bản năm 1987,\\xa0Rừng Na Uy là một hồi ức đơn giản về tình yêu tuổi trẻ. Hạ cánh trên một đường băng ở Đức, người kể chuyện Toru Watanabe nghe bài hát nổi tiếng của The Beatles, cảm tưởng như trở lại những năm tháng sinh viên và mối tình đầy sóng gió với 2 cô gái.\\xa0 Hoài cổ và ngọt ngào, Rừng Na Uy là cuốn tiểu thuyết dễ tiếp cận nhất của Murakami và là cuốn sách đã \"biến\" tác giả thành một siêu sao văn học ở Nhật Bản. Bìa sách \"Rừng Na Uy\". Nếu bạn chỉ đọc một cuốn sách của Haruki Murakami The Wind-Up Bird Chronicle (tạm dịch:\\xa0Biên niên ký chim vặn dây cót) được xem là tác phẩm đỉnh cao của\\xa0Murakami. Toru Okada (ngoài 30 tuổi, thất nghiệp) tìm kiếm con mèo mất tích. Người vợ cũng mất tích\\xa0khi anh mộng du trong một cuộc rượt đuổi ngông cuồng với những sự kiện ngày càng kỳ quái. Anh tuyên bố: \"Cách tốt nhất để suy nghĩ về thực tại là \"càng xa nó càng tốt\"\".\\xa0 Trừu tượng, gây tức giận và rất buồn cười, đó là những điểm lôi cuốn nhất trong các tác phẩm của Murakami. Nếu bạn đang vội Theo The Guardian, nếu bạn muốn làm một bộ phim được giới phê bình đánh giá cao, hãy chuyển thể một truyện ngắn của Murakami. Bộ phim ly kỳ Burning của Hàn Quốc đã lấy câu chuyện Barn Burning (tạm dịch: Đốt nhà kho) của Murakami làm nền tảng. Gần đây, Ryusuke Hamaguchi đã giành được giải thưởng của Viện Hàn lâm cho bộ phim chuyển thể từ cuốn sách\\xa0Drive My Car của Murakami. Một số cách kể chuyện hay nhất của Murakami có thể được tìm thấy trong một số tác phẩm khác của ông, như Sleep (tạm dịch: Giấc ngủ), được đăng trên tờ New Yorker năm 1992 và nằm trong tuyển tập truyện ngắn The Elephant Vanishes.  Trong Sleep, lần đầu tiên Murakami viết từ góc nhìn của một người phụ nữ. Câu chuyện kể về một người vợ tận tụy mắc hội chứng mất ngủ. Tác phẩm được nhận xét xuất sắc khi sử dụng\\xa0sự tối tăm của màn đêm để gợi lên cảm giác bất an khi là phụ nữ trong một xã hội gia trưởng. Một số tác phẩm của Haruki Murakami do Nhã Nam phát hành tại Việt Nam (Ảnh chụp màn hình). Hồi ký Tiểu sử của Murakami có thể là cốt truyện cho một trong những nhân vật chính của ông. Ông từng điều hành một câu lạc bộ nhạc jazz,\\xa0bước sang tuổi 30 và bỏ việc để trở thành một tiểu thuyết gia. Cuốn hồi ký mỏng của Murakami -\\xa0What I Talk About When I Talk About Running (tạm dịch: Tôi nói gì khi nói về chạy bộ) - mang đến một cái nhìn sâu sắc về quá trình luyện tập sáng tác của ông. \"Hầu hết những gì tôi biết về viết lách, tôi đã học được thông qua việc chạy bộ hàng ngày\", Murakami giải thích.\\xa0 Chỉ nghiêm túc chạy ở độ tuổi 30, Murakami suy nghĩ về sự so sánh giữa chạy marathon và viết lách. Đồng thời, ông cho rằng luyện tập như một thói quen hàng ngày, rèn luyện sức bền và đôi khi gây ra chấn thương. Cuốn sách đáng để bạn kiên trì đọc Qua ba tập và hơn một nghìn trang, 1Q84 là cuốn tiểu thuyết tham vọng nhất của Murakami cho đến nay. 1Q84 có cấu trúc giống như một mê cung, bị một số nhà phê bình phàn nàn là \"gây thất vọng\" khi xuất bản lần đầu vào năm 2011. Độ dài của cuốn tiểu thuyết có thể khiến độc giả bình thường của Murakami sợ hãi. Nhưng khi đặt chân vào thế giới của 1Q84,\\xa0bạn sẽ được xem một bộ phim kinh dị, một câu chuyện tình yêu dịu dàng, một bí ẩn sâu sắc và thiền định về những bí ẩn siêu hình của một thế giới không giống với thế giới của chúng ta. Cuốn sách đáng được quan tâm hơn Sau khi được xuất bản bằng tiếng Anh vào năm 2001, Sputnik Sweetheart (tạm dịch: Người tình Sputnik) đã rời khỏi quỹ đạo của những tác phẩm nổi tiếng của Murakami. Câu chuyện chứa đựng nội dung\\xa0quen thuộc trong thế giới truyện Murakami: người phụ nữ biến mất. Được tường thuật qua con mắt của một người kể chuyện điển hình của Murakami (nam, mong manh, thụ động), trung tâm của Sputnik Sweetheart là chuyện tình đồng tính nữ giữa Sumire (người muốn trở thành tiểu thuyết gia như Jack Kerouac) và Miu (một người phụ nữ lớn tuổi, tinh tế). Vì yêu Miu,\\xa0Sumire bắt đầu trút bỏ vẻ phóng túng bên ngoài, biến mình thành trợ lý cá nhân sang trọng của Miu. Mối tình lãng mạn không bình đẳng sớm phát triển thành sự hủy diệt khi Sumire... biến mất.\\xa0 Một cảnh trong vở kịch chuyển thể từ tiểu thuyết \"Kafka bên bờ biển\" (Ảnh: The New York Time). Kiệt tác Khác với những nhân vật chính điển hình của Murakami như độ tuổi 30, uống rượu whisky, nghe nhạc jazz, Kafka on the Shore (tạm dịch:\\xa0Kafka bên bờ biển) được thuật lại bởi Kafka Tamura, 15 tuổi, đang bỏ trốn. Chạy trốn khỏi người cha bạo lực sau khi nhận được lời tiên tri, Kafka tìm nơi ẩn náu bằng cách làm việc trong thư viện tại một thị trấn nhỏ ven biển. Xen kẽ với câu chuyện của Kafka là câu chuyện của Satoru Nakata, một người đàn ông lớn tuổi mất ký ức tuổi thơ vào cuối Chiến tranh thế giới thứ hai, nhưng thay vào đó lại có khả năng trò chuyện với loài mèo. Nakata buộc phải chạy trốn sau khi đụng độ một kẻ bắt mèo độc ác tên Johnnie Walker. Murakami nói rằng tính cấp bách đằng sau những câu chuyện của ông là \"mất tích, tìm kiếm và tìm kiếm\". Kafka bên bờ biển thể hiện khả năng của tác giả trong việc lập ra một mê cung cảnh mộng. ',\n",
       "       'Sáng ngày 5/4, hàng loạt fanpage tại Việt Nam bị Facebook khóa và biến mất khiến nhiều cư dân mạng xôn xao. Theo ghi nhận của phóng viên Dân trí, những fanpage bị ảnh hưởng không quá lớn, có lượng người theo dõi khoảng từ vài chục đến vài trăm ngàn. Quản lý của các trang fanpage bị khóa cũng rất bất ngờ khi họ không nhận được bất kỳ thông báo hoặc lời giải thích cụ thể nào từ phía Facebook. Nhiều người quản lý các fanpage trên Facebook vẫn chưa rõ lý do tại sao trang của mình lại bị khóa và cấm hoạt động (Ảnh chụp màn hình). \"Sáng nay truy cập Facebook thì thấy fanpage của mình đã không còn hoạt động được, dù phía Facebook không đưa ra thông báo hay lý do cụ thể nào. Đã gửi kiến nghị lên Facebook nhưng không rõ có được khôi phục hay không\", bạn P.Anh, quản lý một fanpage có hơn 50 ngàn người theo dõi, chia sẻ. Một số quản lý fanpage cho biết họ nhận được thông báo trang của mình bị khóa vì \"vi phạm tiêu chuẩn cộng đồng\", nhưng Facebook không chỉ rõ nội dung nào đã vi phạm và vi phạm những điều khoản gì của mạng xã hội này. \"Fanpage của mình chỉ đăng những bài học về tiếng Anh, một số mẹo dùng tiếng Anh và một số thông tin thú vị về các từ tiếng Anh, nhưng không hiểu sao vẫn bị Facebook khóa. Mình đã tốn rất nhiều công sức và cả tiền bạc để gây dựng nên fanpage này, nhưng giờ thì bị khóa không rõ lý do, thực sự rất chán nản và bức xúc với cách làm việc của Facebook\", bạn T.Thanh, quản lý một fanpage Facebook với nội dung học tiếng Anh, bày tỏ sự bức xúc. Hiện Facebook chưa đưa ra bình luận gì về quyết định khóa hàng loạt fanpage tại Việt Nam. Trên thực tế, đây không phải là lần đầu tiên Facebook có đợt \"càn quét\" và khóa hàng loạt fanpage tại Việt Nam. Trước đó, Facebook cũng đã nhiều lần quét hàng loạt trang và hội nhóm, bao gồm cả những fanpage và group có hàng triệu người theo dõi tại Việt Nam, đa phần với lý do \"vi phạm tiêu chuẩn cộng đồng\". Một số fanpage lớn sau khi bị khóa không rõ lý do đã thực hiện kháng cáo thành công và được Facebook mở cửa trở lại, trong khi đó nhiều fanpage không bị khóa hoàn toàn mà chỉ bị Facebook bóp tương tác (các bài đăng lên fanpage không còn được phổ biến rộng rãi trên Facebook). Facebook thường lấy lý do \"Vi phạm tiêu chuẩn cộng đồng\" để khóa fanpage, hội nhóm cũng như các tài khoản cá nhân của người dùng, tuy nhiên, trên thực tế đây là một lý do rất chung, mà mạng xã hội này không chỉ rõ ra những nội dung cụ thể nào vi phạm để người dùng được biết và khắc phục, điều này khiến không ít người cảm thấy bức xúc vì kiểu làm việc máy móc và quá rập khuôn của đội ngũ quản lý nội dung trên Facebook. ',\n",
       "       'Nguyễn Thị Hậu sinh năm 2005 ở Thường Xuân, Thanh Hóa. Mẹ em bị tâm thần, không có nhận thức, mang thai rồi sinh ra em. Hậu lớn lên mà không biết bố là ai. Bà ngoại là người cưu mang hai mẹ con Hậu. Nhưng bà không chỉ có một người con gái tâm thần. Con trai bà, tức cậu ruột của Hậu, cũng là người khuyết tật trí tuệ và vận động. Một mình bà nuôi hai người con ngớ ngẩn và đứa cháu gái nhỏ không cha. May mắn, Hậu thông minh, khỏe mạnh. Từ mẫu giáo, Hậu đã làm việc nhà, cùng bà chăm sóc mẹ và cậu. Nhiều lần Hậu bị mẹ đánh đập khi lên cơn giận dữ, nhưng cô bé cứ thế lớn khôn trong những tiếng chửi bới vô thức của mẹ. Sinh viên Nguyễn Thị Hậu (Ảnh: Nghiêm Huê). Nhìn mẹ và cậu, Hậu nuôi ước mơ đỗ vào trường y, trở thành bác sĩ. 12 năm đi học, Hậu đều đạt học sinh giỏi. Lớp 11, Hậu giành giải khuyến khích học sinh giỏi cấp tỉnh môn sinh học. Lớp 12, Hậu cải thiện thứ hạng, giành giải ba. Với kết quả cao tại kỳ thi tốt nghiệp THPT 2023, Hậu đỗ vào Trường Đại học Y Dược Thái Bình. Lúc nhận tin cháu gái không có cha đỗ đại học, bà ngoại Hậu đã ở tuổi 85, không còn sức lao động nữa.\\xa0 Từ cấp 2, Hậu đã chuẩn bị trước cho tương lai của mình bằng việc nuôi một con nghé nhỏ. Trước ngày nhập học đại học, Hậu bán con nghé nay đã là con trâu với giá 20 triệu đồng. Em nộp học phí 14 triệu đồng, 6 triệu đồng còn lại em dành để lo chi phí ăn ở, sinh hoạt. Hậu tự nhận mình là một người mạnh mẽ. Hiểu hoàn cảnh của mình nên Hậu chưa bao giờ than vãn, cũng chưa bao giờ nản lòng, cứ thế bước đi. Nhưng tới ngày xách ba lô vào cổng trường đại học một mình, Hậu đã bật khóc ngay trên sân trường. Cô gái không cha, mẹ tâm thần đã không còn mạnh mẽ nữa khi nhìn thấy cảnh bạn bè có bố có mẹ ở bên, chụp ảnh kỷ niệm, ôm ấp bịn rịn. Nhắc lại kỷ niệm này sau 5 tháng vào đại học, Hậu vẫn nghẹn ngào. Hậu tâm sự, trong cuộc đời nhiều bất hạnh, điều may mắn lớn nhất với em là được các thầy cô yêu thương, dìu dắt đi tìm kiếm tri thức. Câu chuyện của Hậu được chính em chia sẻ tại sự kiện \"Nâng bước thủ khoa\" - chương trình vinh danh và trao học bổng cho các tân sinh viên có hoàn cảnh khó khăn là các thủ khoa, á khoa các trường đại học. Nguyễn Thị Hậu chia sẻ câu chuyện trong chương trình Nâng bước thủ khoa 2023 (Ảnh: Nghiêm Huê). 119 sinh viên khác có mặt tại sự kiện này ở ba đầu cầu Hà Nội, TPHCM và Đà Nẵng cũng có hoàn cảnh khó khăn và hành trình vượt khó nhiều nước mắt như Hậu. Ông Lê Xuân Sơn - Giám đốc Quỹ Hỗ trợ Tài năng trẻ Việt Nam, Tổng biên tập Báo Tiền Phong, Trưởng Ban tổ chức chương trình - cho biết, quỹ đã quyết định nuôi em Nguyễn Thị Hậu trong suốt 4 năm đại học sau khi biết được câu chuyện của em. Ông Sơn cho hay sẽ chọn ra một số em cần hỗ trợ đặc biệt để các em yên tâm tập trung hoàn thành chặng đường đại học gian nan. Bí thư Trung ương Đoàn Nguyễn Minh Triết trao bằng khen và quà cho các sinh viên khó khăn là tân thủ khoa, á khoa các trường đại học năm 2023 (Ảnh: Nghiêm Huê). Hiện tại, sau 8 năm hoạt động, Quỹ đã hỗ trợ được gần 800 sinh viên với tổng giá trị học bổng hơn 8 tỷ đồng. ',\n",
       "       ...,\n",
       "       'Một cô gái 17 tuổi đã bị Somrak Kamsing quấy rối và tấn công tình dục cô vào ngày 10/12 vừa qua. Cô gái tố cáo nhà vô địch quyền anh Olympic 1996 lôi mình vào khách sạn để thực hiện hành vi đồi bại vào lúc 03h00. Somrak Kamsing đối diện với cáo buộc tấn công tình dục trẻ vị thành niên (Ảnh: Nations Thailand). Cảnh sát ngay lập tức vào cuộc điều tra vụ việc này. Theo ghi nhận của tờ Siam Sport, cô gái 17 tuổi tỏ ra căng thẳng và khóc rất nhiều. Cô khẳng định không dám chống cự vì Somrak Kamsing là võ sĩ và rất khỏe. Bên cạnh đó, người bị hại cũng được đưa tới bệnh viện để kiểm tra, giám định vết thương. Kết quả cho thấy cô gái có nhiều dấu vết bị tấn công. DNA của Somrak Kamsing cũng xuất hiện trên người cô. Cảnh sát cũng đã triệu tập Somrak Kamsing để thẩm vấn. Anh bị tố cáo với 4 tội danh: Đưa người chưa thành niên rời xa cha mẹ, người giám hộ, người chăm sóc để thu lợi hoặc vì mục đích sai trái; Dùng thủ đoạn để đe dọa, sử dụng vũ lực tấn công tình dục phụ nữ; Cấu kết với người khác để xâm hại trẻ vị thành viên; Cưỡng hiếp trẻ vị thành niên. Somrak Kamsing đã phủ nhận cả 4 cáo buộc hướng về phía mình. Tờ Siam Sport này cho biết tay đấm người Thái Lan rất bình tĩnh khi đối diện với cơ quan điều tra. Anh nhấn mạnh không làm gì sai trái. Nếu bị chứng minh phạm tội, võ sĩ huyền thoại người Thái Lan có nguy cơ phải ngồi tù (Ảnh: Siam Sport). Hai người bạn của cô gái bị hại cho biết họ đã cùng nhau đi tới quán rượu. Sau khi đi vệ sinh, họ nhìn thấy người bạn của mình ngồi uống rượu chung với Somrak Kamsing. Hai người bạn này đã đợi nạn nhân ở ngoài quán rượu vào lúc 03h00. Tuy nhiên, người bạn trai (Somrak Kamsing) đề nghị đưa nạn nhân về khách sạn. Sau đó, cô gái bị hại đã lên chiếc moto đi cùng với Somrak Kamsing. Vụ việc vẫn đang được cảnh sát Thái Lan điều tra. Nếu bị chứng minh phạm tội, võ sĩ huyền thoại người Thái Lan có nguy cơ phải ngồi tù. Trong quá khứ, Somrak Kamsing là một trong những võ sĩ thành công nhất Thái Lan. Võ sĩ 50 tuổi từng một lần vô địch Olympic, hai lần giành HCV ASIAD và một lần đăng quang SEA Games. ',\n",
       "       'Chiều 17/7, trao đổi phóng viên Dân trí, một lãnh đạo Trung tâm pháp y tâm thần khu vực Tây Nguyên xác nhận đơn vị đã báo cáo Bộ Y tế về việc mất trật tự cảnh quan đô thị tại trụ sở Trung tâm Pháp y tâm thần khu vực Tây Nguyên. Nhà thầu phụ giăng băng rôn đòi nợ trước cổng Trung tâm Pháp y tâm thần khu vực Tây Nguyên (Ảnh: Uy Nguyễn). \"Dự án do Ban Quản lý dự án công trình y tế (Bộ Y tế) làm chủ đầu tư, chúng tôi là đơn vị thụ hưởng, dự án đang được triển khai. Sự việc mất trật tự ngay tại dự án đã khiến người dân hiểu nhầm là do Trung tâm chúng tôi không trả tiền cho nhà thầu\", vị lãnh đạo này cho hay. Trước đó, ngay tại cổng của Trung tâm pháp y tâm thần khu vực Tây Nguyên, một số người treo băng rôn đòi nhà thầu chính trả tiền. Thậm chí, những người này còn xịt chữ trắng trên cổng của Trung tâm để đòi nợ. Những hình ảnh đòi nợ nhanh chóng lan truyền trên mạng xã hội, gây xôn xao dư luận. Theo báo cáo của Ban Quản lý dự án công trình y tế (BQLDA) tại dự án Trung tâm pháp y tâm thần khu vực Tây Nguyên, có sự việc nhà thầu phụ gây mất trật tự phía ngoài công trình, liên quan tới mâu thuẫn giữa nhà thầu chính và nhà thầu phụ trong việc giải quyết công nợ. Cổng của Trung tâm Pháp y tâm thần khu vực Tây Nguyên bị xịt sơn bôi bẩn (Ảnh: Uy Nguyễn). Sự việc xảy ra bên ngoài công trình và không làm ảnh hưởng tới an toàn công trình. BQLDA đã nắm bắt tình hình ngay sau khi sự việc xảy ra và đã chấn chỉnh, nhắc nhở nhà thầu chính. Các bên đã tự giải quyết, rút băng rôn khẩu hiệu. Trường hợp tình trạng trên tái diễn hoặc có những hành vi quá khích, vi phạm pháp luật, BQLDA sẽ báo cáo cơ quan chức năng vào cuộc để xử lý. Được biết, liên quan vụ việc mất trật tự cảnh quan đô thị tại Trụ sở Trung tâm pháp y tâm thần khu vực Tây Nguyên, các ban ngành và đơn vị có liên quan của Bộ Y tế tổ chức cuộc họp trong chiều nay (17/7). Theo hồ sơ, tháng 6/2020, Bộ Y tế phê duyệt dự án xây dựng Trung tâm Pháp y tâm thần khu vực Tây Nguyên, với tổng đầu tư 18,1 tỷ đồng, thời gian thực hiện từ năm 2020 đến 2022. Đơn vị trúng thầu dự án là Công ty cổ phần ACC 245. Ban Quản lý dự án công trình y tế, Bộ Y tế đã chấn chỉnh nhà thầu chính và các dòng chữ đòi nợ đã được xóa (Ảnh chụp chiều 17/7: Thúy Diễm). Dự án được khởi công vào tháng 1/2022 và hoàn thành toàn bộ các hạng mục vào tháng 12/2022. Do việc bố trí nguồn vốn trung hạn cho dự án hạn chế, nên hạng mục cấp điện nguồn cho dự án chưa thực hiện được (dự kiến thực hiện vào giai đoạn 2 thuộc trung hạn 2021-2025). ',\n",
       "       'Tiến sĩ William Li là một bác sĩ, nhà khoa học và là tác giả cuốn sách bán chạy nhất của New York Times, chế độ ăn giúp đánh bại bệnh tật. Những phát hiện đột phá của ông đã mang lại nhiều ứng dụng trong việc điều trị cũng như chăm sóc nhiều loại bệnh khác nhau như ung thư, tiểu đường, bệnh tim, béo phì…\\xa0 Dưới đây là 5\\xa0loại thực phẩm Tiến sĩ William Li khuyên bạn nên ăn nhiều hơn và những loại thực phẩm không có chất dinh dưỡng mà bạn nên cố gắng hạn chế: Chuyên gia khuyên bạn hãy ăn nhiều hơn nước ép trái cây 100%, dầu ô liu, đùi gà, đậu nành chưa qua chế biến... (Ảnh: L.W). Ăn nhiều hơn: Các thực phẩm có lượng đường huyết thấp như nước trái cây 100% và chất làm ngọt trái cây Monk. Tập thói quen đọc nhãn thành phần là chìa khóa để tránh thêm đường. Khi mua nước ép trái cây, hãy nhớ chọn những loại có ghi \"100% nước ép\". Và thay vì thêm đường ăn hoặc chất làm ngọt nhân tạo có hại vào đồ uống và bánh nướng, bạn hãy thử nghiệm các lựa chọn thay thế tự nhiên và có lượng đường huyết thấp như trái cây thầy tu. Chất làm ngọt từ trái cây Monk có lượng calo thấp và chứa mogroside V có nhiều chất chống oxy hóa và đặc tính chống viêm. Tránh: Các loại đã thêm đường Việc tiêu thụ quá nhiều một số loại đường bổ sung có thể gây ra những tác hại nghiêm trọng như tiền tiểu đường, tăng nguy cơ béo phì, các vấn đề về tim mạch, tác động tiêu cực đến da, tăng cảm giác thèm ăn, các vấn đề liên quan đến sức khỏe tâm thần như lo lắng và trầm cảm, bệnh gan… Ăn nhiều hơn: Đùi gà Nhiều người cho rằng ức là phần giàu dinh dưỡng nhất của thịt gà vì thịt trắng ít mỡ. Tuy nhiên, phần thịt sẫm màu ở đùi gà mang lại những lợi ích sức khỏe đặc biệt như hàm lượng vitamin K2 cao. Đùi gà đặc biệt giàu dinh dưỡng khi được cắt bỏ phần mỡ. Tránh: Thịt chế biến Thịt chế biến đã được Tổ chức Y tế Thế giới (WHO) dán nhãn là chất gây ung thư nhóm I. Ngay cả những loại thực phẩm giàu chất dinh dưỡng nhất trong loại thực phẩm này như giăm bông và prosciutto đã qua xử lý cũng có hàm lượng chất béo bão hòa và natri cao và nên được thưởng thức ở mức độ vừa phải. Ăn nhiều hơn: Đậu nành chưa qua chế biến và lên men Có một quan niệm sai lầm phổ biến rằng phụ nữ nên tránh đậu nành vì nghĩ rằng chất phytoestrogen trong nó gây ung thư. Tuy nhiên, điều đó không đúng. Trên thực tế, hoạt chất sinh học trong đậu nành ngăn chặn sự phát triển của ung thư và ngăn chặn sự phát triển của mảng xơ vữa động mạch. Bạn hãy chọn các dạng đậu nành tươi và lên men như edamame, sữa đậu nành, đậu phụ… Tránh: Sản phẩm \"siêu chế biến\" Đậu nành được tìm thấy trong vô số sản phẩm thương mại đóng gói sẵn và vẫn chưa rõ liệu đậu nành dùng làm chất độn có lợi ích tương tự như đậu nành tươi hay đậu nành lên men hay không. Ngoài ra, thực phẩm \"siêu chế biến\" có thể cực kỳ có hại cho bạn, vì vậy chuyên gia khuyên bạn không nên chọn thực phẩm đóng hộp chỉ vì nó có thành phần là đậu nành. Ăn nhiều hơn: Dầu ô liu Các loại dầu ô liu có thể chứa nhiều polyphenol hoạt tính sinh học có tác dụng chống viêm, chống oxy hóa và chống ung thư. Nghiên cứu chỉ ra rằng ăn ba đến bốn muỗng canh dầu ô liu mỗi ngày có thể làm giảm đáng kể nguy cơ ung thư thực quản, thanh quản, miệng và họng, buồng trứng, đại trực tràng và ung thư vú. Tránh: Bơ Nghiên cứu tương tự đã kiểm tra mối liên quan giữa dầu ô liu và nguy cơ ung thư, phân tích tác dụng của bơ đối với bệnh và phát hiện ra rằng bơ có liên quan đến việc tăng gấp đôi nguy cơ ung thư thực quản, miệng và họng. Bơ cũng chứa hàm lượng chất béo bão hòa cao hơn dầu ô liu. Uống thêm: Bia Phần này bạn cần đặc biệt lưu ý và hiểu đúng. Uống quá nhiều bất kỳ loại đồ uống có cồn nào đều có thể gây hại cho cơ thể và não. Nhưng nếu bạn định nhấm nháp đồ uống có cồn, bạn có thể muốn cân nhắc đến bia. Hoa bia từ quá trình sản xuất bia có chứa các polyphenol có hoạt tính sinh học như xanthohumol, có thể giải thích việc giảm 25% nguy cơ tử vong do bệnh tim mạch khi tiêu thụ bia vừa phải. Tránh: Rượu mạnh Các loại rượu mạnh như rượu gin và rượu vodka là những loại rượu chưng cất không chứa các polyphenol có lợi như bia và không mang lại những lợi ích sức khỏe như nhau. Trong một nghiên cứu, những người đàn ông uống bia được xác định là có sự gia tăng tế bào gốc lưu thông trong khi những người đàn ông uống rượu gin được phát hiện có sự giảm tế bào gốc. Hơn nữa, các loại cocktail chứa rượu mạnh thường chứa nhiều đường có hại. Tiến sĩ William Li cũng lưu ý khi nói tránh một loại thực phẩm nào đó, không có nghĩa là bạn cần tránh hoàn toàn món ăn đó. Đơn giản là bạn chỉ cần tăng lượng thức ăn lành mạnh và để ý xem liệu việc giảm lượng thức ăn khác của bạn có trở nên dễ dàng hơn hay không. '],\n",
       "      dtype=object)"
      ]
     },
     "execution_count": 14,
     "metadata": {},
     "output_type": "execute_result"
    }
   ],
   "source": [
    "pickle.load(open(os.path.join(MODEL_PATH, 'X_train.pkl'), 'rb'))"
   ]
  },
  {
   "cell_type": "code",
   "execution_count": null,
   "metadata": {},
   "outputs": [],
   "source": []
  }
 ],
 "metadata": {
  "kernelspec": {
   "display_name": ".train-venv",
   "language": "python",
   "name": "python3"
  },
  "language_info": {
   "codemirror_mode": {
    "name": "ipython",
    "version": 3
   },
   "file_extension": ".py",
   "mimetype": "text/x-python",
   "name": "python",
   "nbconvert_exporter": "python",
   "pygments_lexer": "ipython3",
   "version": "3.11.6"
  }
 },
 "nbformat": 4,
 "nbformat_minor": 2
}
