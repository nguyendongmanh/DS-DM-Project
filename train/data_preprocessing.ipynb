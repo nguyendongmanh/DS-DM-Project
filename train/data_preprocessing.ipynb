{
 "cells": [
  {
   "cell_type": "markdown",
   "metadata": {},
   "source": [
    "# Tiền xử lý dữ liệu"
   ]
  },
  {
   "cell_type": "markdown",
   "metadata": {},
   "source": [
    "## Tại sao cần phải tiền xử lý dữ liệu\n",
    "Tiền xử lý dữ liệu là một phần quan trọng trong quy trình phân tích dữ liệu và xây dựng mô hình máy học, giúp cải thiện chất lượng và hiệu suất của mô hình cuối cùng."
   ]
  },
  {
   "cell_type": "markdown",
   "metadata": {},
   "source": [
    "## Mục tiêu\n",
    "Ở phần này, dữ liệu chúng ta thu được là dữ liệu dạng **văn bản**. Tuy nhiên các mô hình học máy chỉ có thể \"học\" khi dữ liệu là dạng **số thực** nên trong phần này, việc quan trọng nhất đó chính là *Làm thế nào để chuyển dữ liệu sang dạng số thực?* "
   ]
  },
  {
   "cell_type": "markdown",
   "metadata": {},
   "source": [
    "## Import các thư viện cần dùng"
   ]
  },
  {
   "cell_type": "code",
   "execution_count": 21,
   "metadata": {},
   "outputs": [],
   "source": [
    "import os\n",
    "import pickle\n",
    "\n",
    "import string\n",
    "\n",
    "import warnings\n",
    "import numpy as np\n",
    "import pandas as pd\n",
    "from tqdm import tqdm\n",
    "\n",
    "import plotly.express as px\n",
    "\n",
    "import gensim\n",
    "from pyvi import ViTokenizer\n",
    "\n",
    "from sklearn.pipeline import Pipeline\n",
    "from sklearn.base import BaseEstimator, TransformerMixin\n",
    "from sklearn.feature_extraction.text import CountVectorizer, TfidfTransformer"
   ]
  },
  {
   "cell_type": "code",
   "execution_count": 2,
   "metadata": {},
   "outputs": [],
   "source": [
    "np.random.seed(42)\n",
    "warnings.filterwarnings(\"ignore\")\n",
    "\n",
    "DATA_PATH = \"../data/\"\n",
    "MODEL_PATH = \"../models/\""
   ]
  },
  {
   "cell_type": "markdown",
   "metadata": {},
   "source": [
    "### Đọc dữ liệu từ thư mục data/\n",
    "Vì dữ liệu được lưu dưới dạng JSON, nên chúng ta có thể sử dụng trực tiếp phương thức `read_json()` trong thư viện `pandas`"
   ]
  },
  {
   "cell_type": "code",
   "execution_count": 3,
   "metadata": {},
   "outputs": [],
   "source": [
    "def load_data(model_path: str, filename: str):\n",
    "    data = pickle.load(open(os.path.join(model_path, filename), \"rb\"))\n",
    "    return data"
   ]
  },
  {
   "cell_type": "code",
   "execution_count": 4,
   "metadata": {},
   "outputs": [],
   "source": [
    "X_train = load_data(MODEL_PATH, \"X_train.pkl\")\n",
    "X_test = load_data(MODEL_PATH, \"X_test.pkl\")\n",
    "y_train = load_data(MODEL_PATH, \"y_train.pkl\")\n",
    "y_test = load_data(MODEL_PATH, \"y_test.pkl\")"
   ]
  },
  {
   "cell_type": "code",
   "execution_count": 5,
   "metadata": {},
   "outputs": [],
   "source": [
    "le = load_data(MODEL_PATH, 'label_encoder.pkl')"
   ]
  },
  {
   "cell_type": "code",
   "execution_count": 6,
   "metadata": {},
   "outputs": [
    {
     "name": "stdout",
     "output_type": "stream",
     "text": [
      "Train set has 11144 observations\n",
      "Test set has 2787 observations\n"
     ]
    }
   ],
   "source": [
    "print(f\"Train set has {X_train.shape[0]} observations\")\n",
    "print(f\"Test set has {X_test.shape[0]} observations\")"
   ]
  },
  {
   "cell_type": "markdown",
   "metadata": {},
   "source": [
    "## Tiền xử lý dữ liệu"
   ]
  },
  {
   "cell_type": "code",
   "execution_count": 7,
   "metadata": {},
   "outputs": [],
   "source": [
    "data = pd.DataFrame({\n",
    "    'content': X_train,\n",
    "    'category': y_train\n",
    "})"
   ]
  },
  {
   "cell_type": "markdown",
   "metadata": {},
   "source": [
    "### Loại trừ các dữ liệu NaN"
   ]
  },
  {
   "cell_type": "code",
   "execution_count": 8,
   "metadata": {},
   "outputs": [
    {
     "data": {
      "text/plain": [
       "content     0\n",
       "category    0\n",
       "dtype: int64"
      ]
     },
     "execution_count": 8,
     "metadata": {},
     "output_type": "execute_result"
    }
   ],
   "source": [
    "data.isnull().sum()"
   ]
  },
  {
   "cell_type": "code",
   "execution_count": 9,
   "metadata": {},
   "outputs": [
    {
     "data": {
      "text/html": [
       "<div>\n",
       "<style scoped>\n",
       "    .dataframe tbody tr th:only-of-type {\n",
       "        vertical-align: middle;\n",
       "    }\n",
       "\n",
       "    .dataframe tbody tr th {\n",
       "        vertical-align: top;\n",
       "    }\n",
       "\n",
       "    .dataframe thead th {\n",
       "        text-align: right;\n",
       "    }\n",
       "</style>\n",
       "<table border=\"1\" class=\"dataframe\">\n",
       "  <thead>\n",
       "    <tr style=\"text-align: right;\">\n",
       "      <th></th>\n",
       "      <th>content</th>\n",
       "      <th>category</th>\n",
       "    </tr>\n",
       "  </thead>\n",
       "  <tbody>\n",
       "    <tr>\n",
       "      <th>0</th>\n",
       "      <td>Haruki Murakami, 74 tuổi, là tiểu thuyết gia c...</td>\n",
       "      <td>12</td>\n",
       "    </tr>\n",
       "    <tr>\n",
       "      <th>1</th>\n",
       "      <td>Sáng ngày 5/4, hàng loạt fanpage tại Việt Nam ...</td>\n",
       "      <td>8</td>\n",
       "    </tr>\n",
       "    <tr>\n",
       "      <th>2</th>\n",
       "      <td>Nguyễn Thị Hậu sinh năm 2005 ở Thường Xuân, Th...</td>\n",
       "      <td>2</td>\n",
       "    </tr>\n",
       "    <tr>\n",
       "      <th>3</th>\n",
       "      <td>Đây cũng là công tác góp phần thực hiện hiệu q...</td>\n",
       "      <td>11</td>\n",
       "    </tr>\n",
       "    <tr>\n",
       "      <th>4</th>\n",
       "      <td>Sự vượt trội của hai đội tuyển đã được thể hiệ...</td>\n",
       "      <td>10</td>\n",
       "    </tr>\n",
       "  </tbody>\n",
       "</table>\n",
       "</div>"
      ],
      "text/plain": [
       "                                             content  category\n",
       "0  Haruki Murakami, 74 tuổi, là tiểu thuyết gia c...        12\n",
       "1  Sáng ngày 5/4, hàng loạt fanpage tại Việt Nam ...         8\n",
       "2  Nguyễn Thị Hậu sinh năm 2005 ở Thường Xuân, Th...         2\n",
       "3  Đây cũng là công tác góp phần thực hiện hiệu q...        11\n",
       "4  Sự vượt trội của hai đội tuyển đã được thể hiệ...        10"
      ]
     },
     "execution_count": 9,
     "metadata": {},
     "output_type": "execute_result"
    }
   ],
   "source": [
    "data.head()"
   ]
  },
  {
   "cell_type": "markdown",
   "metadata": {},
   "source": [
    "Dữ liệu trên, không có theo dõi nào có thuộc tính bị NaN hoặc rỗng, do đó, ở phần này chúng ta không cần xử lý phần việc loại trừ các giá trị bị rỗng"
   ]
  },
  {
   "cell_type": "code",
   "execution_count": 10,
   "metadata": {},
   "outputs": [],
   "source": [
    "count = data[\"category\"].value_counts()\n",
    "num_of_post_each_topic = pd.DataFrame(\n",
    "    {\"category\": count.index, \"count\": count.values}\n",
    ")"
   ]
  },
  {
   "cell_type": "code",
   "execution_count": 11,
   "metadata": {},
   "outputs": [
    {
     "data": {
      "text/plain": [
       "array(['An sinh', 'Bất động sản', 'Giáo dục', 'Giải trí', 'Kinh doanh',\n",
       "       'Nhân ái', 'Pháp luật', 'Sức khỏe', 'Sức mạnh số', 'Thế giới',\n",
       "       'Thể thao', 'Việc làm', 'Văn hóa', 'Xe ++', 'Xã hội'], dtype=object)"
      ]
     },
     "execution_count": 11,
     "metadata": {},
     "output_type": "execute_result"
    }
   ],
   "source": [
    "le.classes_"
   ]
  },
  {
   "cell_type": "code",
   "execution_count": 12,
   "metadata": {},
   "outputs": [
    {
     "data": {
      "text/html": [
       "<div>\n",
       "<style scoped>\n",
       "    .dataframe tbody tr th:only-of-type {\n",
       "        vertical-align: middle;\n",
       "    }\n",
       "\n",
       "    .dataframe tbody tr th {\n",
       "        vertical-align: top;\n",
       "    }\n",
       "\n",
       "    .dataframe thead th {\n",
       "        text-align: right;\n",
       "    }\n",
       "</style>\n",
       "<table border=\"1\" class=\"dataframe\">\n",
       "  <thead>\n",
       "    <tr style=\"text-align: right;\">\n",
       "      <th></th>\n",
       "      <th>category</th>\n",
       "      <th>count</th>\n",
       "    </tr>\n",
       "  </thead>\n",
       "  <tbody>\n",
       "    <tr>\n",
       "      <th>0</th>\n",
       "      <td>Thể thao</td>\n",
       "      <td>1197</td>\n",
       "    </tr>\n",
       "    <tr>\n",
       "      <th>1</th>\n",
       "      <td>Giáo dục</td>\n",
       "      <td>1158</td>\n",
       "    </tr>\n",
       "    <tr>\n",
       "      <th>2</th>\n",
       "      <td>Sức khỏe</td>\n",
       "      <td>1026</td>\n",
       "    </tr>\n",
       "    <tr>\n",
       "      <th>3</th>\n",
       "      <td>Bất động sản</td>\n",
       "      <td>977</td>\n",
       "    </tr>\n",
       "    <tr>\n",
       "      <th>4</th>\n",
       "      <td>Kinh doanh</td>\n",
       "      <td>898</td>\n",
       "    </tr>\n",
       "    <tr>\n",
       "      <th>5</th>\n",
       "      <td>Văn hóa</td>\n",
       "      <td>832</td>\n",
       "    </tr>\n",
       "    <tr>\n",
       "      <th>6</th>\n",
       "      <td>Xã hội</td>\n",
       "      <td>767</td>\n",
       "    </tr>\n",
       "    <tr>\n",
       "      <th>7</th>\n",
       "      <td>Xe ++</td>\n",
       "      <td>727</td>\n",
       "    </tr>\n",
       "    <tr>\n",
       "      <th>8</th>\n",
       "      <td>Sức mạnh số</td>\n",
       "      <td>629</td>\n",
       "    </tr>\n",
       "    <tr>\n",
       "      <th>9</th>\n",
       "      <td>Thế giới</td>\n",
       "      <td>602</td>\n",
       "    </tr>\n",
       "    <tr>\n",
       "      <th>10</th>\n",
       "      <td>Việc làm</td>\n",
       "      <td>590</td>\n",
       "    </tr>\n",
       "    <tr>\n",
       "      <th>11</th>\n",
       "      <td>An sinh</td>\n",
       "      <td>481</td>\n",
       "    </tr>\n",
       "    <tr>\n",
       "      <th>12</th>\n",
       "      <td>Nhân ái</td>\n",
       "      <td>477</td>\n",
       "    </tr>\n",
       "    <tr>\n",
       "      <th>13</th>\n",
       "      <td>Giải trí</td>\n",
       "      <td>465</td>\n",
       "    </tr>\n",
       "    <tr>\n",
       "      <th>14</th>\n",
       "      <td>Pháp luật</td>\n",
       "      <td>318</td>\n",
       "    </tr>\n",
       "  </tbody>\n",
       "</table>\n",
       "</div>"
      ],
      "text/plain": [
       "        category  count\n",
       "0       Thể thao   1197\n",
       "1       Giáo dục   1158\n",
       "2       Sức khỏe   1026\n",
       "3   Bất động sản    977\n",
       "4     Kinh doanh    898\n",
       "5        Văn hóa    832\n",
       "6         Xã hội    767\n",
       "7          Xe ++    727\n",
       "8    Sức mạnh số    629\n",
       "9       Thế giới    602\n",
       "10      Việc làm    590\n",
       "11       An sinh    481\n",
       "12       Nhân ái    477\n",
       "13      Giải trí    465\n",
       "14     Pháp luật    318"
      ]
     },
     "execution_count": 12,
     "metadata": {},
     "output_type": "execute_result"
    }
   ],
   "source": [
    "num_of_post_each_topic['category'] = le.inverse_transform(num_of_post_each_topic['category'])\n",
    "num_of_post_each_topic"
   ]
  },
  {
   "cell_type": "code",
   "execution_count": 13,
   "metadata": {},
   "outputs": [
    {
     "data": {
      "application/vnd.plotly.v1+json": {
       "config": {
        "plotlyServerURL": "https://plot.ly"
       },
       "data": [
        {
         "alignmentgroup": "True",
         "bingroup": "x",
         "histfunc": "sum",
         "hovertemplate": "category=%{x}<br>sum of count=%{y}<extra></extra>",
         "legendgroup": "Thể thao",
         "marker": {
          "color": "rgb(228,26,28)",
          "pattern": {
           "shape": ""
          }
         },
         "name": "Thể thao",
         "offsetgroup": "Thể thao",
         "orientation": "v",
         "showlegend": true,
         "type": "histogram",
         "x": [
          "Thể thao"
         ],
         "xaxis": "x",
         "y": [
          1197
         ],
         "yaxis": "y"
        },
        {
         "alignmentgroup": "True",
         "bingroup": "x",
         "histfunc": "sum",
         "hovertemplate": "category=%{x}<br>sum of count=%{y}<extra></extra>",
         "legendgroup": "Giáo dục",
         "marker": {
          "color": "rgb(55,126,184)",
          "pattern": {
           "shape": ""
          }
         },
         "name": "Giáo dục",
         "offsetgroup": "Giáo dục",
         "orientation": "v",
         "showlegend": true,
         "type": "histogram",
         "x": [
          "Giáo dục"
         ],
         "xaxis": "x",
         "y": [
          1158
         ],
         "yaxis": "y"
        },
        {
         "alignmentgroup": "True",
         "bingroup": "x",
         "histfunc": "sum",
         "hovertemplate": "category=%{x}<br>sum of count=%{y}<extra></extra>",
         "legendgroup": "Sức khỏe",
         "marker": {
          "color": "rgb(77,175,74)",
          "pattern": {
           "shape": ""
          }
         },
         "name": "Sức khỏe",
         "offsetgroup": "Sức khỏe",
         "orientation": "v",
         "showlegend": true,
         "type": "histogram",
         "x": [
          "Sức khỏe"
         ],
         "xaxis": "x",
         "y": [
          1026
         ],
         "yaxis": "y"
        },
        {
         "alignmentgroup": "True",
         "bingroup": "x",
         "histfunc": "sum",
         "hovertemplate": "category=%{x}<br>sum of count=%{y}<extra></extra>",
         "legendgroup": "Bất động sản",
         "marker": {
          "color": "rgb(152,78,163)",
          "pattern": {
           "shape": ""
          }
         },
         "name": "Bất động sản",
         "offsetgroup": "Bất động sản",
         "orientation": "v",
         "showlegend": true,
         "type": "histogram",
         "x": [
          "Bất động sản"
         ],
         "xaxis": "x",
         "y": [
          977
         ],
         "yaxis": "y"
        },
        {
         "alignmentgroup": "True",
         "bingroup": "x",
         "histfunc": "sum",
         "hovertemplate": "category=%{x}<br>sum of count=%{y}<extra></extra>",
         "legendgroup": "Kinh doanh",
         "marker": {
          "color": "rgb(255,127,0)",
          "pattern": {
           "shape": ""
          }
         },
         "name": "Kinh doanh",
         "offsetgroup": "Kinh doanh",
         "orientation": "v",
         "showlegend": true,
         "type": "histogram",
         "x": [
          "Kinh doanh"
         ],
         "xaxis": "x",
         "y": [
          898
         ],
         "yaxis": "y"
        },
        {
         "alignmentgroup": "True",
         "bingroup": "x",
         "histfunc": "sum",
         "hovertemplate": "category=%{x}<br>sum of count=%{y}<extra></extra>",
         "legendgroup": "Văn hóa",
         "marker": {
          "color": "rgb(255,255,51)",
          "pattern": {
           "shape": ""
          }
         },
         "name": "Văn hóa",
         "offsetgroup": "Văn hóa",
         "orientation": "v",
         "showlegend": true,
         "type": "histogram",
         "x": [
          "Văn hóa"
         ],
         "xaxis": "x",
         "y": [
          832
         ],
         "yaxis": "y"
        },
        {
         "alignmentgroup": "True",
         "bingroup": "x",
         "histfunc": "sum",
         "hovertemplate": "category=%{x}<br>sum of count=%{y}<extra></extra>",
         "legendgroup": "Xã hội",
         "marker": {
          "color": "rgb(166,86,40)",
          "pattern": {
           "shape": ""
          }
         },
         "name": "Xã hội",
         "offsetgroup": "Xã hội",
         "orientation": "v",
         "showlegend": true,
         "type": "histogram",
         "x": [
          "Xã hội"
         ],
         "xaxis": "x",
         "y": [
          767
         ],
         "yaxis": "y"
        },
        {
         "alignmentgroup": "True",
         "bingroup": "x",
         "histfunc": "sum",
         "hovertemplate": "category=%{x}<br>sum of count=%{y}<extra></extra>",
         "legendgroup": "Xe ++",
         "marker": {
          "color": "rgb(247,129,191)",
          "pattern": {
           "shape": ""
          }
         },
         "name": "Xe ++",
         "offsetgroup": "Xe ++",
         "orientation": "v",
         "showlegend": true,
         "type": "histogram",
         "x": [
          "Xe ++"
         ],
         "xaxis": "x",
         "y": [
          727
         ],
         "yaxis": "y"
        },
        {
         "alignmentgroup": "True",
         "bingroup": "x",
         "histfunc": "sum",
         "hovertemplate": "category=%{x}<br>sum of count=%{y}<extra></extra>",
         "legendgroup": "Sức mạnh số",
         "marker": {
          "color": "rgb(153,153,153)",
          "pattern": {
           "shape": ""
          }
         },
         "name": "Sức mạnh số",
         "offsetgroup": "Sức mạnh số",
         "orientation": "v",
         "showlegend": true,
         "type": "histogram",
         "x": [
          "Sức mạnh số"
         ],
         "xaxis": "x",
         "y": [
          629
         ],
         "yaxis": "y"
        },
        {
         "alignmentgroup": "True",
         "bingroup": "x",
         "histfunc": "sum",
         "hovertemplate": "category=%{x}<br>sum of count=%{y}<extra></extra>",
         "legendgroup": "Thế giới",
         "marker": {
          "color": "rgb(228,26,28)",
          "pattern": {
           "shape": ""
          }
         },
         "name": "Thế giới",
         "offsetgroup": "Thế giới",
         "orientation": "v",
         "showlegend": true,
         "type": "histogram",
         "x": [
          "Thế giới"
         ],
         "xaxis": "x",
         "y": [
          602
         ],
         "yaxis": "y"
        },
        {
         "alignmentgroup": "True",
         "bingroup": "x",
         "histfunc": "sum",
         "hovertemplate": "category=%{x}<br>sum of count=%{y}<extra></extra>",
         "legendgroup": "Việc làm",
         "marker": {
          "color": "rgb(55,126,184)",
          "pattern": {
           "shape": ""
          }
         },
         "name": "Việc làm",
         "offsetgroup": "Việc làm",
         "orientation": "v",
         "showlegend": true,
         "type": "histogram",
         "x": [
          "Việc làm"
         ],
         "xaxis": "x",
         "y": [
          590
         ],
         "yaxis": "y"
        },
        {
         "alignmentgroup": "True",
         "bingroup": "x",
         "histfunc": "sum",
         "hovertemplate": "category=%{x}<br>sum of count=%{y}<extra></extra>",
         "legendgroup": "An sinh",
         "marker": {
          "color": "rgb(77,175,74)",
          "pattern": {
           "shape": ""
          }
         },
         "name": "An sinh",
         "offsetgroup": "An sinh",
         "orientation": "v",
         "showlegend": true,
         "type": "histogram",
         "x": [
          "An sinh"
         ],
         "xaxis": "x",
         "y": [
          481
         ],
         "yaxis": "y"
        },
        {
         "alignmentgroup": "True",
         "bingroup": "x",
         "histfunc": "sum",
         "hovertemplate": "category=%{x}<br>sum of count=%{y}<extra></extra>",
         "legendgroup": "Nhân ái",
         "marker": {
          "color": "rgb(152,78,163)",
          "pattern": {
           "shape": ""
          }
         },
         "name": "Nhân ái",
         "offsetgroup": "Nhân ái",
         "orientation": "v",
         "showlegend": true,
         "type": "histogram",
         "x": [
          "Nhân ái"
         ],
         "xaxis": "x",
         "y": [
          477
         ],
         "yaxis": "y"
        },
        {
         "alignmentgroup": "True",
         "bingroup": "x",
         "histfunc": "sum",
         "hovertemplate": "category=%{x}<br>sum of count=%{y}<extra></extra>",
         "legendgroup": "Giải trí",
         "marker": {
          "color": "rgb(255,127,0)",
          "pattern": {
           "shape": ""
          }
         },
         "name": "Giải trí",
         "offsetgroup": "Giải trí",
         "orientation": "v",
         "showlegend": true,
         "type": "histogram",
         "x": [
          "Giải trí"
         ],
         "xaxis": "x",
         "y": [
          465
         ],
         "yaxis": "y"
        },
        {
         "alignmentgroup": "True",
         "bingroup": "x",
         "histfunc": "sum",
         "hovertemplate": "category=%{x}<br>sum of count=%{y}<extra></extra>",
         "legendgroup": "Pháp luật",
         "marker": {
          "color": "rgb(255,255,51)",
          "pattern": {
           "shape": ""
          }
         },
         "name": "Pháp luật",
         "offsetgroup": "Pháp luật",
         "orientation": "v",
         "showlegend": true,
         "type": "histogram",
         "x": [
          "Pháp luật"
         ],
         "xaxis": "x",
         "y": [
          318
         ],
         "yaxis": "y"
        }
       ],
       "layout": {
        "annotations": [
         {
          "arrowhead": 1,
          "showarrow": true,
          "text": "Số lượng ít nhất",
          "x": "Pháp luật",
          "y": 360
         }
        ],
        "barmode": "relative",
        "font": {
         "family": "Arial"
        },
        "legend": {
         "orientation": "h",
         "title": {},
         "tracegroupgap": 0,
         "x": 0.5,
         "xanchor": "center",
         "y": 1,
         "yanchor": "bottom"
        },
        "shapes": [
         {
          "line": {
           "color": "#16FF32",
           "dash": "dot",
           "width": 3
          },
          "opacity": 1,
          "type": "line",
          "x0": 0,
          "x1": 1,
          "xref": "paper",
          "y0": 929,
          "y1": 929,
          "yref": "y"
         }
        ],
        "template": {
         "data": {
          "bar": [
           {
            "error_x": {
             "color": "#2a3f5f"
            },
            "error_y": {
             "color": "#2a3f5f"
            },
            "marker": {
             "line": {
              "color": "#E5ECF6",
              "width": 0.5
             },
             "pattern": {
              "fillmode": "overlay",
              "size": 10,
              "solidity": 0.2
             }
            },
            "type": "bar"
           }
          ],
          "barpolar": [
           {
            "marker": {
             "line": {
              "color": "#E5ECF6",
              "width": 0.5
             },
             "pattern": {
              "fillmode": "overlay",
              "size": 10,
              "solidity": 0.2
             }
            },
            "type": "barpolar"
           }
          ],
          "carpet": [
           {
            "aaxis": {
             "endlinecolor": "#2a3f5f",
             "gridcolor": "white",
             "linecolor": "white",
             "minorgridcolor": "white",
             "startlinecolor": "#2a3f5f"
            },
            "baxis": {
             "endlinecolor": "#2a3f5f",
             "gridcolor": "white",
             "linecolor": "white",
             "minorgridcolor": "white",
             "startlinecolor": "#2a3f5f"
            },
            "type": "carpet"
           }
          ],
          "choropleth": [
           {
            "colorbar": {
             "outlinewidth": 0,
             "ticks": ""
            },
            "type": "choropleth"
           }
          ],
          "contour": [
           {
            "colorbar": {
             "outlinewidth": 0,
             "ticks": ""
            },
            "colorscale": [
             [
              0,
              "#0d0887"
             ],
             [
              0.1111111111111111,
              "#46039f"
             ],
             [
              0.2222222222222222,
              "#7201a8"
             ],
             [
              0.3333333333333333,
              "#9c179e"
             ],
             [
              0.4444444444444444,
              "#bd3786"
             ],
             [
              0.5555555555555556,
              "#d8576b"
             ],
             [
              0.6666666666666666,
              "#ed7953"
             ],
             [
              0.7777777777777778,
              "#fb9f3a"
             ],
             [
              0.8888888888888888,
              "#fdca26"
             ],
             [
              1,
              "#f0f921"
             ]
            ],
            "type": "contour"
           }
          ],
          "contourcarpet": [
           {
            "colorbar": {
             "outlinewidth": 0,
             "ticks": ""
            },
            "type": "contourcarpet"
           }
          ],
          "heatmap": [
           {
            "colorbar": {
             "outlinewidth": 0,
             "ticks": ""
            },
            "colorscale": [
             [
              0,
              "#0d0887"
             ],
             [
              0.1111111111111111,
              "#46039f"
             ],
             [
              0.2222222222222222,
              "#7201a8"
             ],
             [
              0.3333333333333333,
              "#9c179e"
             ],
             [
              0.4444444444444444,
              "#bd3786"
             ],
             [
              0.5555555555555556,
              "#d8576b"
             ],
             [
              0.6666666666666666,
              "#ed7953"
             ],
             [
              0.7777777777777778,
              "#fb9f3a"
             ],
             [
              0.8888888888888888,
              "#fdca26"
             ],
             [
              1,
              "#f0f921"
             ]
            ],
            "type": "heatmap"
           }
          ],
          "heatmapgl": [
           {
            "colorbar": {
             "outlinewidth": 0,
             "ticks": ""
            },
            "colorscale": [
             [
              0,
              "#0d0887"
             ],
             [
              0.1111111111111111,
              "#46039f"
             ],
             [
              0.2222222222222222,
              "#7201a8"
             ],
             [
              0.3333333333333333,
              "#9c179e"
             ],
             [
              0.4444444444444444,
              "#bd3786"
             ],
             [
              0.5555555555555556,
              "#d8576b"
             ],
             [
              0.6666666666666666,
              "#ed7953"
             ],
             [
              0.7777777777777778,
              "#fb9f3a"
             ],
             [
              0.8888888888888888,
              "#fdca26"
             ],
             [
              1,
              "#f0f921"
             ]
            ],
            "type": "heatmapgl"
           }
          ],
          "histogram": [
           {
            "marker": {
             "pattern": {
              "fillmode": "overlay",
              "size": 10,
              "solidity": 0.2
             }
            },
            "type": "histogram"
           }
          ],
          "histogram2d": [
           {
            "colorbar": {
             "outlinewidth": 0,
             "ticks": ""
            },
            "colorscale": [
             [
              0,
              "#0d0887"
             ],
             [
              0.1111111111111111,
              "#46039f"
             ],
             [
              0.2222222222222222,
              "#7201a8"
             ],
             [
              0.3333333333333333,
              "#9c179e"
             ],
             [
              0.4444444444444444,
              "#bd3786"
             ],
             [
              0.5555555555555556,
              "#d8576b"
             ],
             [
              0.6666666666666666,
              "#ed7953"
             ],
             [
              0.7777777777777778,
              "#fb9f3a"
             ],
             [
              0.8888888888888888,
              "#fdca26"
             ],
             [
              1,
              "#f0f921"
             ]
            ],
            "type": "histogram2d"
           }
          ],
          "histogram2dcontour": [
           {
            "colorbar": {
             "outlinewidth": 0,
             "ticks": ""
            },
            "colorscale": [
             [
              0,
              "#0d0887"
             ],
             [
              0.1111111111111111,
              "#46039f"
             ],
             [
              0.2222222222222222,
              "#7201a8"
             ],
             [
              0.3333333333333333,
              "#9c179e"
             ],
             [
              0.4444444444444444,
              "#bd3786"
             ],
             [
              0.5555555555555556,
              "#d8576b"
             ],
             [
              0.6666666666666666,
              "#ed7953"
             ],
             [
              0.7777777777777778,
              "#fb9f3a"
             ],
             [
              0.8888888888888888,
              "#fdca26"
             ],
             [
              1,
              "#f0f921"
             ]
            ],
            "type": "histogram2dcontour"
           }
          ],
          "mesh3d": [
           {
            "colorbar": {
             "outlinewidth": 0,
             "ticks": ""
            },
            "type": "mesh3d"
           }
          ],
          "parcoords": [
           {
            "line": {
             "colorbar": {
              "outlinewidth": 0,
              "ticks": ""
             }
            },
            "type": "parcoords"
           }
          ],
          "pie": [
           {
            "automargin": true,
            "type": "pie"
           }
          ],
          "scatter": [
           {
            "fillpattern": {
             "fillmode": "overlay",
             "size": 10,
             "solidity": 0.2
            },
            "type": "scatter"
           }
          ],
          "scatter3d": [
           {
            "line": {
             "colorbar": {
              "outlinewidth": 0,
              "ticks": ""
             }
            },
            "marker": {
             "colorbar": {
              "outlinewidth": 0,
              "ticks": ""
             }
            },
            "type": "scatter3d"
           }
          ],
          "scattercarpet": [
           {
            "marker": {
             "colorbar": {
              "outlinewidth": 0,
              "ticks": ""
             }
            },
            "type": "scattercarpet"
           }
          ],
          "scattergeo": [
           {
            "marker": {
             "colorbar": {
              "outlinewidth": 0,
              "ticks": ""
             }
            },
            "type": "scattergeo"
           }
          ],
          "scattergl": [
           {
            "marker": {
             "colorbar": {
              "outlinewidth": 0,
              "ticks": ""
             }
            },
            "type": "scattergl"
           }
          ],
          "scattermapbox": [
           {
            "marker": {
             "colorbar": {
              "outlinewidth": 0,
              "ticks": ""
             }
            },
            "type": "scattermapbox"
           }
          ],
          "scatterpolar": [
           {
            "marker": {
             "colorbar": {
              "outlinewidth": 0,
              "ticks": ""
             }
            },
            "type": "scatterpolar"
           }
          ],
          "scatterpolargl": [
           {
            "marker": {
             "colorbar": {
              "outlinewidth": 0,
              "ticks": ""
             }
            },
            "type": "scatterpolargl"
           }
          ],
          "scatterternary": [
           {
            "marker": {
             "colorbar": {
              "outlinewidth": 0,
              "ticks": ""
             }
            },
            "type": "scatterternary"
           }
          ],
          "surface": [
           {
            "colorbar": {
             "outlinewidth": 0,
             "ticks": ""
            },
            "colorscale": [
             [
              0,
              "#0d0887"
             ],
             [
              0.1111111111111111,
              "#46039f"
             ],
             [
              0.2222222222222222,
              "#7201a8"
             ],
             [
              0.3333333333333333,
              "#9c179e"
             ],
             [
              0.4444444444444444,
              "#bd3786"
             ],
             [
              0.5555555555555556,
              "#d8576b"
             ],
             [
              0.6666666666666666,
              "#ed7953"
             ],
             [
              0.7777777777777778,
              "#fb9f3a"
             ],
             [
              0.8888888888888888,
              "#fdca26"
             ],
             [
              1,
              "#f0f921"
             ]
            ],
            "type": "surface"
           }
          ],
          "table": [
           {
            "cells": {
             "fill": {
              "color": "#EBF0F8"
             },
             "line": {
              "color": "white"
             }
            },
            "header": {
             "fill": {
              "color": "#C8D4E3"
             },
             "line": {
              "color": "white"
             }
            },
            "type": "table"
           }
          ]
         },
         "layout": {
          "annotationdefaults": {
           "arrowcolor": "#2a3f5f",
           "arrowhead": 0,
           "arrowwidth": 1
          },
          "autotypenumbers": "strict",
          "coloraxis": {
           "colorbar": {
            "outlinewidth": 0,
            "ticks": ""
           }
          },
          "colorscale": {
           "diverging": [
            [
             0,
             "#8e0152"
            ],
            [
             0.1,
             "#c51b7d"
            ],
            [
             0.2,
             "#de77ae"
            ],
            [
             0.3,
             "#f1b6da"
            ],
            [
             0.4,
             "#fde0ef"
            ],
            [
             0.5,
             "#f7f7f7"
            ],
            [
             0.6,
             "#e6f5d0"
            ],
            [
             0.7,
             "#b8e186"
            ],
            [
             0.8,
             "#7fbc41"
            ],
            [
             0.9,
             "#4d9221"
            ],
            [
             1,
             "#276419"
            ]
           ],
           "sequential": [
            [
             0,
             "#0d0887"
            ],
            [
             0.1111111111111111,
             "#46039f"
            ],
            [
             0.2222222222222222,
             "#7201a8"
            ],
            [
             0.3333333333333333,
             "#9c179e"
            ],
            [
             0.4444444444444444,
             "#bd3786"
            ],
            [
             0.5555555555555556,
             "#d8576b"
            ],
            [
             0.6666666666666666,
             "#ed7953"
            ],
            [
             0.7777777777777778,
             "#fb9f3a"
            ],
            [
             0.8888888888888888,
             "#fdca26"
            ],
            [
             1,
             "#f0f921"
            ]
           ],
           "sequentialminus": [
            [
             0,
             "#0d0887"
            ],
            [
             0.1111111111111111,
             "#46039f"
            ],
            [
             0.2222222222222222,
             "#7201a8"
            ],
            [
             0.3333333333333333,
             "#9c179e"
            ],
            [
             0.4444444444444444,
             "#bd3786"
            ],
            [
             0.5555555555555556,
             "#d8576b"
            ],
            [
             0.6666666666666666,
             "#ed7953"
            ],
            [
             0.7777777777777778,
             "#fb9f3a"
            ],
            [
             0.8888888888888888,
             "#fdca26"
            ],
            [
             1,
             "#f0f921"
            ]
           ]
          },
          "colorway": [
           "#636efa",
           "#EF553B",
           "#00cc96",
           "#ab63fa",
           "#FFA15A",
           "#19d3f3",
           "#FF6692",
           "#B6E880",
           "#FF97FF",
           "#FECB52"
          ],
          "font": {
           "color": "#2a3f5f"
          },
          "geo": {
           "bgcolor": "white",
           "lakecolor": "white",
           "landcolor": "#E5ECF6",
           "showlakes": true,
           "showland": true,
           "subunitcolor": "white"
          },
          "hoverlabel": {
           "align": "left"
          },
          "hovermode": "closest",
          "mapbox": {
           "style": "light"
          },
          "paper_bgcolor": "white",
          "plot_bgcolor": "#E5ECF6",
          "polar": {
           "angularaxis": {
            "gridcolor": "white",
            "linecolor": "white",
            "ticks": ""
           },
           "bgcolor": "#E5ECF6",
           "radialaxis": {
            "gridcolor": "white",
            "linecolor": "white",
            "ticks": ""
           }
          },
          "scene": {
           "xaxis": {
            "backgroundcolor": "#E5ECF6",
            "gridcolor": "white",
            "gridwidth": 2,
            "linecolor": "white",
            "showbackground": true,
            "ticks": "",
            "zerolinecolor": "white"
           },
           "yaxis": {
            "backgroundcolor": "#E5ECF6",
            "gridcolor": "white",
            "gridwidth": 2,
            "linecolor": "white",
            "showbackground": true,
            "ticks": "",
            "zerolinecolor": "white"
           },
           "zaxis": {
            "backgroundcolor": "#E5ECF6",
            "gridcolor": "white",
            "gridwidth": 2,
            "linecolor": "white",
            "showbackground": true,
            "ticks": "",
            "zerolinecolor": "white"
           }
          },
          "shapedefaults": {
           "line": {
            "color": "#2a3f5f"
           }
          },
          "ternary": {
           "aaxis": {
            "gridcolor": "white",
            "linecolor": "white",
            "ticks": ""
           },
           "baxis": {
            "gridcolor": "white",
            "linecolor": "white",
            "ticks": ""
           },
           "bgcolor": "#E5ECF6",
           "caxis": {
            "gridcolor": "white",
            "linecolor": "white",
            "ticks": ""
           }
          },
          "title": {
           "x": 0.05
          },
          "xaxis": {
           "automargin": true,
           "gridcolor": "white",
           "linecolor": "white",
           "ticks": "",
           "title": {
            "standoff": 15
           },
           "zerolinecolor": "white",
           "zerolinewidth": 2
          },
          "yaxis": {
           "automargin": true,
           "gridcolor": "white",
           "linecolor": "white",
           "ticks": "",
           "title": {
            "standoff": 15
           },
           "zerolinecolor": "white",
           "zerolinewidth": 2
          }
         }
        },
        "title": {
         "text": "Số lượng bài báo trên từng hạng mục"
        },
        "xaxis": {
         "anchor": "y",
         "categoryarray": [
          "Thể thao",
          "Giáo dục",
          "Sức khỏe",
          "Bất động sản",
          "Kinh doanh",
          "Văn hóa",
          "Xã hội",
          "Xe ++",
          "Sức mạnh số",
          "Thế giới",
          "Việc làm",
          "An sinh",
          "Nhân ái",
          "Giải trí",
          "Pháp luật"
         ],
         "categoryorder": "array",
         "domain": [
          0,
          1
         ],
         "title": {
          "text": "Hạng mục"
         }
        },
        "yaxis": {
         "anchor": "x",
         "domain": [
          0,
          1
         ],
         "showgrid": true,
         "title": {
          "text": "Số lượng bài báo"
         }
        }
       }
      }
     },
     "metadata": {},
     "output_type": "display_data"
    }
   ],
   "source": [
    "fig = px.histogram(\n",
    "    num_of_post_each_topic,\n",
    "    x='category',\n",
    "    y='count',\n",
    "    color='category',\n",
    "    title=\"Số lượng bài báo trên từng hạng mục\",\n",
    "    color_discrete_sequence=px.colors.qualitative.Set1,\n",
    ")\n",
    "fig.update_yaxes(showgrid=True)  # the y-axis is in dollars\n",
    "fig.update_layout(  # customize font and legend orientation & position\n",
    "    font_family=\"Arial\",\n",
    "    legend=dict(\n",
    "        title=None, orientation=\"h\", y=1, yanchor=\"bottom\", x=0.5, xanchor=\"center\"\n",
    "    ),\n",
    "    yaxis_title=\"Số lượng bài báo\",\n",
    "    xaxis_title=\"Hạng mục\",\n",
    ")\n",
    "\n",
    "fig.add_shape(  # add a horizontal \"target\" line\n",
    "    type=\"line\",\n",
    "    line_color=\"#16FF32\",\n",
    "    line_width=3,\n",
    "    opacity=1,\n",
    "    line_dash=\"dot\",\n",
    "    x0=0,\n",
    "    x1=1,\n",
    "    xref=\"paper\",\n",
    "    y0=929,\n",
    "    y1=929,\n",
    "    yref=\"y\",\n",
    ")\n",
    "\n",
    "fig.add_annotation(  # add a text callout with arrow\n",
    "    text=\"Số lượng ít nhất\", x=\"Pháp luật\", y=360, arrowhead=1, showarrow=True\n",
    ")\n",
    "\n",
    "\n",
    "fig.show()"
   ]
  },
  {
   "cell_type": "markdown",
   "metadata": {},
   "source": [
    "> Nhận thấy rằng, dữ liệu trên đang ở trong tình trạng mất cân bằng (**Imbalanced data**) khi mà số lượng bài báo thuộc hạng mục **Thể thao** gấp gần 4 lần so với bài báo thuộc thể loại **Pháp luật**"
   ]
  },
  {
   "cell_type": "markdown",
   "metadata": {},
   "source": [
    "### Building Vocabulary and Cleaning Text"
   ]
  },
  {
   "cell_type": "code",
   "execution_count": 14,
   "metadata": {},
   "outputs": [
    {
     "data": {
      "text/plain": [
       "['a_lô', 'a_ha', 'ai', 'ai_ai', 'ai_nấy']"
      ]
     },
     "execution_count": 14,
     "metadata": {},
     "output_type": "execute_result"
    }
   ],
   "source": [
    "# Get punctuation list\n",
    "punc = string.punctuation\n",
    "# Get digits list\n",
    "digits = string.digits\n",
    "\n",
    "# Read vietnamese-stopwords.txt in data/\n",
    "with open(\"../data/vietnamese-stopwords.txt\", encoding='UTF-8') as f:\n",
    "    lines = [line.rstrip(\"\\n\").strip() for line in f]\n",
    "\n",
    "stopwords = [line.replace(' ', '_') for line in lines]\n",
    "punc_custom = punc.translate(str.maketrans(\"\", \"\", \"_\"))\n",
    "stopwords[:5]"
   ]
  },
  {
   "cell_type": "code",
   "execution_count": 16,
   "metadata": {},
   "outputs": [
    {
     "data": {
      "text/plain": [
       "(11144,)"
      ]
     },
     "execution_count": 16,
     "metadata": {},
     "output_type": "execute_result"
    }
   ],
   "source": [
    "X_train.shape"
   ]
  },
  {
   "cell_type": "code",
   "execution_count": 22,
   "metadata": {},
   "outputs": [],
   "source": [
    "class TextCleaner(BaseEstimator, TransformerMixin):\n",
    "    def __init__(self) -> None:\n",
    "        super().__init__()\n",
    "    \n",
    "    def fit(self, X, y=None):\n",
    "        return self\n",
    "    \n",
    "    def transform(self, X):\n",
    "        cleaned_texts = []\n",
    "        for text in X:\n",
    "            cleaned_text = self.clean_text(text)\n",
    "            cleaned_texts.append(cleaned_text)\n",
    "        return np.array(cleaned_texts)\n",
    "    \n",
    "    @staticmethod\n",
    "    def clean_text(content: str):\n",
    "        # # lowercase content\n",
    "        # content = content.lower()\n",
    "        # # remove white space\n",
    "        # content = \" \".join([x for x in content.split()])\n",
    "        # # remove punctuation and digits\n",
    "        # content = content.translate(str.maketrans(\"\", \"\", punc_custom)).translate(\n",
    "        #     str.maketrans(\"\", \"\", digits)\n",
    "        # )\n",
    "        tokens = gensim.utils.simple_preprocess(content)\n",
    "        content = \" \".join(tokens)\n",
    "        # tokenize content\n",
    "        content = ViTokenizer.tokenize(content)\n",
    "        return content"
   ]
  },
  {
   "cell_type": "code",
   "execution_count": 23,
   "metadata": {},
   "outputs": [
    {
     "name": "stdout",
     "output_type": "stream",
     "text": [
      "Số từ trong từ điển: 59231\n"
     ]
    }
   ],
   "source": [
    "# Chỉ giữ lại 90% từ vựng để biểu diễn\n",
    "count_vectorizer = CountVectorizer(stop_words=stopwords)\n",
    "text_cleaner = TextCleaner()\n",
    "model_pipeline = Pipeline(\n",
    "    [\n",
    "        ('text_cleaner', text_cleaner),\n",
    "        (\"count_vectorizer\", count_vectorizer),\n",
    "        (\"tfidf_transformer\", TfidfTransformer()),\n",
    "    ]\n",
    ")\n",
    "\n",
    "model_pipeline.fit(X_train, y_train)\n",
    "\n",
    "# data_preprocessed = model_pipeline.fit_transform(X_train, y_train)\n",
    "# print(f\"Số chiều của dữ liệu: {data_preprocessed.shape}\")\n",
    "print(f\"Số từ trong từ điển: {len(count_vectorizer.vocabulary_)}\")"
   ]
  },
  {
   "cell_type": "code",
   "execution_count": 26,
   "metadata": {},
   "outputs": [],
   "source": [
    "tokens = gensim.utils.simple_preprocess(X_train[0])"
   ]
  },
  {
   "cell_type": "code",
   "execution_count": 28,
   "metadata": {},
   "outputs": [],
   "source": [
    "content = ' '.join(tokens)"
   ]
  },
  {
   "cell_type": "code",
   "execution_count": 29,
   "metadata": {},
   "outputs": [
    {
     "data": {
      "text/plain": [
       "'haruki murakami tuổi là tiểu_thuyết gia có sách bán_chạy nhất tại nhật bản ông bắt_đầu sự_nghiệp viết_lách năm_tuổi và trở_thành một hiện_tượng văn_học vào năm khi cuốn tiểu_thuyết thứ rừng na uy được xuất_bản sự pha_trộn giữa những câu_chuyện thực_tế và mơ_mộng của haruki murakami đã mang đến cho ông một lượng người hâm_mộ đông_đảo tên của ông thường nổi lên như một ứng_cử_viên cho giải_thưởng nobel văn_học chân_dung haruki murakami thiết_kế the guardian sách cho người mới bắt_đầu_đọc tiểu_thuyết của murakami có_thể được chia thành loại kỳ_ảo và hiện_thực nhiều cuốn nằm giữa thể_loại này được xuất_bản năm rừng na uy là một hồi_ức đơn_giản về tình_yêu tuổi_trẻ hạ_cánh trên một đường_băng đức người kể chuyện toru watanabe nghe bài hát nổi_tiếng của the beatles cảm_tưởng như trở_lại những năm_tháng sinh_viên và mối tình đầy sóng_gió với cô gái hoài_cổ và ngọt_ngào rừng na uy là cuốn tiểu_thuyết dễ tiếp_cận nhất của murakami và là cuốn sách đã biến tác_giả thành một siêu_sao văn_học nhật bản bìa sách rừng na uy nếu bạn chỉ đọc một cuốn sách của haruki murakami the wind up bird chronicle tạm dịch_biên niên ký chim vặn dây_cót được xem là tác_phẩm đỉnh_cao của murakami toru okada ngoài tuổi thất_nghiệp tìm_kiếm con mèo mất_tích người vợ cũng mất_tích khi anh mộng_du trong một cuộc rượt đuổi ngông_cuồng với những sự_kiện ngày_càng kỳ_quái anh tuyên_bố cách tốt nhất để suy_nghĩ về thực_tại là càng xa nó càng tốt trừu_tượng gây tức_giận và rất buồn_cười đó là những điểm lôi_cuốn nhất trong các tác_phẩm của murakami nếu bạn đang vội theo the guardian nếu bạn muốn làm một bộ phim được giới phê_bình đánh_giá cao hãy chuyển_thể một truyện_ngắn của murakami bộ phim ly_kỳ burning của hàn_quốc đã lấy câu_chuyện barn burning tạm dịch đốt nhà_kho của murakami làm nền_tảng gần đây ryusuke hamaguchi đã giành được giải_thưởng của viện hàn_lâm cho bộ phim chuyển_thể từ cuốn sách drive my car của murakami một_số cách kể chuyện hay nhất của murakami có_thể được tìm thấy trong một_số tác_phẩm khác của ông như sleep tạm dịch giấc_ngủ được đăng trên tờ new yorker năm và nằm trong tuyển_tập truyện_ngắn the elephant vanishes trong sleep lần đầu_tiên murakami viết từ góc nhìn của một người phụ_nữ câu_chuyện kể về một người vợ tận_tụy mắc hội_chứng mất_ngủ tác_phẩm được nhận_xét xuất_sắc khi sử_dụng sự tối_tăm của màn đêm để gợi lên cảm_giác bất_an khi là phụ_nữ trong một xã_hội gia_trưởng một_số tác_phẩm của haruki murakami do nhã nam phát_hành tại việt nam ảnh chụp màn_hình hồi_ký tiểu_sử của murakami có_thể là cốt_truyện cho một trong những nhân_vật chính của ông ông từng điều_hành một câu lạc_bộ nhạc jazz bước sang tuổi và bỏ việc để trở_thành một tiểu_thuyết gia cuốn hồi_ký mỏng của murakami what talk about when talk about running tạm dịch tôi nói gì khi nói về chạy bộ mang đến một cái nhìn sâu_sắc về quá_trình luyện_tập sáng_tác của ông hầu_hết những gì tôi biết về viết_lách tôi đã học được thông_qua việc chạy bộ hàng ngày murakami giải_thích chỉ nghiêm_túc chạy độ tuổi murakami suy_nghĩ về sự so_sánh giữa chạy marathon và viết_lách đồng_thời ông cho rằng luyện_tập như một thói_quen hàng ngày rèn_luyện sức_bền và đôi_khi gây ra chấn_thương cuốn sách đáng để bạn kiên_trì đọc qua ba tập và hơn một nghìn trang là cuốn tiểu_thuyết tham_vọng nhất của murakami cho đến nay có cấu_trúc giống như một mê_cung bị một_số nhà phê_bình phàn_nàn là gây thất_vọng khi xuất_bản lần đầu_vào năm độ dài của cuốn tiểu_thuyết có_thể khiến độc_giả bình_thường của murakami sợ_hãi nhưng khi đặt_chân vào thế_giới của bạn sẽ được xem một bộ phim kinh_dị một câu_chuyện tình_yêu dịu_dàng một bí_ẩn sâu_sắc và thiền_định về những bí_ẩn siêu_hình của một thế_giới không giống với thế_giới của chúng_ta cuốn sách đáng được quan_tâm hơn sau khi được xuất_bản bằng tiếng anh vào năm sputnik sweetheart tạm dịch người_tình sputnik đã rời khỏi quỹ_đạo của những tác_phẩm nổi_tiếng của murakami câu_chuyện chứa_đựng nội_dung quen_thuộc trong thế_giới truyện murakami người phụ_nữ biến mất được tường_thuật qua con mắt của một người kể chuyện điển_hình của murakami nam mong_manh thụ_động trung_tâm của sputnik sweetheart là chuyện tình đồng_tính nữ giữa sumire người muốn trở_thành tiểu_thuyết gia như jack kerouac và miu một người phụ_nữ lớn_tuổi tinh_tế vì yêu miu sumire bắt_đầu trút bỏ_vẻ phóng_túng bên ngoài biến mình thành trợ_lý cá_nhân sang_trọng của miu mối tình lãng_mạn không bình_đẳng sớm phát_triển thành sự hủy_diệt khi sumire biến mất một cảnh trong vở kịch chuyển_thể từ tiểu_thuyết kafka bên bờ biển ảnh the new york time kiệt_tác khác với những nhân_vật chính điển_hình của murakami như độ tuổi uống rượu whisky nghe nhạc jazz kafka on the shore tạm dịch kafka bên bờ biển được thuật lại bởi kafka tamura tuổi đang bỏ trốn chạy trốn khỏi người cha bạo_lực sau khi nhận được lời tiên_tri kafka tìm nơi ẩn_náu bằng cách làm_việc trong thư_viện tại một thị_trấn nhỏ ven biển xen_kẽ với câu_chuyện của kafka là câu_chuyện của satoru nakata một người đàn_ông lớn_tuổi mất ký_ức tuổi_thơ vào cuối chiến_tranh thế_giới thứ hai nhưng thay vào đó lại có khả_năng trò_chuyện với loài mèo nakata buộc phải chạy trốn sau khi đụng_độ một kẻ bắt mèo độc_ác tên johnnie walker murakami nói rằng tính cấp_bách đằng sau những câu_chuyện của ông là mất_tích tìm_kiếm và tìm_kiếm kafka bên bờ biển thể_hiện khả_năng của tác_giả trong việc lập ra một mê_cung cảnh mộng'"
      ]
     },
     "execution_count": 29,
     "metadata": {},
     "output_type": "execute_result"
    }
   ],
   "source": [
    "ViTokenizer.tokenize(content)"
   ]
  },
  {
   "cell_type": "code",
   "execution_count": null,
   "metadata": {},
   "outputs": [],
   "source": []
  }
 ],
 "metadata": {
  "kernelspec": {
   "display_name": ".venv",
   "language": "python",
   "name": "python3"
  },
  "language_info": {
   "codemirror_mode": {
    "name": "ipython",
    "version": 3
   },
   "file_extension": ".py",
   "mimetype": "text/x-python",
   "name": "python",
   "nbconvert_exporter": "python",
   "pygments_lexer": "ipython3",
   "version": "3.11.6"
  }
 },
 "nbformat": 4,
 "nbformat_minor": 2
}
