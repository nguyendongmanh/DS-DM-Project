{
  "nbformat": 4,
  "nbformat_minor": 0,
  "metadata": {
    "colab": {
      "provenance": []
    },
    "kernelspec": {
      "name": "python3",
      "display_name": "Python 3"
    },
    "language_info": {
      "name": "python"
    }
  },
  "cells": [
    {
      "cell_type": "code",
      "execution_count": null,
      "metadata": {
        "colab": {
          "base_uri": "https://localhost:8080/"
        },
        "id": "V3JX1trh-tpC",
        "outputId": "ae5f962f-366b-4096-c6a7-43bd4d1a9f13"
      },
      "outputs": [
        {
          "output_type": "stream",
          "name": "stdout",
          "text": [
            "/content/drive/MyDrive/DS-DM-Project\n"
          ]
        }
      ],
      "source": [
        "%cd /content/drive/MyDrive/DS-DM-Project\n"
      ]
    },
    {
      "cell_type": "code",
      "source": [
        "import os\n",
        "import pickle\n"
      ],
      "metadata": {
        "id": "0eTD3VeZ-7oI"
      },
      "execution_count": null,
      "outputs": []
    },
    {
      "cell_type": "code",
      "source": [
        "DATA_PATH = 'data/'\n",
        "MODEL_PATH = 'model/'"
      ],
      "metadata": {
        "id": "qTv-NpVn-13X"
      },
      "execution_count": null,
      "outputs": []
    },
    {
      "cell_type": "code",
      "source": [
        "# Load results\n",
        "with open(os.path.join(MODEL_PATH, 'knn_clf.pkl'), 'rb') as f:\n",
        "  knn_clf = pickle.load(f)\n",
        "\n",
        "with open(os.path.join(MODEL_PATH, 'knn_cv.pkl'), 'rb') as f:\n",
        "  knn_cv = pickle.load(f)"
      ],
      "metadata": {
        "id": "NzEX5_m1-53C"
      },
      "execution_count": null,
      "outputs": []
    },
    {
      "cell_type": "code",
      "source": [
        "knn_cv"
      ],
      "metadata": {
        "id": "2If0jMgd_FFq",
        "outputId": "baebda5b-857e-4b34-bed2-ea20710a4638",
        "colab": {
          "base_uri": "https://localhost:8080/"
        }
      },
      "execution_count": null,
      "outputs": [
        {
          "output_type": "execute_result",
          "data": {
            "text/plain": [
              "{'fit_time': array([0.25758171, 0.22949553, 0.27052903, 0.254426  , 0.1865232 ]),\n",
              " 'score_time': array([8.82712197, 8.91819906, 6.85052562, 6.79315639, 4.85824394]),\n",
              " 'test_score': array([0.7797619 , 0.76488095, 0.77440476, 0.77619048, 0.77380952]),\n",
              " 'train_score': array([1., 1., 1., 1., 1.])}"
            ]
          },
          "metadata": {},
          "execution_count": 8
        }
      ]
    },
    {
      "cell_type": "code",
      "source": [],
      "metadata": {
        "id": "j7iJdb_h_Fko"
      },
      "execution_count": null,
      "outputs": []
    }
  ]
}